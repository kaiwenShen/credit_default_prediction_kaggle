{
 "cells": [
  {
   "cell_type": "markdown",
   "source": [
    "# Onboarding profit analysis\n",
    "preprocess for the previous application data: \n",
    "1. delete the ones that have XNA or consumer loan type of loan\n",
    "2. figuring out which have defaulted based on installment data\n",
    "3. calculate the default loss (some customers does have payback before default)\n"
   ],
   "metadata": {
    "collapsed": false
   },
   "id": "f39a738681c98993"
  },
  {
   "cell_type": "code",
   "execution_count": 1,
   "outputs": [],
   "source": [
    "import pandas as pd\n",
    "import numpy as np\n",
    "import matplotlib.pyplot as plt"
   ],
   "metadata": {
    "collapsed": false,
    "ExecuteTime": {
     "end_time": "2024-01-02T01:59:52.244541200Z",
     "start_time": "2024-01-02T01:59:51.352146500Z"
    }
   },
   "id": "b3053e2a324a177b"
  },
  {
   "cell_type": "code",
   "execution_count": 22,
   "id": "initial_id",
   "metadata": {
    "collapsed": true,
    "ExecuteTime": {
     "end_time": "2024-01-02T00:58:43.905342100Z",
     "start_time": "2024-01-02T00:58:36.230083500Z"
    }
   },
   "outputs": [],
   "source": [
    "previous_application = pd.read_csv('./src/previous_application.csv')\n",
    "application = pd.read_csv('./src/application_train.csv')"
   ]
  },
  {
   "cell_type": "code",
   "execution_count": 23,
   "outputs": [
    {
     "data": {
      "text/plain": "Cash loans         747553\nConsumer loans     729151\nRevolving loans    193164\nXNA                   346\nName: NAME_CONTRACT_TYPE, dtype: int64"
     },
     "execution_count": 23,
     "metadata": {},
     "output_type": "execute_result"
    }
   ],
   "source": [
    "previous_application['NAME_CONTRACT_TYPE'].value_counts()  # we drop xna and change consumer loan to cash loan"
   ],
   "metadata": {
    "collapsed": false,
    "ExecuteTime": {
     "end_time": "2024-01-02T00:58:44.008343300Z",
     "start_time": "2024-01-02T00:58:43.905342100Z"
    }
   },
   "id": "19d805e2384f1c2c"
  },
  {
   "cell_type": "code",
   "execution_count": 24,
   "outputs": [
    {
     "data": {
      "text/plain": "Cash loans         278232\nRevolving loans     29279\nName: NAME_CONTRACT_TYPE, dtype: int64"
     },
     "execution_count": 24,
     "metadata": {},
     "output_type": "execute_result"
    }
   ],
   "source": [
    "application[\n",
    "    'NAME_CONTRACT_TYPE'].value_counts()  # the application we care about only contains cash loan and revolving loan"
   ],
   "metadata": {
    "collapsed": false,
    "ExecuteTime": {
     "end_time": "2024-01-02T00:58:44.045339600Z",
     "start_time": "2024-01-02T00:58:44.002347Z"
    }
   },
   "id": "cbfa77fefd1687c"
  },
  {
   "cell_type": "code",
   "execution_count": 25,
   "outputs": [],
   "source": [
    "previous_application = previous_application[\n",
    "    previous_application['NAME_CONTRACT_TYPE'].isin(['Cash loans', 'Revolving loans'])]"
   ],
   "metadata": {
    "collapsed": false,
    "ExecuteTime": {
     "end_time": "2024-01-02T00:58:44.317339300Z",
     "start_time": "2024-01-02T00:58:44.039341800Z"
    }
   },
   "id": "794aef01fd715692"
  },
  {
   "cell_type": "code",
   "execution_count": 26,
   "outputs": [],
   "source": [
    "# get previd for cash and revolving loan seperately\n",
    "cash_loan_prev_id = previous_application[(previous_application['NAME_CONTRACT_TYPE'] == 'Cash loans')&(previous_application['NAME_CONTRACT_STATUS']=='Approved')][\n",
    "    'SK_ID_PREV'].unique()\n",
    "revolving_loan_prev_id = previous_application[(previous_application['NAME_CONTRACT_TYPE'] == 'Revolving loans')&(previous_application['NAME_CONTRACT_STATUS']=='Approved')][\n",
    "    'SK_ID_PREV'].unique()"
   ],
   "metadata": {
    "collapsed": false,
    "ExecuteTime": {
     "end_time": "2024-01-02T00:58:44.647340700Z",
     "start_time": "2024-01-02T00:58:44.319342900Z"
    }
   },
   "id": "52d5f01741a56d7e"
  },
  {
   "cell_type": "markdown",
   "source": [
    "## 1. Process installment data"
   ],
   "metadata": {
    "collapsed": false
   },
   "id": "3dc743f3f1fcb8e6"
  },
  {
   "cell_type": "code",
   "execution_count": 27,
   "outputs": [],
   "source": [
    "installments_payments = pd.read_csv('./src/installments_payments.csv')\n",
    "installments_payments = installments_payments.groupby(['SK_ID_PREV', 'NUM_INSTALMENT_NUMBER']).agg(\n",
    "    {'DAYS_INSTALMENT': 'first', 'DAYS_ENTRY_PAYMENT': 'last', 'AMT_INSTALMENT': 'first',\n",
    "     'AMT_PAYMENT': 'sum'}).reset_index()  # aggregate multiple payments for the same installment\n",
    "installments_payments['AMOUNT_NOT_PAID'] = (\n",
    "        installments_payments['AMT_INSTALMENT'] - installments_payments['AMT_PAYMENT']).apply(lambda\n",
    "                                                                                                  x: 0 if x < 1 else x)  # only when insurancce is at play, the amount paid can be larger than the amount due. less than 1 because float precision\n",
    "installments_payments['DAYS_DIFF'] = (\n",
    "        installments_payments['DAYS_ENTRY_PAYMENT'] - installments_payments['DAYS_INSTALMENT']).apply(\n",
    "    lambda x: 0 if x < 0 else x)  # there is no benefit for early repayment so we set it to 0"
   ],
   "metadata": {
    "collapsed": false,
    "ExecuteTime": {
     "end_time": "2024-01-02T00:59:15.708074100Z",
     "start_time": "2024-01-02T00:58:44.651340800Z"
    }
   },
   "id": "fdaab7316ec32759"
  },
  {
   "cell_type": "markdown",
   "source": [
    "## 2. Seperate cash and revolving loan"
   ],
   "metadata": {
    "collapsed": false
   },
   "id": "14e53b91cfa8f609"
  },
  {
   "cell_type": "code",
   "execution_count": 28,
   "outputs": [],
   "source": [
    "cash_installment = installments_payments[installments_payments['SK_ID_PREV'].isin(cash_loan_prev_id)].copy()\n",
    "revolving_loan_installment = installments_payments[\n",
    "    installments_payments['SK_ID_PREV'].isin(revolving_loan_prev_id)].copy()"
   ],
   "metadata": {
    "collapsed": false,
    "ExecuteTime": {
     "end_time": "2024-01-02T00:59:16.947163900Z",
     "start_time": "2024-01-02T00:59:15.713083Z"
    }
   },
   "id": "b044d744853c0654"
  },
  {
   "cell_type": "code",
   "execution_count": 29,
   "outputs": [
    {
     "data": {
      "text/plain": "          SK_ID_PREV  NUM_INSTALMENT_NUMBER  DAYS_INSTALMENT  \\\n122930       1010608                     29             -3.0   \n159151       1016839                     29            -76.0   \n159152       1016839                     30            -46.0   \n159153       1016839                     31            -16.0   \n248002       1030134                     19             -5.0   \n...              ...                    ...              ...   \n12828162     2837223                    101            -13.0   \n12852630     2842600                      1            -87.0   \n12852631     2842600                      2            -57.0   \n12852632     2842600                      3            -27.0   \n12857529     2843129                     16            -17.0   \n\n          DAYS_ENTRY_PAYMENT  AMT_INSTALMENT  AMT_PAYMENT  AMOUNT_NOT_PAID  \\\n122930                   NaN       26327.970          0.0        26327.970   \n159151                   NaN       45686.655          0.0        45686.655   \n159152                   NaN       45686.655          0.0        45686.655   \n159153                   NaN       45686.655          0.0        45686.655   \n248002                   NaN        4282.020          0.0         4282.020   \n...                      ...             ...          ...              ...   \n12828162                 NaN         116.550          0.0          116.550   \n12852630                 NaN       20538.765          0.0        20538.765   \n12852631                 NaN       20538.765          0.0        20538.765   \n12852632                 NaN       20538.765          0.0        20538.765   \n12857529                 NaN       20247.660          0.0        20247.660   \n\n          DAYS_DIFF  \n122930          NaN  \n159151          NaN  \n159152          NaN  \n159153          NaN  \n248002          NaN  \n...             ...  \n12828162        NaN  \n12852630        NaN  \n12852631        NaN  \n12852632        NaN  \n12857529        NaN  \n\n[837 rows x 8 columns]",
      "text/html": "<div>\n<style scoped>\n    .dataframe tbody tr th:only-of-type {\n        vertical-align: middle;\n    }\n\n    .dataframe tbody tr th {\n        vertical-align: top;\n    }\n\n    .dataframe thead th {\n        text-align: right;\n    }\n</style>\n<table border=\"1\" class=\"dataframe\">\n  <thead>\n    <tr style=\"text-align: right;\">\n      <th></th>\n      <th>SK_ID_PREV</th>\n      <th>NUM_INSTALMENT_NUMBER</th>\n      <th>DAYS_INSTALMENT</th>\n      <th>DAYS_ENTRY_PAYMENT</th>\n      <th>AMT_INSTALMENT</th>\n      <th>AMT_PAYMENT</th>\n      <th>AMOUNT_NOT_PAID</th>\n      <th>DAYS_DIFF</th>\n    </tr>\n  </thead>\n  <tbody>\n    <tr>\n      <th>122930</th>\n      <td>1010608</td>\n      <td>29</td>\n      <td>-3.0</td>\n      <td>NaN</td>\n      <td>26327.970</td>\n      <td>0.0</td>\n      <td>26327.970</td>\n      <td>NaN</td>\n    </tr>\n    <tr>\n      <th>159151</th>\n      <td>1016839</td>\n      <td>29</td>\n      <td>-76.0</td>\n      <td>NaN</td>\n      <td>45686.655</td>\n      <td>0.0</td>\n      <td>45686.655</td>\n      <td>NaN</td>\n    </tr>\n    <tr>\n      <th>159152</th>\n      <td>1016839</td>\n      <td>30</td>\n      <td>-46.0</td>\n      <td>NaN</td>\n      <td>45686.655</td>\n      <td>0.0</td>\n      <td>45686.655</td>\n      <td>NaN</td>\n    </tr>\n    <tr>\n      <th>159153</th>\n      <td>1016839</td>\n      <td>31</td>\n      <td>-16.0</td>\n      <td>NaN</td>\n      <td>45686.655</td>\n      <td>0.0</td>\n      <td>45686.655</td>\n      <td>NaN</td>\n    </tr>\n    <tr>\n      <th>248002</th>\n      <td>1030134</td>\n      <td>19</td>\n      <td>-5.0</td>\n      <td>NaN</td>\n      <td>4282.020</td>\n      <td>0.0</td>\n      <td>4282.020</td>\n      <td>NaN</td>\n    </tr>\n    <tr>\n      <th>...</th>\n      <td>...</td>\n      <td>...</td>\n      <td>...</td>\n      <td>...</td>\n      <td>...</td>\n      <td>...</td>\n      <td>...</td>\n      <td>...</td>\n    </tr>\n    <tr>\n      <th>12828162</th>\n      <td>2837223</td>\n      <td>101</td>\n      <td>-13.0</td>\n      <td>NaN</td>\n      <td>116.550</td>\n      <td>0.0</td>\n      <td>116.550</td>\n      <td>NaN</td>\n    </tr>\n    <tr>\n      <th>12852630</th>\n      <td>2842600</td>\n      <td>1</td>\n      <td>-87.0</td>\n      <td>NaN</td>\n      <td>20538.765</td>\n      <td>0.0</td>\n      <td>20538.765</td>\n      <td>NaN</td>\n    </tr>\n    <tr>\n      <th>12852631</th>\n      <td>2842600</td>\n      <td>2</td>\n      <td>-57.0</td>\n      <td>NaN</td>\n      <td>20538.765</td>\n      <td>0.0</td>\n      <td>20538.765</td>\n      <td>NaN</td>\n    </tr>\n    <tr>\n      <th>12852632</th>\n      <td>2842600</td>\n      <td>3</td>\n      <td>-27.0</td>\n      <td>NaN</td>\n      <td>20538.765</td>\n      <td>0.0</td>\n      <td>20538.765</td>\n      <td>NaN</td>\n    </tr>\n    <tr>\n      <th>12857529</th>\n      <td>2843129</td>\n      <td>16</td>\n      <td>-17.0</td>\n      <td>NaN</td>\n      <td>20247.660</td>\n      <td>0.0</td>\n      <td>20247.660</td>\n      <td>NaN</td>\n    </tr>\n  </tbody>\n</table>\n<p>837 rows × 8 columns</p>\n</div>"
     },
     "execution_count": 29,
     "metadata": {},
     "output_type": "execute_result"
    }
   ],
   "source": [
    "cash_installment[cash_installment['AMT_PAYMENT'] == 0]"
   ],
   "metadata": {
    "collapsed": false,
    "ExecuteTime": {
     "end_time": "2024-01-02T00:59:16.997166800Z",
     "start_time": "2024-01-02T00:59:16.949167400Z"
    }
   },
   "id": "68fc350e5ebaec8"
  },
  {
   "cell_type": "markdown",
   "source": [
    "## 3. Cash loan"
   ],
   "metadata": {
    "collapsed": false
   },
   "id": "fa961b6f9c7a76b7"
  },
  {
   "cell_type": "code",
   "execution_count": 30,
   "outputs": [],
   "source": [
    "cash_installment['DAYS_DIFF'] = cash_installment.apply(\n",
    "    lambda x: x['DAYS_DIFF'] if x['AMOUNT_NOT_PAID'] < 1 else min(abs(x['DAYS_INSTALMENT']), abs(previous_application[previous_application['SK_ID_PREV'] == x['SK_ID_PREV']]['DAYS_TERMINATION'].values[0])), axis=1)  # if not payed in full, we count as delayed payment until now.\n",
    "\n",
    "\n",
    "def cal_amount_delayed_payment(x):\n",
    "    if x['DAYS_DIFF'] > 0:\n",
    "        if x['AMOUNT_NOT_PAID'] < 1:\n",
    "            return x['AMT_INSTALMENT']  # client paid in full but delayed\n",
    "    return 0  # 2 possible situation: 1. day diff>0 and amount not paid>0.1, accounted by the amount not paid. 2. day diff<=0, no delayed payment\n",
    "\n",
    "\n",
    "cash_installment['AMOUNT_DELAYED_PAYMENT'] = cash_installment.apply(cal_amount_delayed_payment, axis=1)"
   ],
   "metadata": {
    "collapsed": false,
    "ExecuteTime": {
     "end_time": "2024-01-02T01:00:30.114819200Z",
     "start_time": "2024-01-02T00:59:16.980167300Z"
    }
   },
   "id": "c35bc9f3d418fb6"
  },
  {
   "cell_type": "code",
   "execution_count": 31,
   "outputs": [
    {
     "data": {
      "text/plain": "2.7261552008939205e-05"
     },
     "execution_count": 31,
     "metadata": {},
     "output_type": "execute_result"
    }
   ],
   "source": [
    "# assume 1% annual interest rate since the data is many years ago\n",
    "annual_interest_rate = 0.01\n",
    "# convert to monthly interest rate\n",
    "monthly_interest_rate = (1 + annual_interest_rate) ** (1 / 12) - 1\n",
    "# convert to daily interest rate\n",
    "daily_interest_rate = (1 + annual_interest_rate) ** (1 / 365) - 1\n",
    "daily_interest_rate"
   ],
   "metadata": {
    "collapsed": false,
    "ExecuteTime": {
     "end_time": "2024-01-02T01:00:30.133819300Z",
     "start_time": "2024-01-02T01:00:30.121824200Z"
    }
   },
   "id": "d8e7766154d7ea40"
  },
  {
   "cell_type": "code",
   "execution_count": 32,
   "outputs": [
    {
     "data": {
      "text/plain": "          SK_ID_PREV  NUM_INSTALMENT_NUMBER  DAYS_INSTALMENT  \\\n46           1000010                      1           -558.0   \n47           1000010                      2           -528.0   \n48           1000010                      3           -498.0   \n49           1000010                      4           -468.0   \n50           1000010                      5           -438.0   \n...              ...                    ...              ...   \n12861989     2843499                      6          -1053.0   \n12861990     2843499                      7          -1023.0   \n12861991     2843499                      8           -993.0   \n12861992     2843499                      9           -963.0   \n12861993     2843499                     10           -933.0   \n\n          DAYS_ENTRY_PAYMENT  AMT_INSTALMENT  AMT_PAYMENT  AMOUNT_NOT_PAID  \\\n46                    -568.0        74682.00     74682.00              0.0   \n47                    -528.0        74682.00     74682.00              0.0   \n48                    -502.0        74682.00     74682.00              0.0   \n49                    -471.0        74682.00     74682.00              0.0   \n50                    -457.0        74682.00     74682.00              0.0   \n...                      ...             ...          ...              ...   \n12861989             -1074.0        16074.00     16074.00              0.0   \n12861990             -1047.0        16074.00     16074.00              0.0   \n12861991             -1018.0        16074.00     16074.00              0.0   \n12861992              -980.0        16074.00     16074.00              0.0   \n12861993              -952.0       433416.24    433416.24              0.0   \n\n          DAYS_DIFF  AMOUNT_DELAYED_PAYMENT  \n46              0.0                     0.0  \n47              0.0                     0.0  \n48              0.0                     0.0  \n49              0.0                     0.0  \n50              0.0                     0.0  \n...             ...                     ...  \n12861989        0.0                     0.0  \n12861990        0.0                     0.0  \n12861991        0.0                     0.0  \n12861992        0.0                     0.0  \n12861993        0.0                     0.0  \n\n[3436543 rows x 9 columns]",
      "text/html": "<div>\n<style scoped>\n    .dataframe tbody tr th:only-of-type {\n        vertical-align: middle;\n    }\n\n    .dataframe tbody tr th {\n        vertical-align: top;\n    }\n\n    .dataframe thead th {\n        text-align: right;\n    }\n</style>\n<table border=\"1\" class=\"dataframe\">\n  <thead>\n    <tr style=\"text-align: right;\">\n      <th></th>\n      <th>SK_ID_PREV</th>\n      <th>NUM_INSTALMENT_NUMBER</th>\n      <th>DAYS_INSTALMENT</th>\n      <th>DAYS_ENTRY_PAYMENT</th>\n      <th>AMT_INSTALMENT</th>\n      <th>AMT_PAYMENT</th>\n      <th>AMOUNT_NOT_PAID</th>\n      <th>DAYS_DIFF</th>\n      <th>AMOUNT_DELAYED_PAYMENT</th>\n    </tr>\n  </thead>\n  <tbody>\n    <tr>\n      <th>46</th>\n      <td>1000010</td>\n      <td>1</td>\n      <td>-558.0</td>\n      <td>-568.0</td>\n      <td>74682.00</td>\n      <td>74682.00</td>\n      <td>0.0</td>\n      <td>0.0</td>\n      <td>0.0</td>\n    </tr>\n    <tr>\n      <th>47</th>\n      <td>1000010</td>\n      <td>2</td>\n      <td>-528.0</td>\n      <td>-528.0</td>\n      <td>74682.00</td>\n      <td>74682.00</td>\n      <td>0.0</td>\n      <td>0.0</td>\n      <td>0.0</td>\n    </tr>\n    <tr>\n      <th>48</th>\n      <td>1000010</td>\n      <td>3</td>\n      <td>-498.0</td>\n      <td>-502.0</td>\n      <td>74682.00</td>\n      <td>74682.00</td>\n      <td>0.0</td>\n      <td>0.0</td>\n      <td>0.0</td>\n    </tr>\n    <tr>\n      <th>49</th>\n      <td>1000010</td>\n      <td>4</td>\n      <td>-468.0</td>\n      <td>-471.0</td>\n      <td>74682.00</td>\n      <td>74682.00</td>\n      <td>0.0</td>\n      <td>0.0</td>\n      <td>0.0</td>\n    </tr>\n    <tr>\n      <th>50</th>\n      <td>1000010</td>\n      <td>5</td>\n      <td>-438.0</td>\n      <td>-457.0</td>\n      <td>74682.00</td>\n      <td>74682.00</td>\n      <td>0.0</td>\n      <td>0.0</td>\n      <td>0.0</td>\n    </tr>\n    <tr>\n      <th>...</th>\n      <td>...</td>\n      <td>...</td>\n      <td>...</td>\n      <td>...</td>\n      <td>...</td>\n      <td>...</td>\n      <td>...</td>\n      <td>...</td>\n      <td>...</td>\n    </tr>\n    <tr>\n      <th>12861989</th>\n      <td>2843499</td>\n      <td>6</td>\n      <td>-1053.0</td>\n      <td>-1074.0</td>\n      <td>16074.00</td>\n      <td>16074.00</td>\n      <td>0.0</td>\n      <td>0.0</td>\n      <td>0.0</td>\n    </tr>\n    <tr>\n      <th>12861990</th>\n      <td>2843499</td>\n      <td>7</td>\n      <td>-1023.0</td>\n      <td>-1047.0</td>\n      <td>16074.00</td>\n      <td>16074.00</td>\n      <td>0.0</td>\n      <td>0.0</td>\n      <td>0.0</td>\n    </tr>\n    <tr>\n      <th>12861991</th>\n      <td>2843499</td>\n      <td>8</td>\n      <td>-993.0</td>\n      <td>-1018.0</td>\n      <td>16074.00</td>\n      <td>16074.00</td>\n      <td>0.0</td>\n      <td>0.0</td>\n      <td>0.0</td>\n    </tr>\n    <tr>\n      <th>12861992</th>\n      <td>2843499</td>\n      <td>9</td>\n      <td>-963.0</td>\n      <td>-980.0</td>\n      <td>16074.00</td>\n      <td>16074.00</td>\n      <td>0.0</td>\n      <td>0.0</td>\n      <td>0.0</td>\n    </tr>\n    <tr>\n      <th>12861993</th>\n      <td>2843499</td>\n      <td>10</td>\n      <td>-933.0</td>\n      <td>-952.0</td>\n      <td>433416.24</td>\n      <td>433416.24</td>\n      <td>0.0</td>\n      <td>0.0</td>\n      <td>0.0</td>\n    </tr>\n  </tbody>\n</table>\n<p>3436543 rows × 9 columns</p>\n</div>"
     },
     "execution_count": 32,
     "metadata": {},
     "output_type": "execute_result"
    }
   ],
   "source": [
    "cash_installment"
   ],
   "metadata": {
    "collapsed": false,
    "ExecuteTime": {
     "end_time": "2024-01-02T01:00:30.191821900Z",
     "start_time": "2024-01-02T01:00:30.133819300Z"
    }
   },
   "id": "11f8f89261d6287c"
  },
  {
   "cell_type": "code",
   "execution_count": 33,
   "outputs": [],
   "source": [
    "def cal_past_loss(x):\n",
    "    discount = (1+monthly_interest_rate)**abs(x['NUM_INSTALMENT_NUMBER'])\n",
    "    loss_not_paid = (x['AMOUNT_NOT_PAID'] * (1 + daily_interest_rate) ** x['DAYS_DIFF'])/discount\n",
    "    loss_delayed_payment = (x['AMOUNT_DELAYED_PAYMENT'] * (1 + daily_interest_rate) ** x['DAYS_DIFF'] - x[\n",
    "        'AMOUNT_DELAYED_PAYMENT'])/discount\n",
    "    loss_delayed_payment = loss_delayed_payment.sum()\n",
    "    loss_not_paid = loss_not_paid.sum()\n",
    "    return -(loss_not_paid + loss_delayed_payment)\n",
    "\n",
    "\n",
    "def flag_default(x):\n",
    "    if len(x[(x['AMOUNT_NOT_PAID'] > 1)&(x['DAYS_DIFF']>15)]) > 0:# float precision and grace period\n",
    "        return 1\n",
    "    return 0\n",
    "\n",
    "\n",
    "def flag_delayed(x):\n",
    "    if x['DAYS_DIFF'].any() > 15 and not flag_default(x):  # avg grace period is 15 days, avoid double counting\n",
    "        return 1\n",
    "    return 0"
   ],
   "metadata": {
    "collapsed": false,
    "ExecuteTime": {
     "end_time": "2024-01-02T01:00:30.194823Z",
     "start_time": "2024-01-02T01:00:30.166820400Z"
    }
   },
   "id": "8f4f485ef001450e"
  },
  {
   "cell_type": "code",
   "execution_count": 34,
   "outputs": [],
   "source": [
    "aggregated_cash_installment = pd.DataFrame()\n",
    "aggregated_cash_installment['PAST_LOSS_NPV'] = cash_installment.groupby('SK_ID_PREV').apply(cal_past_loss)  # pass loss net present value\n",
    "aggregated_cash_installment['DELAYED_FLAG'] = cash_installment.groupby('SK_ID_PREV').apply(flag_delayed)\n",
    "aggregated_cash_installment['DEFAULT_FLAG'] = cash_installment.groupby('SK_ID_PREV').apply(flag_default)"
   ],
   "metadata": {
    "collapsed": false,
    "ExecuteTime": {
     "end_time": "2024-01-02T01:08:47.881212300Z",
     "start_time": "2024-01-02T01:00:30.179823700Z"
    }
   },
   "id": "64b463ed100298b6"
  },
  {
   "cell_type": "code",
   "execution_count": 35,
   "outputs": [
    {
     "data": {
      "text/plain": "            PAST_LOSS_NPV  DELAYED_FLAG  DEFAULT_FLAG\nSK_ID_PREV                                           \n1000010         -0.000000             0             0\n1000011         -5.006539             0             0\n1000027         -0.000000             0             0\n1000040         -0.000000             0             0\n1000050         -0.000000             0             0\n...                   ...           ...           ...\n2843494         -0.000000             0             0\n2843495         -0.638991             0             0\n2843497         -0.000000             0             0\n2843498         -0.000000             0             0\n2843499         -0.000000             0             0\n\n[288405 rows x 3 columns]",
      "text/html": "<div>\n<style scoped>\n    .dataframe tbody tr th:only-of-type {\n        vertical-align: middle;\n    }\n\n    .dataframe tbody tr th {\n        vertical-align: top;\n    }\n\n    .dataframe thead th {\n        text-align: right;\n    }\n</style>\n<table border=\"1\" class=\"dataframe\">\n  <thead>\n    <tr style=\"text-align: right;\">\n      <th></th>\n      <th>PAST_LOSS_NPV</th>\n      <th>DELAYED_FLAG</th>\n      <th>DEFAULT_FLAG</th>\n    </tr>\n    <tr>\n      <th>SK_ID_PREV</th>\n      <th></th>\n      <th></th>\n      <th></th>\n    </tr>\n  </thead>\n  <tbody>\n    <tr>\n      <th>1000010</th>\n      <td>-0.000000</td>\n      <td>0</td>\n      <td>0</td>\n    </tr>\n    <tr>\n      <th>1000011</th>\n      <td>-5.006539</td>\n      <td>0</td>\n      <td>0</td>\n    </tr>\n    <tr>\n      <th>1000027</th>\n      <td>-0.000000</td>\n      <td>0</td>\n      <td>0</td>\n    </tr>\n    <tr>\n      <th>1000040</th>\n      <td>-0.000000</td>\n      <td>0</td>\n      <td>0</td>\n    </tr>\n    <tr>\n      <th>1000050</th>\n      <td>-0.000000</td>\n      <td>0</td>\n      <td>0</td>\n    </tr>\n    <tr>\n      <th>...</th>\n      <td>...</td>\n      <td>...</td>\n      <td>...</td>\n    </tr>\n    <tr>\n      <th>2843494</th>\n      <td>-0.000000</td>\n      <td>0</td>\n      <td>0</td>\n    </tr>\n    <tr>\n      <th>2843495</th>\n      <td>-0.638991</td>\n      <td>0</td>\n      <td>0</td>\n    </tr>\n    <tr>\n      <th>2843497</th>\n      <td>-0.000000</td>\n      <td>0</td>\n      <td>0</td>\n    </tr>\n    <tr>\n      <th>2843498</th>\n      <td>-0.000000</td>\n      <td>0</td>\n      <td>0</td>\n    </tr>\n    <tr>\n      <th>2843499</th>\n      <td>-0.000000</td>\n      <td>0</td>\n      <td>0</td>\n    </tr>\n  </tbody>\n</table>\n<p>288405 rows × 3 columns</p>\n</div>"
     },
     "execution_count": 35,
     "metadata": {},
     "output_type": "execute_result"
    }
   ],
   "source": [
    "aggregated_cash_installment"
   ],
   "metadata": {
    "collapsed": false,
    "ExecuteTime": {
     "end_time": "2024-01-02T01:08:47.899223600Z",
     "start_time": "2024-01-02T01:08:47.888187100Z"
    }
   },
   "id": "63d62206b2da8973"
  },
  {
   "cell_type": "code",
   "execution_count": 36,
   "outputs": [],
   "source": [
    "def cal_cash_future_loss_default(x):\n",
    "    if not x['DEFAULT_FLAG']:\n",
    "        return 0\n",
    "    # get the slice in cash_installment\n",
    "    slice = cash_installment[cash_installment['SK_ID_PREV'] == x.name]\n",
    "    # get the last installment\n",
    "    last_installment = slice['NUM_INSTALMENT_NUMBER'][\n",
    "        slice['NUM_INSTALMENT_NUMBER'] < 100].max()  # penalty have installment number >100\n",
    "    # try:\n",
    "    #     contract_full_installment = previous_application[previous_application['SK_ID_PREV'] == x.name]['CNT_PAYMENT'].values[0]\n",
    "    #     contract_annuity = previous_application[previous_application['SK_ID_PREV'] == x.name]['AMT_ANNUITY'].values[0]\n",
    "    # except IndexError:\n",
    "    #     print(x.name)\n",
    "    #     return 0\n",
    "    contract_full_installment = previous_application[previous_application['SK_ID_PREV'] == x.name]['CNT_PAYMENT'].values[0]\n",
    "    contract_annuity = previous_application[previous_application['SK_ID_PREV'] == x.name]['AMT_ANNUITY'].values[0]\n",
    "    if last_installment == contract_full_installment:\n",
    "        # no more future installment\n",
    "        return 0\n",
    "    else:\n",
    "        numerator = 1 - (1 + monthly_interest_rate) ** (-contract_full_installment + last_installment)\n",
    "        return -(contract_annuity * numerator / monthly_interest_rate)/(1+monthly_interest_rate)**last_installment\n",
    "\n",
    "\n",
    "def cal_cash_future_loss_delayed(x):\n",
    "    if not x['DELAYED_FLAG']:\n",
    "        return 0\n",
    "    # get the slice in cash_installment\n",
    "    slice = cash_installment[cash_installment['SK_ID_PREV'] == x.name]\n",
    "    # get the last installment\n",
    "    last_installment = slice['NUM_INSTALMENT_NUMBER'][\n",
    "        slice['NUM_INSTALMENT_NUMBER'] < 100].max()  # penalty have installment number >100\n",
    "    contract_full_installment = \\\n",
    "    previous_application[previous_application['SK_ID_PREV'] == x.name]['CNT_PAYMENT'].values[0]\n",
    "    contract_annuity = previous_application[previous_application['SK_ID_PREV'] == x.name]['AMT_ANNUITY'].values[0]\n",
    "    if last_installment == contract_full_installment:\n",
    "        # no more future installment\n",
    "        return 0\n",
    "    else:\n",
    "        avg_delayed_days = slice['DAYS_DIFF'][\n",
    "                           -len(slice) // 2:].mean()  # only consider the last half of the installment avg delay\n",
    "        future_loss_every_installment = contract_annuity * (\n",
    "                    1 + daily_interest_rate) ** avg_delayed_days - contract_annuity\n",
    "        numerator = 1 - (1 + monthly_interest_rate) ** (-contract_full_installment + last_installment)\n",
    "        return -(future_loss_every_installment * numerator / monthly_interest_rate)/(1+monthly_interest_rate)**last_installment\n",
    "\n",
    "\n",
    "aggregated_cash_installment['FUTURE_LOSS_DEFAULT'] = aggregated_cash_installment.apply(cal_cash_future_loss_default, axis=1)\n",
    "aggregated_cash_installment['FUTURE_LOSS_DELAYED'] = aggregated_cash_installment.apply(cal_cash_future_loss_delayed, axis=1)"
   ],
   "metadata": {
    "collapsed": false,
    "ExecuteTime": {
     "end_time": "2024-01-02T01:08:55.000056700Z",
     "start_time": "2024-01-02T01:08:47.899223600Z"
    }
   },
   "id": "484620bd60d8249b"
  },
  {
   "cell_type": "code",
   "execution_count": 37,
   "outputs": [
    {
     "data": {
      "text/plain": "            PAST_LOSS_NPV  DELAYED_FLAG  DEFAULT_FLAG  FUTURE_LOSS_DEFAULT  \\\nSK_ID_PREV                                                                   \n1000010         -0.000000             0             0                  0.0   \n1000011         -5.006539             0             0                  0.0   \n1000027         -0.000000             0             0                  0.0   \n1000040         -0.000000             0             0                  0.0   \n1000050         -0.000000             0             0                  0.0   \n...                   ...           ...           ...                  ...   \n2843494         -0.000000             0             0                  0.0   \n2843495         -0.638991             0             0                  0.0   \n2843497         -0.000000             0             0                  0.0   \n2843498         -0.000000             0             0                  0.0   \n2843499         -0.000000             0             0                  0.0   \n\n            FUTURE_LOSS_DELAYED  \nSK_ID_PREV                       \n1000010                       0  \n1000011                       0  \n1000027                       0  \n1000040                       0  \n1000050                       0  \n...                         ...  \n2843494                       0  \n2843495                       0  \n2843497                       0  \n2843498                       0  \n2843499                       0  \n\n[288405 rows x 5 columns]",
      "text/html": "<div>\n<style scoped>\n    .dataframe tbody tr th:only-of-type {\n        vertical-align: middle;\n    }\n\n    .dataframe tbody tr th {\n        vertical-align: top;\n    }\n\n    .dataframe thead th {\n        text-align: right;\n    }\n</style>\n<table border=\"1\" class=\"dataframe\">\n  <thead>\n    <tr style=\"text-align: right;\">\n      <th></th>\n      <th>PAST_LOSS_NPV</th>\n      <th>DELAYED_FLAG</th>\n      <th>DEFAULT_FLAG</th>\n      <th>FUTURE_LOSS_DEFAULT</th>\n      <th>FUTURE_LOSS_DELAYED</th>\n    </tr>\n    <tr>\n      <th>SK_ID_PREV</th>\n      <th></th>\n      <th></th>\n      <th></th>\n      <th></th>\n      <th></th>\n    </tr>\n  </thead>\n  <tbody>\n    <tr>\n      <th>1000010</th>\n      <td>-0.000000</td>\n      <td>0</td>\n      <td>0</td>\n      <td>0.0</td>\n      <td>0</td>\n    </tr>\n    <tr>\n      <th>1000011</th>\n      <td>-5.006539</td>\n      <td>0</td>\n      <td>0</td>\n      <td>0.0</td>\n      <td>0</td>\n    </tr>\n    <tr>\n      <th>1000027</th>\n      <td>-0.000000</td>\n      <td>0</td>\n      <td>0</td>\n      <td>0.0</td>\n      <td>0</td>\n    </tr>\n    <tr>\n      <th>1000040</th>\n      <td>-0.000000</td>\n      <td>0</td>\n      <td>0</td>\n      <td>0.0</td>\n      <td>0</td>\n    </tr>\n    <tr>\n      <th>1000050</th>\n      <td>-0.000000</td>\n      <td>0</td>\n      <td>0</td>\n      <td>0.0</td>\n      <td>0</td>\n    </tr>\n    <tr>\n      <th>...</th>\n      <td>...</td>\n      <td>...</td>\n      <td>...</td>\n      <td>...</td>\n      <td>...</td>\n    </tr>\n    <tr>\n      <th>2843494</th>\n      <td>-0.000000</td>\n      <td>0</td>\n      <td>0</td>\n      <td>0.0</td>\n      <td>0</td>\n    </tr>\n    <tr>\n      <th>2843495</th>\n      <td>-0.638991</td>\n      <td>0</td>\n      <td>0</td>\n      <td>0.0</td>\n      <td>0</td>\n    </tr>\n    <tr>\n      <th>2843497</th>\n      <td>-0.000000</td>\n      <td>0</td>\n      <td>0</td>\n      <td>0.0</td>\n      <td>0</td>\n    </tr>\n    <tr>\n      <th>2843498</th>\n      <td>-0.000000</td>\n      <td>0</td>\n      <td>0</td>\n      <td>0.0</td>\n      <td>0</td>\n    </tr>\n    <tr>\n      <th>2843499</th>\n      <td>-0.000000</td>\n      <td>0</td>\n      <td>0</td>\n      <td>0.0</td>\n      <td>0</td>\n    </tr>\n  </tbody>\n</table>\n<p>288405 rows × 5 columns</p>\n</div>"
     },
     "execution_count": 37,
     "metadata": {},
     "output_type": "execute_result"
    }
   ],
   "source": [
    "aggregated_cash_installment"
   ],
   "metadata": {
    "collapsed": false,
    "ExecuteTime": {
     "end_time": "2024-01-02T01:08:55.069053700Z",
     "start_time": "2024-01-02T01:08:55.004058300Z"
    }
   },
   "id": "8e348f294ec4c62e"
  },
  {
   "cell_type": "code",
   "execution_count": 38,
   "outputs": [],
   "source": [
    "def cal_loan_pv(x):\n",
    "    numerator = 1 - (1 + monthly_interest_rate) ** (-x['CNT_PAYMENT'])\n",
    "    return x['AMT_ANNUITY'] * numerator / monthly_interest_rate-x['AMT_CREDIT']\n",
    "aggregated_cash_installment['LOAN_PV'] = previous_application[previous_application['SK_ID_PREV'].isin(aggregated_cash_installment.index)].set_index('SK_ID_PREV').apply(cal_loan_pv, axis=1)\n",
    "aggregated_cash_installment['LOAN_PROFIT']=aggregated_cash_installment['PAST_LOSS_NPV']+aggregated_cash_installment['FUTURE_LOSS_DEFAULT']+aggregated_cash_installment['FUTURE_LOSS_DELAYED']+aggregated_cash_installment['LOAN_PV']"
   ],
   "metadata": {
    "collapsed": false,
    "ExecuteTime": {
     "end_time": "2024-01-02T01:09:00.392180600Z",
     "start_time": "2024-01-02T01:08:55.035053500Z"
    }
   },
   "id": "d913e1fe34b687e8"
  },
  {
   "cell_type": "code",
   "execution_count": 39,
   "outputs": [
    {
     "data": {
      "text/plain": "<Figure size 640x480 with 1 Axes>",
      "image/png": "[encoded data removed]"
     },
     "metadata": {},
     "output_type": "display_data"
    }
   ],
   "source": [
    "aggregated_cash_installment[aggregated_cash_installment['DEFAULT_FLAG']==1]['LOAN_PROFIT'].hist(bins=100)\n",
    "plt.title('Defaulted Cash loan profit distribution')\n",
    "plt.xlabel('Loan profit')\n",
    "plt.ylabel('Count')\n",
    "plt.show()"
   ],
   "metadata": {
    "collapsed": false,
    "ExecuteTime": {
     "end_time": "2024-01-02T01:09:00.903363800Z",
     "start_time": "2024-01-02T01:09:00.397230700Z"
    }
   },
   "id": "23a5f8b30c32f5d1"
  },
  {
   "cell_type": "code",
   "execution_count": 40,
   "outputs": [
    {
     "data": {
      "text/plain": "<Figure size 640x480 with 1 Axes>",
      "image/png": "[encoded data removed]"
     },
     "metadata": {},
     "output_type": "display_data"
    }
   ],
   "source": [
    "aggregated_cash_installment[aggregated_cash_installment['DEFAULT_FLAG']==0]['LOAN_PROFIT'].hist(bins=100)\n",
    "plt.title('Non-defaulted Cash loan profit distribution')\n",
    "plt.xlabel('Loan profit')\n",
    "plt.ylabel('Count')\n",
    "plt.show()"
   ],
   "metadata": {
    "collapsed": false,
    "ExecuteTime": {
     "end_time": "2024-01-02T01:09:01.249521500Z",
     "start_time": "2024-01-02T01:09:00.888365100Z"
    }
   },
   "id": "598fc2eab61435f"
  },
  {
   "cell_type": "markdown",
   "source": [
    "## 4. Revolving loan"
   ],
   "metadata": {
    "collapsed": false
   },
   "id": "dd653eacfbeb1a7a"
  },
  {
   "cell_type": "code",
   "execution_count": 41,
   "outputs": [],
   "source": [
    "revolving_loan_installment['DAYS_DIFF'] = revolving_loan_installment.apply(\n",
    "    lambda x: x['DAYS_DIFF'] if x['AMOUNT_NOT_PAID'] < 1 else min(abs(x['DAYS_INSTALMENT']), abs(previous_application[previous_application['SK_ID_PREV'] == x['SK_ID_PREV']]['DAYS_TERMINATION'].values[0])), axis=1)  "
   ],
   "metadata": {
    "collapsed": false,
    "ExecuteTime": {
     "end_time": "2024-01-02T01:09:32.631405800Z",
     "start_time": "2024-01-02T01:09:01.239361800Z"
    }
   },
   "id": "bf46b9ca9a26615a"
  },
  {
   "cell_type": "code",
   "execution_count": 42,
   "outputs": [],
   "source": [
    "revolving_loan_installment['AMOUNT_DELAYED_PAYMENT'] = revolving_loan_installment.apply(cal_amount_delayed_payment, axis=1)"
   ],
   "metadata": {
    "collapsed": false,
    "ExecuteTime": {
     "end_time": "2024-01-02T01:09:53.686980900Z",
     "start_time": "2024-01-02T01:09:32.628407500Z"
    }
   },
   "id": "68368dd0e26bb508"
  },
  {
   "cell_type": "code",
   "execution_count": 43,
   "outputs": [
    {
     "data": {
      "text/plain": "          SK_ID_PREV  NUM_INSTALMENT_NUMBER  DAYS_INSTALMENT  \\\n715          1000087                      3           -882.0   \n723          1000087                     11           -760.0   \n725          1000087                     13           -729.0   \n727          1000087                     15           -699.0   \n2336         1000257                      1           -422.0   \n...              ...                    ...              ...   \n12861224     2843461                      3          -2156.0   \n12861269     2843461                     48          -1245.0   \n12861894     2843493                      8           -321.0   \n12861904     2843493                     18           -168.0   \n12861911     2843493                     25            -76.0   \n\n          DAYS_ENTRY_PAYMENT  AMT_INSTALMENT  AMT_PAYMENT  AMOUNT_NOT_PAID  \\\n715                   -880.0        6319.665     6319.665              0.0   \n723                   -759.0        6938.550     6938.550              0.0   \n725                   -727.0        6836.085     6836.085              0.0   \n727                   -697.0        6713.595     6713.595              0.0   \n2336                  -411.0        2395.800     2395.800              0.0   \n...                      ...             ...          ...              ...   \n12861224             -2155.0        4500.000     4500.000              0.0   \n12861269             -1242.0        4500.000     4500.000              0.0   \n12861894              -319.0        3496.230     3496.230              0.0   \n12861904              -167.0        2996.010     2996.010              0.0   \n12861911               -75.0        3748.455     3748.455              0.0   \n\n          DAYS_DIFF  AMOUNT_DELAYED_PAYMENT  \n715             2.0                6319.665  \n723             1.0                6938.550  \n725             2.0                6836.085  \n727             2.0                6713.595  \n2336           11.0                2395.800  \n...             ...                     ...  \n12861224        1.0                4500.000  \n12861269        3.0                4500.000  \n12861894        2.0                3496.230  \n12861904        1.0                2996.010  \n12861911        1.0                3748.455  \n\n[133848 rows x 9 columns]",
      "text/html": "<div>\n<style scoped>\n    .dataframe tbody tr th:only-of-type {\n        vertical-align: middle;\n    }\n\n    .dataframe tbody tr th {\n        vertical-align: top;\n    }\n\n    .dataframe thead th {\n        text-align: right;\n    }\n</style>\n<table border=\"1\" class=\"dataframe\">\n  <thead>\n    <tr style=\"text-align: right;\">\n      <th></th>\n      <th>SK_ID_PREV</th>\n      <th>NUM_INSTALMENT_NUMBER</th>\n      <th>DAYS_INSTALMENT</th>\n      <th>DAYS_ENTRY_PAYMENT</th>\n      <th>AMT_INSTALMENT</th>\n      <th>AMT_PAYMENT</th>\n      <th>AMOUNT_NOT_PAID</th>\n      <th>DAYS_DIFF</th>\n      <th>AMOUNT_DELAYED_PAYMENT</th>\n    </tr>\n  </thead>\n  <tbody>\n    <tr>\n      <th>715</th>\n      <td>1000087</td>\n      <td>3</td>\n      <td>-882.0</td>\n      <td>-880.0</td>\n      <td>6319.665</td>\n      <td>6319.665</td>\n      <td>0.0</td>\n      <td>2.0</td>\n      <td>6319.665</td>\n    </tr>\n    <tr>\n      <th>723</th>\n      <td>1000087</td>\n      <td>11</td>\n      <td>-760.0</td>\n      <td>-759.0</td>\n      <td>6938.550</td>\n      <td>6938.550</td>\n      <td>0.0</td>\n      <td>1.0</td>\n      <td>6938.550</td>\n    </tr>\n    <tr>\n      <th>725</th>\n      <td>1000087</td>\n      <td>13</td>\n      <td>-729.0</td>\n      <td>-727.0</td>\n      <td>6836.085</td>\n      <td>6836.085</td>\n      <td>0.0</td>\n      <td>2.0</td>\n      <td>6836.085</td>\n    </tr>\n    <tr>\n      <th>727</th>\n      <td>1000087</td>\n      <td>15</td>\n      <td>-699.0</td>\n      <td>-697.0</td>\n      <td>6713.595</td>\n      <td>6713.595</td>\n      <td>0.0</td>\n      <td>2.0</td>\n      <td>6713.595</td>\n    </tr>\n    <tr>\n      <th>2336</th>\n      <td>1000257</td>\n      <td>1</td>\n      <td>-422.0</td>\n      <td>-411.0</td>\n      <td>2395.800</td>\n      <td>2395.800</td>\n      <td>0.0</td>\n      <td>11.0</td>\n      <td>2395.800</td>\n    </tr>\n    <tr>\n      <th>...</th>\n      <td>...</td>\n      <td>...</td>\n      <td>...</td>\n      <td>...</td>\n      <td>...</td>\n      <td>...</td>\n      <td>...</td>\n      <td>...</td>\n      <td>...</td>\n    </tr>\n    <tr>\n      <th>12861224</th>\n      <td>2843461</td>\n      <td>3</td>\n      <td>-2156.0</td>\n      <td>-2155.0</td>\n      <td>4500.000</td>\n      <td>4500.000</td>\n      <td>0.0</td>\n      <td>1.0</td>\n      <td>4500.000</td>\n    </tr>\n    <tr>\n      <th>12861269</th>\n      <td>2843461</td>\n      <td>48</td>\n      <td>-1245.0</td>\n      <td>-1242.0</td>\n      <td>4500.000</td>\n      <td>4500.000</td>\n      <td>0.0</td>\n      <td>3.0</td>\n      <td>4500.000</td>\n    </tr>\n    <tr>\n      <th>12861894</th>\n      <td>2843493</td>\n      <td>8</td>\n      <td>-321.0</td>\n      <td>-319.0</td>\n      <td>3496.230</td>\n      <td>3496.230</td>\n      <td>0.0</td>\n      <td>2.0</td>\n      <td>3496.230</td>\n    </tr>\n    <tr>\n      <th>12861904</th>\n      <td>2843493</td>\n      <td>18</td>\n      <td>-168.0</td>\n      <td>-167.0</td>\n      <td>2996.010</td>\n      <td>2996.010</td>\n      <td>0.0</td>\n      <td>1.0</td>\n      <td>2996.010</td>\n    </tr>\n    <tr>\n      <th>12861911</th>\n      <td>2843493</td>\n      <td>25</td>\n      <td>-76.0</td>\n      <td>-75.0</td>\n      <td>3748.455</td>\n      <td>3748.455</td>\n      <td>0.0</td>\n      <td>1.0</td>\n      <td>3748.455</td>\n    </tr>\n  </tbody>\n</table>\n<p>133848 rows × 9 columns</p>\n</div>"
     },
     "execution_count": 43,
     "metadata": {},
     "output_type": "execute_result"
    }
   ],
   "source": [
    "revolving_loan_installment[revolving_loan_installment['AMOUNT_DELAYED_PAYMENT']>0]"
   ],
   "metadata": {
    "collapsed": false,
    "ExecuteTime": {
     "end_time": "2024-01-02T01:09:53.824983200Z",
     "start_time": "2024-01-02T01:09:53.688982900Z"
    }
   },
   "id": "34489abb06561e81"
  },
  {
   "cell_type": "code",
   "execution_count": 44,
   "outputs": [],
   "source": [
    "aggregated_revolving_loan_installment = pd.DataFrame()\n",
    "\n",
    "aggregated_revolving_loan_installment['DELAYED_FLAG'] = revolving_loan_installment.groupby('SK_ID_PREV').apply(flag_delayed)\n",
    "aggregated_revolving_loan_installment['DEFAULT_FLAG'] = revolving_loan_installment.groupby('SK_ID_PREV').apply(flag_default)"
   ],
   "metadata": {
    "collapsed": false,
    "ExecuteTime": {
     "end_time": "2024-01-02T01:10:37.228378100Z",
     "start_time": "2024-01-02T01:09:53.816985Z"
    }
   },
   "id": "aaf71b89540c795a"
  },
  {
   "cell_type": "code",
   "execution_count": 45,
   "outputs": [
    {
     "data": {
      "text/plain": "            DELAYED_FLAG  DEFAULT_FLAG\nSK_ID_PREV                            \n1000018                0             0\n1000030                0             0\n1000031                0             0\n1000087                0             0\n1000094                0             0\n...                  ...           ...\n2843461                0             0\n2843477                0             0\n2843478                0             0\n2843493                0             0\n2843496                0             0\n\n[62480 rows x 2 columns]",
      "text/html": "<div>\n<style scoped>\n    .dataframe tbody tr th:only-of-type {\n        vertical-align: middle;\n    }\n\n    .dataframe tbody tr th {\n        vertical-align: top;\n    }\n\n    .dataframe thead th {\n        text-align: right;\n    }\n</style>\n<table border=\"1\" class=\"dataframe\">\n  <thead>\n    <tr style=\"text-align: right;\">\n      <th></th>\n      <th>DELAYED_FLAG</th>\n      <th>DEFAULT_FLAG</th>\n    </tr>\n    <tr>\n      <th>SK_ID_PREV</th>\n      <th></th>\n      <th></th>\n    </tr>\n  </thead>\n  <tbody>\n    <tr>\n      <th>1000018</th>\n      <td>0</td>\n      <td>0</td>\n    </tr>\n    <tr>\n      <th>1000030</th>\n      <td>0</td>\n      <td>0</td>\n    </tr>\n    <tr>\n      <th>1000031</th>\n      <td>0</td>\n      <td>0</td>\n    </tr>\n    <tr>\n      <th>1000087</th>\n      <td>0</td>\n      <td>0</td>\n    </tr>\n    <tr>\n      <th>1000094</th>\n      <td>0</td>\n      <td>0</td>\n    </tr>\n    <tr>\n      <th>...</th>\n      <td>...</td>\n      <td>...</td>\n    </tr>\n    <tr>\n      <th>2843461</th>\n      <td>0</td>\n      <td>0</td>\n    </tr>\n    <tr>\n      <th>2843477</th>\n      <td>0</td>\n      <td>0</td>\n    </tr>\n    <tr>\n      <th>2843478</th>\n      <td>0</td>\n      <td>0</td>\n    </tr>\n    <tr>\n      <th>2843493</th>\n      <td>0</td>\n      <td>0</td>\n    </tr>\n    <tr>\n      <th>2843496</th>\n      <td>0</td>\n      <td>0</td>\n    </tr>\n  </tbody>\n</table>\n<p>62480 rows × 2 columns</p>\n</div>"
     },
     "execution_count": 45,
     "metadata": {},
     "output_type": "execute_result"
    }
   ],
   "source": [
    "aggregated_revolving_loan_installment"
   ],
   "metadata": {
    "collapsed": false,
    "ExecuteTime": {
     "end_time": "2024-01-02T01:10:37.253381100Z",
     "start_time": "2024-01-02T01:10:37.229975700Z"
    }
   },
   "id": "6c1dd3167e6db03f"
  },
  {
   "cell_type": "code",
   "execution_count": 46,
   "outputs": [],
   "source": [
    "def cal_revolving_future_loss_delayed(x):\n",
    "    if not x['DELAYED_FLAG']:\n",
    "        return 0\n",
    "    # get the slice in cash_installment\n",
    "    x_slice = revolving_loan_installment[revolving_loan_installment['SK_ID_PREV'] == x.name]\n",
    "    # get the last installment\n",
    "    avg_delayed_days = x_slice['DAYS_DIFF'][\n",
    "                       -len(x_slice) // 2:].mean()  # only consider the last half of the installment avg delay\n",
    "    avg_delayed_amount = x_slice['AMOUNT_DELAYED_PAYMENT'][\n",
    "                       -len(x_slice) // 2:].mean()\n",
    "    future_loss_every_installment = avg_delayed_amount * (\n",
    "                1 + daily_interest_rate) ** avg_delayed_days - avg_delayed_amount\n",
    "    # calculate in a perpetuity way \n",
    "    future_loss_every_installment/=monthly_interest_rate\n",
    "    # discount back to day 1\n",
    "    future_loss_every_installment/=(1+monthly_interest_rate)**x_slice['NUM_INSTALMENT_NUMBER'].max()\n",
    "    return -future_loss_every_installment\n",
    "\n",
    "def cal_revolving_past_loss_default(x):\n",
    "    if not x['DEFAULT_FLAG']:\n",
    "        return 0\n",
    "    x_slice =  revolving_loan_installment[revolving_loan_installment['SK_ID_PREV'] == x.name]\n",
    "    # discount back to npv\n",
    "    delayed_npv = x_slice['AMOUNT_DELAYED_PAYMENT']*(1+daily_interest_rate)**x_slice['DAYS_DIFF']-x_slice['AMOUNT_DELAYED_PAYMENT']\n",
    "    default_npv=x_slice['AMOUNT_NOT_PAID']/(1+monthly_interest_rate)**x_slice['NUM_INSTALMENT_NUMBER']\n",
    "    return -(delayed_npv.sum()+default_npv.sum())\n",
    "    \n",
    "def cal_revolving_npv_profit(x):\n",
    "    # https://www.wallstreetprep.com/knowledge/corporate-banking-101-revolving-credit-facilities/\n",
    "    x_slice =  revolving_loan_installment[revolving_loan_installment['SK_ID_PREV'] == x.name]\n",
    "    x_slice = x_slice[x_slice['AMOUNT_NOT_PAID']<1]\n",
    "    total_credit=previous_application[previous_application['SK_ID_PREV']==x.name]['AMT_CREDIT'].values[0]\n",
    "    total_annuity=previous_application[previous_application['SK_ID_PREV']==x.name]['AMT_ANNUITY'].values[0]\n",
    "    upfront_fee = total_credit*0.001*(len(x_slice)//12)# 10 base point per annual \n",
    "    \n",
    "    commitment_cal = x_slice.loc[:,['NUM_INSTALMENT_NUMBER','AMT_INSTALMENT']].copy()\n",
    "    commitment_cal['ratio']=1-commitment_cal['AMT_INSTALMENT']/total_annuity\n",
    "    commitment_cal = commitment_cal[commitment_cal['ratio']>0.2]\n",
    "    commitment_fee = commitment_cal['AMT_INSTALMENT']*commitment_cal['ratio']*0.001 /(1+monthly_interest_rate)**commitment_cal['NUM_INSTALMENT_NUMBER']# 10 base point \n",
    "    return commitment_fee.sum()+upfront_fee\n",
    "\n",
    "aggregated_revolving_loan_installment['FUTURE_LOSS_DELAYED']=aggregated_revolving_loan_installment.apply(cal_revolving_future_loss_delayed,axis=1)\n",
    "aggregated_revolving_loan_installment['PAST_LOSS_NPV'] = aggregated_revolving_loan_installment.apply(cal_revolving_past_loss_default,axis=1)  # pass loss net present value\n",
    "aggregated_revolving_loan_installment['PAST_PROFIT_NPV']=aggregated_revolving_loan_installment.apply(cal_revolving_npv_profit,axis=1)"
   ],
   "metadata": {
    "collapsed": false,
    "ExecuteTime": {
     "end_time": "2024-01-02T01:17:50.772803200Z",
     "start_time": "2024-01-02T01:10:37.246379900Z"
    }
   },
   "id": "94dad01588dc30ed"
  },
  {
   "cell_type": "code",
   "execution_count": 47,
   "outputs": [],
   "source": [
    "aggregated_revolving_loan_installment['LOAN_PROFIT']=aggregated_revolving_loan_installment['PAST_PROFIT_NPV']+aggregated_revolving_loan_installment['PAST_LOSS_NPV']+aggregated_revolving_loan_installment['FUTURE_LOSS_DELAYED']"
   ],
   "metadata": {
    "collapsed": false,
    "ExecuteTime": {
     "end_time": "2024-01-02T01:17:50.791044100Z",
     "start_time": "2024-01-02T01:17:50.774772500Z"
    }
   },
   "id": "7fd8f648dab17a54"
  },
  {
   "cell_type": "code",
   "execution_count": 48,
   "outputs": [
    {
     "data": {
      "text/plain": "<Figure size 640x480 with 1 Axes>",
      "image/png": "[encoded data removed]"
     },
     "metadata": {},
     "output_type": "display_data"
    }
   ],
   "source": [
    "aggregated_revolving_loan_installment[aggregated_revolving_loan_installment['DEFAULT_FLAG']==1]['LOAN_PROFIT'].hist(bins=100)\n",
    "plt.title('Defaulted Revolving Loan Profit Distribution')\n",
    "plt.xlabel('Loan profit')\n",
    "plt.ylabel('Count')\n",
    "plt.show()"
   ],
   "metadata": {
    "collapsed": false,
    "ExecuteTime": {
     "end_time": "2024-01-02T01:17:51.154140Z",
     "start_time": "2024-01-02T01:17:50.790044800Z"
    }
   },
   "id": "7aeb66516421c3a"
  },
  {
   "cell_type": "code",
   "execution_count": 49,
   "outputs": [
    {
     "data": {
      "text/plain": "<Figure size 640x480 with 1 Axes>",
      "image/png": "[encoded data removed]"
     },
     "metadata": {},
     "output_type": "display_data"
    }
   ],
   "source": [
    "aggregated_revolving_loan_installment[aggregated_revolving_loan_installment['DEFAULT_FLAG']==0]['LOAN_PROFIT'].hist(bins=100)\n",
    "plt.title('Non-default Revolving Loan Profit Distribution')\n",
    "plt.xlabel('Loan profit')\n",
    "plt.ylabel('Count')\n",
    "plt.show()"
   ],
   "metadata": {
    "collapsed": false,
    "ExecuteTime": {
     "end_time": "2024-01-02T01:17:51.582348400Z",
     "start_time": "2024-01-02T01:17:51.149093500Z"
    }
   },
   "id": "a1fc6554f84b59b2"
  },
  {
   "cell_type": "code",
   "execution_count": 53,
   "outputs": [],
   "source": [
    "aggregated_revolving_loan_installment.to_csv('./src/aggregated_revolving_loan_installment.csv')\n",
    "aggregated_cash_installment.to_csv('./src/aggregated_cash_installment.csv')"
   ],
   "metadata": {
    "collapsed": false,
    "ExecuteTime": {
     "end_time": "2024-01-02T01:36:11.833318700Z",
     "start_time": "2024-01-02T01:36:08.820319Z"
    }
   },
   "id": "63b67947e712fe25"
  },
  {
   "cell_type": "markdown",
   "source": [
    "# for every observation in application, depend on target being 1 or 0, we calculate the profit"
   ],
   "metadata": {
    "collapsed": false
   },
   "id": "ef55067541aecd29"
  },
  {
   "cell_type": "code",
   "execution_count": 48,
   "outputs": [],
   "source": [
    "previous_application = pd.read_csv('./src/previous_application.csv')\n",
    "application = pd.read_csv('./src/application_train.csv').set_index('SK_ID_CURR')"
   ],
   "metadata": {
    "collapsed": false,
    "ExecuteTime": {
     "end_time": "2024-01-02T02:07:38.559624400Z",
     "start_time": "2024-01-02T02:07:29.338730400Z"
    }
   },
   "id": "88bba521105a8b28"
  },
  {
   "cell_type": "code",
   "execution_count": 49,
   "outputs": [],
   "source": [
    "aggregated_revolving_loan_installment = pd.read_csv('./src/aggregated_revolving_loan_installment.csv').set_index('SK_ID_PREV')\n",
    "aggregated_cash_installment = pd.read_csv('./src/aggregated_cash_installment.csv').set_index('SK_ID_PREV')"
   ],
   "metadata": {
    "collapsed": false,
    "ExecuteTime": {
     "end_time": "2024-01-02T02:07:38.813026Z",
     "start_time": "2024-01-02T02:07:38.561483600Z"
    }
   },
   "id": "ed769148291a81b9"
  },
  {
   "cell_type": "code",
   "execution_count": 50,
   "outputs": [],
   "source": [
    "cash_default = aggregated_cash_installment[aggregated_cash_installment['DEFAULT_FLAG']==1].index\n",
    "cash_non_default = aggregated_cash_installment[aggregated_cash_installment['DEFAULT_FLAG']==0].index\n",
    "revolving_default = aggregated_revolving_loan_installment[aggregated_revolving_loan_installment['DEFAULT_FLAG']==1].index\n",
    "revolving_non_default = aggregated_revolving_loan_installment[aggregated_revolving_loan_installment['DEFAULT_FLAG']==0].index"
   ],
   "metadata": {
    "collapsed": false,
    "ExecuteTime": {
     "end_time": "2024-01-02T02:07:38.874019Z",
     "start_time": "2024-01-02T02:07:38.815026100Z"
    }
   },
   "id": "27732968c6972f8a"
  },
  {
   "cell_type": "code",
   "execution_count": 51,
   "outputs": [],
   "source": [
    "previous_application=previous_application[previous_application['SK_ID_PREV'].isin(np.concatenate([cash_default,cash_non_default,revolving_default,revolving_non_default]))].set_index('SK_ID_PREV')"
   ],
   "metadata": {
    "collapsed": false,
    "ExecuteTime": {
     "end_time": "2024-01-02T02:07:39.114056Z",
     "start_time": "2024-01-02T02:07:38.847018800Z"
    }
   },
   "id": "847dac086750dccf"
  },
  {
   "cell_type": "code",
   "execution_count": 52,
   "outputs": [
    {
     "data": {
      "text/plain": "array(['AMT_ANNUITY', 'AMT_CREDIT', 'AMT_GOODS_PRICE',\n       'HOUR_APPR_PROCESS_START', 'NAME_CONTRACT_TYPE', 'NAME_TYPE_SUITE',\n       'WEEKDAY_APPR_PROCESS_START'], dtype=object)"
     },
     "execution_count": 52,
     "metadata": {},
     "output_type": "execute_result"
    }
   ],
   "source": [
    "common_col = np.intersect1d(application.columns,previous_application.columns)\n",
    "common_col"
   ],
   "metadata": {
    "collapsed": false,
    "ExecuteTime": {
     "end_time": "2024-01-02T02:07:39.143112600Z",
     "start_time": "2024-01-02T02:07:39.116297800Z"
    }
   },
   "id": "d86291ed694696d8"
  },
  {
   "cell_type": "code",
   "execution_count": 53,
   "outputs": [
    {
     "data": {
      "text/plain": "AMT_ANNUITY                     12\nAMT_CREDIT                       0\nAMT_GOODS_PRICE                278\nHOUR_APPR_PROCESS_START          0\nNAME_CONTRACT_TYPE               0\nNAME_TYPE_SUITE               1292\nWEEKDAY_APPR_PROCESS_START       0\ndtype: int64"
     },
     "execution_count": 53,
     "metadata": {},
     "output_type": "execute_result"
    }
   ],
   "source": [
    "application.loc[:,common_col].isnull().sum()"
   ],
   "metadata": {
    "collapsed": false,
    "ExecuteTime": {
     "end_time": "2024-01-02T02:07:39.278136600Z",
     "start_time": "2024-01-02T02:07:39.131110Z"
    }
   },
   "id": "e54ac48d3dbd273d"
  },
  {
   "cell_type": "code",
   "execution_count": 54,
   "outputs": [
    {
     "data": {
      "text/plain": "AMT_ANNUITY                        0\nAMT_CREDIT                         0\nAMT_GOODS_PRICE                32458\nHOUR_APPR_PROCESS_START            0\nNAME_CONTRACT_TYPE                 0\nNAME_TYPE_SUITE               137138\nWEEKDAY_APPR_PROCESS_START         0\ndtype: int64"
     },
     "execution_count": 54,
     "metadata": {},
     "output_type": "execute_result"
    }
   ],
   "source": [
    "previous_application.loc[:,common_col].isnull().sum()"
   ],
   "metadata": {
    "collapsed": false,
    "ExecuteTime": {
     "end_time": "2024-01-02T02:07:39.425111Z",
     "start_time": "2024-01-02T02:07:39.260147900Z"
    }
   },
   "id": "80170986aa73ebd3"
  },
  {
   "cell_type": "code",
   "execution_count": 55,
   "outputs": [],
   "source": [
    "# encode the categorical variable\n",
    "application['NAME_TYPE_SUITE'] = application['NAME_TYPE_SUITE'].map(\n",
    "    {'Unaccompanied': 0, 'Family': 1, 'Spouse, partner': 2, 'Children': 3, 'Other_B': 4, 'Other_A': 5, 'Group of people': 6})\n",
    "previous_application['NAME_TYPE_SUITE'] = previous_application['NAME_TYPE_SUITE'].map(\n",
    "    {'Unaccompanied': 0, 'Family': 1, 'Spouse, partner': 2, 'Children': 3, 'Other_B': 4, 'Other_A': 5, 'Group of people': 6})"
   ],
   "metadata": {
    "collapsed": false,
    "ExecuteTime": {
     "end_time": "2024-01-02T02:07:39.508108900Z",
     "start_time": "2024-01-02T02:07:39.421111200Z"
    }
   },
   "id": "6fb96168fae39280"
  },
  {
   "cell_type": "code",
   "execution_count": 56,
   "outputs": [],
   "source": [
    "application['WEEKDAY_APPR_PROCESS_START'] = application['WEEKDAY_APPR_PROCESS_START'].map(\n",
    "    {'MONDAY': 0, 'TUESDAY': 1, 'WEDNESDAY': 2, 'THURSDAY': 3, 'FRIDAY': 4, 'SATURDAY': 5, 'SUNDAY': 6})\n",
    "previous_application['WEEKDAY_APPR_PROCESS_START'] = previous_application['WEEKDAY_APPR_PROCESS_START'].map(\n",
    "    {'MONDAY': 0, 'TUESDAY': 1, 'WEDNESDAY': 2, 'THURSDAY': 3, 'FRIDAY': 4, 'SATURDAY': 5, 'SUNDAY': 6})"
   ],
   "metadata": {
    "collapsed": false,
    "ExecuteTime": {
     "end_time": "2024-01-02T02:07:39.589140200Z",
     "start_time": "2024-01-02T02:07:39.521122Z"
    }
   },
   "id": "4177b61f18aca79f"
  },
  {
   "cell_type": "code",
   "execution_count": 57,
   "outputs": [],
   "source": [
    "# fill na with mean\n",
    "application['AMT_ANNUITY'].fillna(application['AMT_ANNUITY'].mean(), inplace=True)\n",
    "application['AMT_GOODS_PRICE'].fillna(application['AMT_GOODS_PRICE'].mean(), inplace=True)\n",
    "application['NAME_TYPE_SUITE'].fillna(application['NAME_TYPE_SUITE'].mean(), inplace=True)"
   ],
   "metadata": {
    "collapsed": false,
    "ExecuteTime": {
     "end_time": "2024-01-02T02:07:39.625157900Z",
     "start_time": "2024-01-02T02:07:39.566108400Z"
    }
   },
   "id": "879450ad0463ca1a"
  },
  {
   "cell_type": "code",
   "execution_count": 58,
   "outputs": [],
   "source": [
    "previous_application['AMT_GOODS_PRICE'].fillna(previous_application['AMT_GOODS_PRICE'].mean(), inplace=True)\n",
    "previous_application['NAME_TYPE_SUITE'].fillna(previous_application['NAME_TYPE_SUITE'].mean(), inplace=True)"
   ],
   "metadata": {
    "collapsed": false,
    "ExecuteTime": {
     "end_time": "2024-01-02T02:07:39.657153Z",
     "start_time": "2024-01-02T02:07:39.595145500Z"
    }
   },
   "id": "643e6742ea75157f"
  },
  {
   "cell_type": "code",
   "execution_count": 59,
   "outputs": [],
   "source": [
    "# remove NAME_CONTRACT_TYPE from common_col\n",
    "common_col = np.delete(common_col,np.where(common_col=='NAME_CONTRACT_TYPE'))"
   ],
   "metadata": {
    "collapsed": false,
    "ExecuteTime": {
     "end_time": "2024-01-02T02:07:39.659109100Z",
     "start_time": "2024-01-02T02:07:39.629110300Z"
    }
   },
   "id": "cbe5446ff6a73a88"
  },
  {
   "cell_type": "code",
   "execution_count": 60,
   "outputs": [],
   "source": [
    "from sklearn.preprocessing import MinMaxScaler\n",
    "scaler = MinMaxScaler(feature_range=(0, 1))\n",
    "application_character = scaler.fit_transform(application.loc[:,common_col])\n",
    "previous_application_character = scaler.transform(previous_application.loc[:,common_col])"
   ],
   "metadata": {
    "collapsed": false,
    "ExecuteTime": {
     "end_time": "2024-01-02T02:07:39.722109600Z",
     "start_time": "2024-01-02T02:07:39.645111200Z"
    }
   },
   "id": "40b60626ad253008"
  },
  {
   "cell_type": "code",
   "execution_count": 61,
   "outputs": [
    {
     "data": {
      "text/plain": "array([[0.09193524, 0.15846966, 0.14141414, 0.47826087, 0.        ,\n        0.5       ],\n       [0.05243647, 0.02283258, 0.01795735, 0.47826087, 0.33333333,\n        0.16666667],\n       [0.17716093, 0.10631461, 0.10213244, 0.30434783, 0.05945113,\n        0.        ],\n       ...,\n       [0.08066725, 0.09768202, 0.0684624 , 0.73913043, 0.        ,\n        0.5       ],\n       [0.06710355, 0.03667416, 0.03479237, 0.39130435, 0.16666667,\n        0.33333333],\n       [0.05778168, 0.07865169, 0.07968575, 0.43478261, 0.16666667,\n        1.        ]])"
     },
     "execution_count": 61,
     "metadata": {},
     "output_type": "execute_result"
    }
   ],
   "source": [
    "previous_application_character"
   ],
   "metadata": {
    "collapsed": false,
    "ExecuteTime": {
     "end_time": "2024-01-02T02:07:39.751110600Z",
     "start_time": "2024-01-02T02:07:39.723110700Z"
    }
   },
   "id": "2dbfc42318146f97"
  },
  {
   "cell_type": "code",
   "execution_count": 77,
   "outputs": [],
   "source": [
    "application_character = pd.DataFrame(application_character,columns=common_col,index=application.index)\n",
    "previous_application_character = pd.DataFrame(previous_application_character,columns=common_col,index=previous_application.index)"
   ],
   "metadata": {
    "collapsed": false,
    "ExecuteTime": {
     "end_time": "2024-01-02T02:15:01.026377600Z",
     "start_time": "2024-01-02T02:15:00.974357300Z"
    }
   },
   "id": "f525f609409c1224"
  },
  {
   "cell_type": "code",
   "execution_count": 78,
   "outputs": [],
   "source": [
    "application_character['Distance'] = application_character.sum(axis=1)\n",
    "previous_application_character['Distance'] = previous_application_character.sum(axis=1)"
   ],
   "metadata": {
    "collapsed": false,
    "ExecuteTime": {
     "end_time": "2024-01-02T02:15:01.546841500Z",
     "start_time": "2024-01-02T02:15:01.502658700Z"
    }
   },
   "id": "3edcc0e8f1afd780"
  },
  {
   "cell_type": "code",
   "execution_count": 79,
   "outputs": [],
   "source": [
    "application_character['TARGET']=application['TARGET']\n",
    "application_character['NAME_CONTRACT_TYPE']=application['NAME_CONTRACT_TYPE']"
   ],
   "metadata": {
    "collapsed": false,
    "ExecuteTime": {
     "end_time": "2024-01-02T02:15:01.946962300Z",
     "start_time": "2024-01-02T02:15:01.896963100Z"
    }
   },
   "id": "b2cfd0ad6c3ee69a"
  },
  {
   "cell_type": "code",
   "execution_count": 80,
   "outputs": [
    {
     "data": {
      "text/plain": "            AMT_ANNUITY  AMT_CREDIT  AMT_GOODS_PRICE  HOUR_APPR_PROCESS_START  \\\nSK_ID_CURR                                                                      \n100002         0.090032    0.090287         0.077441                 0.434783   \n100003         0.132924    0.311736         0.271605                 0.478261   \n100004         0.020025    0.022472         0.023569                 0.391304   \n100006         0.109477    0.066837         0.063973                 0.739130   \n100007         0.078975    0.116854         0.117845                 0.478261   \n...                 ...         ...              ...                      ...   \n456251         0.101176    0.052360         0.046016                 0.652174   \n456252         0.040505    0.056067         0.046016                 0.347826   \n456253         0.110618    0.157969         0.135802                 0.391304   \n456254         0.072499    0.081175         0.069585                 0.391304   \n456255         0.185258    0.157303         0.158249                 0.869565   \n\n            NAME_TYPE_SUITE  WEEKDAY_APPR_PROCESS_START  Distance  TARGET  \\\nSK_ID_CURR                                                                  \n100002             0.000000                    0.333333  1.025875       1   \n100003             0.166667                    0.000000  1.361192       0   \n100004             0.000000                    0.000000  0.457370       0   \n100006             0.000000                    0.333333  1.312751       0   \n100007             0.000000                    0.500000  1.291935       0   \n...                     ...                         ...       ...     ...   \n456251             0.000000                    0.500000  1.351725       0   \n456252             0.000000                    0.000000  0.490415       0   \n456253             0.000000                    0.500000  1.295693       0   \n456254             0.000000                    0.333333  0.947897       1   \n456255             0.000000                    0.500000  1.870376       0   \n\n           NAME_CONTRACT_TYPE  \nSK_ID_CURR                     \n100002             Cash loans  \n100003             Cash loans  \n100004        Revolving loans  \n100006             Cash loans  \n100007             Cash loans  \n...                       ...  \n456251             Cash loans  \n456252             Cash loans  \n456253             Cash loans  \n456254             Cash loans  \n456255             Cash loans  \n\n[307511 rows x 9 columns]",
      "text/html": "<div>\n<style scoped>\n    .dataframe tbody tr th:only-of-type {\n        vertical-align: middle;\n    }\n\n    .dataframe tbody tr th {\n        vertical-align: top;\n    }\n\n    .dataframe thead th {\n        text-align: right;\n    }\n</style>\n<table border=\"1\" class=\"dataframe\">\n  <thead>\n    <tr style=\"text-align: right;\">\n      <th></th>\n      <th>AMT_ANNUITY</th>\n      <th>AMT_CREDIT</th>\n      <th>AMT_GOODS_PRICE</th>\n      <th>HOUR_APPR_PROCESS_START</th>\n      <th>NAME_TYPE_SUITE</th>\n      <th>WEEKDAY_APPR_PROCESS_START</th>\n      <th>Distance</th>\n      <th>TARGET</th>\n      <th>NAME_CONTRACT_TYPE</th>\n    </tr>\n    <tr>\n      <th>SK_ID_CURR</th>\n      <th></th>\n      <th></th>\n      <th></th>\n      <th></th>\n      <th></th>\n      <th></th>\n      <th></th>\n      <th></th>\n      <th></th>\n    </tr>\n  </thead>\n  <tbody>\n    <tr>\n      <th>100002</th>\n      <td>0.090032</td>\n      <td>0.090287</td>\n      <td>0.077441</td>\n      <td>0.434783</td>\n      <td>0.000000</td>\n      <td>0.333333</td>\n      <td>1.025875</td>\n      <td>1</td>\n      <td>Cash loans</td>\n    </tr>\n    <tr>\n      <th>100003</th>\n      <td>0.132924</td>\n      <td>0.311736</td>\n      <td>0.271605</td>\n      <td>0.478261</td>\n      <td>0.166667</td>\n      <td>0.000000</td>\n      <td>1.361192</td>\n      <td>0</td>\n      <td>Cash loans</td>\n    </tr>\n    <tr>\n      <th>100004</th>\n      <td>0.020025</td>\n      <td>0.022472</td>\n      <td>0.023569</td>\n      <td>0.391304</td>\n      <td>0.000000</td>\n      <td>0.000000</td>\n      <td>0.457370</td>\n      <td>0</td>\n      <td>Revolving loans</td>\n    </tr>\n    <tr>\n      <th>100006</th>\n      <td>0.109477</td>\n      <td>0.066837</td>\n      <td>0.063973</td>\n      <td>0.739130</td>\n      <td>0.000000</td>\n      <td>0.333333</td>\n      <td>1.312751</td>\n      <td>0</td>\n      <td>Cash loans</td>\n    </tr>\n    <tr>\n      <th>100007</th>\n      <td>0.078975</td>\n      <td>0.116854</td>\n      <td>0.117845</td>\n      <td>0.478261</td>\n      <td>0.000000</td>\n      <td>0.500000</td>\n      <td>1.291935</td>\n      <td>0</td>\n      <td>Cash loans</td>\n    </tr>\n    <tr>\n      <th>...</th>\n      <td>...</td>\n      <td>...</td>\n      <td>...</td>\n      <td>...</td>\n      <td>...</td>\n      <td>...</td>\n      <td>...</td>\n      <td>...</td>\n      <td>...</td>\n    </tr>\n    <tr>\n      <th>456251</th>\n      <td>0.101176</td>\n      <td>0.052360</td>\n      <td>0.046016</td>\n      <td>0.652174</td>\n      <td>0.000000</td>\n      <td>0.500000</td>\n      <td>1.351725</td>\n      <td>0</td>\n      <td>Cash loans</td>\n    </tr>\n    <tr>\n      <th>456252</th>\n      <td>0.040505</td>\n      <td>0.056067</td>\n      <td>0.046016</td>\n      <td>0.347826</td>\n      <td>0.000000</td>\n      <td>0.000000</td>\n      <td>0.490415</td>\n      <td>0</td>\n      <td>Cash loans</td>\n    </tr>\n    <tr>\n      <th>456253</th>\n      <td>0.110618</td>\n      <td>0.157969</td>\n      <td>0.135802</td>\n      <td>0.391304</td>\n      <td>0.000000</td>\n      <td>0.500000</td>\n      <td>1.295693</td>\n      <td>0</td>\n      <td>Cash loans</td>\n    </tr>\n    <tr>\n      <th>456254</th>\n      <td>0.072499</td>\n      <td>0.081175</td>\n      <td>0.069585</td>\n      <td>0.391304</td>\n      <td>0.000000</td>\n      <td>0.333333</td>\n      <td>0.947897</td>\n      <td>1</td>\n      <td>Cash loans</td>\n    </tr>\n    <tr>\n      <th>456255</th>\n      <td>0.185258</td>\n      <td>0.157303</td>\n      <td>0.158249</td>\n      <td>0.869565</td>\n      <td>0.000000</td>\n      <td>0.500000</td>\n      <td>1.870376</td>\n      <td>0</td>\n      <td>Cash loans</td>\n    </tr>\n  </tbody>\n</table>\n<p>307511 rows × 9 columns</p>\n</div>"
     },
     "execution_count": 80,
     "metadata": {},
     "output_type": "execute_result"
    }
   ],
   "source": [
    "application_character"
   ],
   "metadata": {
    "collapsed": false,
    "ExecuteTime": {
     "end_time": "2024-01-02T02:15:02.511084800Z",
     "start_time": "2024-01-02T02:15:02.404055Z"
    }
   },
   "id": "18fd4114de4e490d"
  },
  {
   "cell_type": "code",
   "execution_count": 81,
   "outputs": [
    {
     "data": {
      "text/plain": "            AMT_ANNUITY  AMT_CREDIT  AMT_GOODS_PRICE  HOUR_APPR_PROCESS_START  \\\nSK_ID_PREV                                                                      \n2802425        0.091935    0.158470         0.141414                 0.478261   \n2523466        0.052436    0.022833         0.017957                 0.478261   \n2819243        0.177161    0.106315         0.102132                 0.304348   \n1383531        0.086145    0.073801         0.068462                 0.347826   \n1715995        0.038037    0.072598         0.057239                 0.304348   \n...                 ...         ...              ...                      ...   \n1024416        0.023250    0.016746         0.014590                 0.608696   \n2459206        0.069365    0.049672         0.034792                 0.565217   \n1556789        0.080667    0.097682         0.068462                 0.739130   \n2785582        0.067104    0.036674         0.034792                 0.391304   \n2418762        0.057782    0.078652         0.079686                 0.434783   \n\n            NAME_TYPE_SUITE  WEEKDAY_APPR_PROCESS_START  Distance  \nSK_ID_PREV                                                         \n2802425            0.000000                    0.500000  1.370080  \n2523466            0.333333                    0.166667  1.071487  \n2819243            0.059451                    0.000000  0.749407  \n1383531            0.166667                    0.833333  1.576235  \n1715995            0.000000                    0.666667  1.138889  \n...                     ...                         ...       ...  \n1024416            0.059451                    0.666667  1.389399  \n2459206            0.000000                    0.166667  0.885714  \n1556789            0.000000                    0.500000  1.485942  \n2785582            0.166667                    0.333333  1.029874  \n2418762            0.166667                    1.000000  1.817568  \n\n[350885 rows x 7 columns]",
      "text/html": "<div>\n<style scoped>\n    .dataframe tbody tr th:only-of-type {\n        vertical-align: middle;\n    }\n\n    .dataframe tbody tr th {\n        vertical-align: top;\n    }\n\n    .dataframe thead th {\n        text-align: right;\n    }\n</style>\n<table border=\"1\" class=\"dataframe\">\n  <thead>\n    <tr style=\"text-align: right;\">\n      <th></th>\n      <th>AMT_ANNUITY</th>\n      <th>AMT_CREDIT</th>\n      <th>AMT_GOODS_PRICE</th>\n      <th>HOUR_APPR_PROCESS_START</th>\n      <th>NAME_TYPE_SUITE</th>\n      <th>WEEKDAY_APPR_PROCESS_START</th>\n      <th>Distance</th>\n    </tr>\n    <tr>\n      <th>SK_ID_PREV</th>\n      <th></th>\n      <th></th>\n      <th></th>\n      <th></th>\n      <th></th>\n      <th></th>\n      <th></th>\n    </tr>\n  </thead>\n  <tbody>\n    <tr>\n      <th>2802425</th>\n      <td>0.091935</td>\n      <td>0.158470</td>\n      <td>0.141414</td>\n      <td>0.478261</td>\n      <td>0.000000</td>\n      <td>0.500000</td>\n      <td>1.370080</td>\n    </tr>\n    <tr>\n      <th>2523466</th>\n      <td>0.052436</td>\n      <td>0.022833</td>\n      <td>0.017957</td>\n      <td>0.478261</td>\n      <td>0.333333</td>\n      <td>0.166667</td>\n      <td>1.071487</td>\n    </tr>\n    <tr>\n      <th>2819243</th>\n      <td>0.177161</td>\n      <td>0.106315</td>\n      <td>0.102132</td>\n      <td>0.304348</td>\n      <td>0.059451</td>\n      <td>0.000000</td>\n      <td>0.749407</td>\n    </tr>\n    <tr>\n      <th>1383531</th>\n      <td>0.086145</td>\n      <td>0.073801</td>\n      <td>0.068462</td>\n      <td>0.347826</td>\n      <td>0.166667</td>\n      <td>0.833333</td>\n      <td>1.576235</td>\n    </tr>\n    <tr>\n      <th>1715995</th>\n      <td>0.038037</td>\n      <td>0.072598</td>\n      <td>0.057239</td>\n      <td>0.304348</td>\n      <td>0.000000</td>\n      <td>0.666667</td>\n      <td>1.138889</td>\n    </tr>\n    <tr>\n      <th>...</th>\n      <td>...</td>\n      <td>...</td>\n      <td>...</td>\n      <td>...</td>\n      <td>...</td>\n      <td>...</td>\n      <td>...</td>\n    </tr>\n    <tr>\n      <th>1024416</th>\n      <td>0.023250</td>\n      <td>0.016746</td>\n      <td>0.014590</td>\n      <td>0.608696</td>\n      <td>0.059451</td>\n      <td>0.666667</td>\n      <td>1.389399</td>\n    </tr>\n    <tr>\n      <th>2459206</th>\n      <td>0.069365</td>\n      <td>0.049672</td>\n      <td>0.034792</td>\n      <td>0.565217</td>\n      <td>0.000000</td>\n      <td>0.166667</td>\n      <td>0.885714</td>\n    </tr>\n    <tr>\n      <th>1556789</th>\n      <td>0.080667</td>\n      <td>0.097682</td>\n      <td>0.068462</td>\n      <td>0.739130</td>\n      <td>0.000000</td>\n      <td>0.500000</td>\n      <td>1.485942</td>\n    </tr>\n    <tr>\n      <th>2785582</th>\n      <td>0.067104</td>\n      <td>0.036674</td>\n      <td>0.034792</td>\n      <td>0.391304</td>\n      <td>0.166667</td>\n      <td>0.333333</td>\n      <td>1.029874</td>\n    </tr>\n    <tr>\n      <th>2418762</th>\n      <td>0.057782</td>\n      <td>0.078652</td>\n      <td>0.079686</td>\n      <td>0.434783</td>\n      <td>0.166667</td>\n      <td>1.000000</td>\n      <td>1.817568</td>\n    </tr>\n  </tbody>\n</table>\n<p>350885 rows × 7 columns</p>\n</div>"
     },
     "execution_count": 81,
     "metadata": {},
     "output_type": "execute_result"
    }
   ],
   "source": [
    "previous_application_character"
   ],
   "metadata": {
    "collapsed": false,
    "ExecuteTime": {
     "end_time": "2024-01-02T02:15:07.908933200Z",
     "start_time": "2024-01-02T02:15:07.874658600Z"
    }
   },
   "id": "f9f71b5fdc1d2949"
  },
  {
   "cell_type": "code",
   "execution_count": 93,
   "outputs": [],
   "source": [
    "def closest_prev_application_profit(x,n=3):\n",
    "    if x['NAME_CONTRACT_TYPE']=='Cash loans':\n",
    "        if x['TARGET']==1:\n",
    "            closest_id = abs(previous_application_character.loc[cash_default,'Distance']-x['Distance']).sort_values(ascending=True)[:n].index\n",
    "        else:\n",
    "            closest_id = abs(previous_application_character.loc[cash_non_default,'Distance']-x['Distance']).sort_values(ascending=True)[:n].index\n",
    "        return aggregated_cash_installment.loc[closest_id]['LOAN_PROFIT'].mean()\n",
    "    else:\n",
    "        if x['TARGET']==1:\n",
    "            closest_id = abs(previous_application_character.loc[revolving_default,'Distance']-x['Distance']).sort_values(ascending=True)[:n].index\n",
    "        else:\n",
    "            closest_id = abs(previous_application_character.loc[revolving_non_default,'Distance']-x['Distance']).sort_values(ascending=True)[:n].index\n",
    "        return aggregated_revolving_loan_installment.loc[closest_id]['LOAN_PROFIT'].mean()"
   ],
   "metadata": {
    "collapsed": false,
    "ExecuteTime": {
     "end_time": "2024-01-02T02:21:53.393692300Z",
     "start_time": "2024-01-02T02:21:53.356686400Z"
    }
   },
   "id": "752ba53dd69e3b12"
  },
  {
   "cell_type": "code",
   "execution_count": 97,
   "outputs": [],
   "source": [
    "application_character['CLOSEST_PREVIOUS_LOAN_PROFIT']=application_character.apply(closest_prev_application_profit,axis=1)"
   ],
   "metadata": {
    "collapsed": false,
    "ExecuteTime": {
     "end_time": "2024-01-02T06:39:18.857896800Z",
     "start_time": "2024-01-02T02:29:14.842411Z"
    }
   },
   "id": "fd567c41e29949cf"
  },
  {
   "cell_type": "code",
   "execution_count": 98,
   "outputs": [
    {
     "data": {
      "text/plain": "<AxesSubplot: >"
     },
     "execution_count": 98,
     "metadata": {},
     "output_type": "execute_result"
    },
    {
     "data": {
      "text/plain": "<Figure size 640x480 with 1 Axes>",
      "image/png": "[encoded data removed]"
     },
     "metadata": {},
     "output_type": "display_data"
    }
   ],
   "source": [
    "application_character['CLOSEST_PREVIOUS_LOAN_PROFIT'].hist(bins=100)"
   ],
   "metadata": {
    "collapsed": false,
    "ExecuteTime": {
     "end_time": "2024-01-02T06:39:19.326011100Z",
     "start_time": "2024-01-02T06:39:18.860500400Z"
    }
   },
   "id": "a15bffd2f0d45d8e"
  },
  {
   "cell_type": "code",
   "execution_count": 99,
   "outputs": [],
   "source": [
    "# save\n",
    "application_character.to_csv('./src/application_character_with_pnl.csv')"
   ],
   "metadata": {
    "collapsed": false,
    "ExecuteTime": {
     "end_time": "2024-01-02T06:39:22.731088100Z",
     "start_time": "2024-01-02T06:39:19.316024700Z"
    }
   },
   "id": "551cd30316d4a3e2"
  },
  {
   "cell_type": "code",
   "execution_count": 100,
   "outputs": [
    {
     "data": {
      "text/plain": "AMT_ANNUITY                     0\nAMT_CREDIT                      0\nAMT_GOODS_PRICE                 0\nHOUR_APPR_PROCESS_START         0\nNAME_TYPE_SUITE                 0\nWEEKDAY_APPR_PROCESS_START      0\nDistance                        0\nTARGET                          0\nNAME_CONTRACT_TYPE              0\nCLOSEST_PREVIOUS_LOAN_PROFIT    0\ndtype: int64"
     },
     "execution_count": 100,
     "metadata": {},
     "output_type": "execute_result"
    }
   ],
   "source": [
    "application_character.isnull().sum()"
   ],
   "metadata": {
    "collapsed": false,
    "ExecuteTime": {
     "end_time": "2024-01-02T12:13:23.672531400Z",
     "start_time": "2024-01-02T12:13:23.582533900Z"
    }
   },
   "id": "e0fec2c26c8a6dcc"
  }
 ],
 "metadata": {
  "kernelspec": {
   "display_name": "Python 3",
   "language": "python",
   "name": "python3"
  },
  "language_info": {
   "codemirror_mode": {
    "name": "ipython",
    "version": 2
   },
   "file_extension": ".py",
   "mimetype": "text/x-python",
   "name": "python",
   "nbconvert_exporter": "python",
   "pygments_lexer": "ipython2",
   "version": "2.7.6"
  }
 },
 "nbformat": 4,
 "nbformat_minor": 5
}
