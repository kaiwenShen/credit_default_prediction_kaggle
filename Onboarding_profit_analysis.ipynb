{
 "cells": [
  {
   "cell_type": "markdown",
   "source": [
    "# Onboarding profit analysis\n",
    "preprocess for the previous application data: \n",
    "1. delete the ones that have XNA or consumer loan type of loan\n",
    "2. figuring out which have defaulted based on installment data\n",
    "3. calculate the default loss (some customers does have payback before default)\n"
   ],
   "metadata": {
    "collapsed": false
   },
   "id": "f39a738681c98993"
  },
  {
   "cell_type": "code",
   "execution_count": 1,
   "outputs": [],
   "source": [
    "import pandas as pd\n",
    "import numpy as np"
   ],
   "metadata": {
    "collapsed": false,
    "ExecuteTime": {
     "end_time": "2023-12-31T12:29:28.157163900Z",
     "start_time": "2023-12-31T12:29:28.132164700Z"
    }
   },
   "id": "b3053e2a324a177b"
  },
  {
   "cell_type": "code",
   "execution_count": 2,
   "id": "initial_id",
   "metadata": {
    "collapsed": true,
    "ExecuteTime": {
     "end_time": "2023-12-31T12:29:37.373503500Z",
     "start_time": "2023-12-31T12:29:28.146164Z"
    }
   },
   "outputs": [],
   "source": [
    "previous_application = pd.read_csv('./src/previous_application.csv')\n",
    "application = pd.read_csv('./src/application_train.csv')"
   ]
  },
  {
   "cell_type": "code",
   "execution_count": 3,
   "outputs": [
    {
     "data": {
      "text/plain": "Cash loans         747553\nConsumer loans     729151\nRevolving loans    193164\nXNA                   346\nName: NAME_CONTRACT_TYPE, dtype: int64"
     },
     "execution_count": 3,
     "metadata": {},
     "output_type": "execute_result"
    }
   ],
   "source": [
    "previous_application['NAME_CONTRACT_TYPE'].value_counts()  # we drop xna and change consumer loan to cash loan"
   ],
   "metadata": {
    "collapsed": false,
    "ExecuteTime": {
     "end_time": "2023-12-31T12:29:37.504386500Z",
     "start_time": "2023-12-31T12:29:37.377499100Z"
    }
   },
   "id": "19d805e2384f1c2c"
  },
  {
   "cell_type": "code",
   "execution_count": 4,
   "outputs": [
    {
     "data": {
      "text/plain": "Cash loans         278232\nRevolving loans     29279\nName: NAME_CONTRACT_TYPE, dtype: int64"
     },
     "execution_count": 4,
     "metadata": {},
     "output_type": "execute_result"
    }
   ],
   "source": [
    "application[\n",
    "    'NAME_CONTRACT_TYPE'].value_counts()  # the application we care about only contains cash loan and revolving loan"
   ],
   "metadata": {
    "collapsed": false,
    "ExecuteTime": {
     "end_time": "2023-12-31T12:29:37.602027900Z",
     "start_time": "2023-12-31T12:29:37.572030300Z"
    }
   },
   "id": "cbfa77fefd1687c"
  },
  {
   "cell_type": "code",
   "execution_count": 5,
   "outputs": [],
   "source": [
    "previous_application = previous_application[\n",
    "    previous_application['NAME_CONTRACT_TYPE'].isin(['Cash loans', 'Revolving loans'])]"
   ],
   "metadata": {
    "collapsed": false,
    "ExecuteTime": {
     "end_time": "2023-12-31T12:29:37.923531800Z",
     "start_time": "2023-12-31T12:29:37.585037600Z"
    }
   },
   "id": "794aef01fd715692"
  },
  {
   "cell_type": "code",
   "execution_count": 6,
   "outputs": [],
   "source": [
    "# get previd for cash and revolving loan seperately\n",
    "cash_loan_prev_id = previous_application[(previous_application['NAME_CONTRACT_TYPE'] == 'Cash loans')&(previous_application['NAME_CONTRACT_STATUS']=='Approved')][\n",
    "    'SK_ID_PREV'].unique()\n",
    "revolving_loan_prev_id = previous_application[(previous_application['NAME_CONTRACT_TYPE'] == 'Revolving loans')&(previous_application['NAME_CONTRACT_STATUS']=='Approved')][\n",
    "    'SK_ID_PREV'].unique()"
   ],
   "metadata": {
    "collapsed": false,
    "ExecuteTime": {
     "end_time": "2023-12-31T12:29:38.386383100Z",
     "start_time": "2023-12-31T12:29:37.930534500Z"
    }
   },
   "id": "52d5f01741a56d7e"
  },
  {
   "cell_type": "markdown",
   "source": [
    "## 1. Process installment data"
   ],
   "metadata": {
    "collapsed": false
   },
   "id": "3dc743f3f1fcb8e6"
  },
  {
   "cell_type": "code",
   "execution_count": 7,
   "outputs": [],
   "source": [
    "installments_payments = pd.read_csv('./src/installments_payments.csv')\n",
    "installments_payments = installments_payments.groupby(['SK_ID_PREV', 'NUM_INSTALMENT_NUMBER']).agg(\n",
    "    {'DAYS_INSTALMENT': 'first', 'DAYS_ENTRY_PAYMENT': 'last', 'AMT_INSTALMENT': 'first',\n",
    "     'AMT_PAYMENT': 'sum'}).reset_index()  # aggregate multiple payments for the same installment\n",
    "installments_payments['AMOUNT_NOT_PAID'] = (\n",
    "        installments_payments['AMT_INSTALMENT'] - installments_payments['AMT_PAYMENT']).apply(lambda\n",
    "                                                                                                  x: 0 if x < 1 else x)  # only when insurancce is at play, the amount paid can be larger than the amount due. less than 1 because float precision\n",
    "installments_payments['DAYS_DIFF'] = (\n",
    "        installments_payments['DAYS_ENTRY_PAYMENT'] - installments_payments['DAYS_INSTALMENT']).apply(\n",
    "    lambda x: 0 if x < 0 else x)  # there is no benefit for early repayment so we set it to 0"
   ],
   "metadata": {
    "collapsed": false,
    "ExecuteTime": {
     "end_time": "2023-12-31T12:30:10.180323200Z",
     "start_time": "2023-12-31T12:29:38.386383100Z"
    }
   },
   "id": "fdaab7316ec32759"
  },
  {
   "cell_type": "markdown",
   "source": [
    "## 2. Seperate cash and revolving loan"
   ],
   "metadata": {
    "collapsed": false
   },
   "id": "14e53b91cfa8f609"
  },
  {
   "cell_type": "code",
   "execution_count": 8,
   "outputs": [],
   "source": [
    "cash_installment = installments_payments[installments_payments['SK_ID_PREV'].isin(cash_loan_prev_id)].copy()\n",
    "revolving_loan_installment = installments_payments[\n",
    "    installments_payments['SK_ID_PREV'].isin(revolving_loan_prev_id)].copy()"
   ],
   "metadata": {
    "collapsed": false,
    "ExecuteTime": {
     "end_time": "2023-12-31T12:30:11.552310800Z",
     "start_time": "2023-12-31T12:30:10.182289800Z"
    }
   },
   "id": "b044d744853c0654"
  },
  {
   "cell_type": "code",
   "execution_count": 9,
   "outputs": [
    {
     "data": {
      "text/plain": "          SK_ID_PREV  NUM_INSTALMENT_NUMBER  DAYS_INSTALMENT  \\\n122930       1010608                     29             -3.0   \n159151       1016839                     29            -76.0   \n159152       1016839                     30            -46.0   \n159153       1016839                     31            -16.0   \n248002       1030134                     19             -5.0   \n...              ...                    ...              ...   \n12828162     2837223                    101            -13.0   \n12852630     2842600                      1            -87.0   \n12852631     2842600                      2            -57.0   \n12852632     2842600                      3            -27.0   \n12857529     2843129                     16            -17.0   \n\n          DAYS_ENTRY_PAYMENT  AMT_INSTALMENT  AMT_PAYMENT  AMOUNT_NOT_PAID  \\\n122930                   NaN       26327.970          0.0        26327.970   \n159151                   NaN       45686.655          0.0        45686.655   \n159152                   NaN       45686.655          0.0        45686.655   \n159153                   NaN       45686.655          0.0        45686.655   \n248002                   NaN        4282.020          0.0         4282.020   \n...                      ...             ...          ...              ...   \n12828162                 NaN         116.550          0.0          116.550   \n12852630                 NaN       20538.765          0.0        20538.765   \n12852631                 NaN       20538.765          0.0        20538.765   \n12852632                 NaN       20538.765          0.0        20538.765   \n12857529                 NaN       20247.660          0.0        20247.660   \n\n          DAYS_DIFF  \n122930          NaN  \n159151          NaN  \n159152          NaN  \n159153          NaN  \n248002          NaN  \n...             ...  \n12828162        NaN  \n12852630        NaN  \n12852631        NaN  \n12852632        NaN  \n12857529        NaN  \n\n[837 rows x 8 columns]",
      "text/html": "<div>\n<style scoped>\n    .dataframe tbody tr th:only-of-type {\n        vertical-align: middle;\n    }\n\n    .dataframe tbody tr th {\n        vertical-align: top;\n    }\n\n    .dataframe thead th {\n        text-align: right;\n    }\n</style>\n<table border=\"1\" class=\"dataframe\">\n  <thead>\n    <tr style=\"text-align: right;\">\n      <th></th>\n      <th>SK_ID_PREV</th>\n      <th>NUM_INSTALMENT_NUMBER</th>\n      <th>DAYS_INSTALMENT</th>\n      <th>DAYS_ENTRY_PAYMENT</th>\n      <th>AMT_INSTALMENT</th>\n      <th>AMT_PAYMENT</th>\n      <th>AMOUNT_NOT_PAID</th>\n      <th>DAYS_DIFF</th>\n    </tr>\n  </thead>\n  <tbody>\n    <tr>\n      <th>122930</th>\n      <td>1010608</td>\n      <td>29</td>\n      <td>-3.0</td>\n      <td>NaN</td>\n      <td>26327.970</td>\n      <td>0.0</td>\n      <td>26327.970</td>\n      <td>NaN</td>\n    </tr>\n    <tr>\n      <th>159151</th>\n      <td>1016839</td>\n      <td>29</td>\n      <td>-76.0</td>\n      <td>NaN</td>\n      <td>45686.655</td>\n      <td>0.0</td>\n      <td>45686.655</td>\n      <td>NaN</td>\n    </tr>\n    <tr>\n      <th>159152</th>\n      <td>1016839</td>\n      <td>30</td>\n      <td>-46.0</td>\n      <td>NaN</td>\n      <td>45686.655</td>\n      <td>0.0</td>\n      <td>45686.655</td>\n      <td>NaN</td>\n    </tr>\n    <tr>\n      <th>159153</th>\n      <td>1016839</td>\n      <td>31</td>\n      <td>-16.0</td>\n      <td>NaN</td>\n      <td>45686.655</td>\n      <td>0.0</td>\n      <td>45686.655</td>\n      <td>NaN</td>\n    </tr>\n    <tr>\n      <th>248002</th>\n      <td>1030134</td>\n      <td>19</td>\n      <td>-5.0</td>\n      <td>NaN</td>\n      <td>4282.020</td>\n      <td>0.0</td>\n      <td>4282.020</td>\n      <td>NaN</td>\n    </tr>\n    <tr>\n      <th>...</th>\n      <td>...</td>\n      <td>...</td>\n      <td>...</td>\n      <td>...</td>\n      <td>...</td>\n      <td>...</td>\n      <td>...</td>\n      <td>...</td>\n    </tr>\n    <tr>\n      <th>12828162</th>\n      <td>2837223</td>\n      <td>101</td>\n      <td>-13.0</td>\n      <td>NaN</td>\n      <td>116.550</td>\n      <td>0.0</td>\n      <td>116.550</td>\n      <td>NaN</td>\n    </tr>\n    <tr>\n      <th>12852630</th>\n      <td>2842600</td>\n      <td>1</td>\n      <td>-87.0</td>\n      <td>NaN</td>\n      <td>20538.765</td>\n      <td>0.0</td>\n      <td>20538.765</td>\n      <td>NaN</td>\n    </tr>\n    <tr>\n      <th>12852631</th>\n      <td>2842600</td>\n      <td>2</td>\n      <td>-57.0</td>\n      <td>NaN</td>\n      <td>20538.765</td>\n      <td>0.0</td>\n      <td>20538.765</td>\n      <td>NaN</td>\n    </tr>\n    <tr>\n      <th>12852632</th>\n      <td>2842600</td>\n      <td>3</td>\n      <td>-27.0</td>\n      <td>NaN</td>\n      <td>20538.765</td>\n      <td>0.0</td>\n      <td>20538.765</td>\n      <td>NaN</td>\n    </tr>\n    <tr>\n      <th>12857529</th>\n      <td>2843129</td>\n      <td>16</td>\n      <td>-17.0</td>\n      <td>NaN</td>\n      <td>20247.660</td>\n      <td>0.0</td>\n      <td>20247.660</td>\n      <td>NaN</td>\n    </tr>\n  </tbody>\n</table>\n<p>837 rows × 8 columns</p>\n</div>"
     },
     "execution_count": 9,
     "metadata": {},
     "output_type": "execute_result"
    }
   ],
   "source": [
    "cash_installment[cash_installment['AMT_PAYMENT'] == 0]"
   ],
   "metadata": {
    "collapsed": false,
    "ExecuteTime": {
     "end_time": "2023-12-31T12:30:11.617313700Z",
     "start_time": "2023-12-31T12:30:11.557314400Z"
    }
   },
   "id": "68fc350e5ebaec8"
  },
  {
   "cell_type": "markdown",
   "source": [
    "## 3. Cash loan"
   ],
   "metadata": {
    "collapsed": false
   },
   "id": "fa961b6f9c7a76b7"
  },
  {
   "cell_type": "code",
   "execution_count": 10,
   "outputs": [],
   "source": [
    "cash_installment['DAYS_DIFF'] = cash_installment.apply(\n",
    "    lambda x: x['DAYS_DIFF'] if x['AMOUNT_NOT_PAID'] < 1 else min(abs(x['DAYS_INSTALMENT']), abs(previous_application[previous_application['SK_ID_PREV'] == x['SK_ID_PREV']]['DAYS_LAST_DUE_1ST_VERSION'].values[0])), axis=1)  # if not payed in full, we count as delayed payment until now.\n",
    "\n",
    "\n",
    "def cal_amount_delayed_payment(x):\n",
    "    if x['DAYS_DIFF'] > 0:\n",
    "        if x['AMOUNT_NOT_PAID'] < 1:\n",
    "            return x['AMT_INSTALMENT']  # client paid in full but delayed\n",
    "    return 0  # 2 possible situation: 1. day diff>0 and amount not paid>0.1, accounted by the amount not paid. 2. day diff<=0, no delayed payment\n",
    "\n",
    "\n",
    "cash_installment['AMOUNT_DELAYED_PAYMENT'] = cash_installment.apply(cal_amount_delayed_payment, axis=1)"
   ],
   "metadata": {
    "collapsed": false,
    "ExecuteTime": {
     "end_time": "2023-12-31T12:31:22.410435400Z",
     "start_time": "2023-12-31T12:30:11.602314800Z"
    }
   },
   "id": "c35bc9f3d418fb6"
  },
  {
   "cell_type": "code",
   "execution_count": 11,
   "outputs": [
    {
     "data": {
      "text/plain": "2.7261552008939205e-05"
     },
     "execution_count": 11,
     "metadata": {},
     "output_type": "execute_result"
    }
   ],
   "source": [
    "# assume 1% annual interest rate since the data is many years ago\n",
    "annual_interest_rate = 0.01\n",
    "# convert to daily interest rate\n",
    "daily_interest_rate = (1 + annual_interest_rate) ** (1 / 365) - 1\n",
    "daily_interest_rate"
   ],
   "metadata": {
    "collapsed": false,
    "ExecuteTime": {
     "end_time": "2023-12-31T12:31:22.437435200Z",
     "start_time": "2023-12-31T12:31:22.411436Z"
    }
   },
   "id": "d8e7766154d7ea40"
  },
  {
   "cell_type": "code",
   "execution_count": 12,
   "outputs": [
    {
     "data": {
      "text/plain": "          SK_ID_PREV  NUM_INSTALMENT_NUMBER  DAYS_INSTALMENT  \\\n46           1000010                      1           -558.0   \n47           1000010                      2           -528.0   \n48           1000010                      3           -498.0   \n49           1000010                      4           -468.0   \n50           1000010                      5           -438.0   \n...              ...                    ...              ...   \n12861989     2843499                      6          -1053.0   \n12861990     2843499                      7          -1023.0   \n12861991     2843499                      8           -993.0   \n12861992     2843499                      9           -963.0   \n12861993     2843499                     10           -933.0   \n\n          DAYS_ENTRY_PAYMENT  AMT_INSTALMENT  AMT_PAYMENT  AMOUNT_NOT_PAID  \\\n46                    -568.0        74682.00     74682.00              0.0   \n47                    -528.0        74682.00     74682.00              0.0   \n48                    -502.0        74682.00     74682.00              0.0   \n49                    -471.0        74682.00     74682.00              0.0   \n50                    -457.0        74682.00     74682.00              0.0   \n...                      ...             ...          ...              ...   \n12861989             -1074.0        16074.00     16074.00              0.0   \n12861990             -1047.0        16074.00     16074.00              0.0   \n12861991             -1018.0        16074.00     16074.00              0.0   \n12861992              -980.0        16074.00     16074.00              0.0   \n12861993              -952.0       433416.24    433416.24              0.0   \n\n          DAYS_DIFF  AMOUNT_DELAYED_PAYMENT  \n46              0.0                     0.0  \n47              0.0                     0.0  \n48              0.0                     0.0  \n49              0.0                     0.0  \n50              0.0                     0.0  \n...             ...                     ...  \n12861989        0.0                     0.0  \n12861990        0.0                     0.0  \n12861991        0.0                     0.0  \n12861992        0.0                     0.0  \n12861993        0.0                     0.0  \n\n[3436543 rows x 9 columns]",
      "text/html": "<div>\n<style scoped>\n    .dataframe tbody tr th:only-of-type {\n        vertical-align: middle;\n    }\n\n    .dataframe tbody tr th {\n        vertical-align: top;\n    }\n\n    .dataframe thead th {\n        text-align: right;\n    }\n</style>\n<table border=\"1\" class=\"dataframe\">\n  <thead>\n    <tr style=\"text-align: right;\">\n      <th></th>\n      <th>SK_ID_PREV</th>\n      <th>NUM_INSTALMENT_NUMBER</th>\n      <th>DAYS_INSTALMENT</th>\n      <th>DAYS_ENTRY_PAYMENT</th>\n      <th>AMT_INSTALMENT</th>\n      <th>AMT_PAYMENT</th>\n      <th>AMOUNT_NOT_PAID</th>\n      <th>DAYS_DIFF</th>\n      <th>AMOUNT_DELAYED_PAYMENT</th>\n    </tr>\n  </thead>\n  <tbody>\n    <tr>\n      <th>46</th>\n      <td>1000010</td>\n      <td>1</td>\n      <td>-558.0</td>\n      <td>-568.0</td>\n      <td>74682.00</td>\n      <td>74682.00</td>\n      <td>0.0</td>\n      <td>0.0</td>\n      <td>0.0</td>\n    </tr>\n    <tr>\n      <th>47</th>\n      <td>1000010</td>\n      <td>2</td>\n      <td>-528.0</td>\n      <td>-528.0</td>\n      <td>74682.00</td>\n      <td>74682.00</td>\n      <td>0.0</td>\n      <td>0.0</td>\n      <td>0.0</td>\n    </tr>\n    <tr>\n      <th>48</th>\n      <td>1000010</td>\n      <td>3</td>\n      <td>-498.0</td>\n      <td>-502.0</td>\n      <td>74682.00</td>\n      <td>74682.00</td>\n      <td>0.0</td>\n      <td>0.0</td>\n      <td>0.0</td>\n    </tr>\n    <tr>\n      <th>49</th>\n      <td>1000010</td>\n      <td>4</td>\n      <td>-468.0</td>\n      <td>-471.0</td>\n      <td>74682.00</td>\n      <td>74682.00</td>\n      <td>0.0</td>\n      <td>0.0</td>\n      <td>0.0</td>\n    </tr>\n    <tr>\n      <th>50</th>\n      <td>1000010</td>\n      <td>5</td>\n      <td>-438.0</td>\n      <td>-457.0</td>\n      <td>74682.00</td>\n      <td>74682.00</td>\n      <td>0.0</td>\n      <td>0.0</td>\n      <td>0.0</td>\n    </tr>\n    <tr>\n      <th>...</th>\n      <td>...</td>\n      <td>...</td>\n      <td>...</td>\n      <td>...</td>\n      <td>...</td>\n      <td>...</td>\n      <td>...</td>\n      <td>...</td>\n      <td>...</td>\n    </tr>\n    <tr>\n      <th>12861989</th>\n      <td>2843499</td>\n      <td>6</td>\n      <td>-1053.0</td>\n      <td>-1074.0</td>\n      <td>16074.00</td>\n      <td>16074.00</td>\n      <td>0.0</td>\n      <td>0.0</td>\n      <td>0.0</td>\n    </tr>\n    <tr>\n      <th>12861990</th>\n      <td>2843499</td>\n      <td>7</td>\n      <td>-1023.0</td>\n      <td>-1047.0</td>\n      <td>16074.00</td>\n      <td>16074.00</td>\n      <td>0.0</td>\n      <td>0.0</td>\n      <td>0.0</td>\n    </tr>\n    <tr>\n      <th>12861991</th>\n      <td>2843499</td>\n      <td>8</td>\n      <td>-993.0</td>\n      <td>-1018.0</td>\n      <td>16074.00</td>\n      <td>16074.00</td>\n      <td>0.0</td>\n      <td>0.0</td>\n      <td>0.0</td>\n    </tr>\n    <tr>\n      <th>12861992</th>\n      <td>2843499</td>\n      <td>9</td>\n      <td>-963.0</td>\n      <td>-980.0</td>\n      <td>16074.00</td>\n      <td>16074.00</td>\n      <td>0.0</td>\n      <td>0.0</td>\n      <td>0.0</td>\n    </tr>\n    <tr>\n      <th>12861993</th>\n      <td>2843499</td>\n      <td>10</td>\n      <td>-933.0</td>\n      <td>-952.0</td>\n      <td>433416.24</td>\n      <td>433416.24</td>\n      <td>0.0</td>\n      <td>0.0</td>\n      <td>0.0</td>\n    </tr>\n  </tbody>\n</table>\n<p>3436543 rows × 9 columns</p>\n</div>"
     },
     "execution_count": 12,
     "metadata": {},
     "output_type": "execute_result"
    }
   ],
   "source": [
    "cash_installment"
   ],
   "metadata": {
    "collapsed": false,
    "ExecuteTime": {
     "end_time": "2023-12-31T12:31:22.457945800Z",
     "start_time": "2023-12-31T12:31:22.428436100Z"
    }
   },
   "id": "7afc5604ff7e2971"
  },
  {
   "cell_type": "code",
   "execution_count": 15,
   "outputs": [],
   "source": [
    "def cal_past_loss(x):\n",
    "    discount = (1+daily_interest_rate)**abs(x['DAYS_INSTALMENT'])\n",
    "    loss_not_paid = (x['AMOUNT_NOT_PAID'] * (1 + daily_interest_rate) ** x['DAYS_DIFF'])/discount\n",
    "    loss_delayed_payment = (x['AMOUNT_DELAYED_PAYMENT'] * (1 + daily_interest_rate) ** x['DAYS_DIFF'] - x[\n",
    "        'AMOUNT_DELAYED_PAYMENT'])/discount\n",
    "    loss_delayed_payment = loss_delayed_payment.sum()\n",
    "    loss_not_paid = loss_not_paid.sum()\n",
    "    return -(loss_not_paid + loss_delayed_payment)\n",
    "\n",
    "\n",
    "def flag_default(x):\n",
    "    if x['AMOUNT_NOT_PAID'].sum() > 1:\n",
    "        return 1\n",
    "    return 0\n",
    "\n",
    "\n",
    "def flag_delayed(x):\n",
    "    if x['DAYS_DIFF'].any() > 15 and not flag_default(x):  # avg grace period is 15 days\n",
    "        return 1\n",
    "    return 0\n",
    "\n",
    "\n",
    "aggregated_cash_installment = pd.DataFrame()\n",
    "aggregated_cash_installment['PAST_LOSS_NPV'] = cash_installment.groupby('SK_ID_PREV').apply(cal_past_loss)  # pass loss net present value\n",
    "aggregated_cash_installment['DELAYED_FLAG'] = cash_installment.groupby('SK_ID_PREV').apply(flag_delayed)\n",
    "aggregated_cash_installment['DEFAULT_FLAG'] = cash_installment.groupby('SK_ID_PREV').apply(flag_default)"
   ],
   "metadata": {
    "collapsed": false,
    "ExecuteTime": {
     "end_time": "2023-12-31T12:48:40.037442200Z",
     "start_time": "2023-12-31T12:41:32.065291600Z"
    }
   },
   "id": "64b463ed100298b6"
  },
  {
   "cell_type": "code",
   "execution_count": 16,
   "outputs": [
    {
     "data": {
      "text/plain": "            PAST_LOSS_NPV  DELAYED_FLAG  DEFAULT_FLAG\nSK_ID_PREV                                           \n1000010         -0.000000             0             0\n1000011         -5.009042             0             0\n1000027         -0.000000             0             0\n1000040         -0.000000             0             0\n1000050         -0.000000             0             0\n...                   ...           ...           ...\n2843494         -0.000000             0             0\n2843495         -0.637139             0             0\n2843497         -0.000000             0             0\n2843498         -0.000000             0             0\n2843499         -0.000000             0             0\n\n[288405 rows x 3 columns]",
      "text/html": "<div>\n<style scoped>\n    .dataframe tbody tr th:only-of-type {\n        vertical-align: middle;\n    }\n\n    .dataframe tbody tr th {\n        vertical-align: top;\n    }\n\n    .dataframe thead th {\n        text-align: right;\n    }\n</style>\n<table border=\"1\" class=\"dataframe\">\n  <thead>\n    <tr style=\"text-align: right;\">\n      <th></th>\n      <th>PAST_LOSS_NPV</th>\n      <th>DELAYED_FLAG</th>\n      <th>DEFAULT_FLAG</th>\n    </tr>\n    <tr>\n      <th>SK_ID_PREV</th>\n      <th></th>\n      <th></th>\n      <th></th>\n    </tr>\n  </thead>\n  <tbody>\n    <tr>\n      <th>1000010</th>\n      <td>-0.000000</td>\n      <td>0</td>\n      <td>0</td>\n    </tr>\n    <tr>\n      <th>1000011</th>\n      <td>-5.009042</td>\n      <td>0</td>\n      <td>0</td>\n    </tr>\n    <tr>\n      <th>1000027</th>\n      <td>-0.000000</td>\n      <td>0</td>\n      <td>0</td>\n    </tr>\n    <tr>\n      <th>1000040</th>\n      <td>-0.000000</td>\n      <td>0</td>\n      <td>0</td>\n    </tr>\n    <tr>\n      <th>1000050</th>\n      <td>-0.000000</td>\n      <td>0</td>\n      <td>0</td>\n    </tr>\n    <tr>\n      <th>...</th>\n      <td>...</td>\n      <td>...</td>\n      <td>...</td>\n    </tr>\n    <tr>\n      <th>2843494</th>\n      <td>-0.000000</td>\n      <td>0</td>\n      <td>0</td>\n    </tr>\n    <tr>\n      <th>2843495</th>\n      <td>-0.637139</td>\n      <td>0</td>\n      <td>0</td>\n    </tr>\n    <tr>\n      <th>2843497</th>\n      <td>-0.000000</td>\n      <td>0</td>\n      <td>0</td>\n    </tr>\n    <tr>\n      <th>2843498</th>\n      <td>-0.000000</td>\n      <td>0</td>\n      <td>0</td>\n    </tr>\n    <tr>\n      <th>2843499</th>\n      <td>-0.000000</td>\n      <td>0</td>\n      <td>0</td>\n    </tr>\n  </tbody>\n</table>\n<p>288405 rows × 3 columns</p>\n</div>"
     },
     "execution_count": 16,
     "metadata": {},
     "output_type": "execute_result"
    }
   ],
   "source": [
    "aggregated_cash_installment"
   ],
   "metadata": {
    "collapsed": false,
    "ExecuteTime": {
     "end_time": "2023-12-31T12:48:40.076446600Z",
     "start_time": "2023-12-31T12:48:40.041447600Z"
    }
   },
   "id": "63d62206b2da8973"
  },
  {
   "cell_type": "code",
   "execution_count": 17,
   "outputs": [],
   "source": [
    "def cal_future_loss_default(x):\n",
    "    if not x['DEFAULT_FLAG']:\n",
    "        return 0\n",
    "    # get the slice in cash_installment\n",
    "    slice = cash_installment[cash_installment['SK_ID_PREV'] == x.name]\n",
    "    # get the last installment\n",
    "    last_installment = slice['NUM_INSTALMENT_NUMBER'][\n",
    "        slice['NUM_INSTALMENT_NUMBER'] < 100].max()  # penalty have installment number >100\n",
    "    # try:\n",
    "    #     contract_full_installment = previous_application[previous_application['SK_ID_PREV'] == x.name]['CNT_PAYMENT'].values[0]\n",
    "    #     contract_annuity = previous_application[previous_application['SK_ID_PREV'] == x.name]['AMT_ANNUITY'].values[0]\n",
    "    # except IndexError:\n",
    "    #     print(x.name)\n",
    "    #     return 0\n",
    "    contract_full_installment = previous_application[previous_application['SK_ID_PREV'] == x.name]['CNT_PAYMENT'].values[0]\n",
    "    contract_annuity = previous_application[previous_application['SK_ID_PREV'] == x.name]['AMT_ANNUITY'].values[0]\n",
    "    if last_installment == contract_full_installment:\n",
    "        # no more future installment\n",
    "        return 0\n",
    "    else:\n",
    "        numerator = 1 - (1 + annual_interest_rate) ** (-contract_full_installment + last_installment)\n",
    "        return -(contract_annuity * numerator / annual_interest_rate)\n",
    "\n",
    "\n",
    "def cal_future_loss_delayed(x):\n",
    "    if not x['DELAYED_FLAG']:\n",
    "        return 0\n",
    "    # get the slice in cash_installment\n",
    "    slice = cash_installment[cash_installment['SK_ID_PREV'] == x.name]\n",
    "    # get the last installment\n",
    "    last_installment = slice['NUM_INSTALMENT_NUMBER'][\n",
    "        slice['NUM_INSTALMENT_NUMBER'] < 100].max()  # penalty have installment number >100\n",
    "    contract_full_installment = \\\n",
    "    previous_application[previous_application['SK_ID_PREV'] == x.name]['CNT_PAYMENT'].values[0]\n",
    "    contract_annuity = previous_application[previous_application['SK_ID_PREV'] == x.name]['AMT_ANNUITY'].values[0]\n",
    "    if last_installment == contract_full_installment:\n",
    "        # no more future installment\n",
    "        return 0\n",
    "    else:\n",
    "        avg_delayed_days = slice['DAYS_DIFF'][\n",
    "                           -len(slice) // 2:].mean()  # only consider the last half of the installment avg delay\n",
    "        future_loss_every_installment = contract_annuity * (\n",
    "                    1 + daily_interest_rate) ** avg_delayed_days - contract_annuity\n",
    "        numerator = 1 - (1 + annual_interest_rate) ** (-contract_full_installment + last_installment)\n",
    "        return -(future_loss_every_installment * numerator / annual_interest_rate)\n",
    "\n",
    "\n",
    "aggregated_cash_installment['FUTURE_LOSS_DEFAULT'] = aggregated_cash_installment.apply(cal_future_loss_default, axis=1)\n",
    "aggregated_cash_installment['FUTURE_LOSS_DELAYED'] = aggregated_cash_installment.apply(cal_future_loss_delayed, axis=1)"
   ],
   "metadata": {
    "collapsed": false,
    "ExecuteTime": {
     "end_time": "2023-12-31T12:48:54.333422900Z",
     "start_time": "2023-12-31T12:48:40.069442800Z"
    }
   },
   "id": "484620bd60d8249b"
  },
  {
   "cell_type": "code",
   "execution_count": 18,
   "outputs": [
    {
     "data": {
      "text/plain": "            PAST_LOSS_NPV  DELAYED_FLAG  DEFAULT_FLAG  FUTURE_LOSS_DEFAULT  \\\nSK_ID_PREV                                                                   \n1000010         -0.000000             0             0                  0.0   \n1000011         -5.009042             0             0                  0.0   \n1000027         -0.000000             0             0                  0.0   \n1000040         -0.000000             0             0                  0.0   \n1000050         -0.000000             0             0                  0.0   \n...                   ...           ...           ...                  ...   \n2843494         -0.000000             0             0                  0.0   \n2843495         -0.637139             0             0                  0.0   \n2843497         -0.000000             0             0                  0.0   \n2843498         -0.000000             0             0                  0.0   \n2843499         -0.000000             0             0                  0.0   \n\n            FUTURE_LOSS_DELAYED  \nSK_ID_PREV                       \n1000010                       0  \n1000011                       0  \n1000027                       0  \n1000040                       0  \n1000050                       0  \n...                         ...  \n2843494                       0  \n2843495                       0  \n2843497                       0  \n2843498                       0  \n2843499                       0  \n\n[288405 rows x 5 columns]",
      "text/html": "<div>\n<style scoped>\n    .dataframe tbody tr th:only-of-type {\n        vertical-align: middle;\n    }\n\n    .dataframe tbody tr th {\n        vertical-align: top;\n    }\n\n    .dataframe thead th {\n        text-align: right;\n    }\n</style>\n<table border=\"1\" class=\"dataframe\">\n  <thead>\n    <tr style=\"text-align: right;\">\n      <th></th>\n      <th>PAST_LOSS_NPV</th>\n      <th>DELAYED_FLAG</th>\n      <th>DEFAULT_FLAG</th>\n      <th>FUTURE_LOSS_DEFAULT</th>\n      <th>FUTURE_LOSS_DELAYED</th>\n    </tr>\n    <tr>\n      <th>SK_ID_PREV</th>\n      <th></th>\n      <th></th>\n      <th></th>\n      <th></th>\n      <th></th>\n    </tr>\n  </thead>\n  <tbody>\n    <tr>\n      <th>1000010</th>\n      <td>-0.000000</td>\n      <td>0</td>\n      <td>0</td>\n      <td>0.0</td>\n      <td>0</td>\n    </tr>\n    <tr>\n      <th>1000011</th>\n      <td>-5.009042</td>\n      <td>0</td>\n      <td>0</td>\n      <td>0.0</td>\n      <td>0</td>\n    </tr>\n    <tr>\n      <th>1000027</th>\n      <td>-0.000000</td>\n      <td>0</td>\n      <td>0</td>\n      <td>0.0</td>\n      <td>0</td>\n    </tr>\n    <tr>\n      <th>1000040</th>\n      <td>-0.000000</td>\n      <td>0</td>\n      <td>0</td>\n      <td>0.0</td>\n      <td>0</td>\n    </tr>\n    <tr>\n      <th>1000050</th>\n      <td>-0.000000</td>\n      <td>0</td>\n      <td>0</td>\n      <td>0.0</td>\n      <td>0</td>\n    </tr>\n    <tr>\n      <th>...</th>\n      <td>...</td>\n      <td>...</td>\n      <td>...</td>\n      <td>...</td>\n      <td>...</td>\n    </tr>\n    <tr>\n      <th>2843494</th>\n      <td>-0.000000</td>\n      <td>0</td>\n      <td>0</td>\n      <td>0.0</td>\n      <td>0</td>\n    </tr>\n    <tr>\n      <th>2843495</th>\n      <td>-0.637139</td>\n      <td>0</td>\n      <td>0</td>\n      <td>0.0</td>\n      <td>0</td>\n    </tr>\n    <tr>\n      <th>2843497</th>\n      <td>-0.000000</td>\n      <td>0</td>\n      <td>0</td>\n      <td>0.0</td>\n      <td>0</td>\n    </tr>\n    <tr>\n      <th>2843498</th>\n      <td>-0.000000</td>\n      <td>0</td>\n      <td>0</td>\n      <td>0.0</td>\n      <td>0</td>\n    </tr>\n    <tr>\n      <th>2843499</th>\n      <td>-0.000000</td>\n      <td>0</td>\n      <td>0</td>\n      <td>0.0</td>\n      <td>0</td>\n    </tr>\n  </tbody>\n</table>\n<p>288405 rows × 5 columns</p>\n</div>"
     },
     "execution_count": 18,
     "metadata": {},
     "output_type": "execute_result"
    }
   ],
   "source": [
    "aggregated_cash_installment"
   ],
   "metadata": {
    "collapsed": false,
    "ExecuteTime": {
     "end_time": "2023-12-31T12:48:54.372422100Z",
     "start_time": "2023-12-31T12:48:54.334422500Z"
    }
   },
   "id": "8e348f294ec4c62e"
  },
  {
   "cell_type": "code",
   "execution_count": 19,
   "outputs": [
    {
     "data": {
      "text/plain": "            PAST_LOSS_NPV  DELAYED_FLAG  DEFAULT_FLAG  FUTURE_LOSS_DEFAULT  \\\nSK_ID_PREV                                                                   \n1000010         -0.000000             0             0                  0.0   \n1000011         -5.009042             0             0                  0.0   \n1000027         -0.000000             0             0                  0.0   \n1000040         -0.000000             0             0                  0.0   \n1000050         -0.000000             0             0                  0.0   \n...                   ...           ...           ...                  ...   \n2843494         -0.000000             0             0                  0.0   \n2843495         -0.637139             0             0                  0.0   \n2843497         -0.000000             0             0                  0.0   \n2843498         -0.000000             0             0                  0.0   \n2843499         -0.000000             0             0                  0.0   \n\n            FUTURE_LOSS_DELAYED  \nSK_ID_PREV                       \n1000010                       0  \n1000011                       0  \n1000027                       0  \n1000040                       0  \n1000050                       0  \n...                         ...  \n2843494                       0  \n2843495                       0  \n2843497                       0  \n2843498                       0  \n2843499                       0  \n\n[288405 rows x 5 columns]",
      "text/html": "<div>\n<style scoped>\n    .dataframe tbody tr th:only-of-type {\n        vertical-align: middle;\n    }\n\n    .dataframe tbody tr th {\n        vertical-align: top;\n    }\n\n    .dataframe thead th {\n        text-align: right;\n    }\n</style>\n<table border=\"1\" class=\"dataframe\">\n  <thead>\n    <tr style=\"text-align: right;\">\n      <th></th>\n      <th>PAST_LOSS_NPV</th>\n      <th>DELAYED_FLAG</th>\n      <th>DEFAULT_FLAG</th>\n      <th>FUTURE_LOSS_DEFAULT</th>\n      <th>FUTURE_LOSS_DELAYED</th>\n    </tr>\n    <tr>\n      <th>SK_ID_PREV</th>\n      <th></th>\n      <th></th>\n      <th></th>\n      <th></th>\n      <th></th>\n    </tr>\n  </thead>\n  <tbody>\n    <tr>\n      <th>1000010</th>\n      <td>-0.000000</td>\n      <td>0</td>\n      <td>0</td>\n      <td>0.0</td>\n      <td>0</td>\n    </tr>\n    <tr>\n      <th>1000011</th>\n      <td>-5.009042</td>\n      <td>0</td>\n      <td>0</td>\n      <td>0.0</td>\n      <td>0</td>\n    </tr>\n    <tr>\n      <th>1000027</th>\n      <td>-0.000000</td>\n      <td>0</td>\n      <td>0</td>\n      <td>0.0</td>\n      <td>0</td>\n    </tr>\n    <tr>\n      <th>1000040</th>\n      <td>-0.000000</td>\n      <td>0</td>\n      <td>0</td>\n      <td>0.0</td>\n      <td>0</td>\n    </tr>\n    <tr>\n      <th>1000050</th>\n      <td>-0.000000</td>\n      <td>0</td>\n      <td>0</td>\n      <td>0.0</td>\n      <td>0</td>\n    </tr>\n    <tr>\n      <th>...</th>\n      <td>...</td>\n      <td>...</td>\n      <td>...</td>\n      <td>...</td>\n      <td>...</td>\n    </tr>\n    <tr>\n      <th>2843494</th>\n      <td>-0.000000</td>\n      <td>0</td>\n      <td>0</td>\n      <td>0.0</td>\n      <td>0</td>\n    </tr>\n    <tr>\n      <th>2843495</th>\n      <td>-0.637139</td>\n      <td>0</td>\n      <td>0</td>\n      <td>0.0</td>\n      <td>0</td>\n    </tr>\n    <tr>\n      <th>2843497</th>\n      <td>-0.000000</td>\n      <td>0</td>\n      <td>0</td>\n      <td>0.0</td>\n      <td>0</td>\n    </tr>\n    <tr>\n      <th>2843498</th>\n      <td>-0.000000</td>\n      <td>0</td>\n      <td>0</td>\n      <td>0.0</td>\n      <td>0</td>\n    </tr>\n    <tr>\n      <th>2843499</th>\n      <td>-0.000000</td>\n      <td>0</td>\n      <td>0</td>\n      <td>0.0</td>\n      <td>0</td>\n    </tr>\n  </tbody>\n</table>\n<p>288405 rows × 5 columns</p>\n</div>"
     },
     "execution_count": 19,
     "metadata": {},
     "output_type": "execute_result"
    }
   ],
   "source": [
    "aggregated_cash_installment"
   ],
   "metadata": {
    "collapsed": false,
    "ExecuteTime": {
     "end_time": "2023-12-31T12:48:54.582236Z",
     "start_time": "2023-12-31T12:48:54.367422600Z"
    }
   },
   "id": "20f3a3e404086cfb"
  },
  {
   "cell_type": "code",
   "execution_count": 20,
   "outputs": [],
   "source": [
    "def cal_loan_pv(x):\n",
    "    numerator = 1 - (1 + annual_interest_rate) ** (-x['CNT_PAYMENT'])\n",
    "    return x['AMT_ANNUITY'] * numerator / annual_interest_rate-x['AMT_CREDIT']\n",
    "aggregated_cash_installment['LOAN_PV'] = previous_application[previous_application['SK_ID_PREV'].isin(aggregated_cash_installment.index)].set_index('SK_ID_PREV').apply(cal_loan_pv, axis=1)\n",
    "aggregated_cash_installment['LOAN_PROFIT']=aggregated_cash_installment['PAST_LOSS_NPV']+aggregated_cash_installment['FUTURE_LOSS_DEFAULT']+aggregated_cash_installment['FUTURE_LOSS_DELAYED']+aggregated_cash_installment['LOAN_PV']"
   ],
   "metadata": {
    "collapsed": false,
    "ExecuteTime": {
     "end_time": "2023-12-31T12:49:00.244216400Z",
     "start_time": "2023-12-31T12:48:54.397423Z"
    }
   },
   "id": "d913e1fe34b687e8"
  },
  {
   "cell_type": "code",
   "execution_count": 24,
   "outputs": [
    {
     "data": {
      "text/plain": "<AxesSubplot: >"
     },
     "execution_count": 24,
     "metadata": {},
     "output_type": "execute_result"
    },
    {
     "data": {
      "text/plain": "<Figure size 640x480 with 1 Axes>",
      "image/png": "[encoded data removed]"
     },
     "metadata": {},
     "output_type": "display_data"
    }
   ],
   "source": [
    "aggregated_cash_installment['LOAN_PROFIT'].hist(bins=100)"
   ],
   "metadata": {
    "collapsed": false,
    "ExecuteTime": {
     "end_time": "2023-12-31T12:51:21.702846Z",
     "start_time": "2023-12-31T12:51:21.197496700Z"
    }
   },
   "id": "23a5f8b30c32f5d1"
  },
  {
   "cell_type": "code",
   "execution_count": null,
   "outputs": [],
   "source": [],
   "metadata": {
    "collapsed": false
   },
   "id": "598fc2eab61435f"
  }
 ],
 "metadata": {
  "kernelspec": {
   "display_name": "Python 3",
   "language": "python",
   "name": "python3"
  },
  "language_info": {
   "codemirror_mode": {
    "name": "ipython",
    "version": 2
   },
   "file_extension": ".py",
   "mimetype": "text/x-python",
   "name": "python",
   "nbconvert_exporter": "python",
   "pygments_lexer": "ipython2",
   "version": "2.7.6"
  }
 },
 "nbformat": 4,
 "nbformat_minor": 5
}
