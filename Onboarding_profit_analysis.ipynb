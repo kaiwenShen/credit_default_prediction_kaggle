{
 "cells": [
  {
   "cell_type": "markdown",
   "source": [
    "# Onboarding profit analysis\n",
    "preprocess for the previous application data: \n",
    "1. delete the ones that have XNA or consumer loan type of loan\n",
    "2. figuring out which have defaulted based on installment data\n",
    "3. calculate the default loss (some customers does have payback before default)\n"
   ],
   "metadata": {
    "collapsed": false
   },
   "id": "f39a738681c98993"
  },
  {
   "cell_type": "code",
   "execution_count": 2,
   "outputs": [],
   "source": [
    "import pandas as pd\n",
    "import numpy as np\n",
    "import matplotlib.pyplot as plt"
   ],
   "metadata": {
    "collapsed": false,
    "ExecuteTime": {
     "end_time": "2024-01-01T19:57:59.423474Z",
     "start_time": "2024-01-01T19:57:58.444804200Z"
    }
   },
   "id": "b3053e2a324a177b"
  },
  {
   "cell_type": "code",
   "execution_count": 3,
   "id": "initial_id",
   "metadata": {
    "collapsed": true,
    "ExecuteTime": {
     "end_time": "2024-01-01T19:58:19.814333700Z",
     "start_time": "2024-01-01T19:57:59.423474Z"
    }
   },
   "outputs": [],
   "source": [
    "previous_application = pd.read_csv('./src/previous_application.csv')\n",
    "application = pd.read_csv('./src/application_train.csv')"
   ]
  },
  {
   "cell_type": "code",
   "execution_count": 4,
   "outputs": [
    {
     "data": {
      "text/plain": "Cash loans         747553\nConsumer loans     729151\nRevolving loans    193164\nXNA                   346\nName: NAME_CONTRACT_TYPE, dtype: int64"
     },
     "execution_count": 4,
     "metadata": {},
     "output_type": "execute_result"
    }
   ],
   "source": [
    "previous_application['NAME_CONTRACT_TYPE'].value_counts()  # we drop xna and change consumer loan to cash loan"
   ],
   "metadata": {
    "collapsed": false,
    "ExecuteTime": {
     "end_time": "2024-01-01T19:58:20.054384600Z",
     "start_time": "2024-01-01T19:58:19.818332300Z"
    }
   },
   "id": "19d805e2384f1c2c"
  },
  {
   "cell_type": "code",
   "execution_count": 5,
   "outputs": [
    {
     "data": {
      "text/plain": "Cash loans         278232\nRevolving loans     29279\nName: NAME_CONTRACT_TYPE, dtype: int64"
     },
     "execution_count": 5,
     "metadata": {},
     "output_type": "execute_result"
    }
   ],
   "source": [
    "application[\n",
    "    'NAME_CONTRACT_TYPE'].value_counts()  # the application we care about only contains cash loan and revolving loan"
   ],
   "metadata": {
    "collapsed": false,
    "ExecuteTime": {
     "end_time": "2024-01-01T19:58:20.163281200Z",
     "start_time": "2024-01-01T19:58:20.025384300Z"
    }
   },
   "id": "cbfa77fefd1687c"
  },
  {
   "cell_type": "code",
   "execution_count": 6,
   "outputs": [],
   "source": [
    "previous_application = previous_application[\n",
    "    previous_application['NAME_CONTRACT_TYPE'].isin(['Cash loans', 'Revolving loans'])]"
   ],
   "metadata": {
    "collapsed": false,
    "ExecuteTime": {
     "end_time": "2024-01-01T19:58:20.570429500Z",
     "start_time": "2024-01-01T19:58:20.072996100Z"
    }
   },
   "id": "794aef01fd715692"
  },
  {
   "cell_type": "code",
   "execution_count": 7,
   "outputs": [],
   "source": [
    "# get previd for cash and revolving loan seperately\n",
    "cash_loan_prev_id = previous_application[(previous_application['NAME_CONTRACT_TYPE'] == 'Cash loans')&(previous_application['NAME_CONTRACT_STATUS']=='Approved')][\n",
    "    'SK_ID_PREV'].unique()\n",
    "revolving_loan_prev_id = previous_application[(previous_application['NAME_CONTRACT_TYPE'] == 'Revolving loans')&(previous_application['NAME_CONTRACT_STATUS']=='Approved')][\n",
    "    'SK_ID_PREV'].unique()"
   ],
   "metadata": {
    "collapsed": false,
    "ExecuteTime": {
     "end_time": "2024-01-01T19:58:21.251675800Z",
     "start_time": "2024-01-01T19:58:20.575426500Z"
    }
   },
   "id": "52d5f01741a56d7e"
  },
  {
   "cell_type": "markdown",
   "source": [
    "## 1. Process installment data"
   ],
   "metadata": {
    "collapsed": false
   },
   "id": "3dc743f3f1fcb8e6"
  },
  {
   "cell_type": "code",
   "execution_count": 8,
   "outputs": [],
   "source": [
    "installments_payments = pd.read_csv('./src/installments_payments.csv')\n",
    "installments_payments = installments_payments.groupby(['SK_ID_PREV', 'NUM_INSTALMENT_NUMBER']).agg(\n",
    "    {'DAYS_INSTALMENT': 'first', 'DAYS_ENTRY_PAYMENT': 'last', 'AMT_INSTALMENT': 'first',\n",
    "     'AMT_PAYMENT': 'sum'}).reset_index()  # aggregate multiple payments for the same installment\n",
    "installments_payments['AMOUNT_NOT_PAID'] = (\n",
    "        installments_payments['AMT_INSTALMENT'] - installments_payments['AMT_PAYMENT']).apply(lambda\n",
    "                                                                                                  x: 0 if x < 1 else x)  # only when insurancce is at play, the amount paid can be larger than the amount due. less than 1 because float precision\n",
    "installments_payments['DAYS_DIFF'] = (\n",
    "        installments_payments['DAYS_ENTRY_PAYMENT'] - installments_payments['DAYS_INSTALMENT']).apply(\n",
    "    lambda x: 0 if x < 0 else x)  # there is no benefit for early repayment so we set it to 0"
   ],
   "metadata": {
    "collapsed": false,
    "ExecuteTime": {
     "end_time": "2024-01-01T19:59:34.172473Z",
     "start_time": "2024-01-01T19:58:21.259889400Z"
    }
   },
   "id": "fdaab7316ec32759"
  },
  {
   "cell_type": "markdown",
   "source": [
    "## 2. Seperate cash and revolving loan"
   ],
   "metadata": {
    "collapsed": false
   },
   "id": "14e53b91cfa8f609"
  },
  {
   "cell_type": "code",
   "execution_count": 9,
   "outputs": [],
   "source": [
    "cash_installment = installments_payments[installments_payments['SK_ID_PREV'].isin(cash_loan_prev_id)].copy()\n",
    "revolving_loan_installment = installments_payments[\n",
    "    installments_payments['SK_ID_PREV'].isin(revolving_loan_prev_id)].copy()"
   ],
   "metadata": {
    "collapsed": false,
    "ExecuteTime": {
     "end_time": "2024-01-01T19:59:36.273389900Z",
     "start_time": "2024-01-01T19:59:34.203479500Z"
    }
   },
   "id": "b044d744853c0654"
  },
  {
   "cell_type": "code",
   "execution_count": 10,
   "outputs": [
    {
     "data": {
      "text/plain": "          SK_ID_PREV  NUM_INSTALMENT_NUMBER  DAYS_INSTALMENT  \\\n122930       1010608                     29             -3.0   \n159151       1016839                     29            -76.0   \n159152       1016839                     30            -46.0   \n159153       1016839                     31            -16.0   \n248002       1030134                     19             -5.0   \n...              ...                    ...              ...   \n12828162     2837223                    101            -13.0   \n12852630     2842600                      1            -87.0   \n12852631     2842600                      2            -57.0   \n12852632     2842600                      3            -27.0   \n12857529     2843129                     16            -17.0   \n\n          DAYS_ENTRY_PAYMENT  AMT_INSTALMENT  AMT_PAYMENT  AMOUNT_NOT_PAID  \\\n122930                   NaN       26327.970          0.0        26327.970   \n159151                   NaN       45686.655          0.0        45686.655   \n159152                   NaN       45686.655          0.0        45686.655   \n159153                   NaN       45686.655          0.0        45686.655   \n248002                   NaN        4282.020          0.0         4282.020   \n...                      ...             ...          ...              ...   \n12828162                 NaN         116.550          0.0          116.550   \n12852630                 NaN       20538.765          0.0        20538.765   \n12852631                 NaN       20538.765          0.0        20538.765   \n12852632                 NaN       20538.765          0.0        20538.765   \n12857529                 NaN       20247.660          0.0        20247.660   \n\n          DAYS_DIFF  \n122930          NaN  \n159151          NaN  \n159152          NaN  \n159153          NaN  \n248002          NaN  \n...             ...  \n12828162        NaN  \n12852630        NaN  \n12852631        NaN  \n12852632        NaN  \n12857529        NaN  \n\n[837 rows x 8 columns]",
      "text/html": "<div>\n<style scoped>\n    .dataframe tbody tr th:only-of-type {\n        vertical-align: middle;\n    }\n\n    .dataframe tbody tr th {\n        vertical-align: top;\n    }\n\n    .dataframe thead th {\n        text-align: right;\n    }\n</style>\n<table border=\"1\" class=\"dataframe\">\n  <thead>\n    <tr style=\"text-align: right;\">\n      <th></th>\n      <th>SK_ID_PREV</th>\n      <th>NUM_INSTALMENT_NUMBER</th>\n      <th>DAYS_INSTALMENT</th>\n      <th>DAYS_ENTRY_PAYMENT</th>\n      <th>AMT_INSTALMENT</th>\n      <th>AMT_PAYMENT</th>\n      <th>AMOUNT_NOT_PAID</th>\n      <th>DAYS_DIFF</th>\n    </tr>\n  </thead>\n  <tbody>\n    <tr>\n      <th>122930</th>\n      <td>1010608</td>\n      <td>29</td>\n      <td>-3.0</td>\n      <td>NaN</td>\n      <td>26327.970</td>\n      <td>0.0</td>\n      <td>26327.970</td>\n      <td>NaN</td>\n    </tr>\n    <tr>\n      <th>159151</th>\n      <td>1016839</td>\n      <td>29</td>\n      <td>-76.0</td>\n      <td>NaN</td>\n      <td>45686.655</td>\n      <td>0.0</td>\n      <td>45686.655</td>\n      <td>NaN</td>\n    </tr>\n    <tr>\n      <th>159152</th>\n      <td>1016839</td>\n      <td>30</td>\n      <td>-46.0</td>\n      <td>NaN</td>\n      <td>45686.655</td>\n      <td>0.0</td>\n      <td>45686.655</td>\n      <td>NaN</td>\n    </tr>\n    <tr>\n      <th>159153</th>\n      <td>1016839</td>\n      <td>31</td>\n      <td>-16.0</td>\n      <td>NaN</td>\n      <td>45686.655</td>\n      <td>0.0</td>\n      <td>45686.655</td>\n      <td>NaN</td>\n    </tr>\n    <tr>\n      <th>248002</th>\n      <td>1030134</td>\n      <td>19</td>\n      <td>-5.0</td>\n      <td>NaN</td>\n      <td>4282.020</td>\n      <td>0.0</td>\n      <td>4282.020</td>\n      <td>NaN</td>\n    </tr>\n    <tr>\n      <th>...</th>\n      <td>...</td>\n      <td>...</td>\n      <td>...</td>\n      <td>...</td>\n      <td>...</td>\n      <td>...</td>\n      <td>...</td>\n      <td>...</td>\n    </tr>\n    <tr>\n      <th>12828162</th>\n      <td>2837223</td>\n      <td>101</td>\n      <td>-13.0</td>\n      <td>NaN</td>\n      <td>116.550</td>\n      <td>0.0</td>\n      <td>116.550</td>\n      <td>NaN</td>\n    </tr>\n    <tr>\n      <th>12852630</th>\n      <td>2842600</td>\n      <td>1</td>\n      <td>-87.0</td>\n      <td>NaN</td>\n      <td>20538.765</td>\n      <td>0.0</td>\n      <td>20538.765</td>\n      <td>NaN</td>\n    </tr>\n    <tr>\n      <th>12852631</th>\n      <td>2842600</td>\n      <td>2</td>\n      <td>-57.0</td>\n      <td>NaN</td>\n      <td>20538.765</td>\n      <td>0.0</td>\n      <td>20538.765</td>\n      <td>NaN</td>\n    </tr>\n    <tr>\n      <th>12852632</th>\n      <td>2842600</td>\n      <td>3</td>\n      <td>-27.0</td>\n      <td>NaN</td>\n      <td>20538.765</td>\n      <td>0.0</td>\n      <td>20538.765</td>\n      <td>NaN</td>\n    </tr>\n    <tr>\n      <th>12857529</th>\n      <td>2843129</td>\n      <td>16</td>\n      <td>-17.0</td>\n      <td>NaN</td>\n      <td>20247.660</td>\n      <td>0.0</td>\n      <td>20247.660</td>\n      <td>NaN</td>\n    </tr>\n  </tbody>\n</table>\n<p>837 rows × 8 columns</p>\n</div>"
     },
     "execution_count": 10,
     "metadata": {},
     "output_type": "execute_result"
    }
   ],
   "source": [
    "cash_installment[cash_installment['AMT_PAYMENT'] == 0]"
   ],
   "metadata": {
    "collapsed": false,
    "ExecuteTime": {
     "end_time": "2024-01-01T19:59:36.381395100Z",
     "start_time": "2024-01-01T19:59:36.275391800Z"
    }
   },
   "id": "68fc350e5ebaec8"
  },
  {
   "cell_type": "markdown",
   "source": [
    "## 3. Cash loan"
   ],
   "metadata": {
    "collapsed": false
   },
   "id": "fa961b6f9c7a76b7"
  },
  {
   "cell_type": "code",
   "execution_count": 11,
   "outputs": [],
   "source": [
    "cash_installment['DAYS_DIFF'] = cash_installment.apply(\n",
    "    lambda x: x['DAYS_DIFF'] if x['AMOUNT_NOT_PAID'] < 1 else min(abs(x['DAYS_INSTALMENT']), abs(previous_application[previous_application['SK_ID_PREV'] == x['SK_ID_PREV']]['DAYS_TERMINATION'].values[0])), axis=1)  # if not payed in full, we count as delayed payment until now.\n",
    "\n",
    "\n",
    "def cal_amount_delayed_payment(x):\n",
    "    if x['DAYS_DIFF'] > 0:\n",
    "        if x['AMOUNT_NOT_PAID'] < 1:\n",
    "            return x['AMT_INSTALMENT']  # client paid in full but delayed\n",
    "    return 0  # 2 possible situation: 1. day diff>0 and amount not paid>0.1, accounted by the amount not paid. 2. day diff<=0, no delayed payment\n",
    "\n",
    "\n",
    "cash_installment['AMOUNT_DELAYED_PAYMENT'] = cash_installment.apply(cal_amount_delayed_payment, axis=1)"
   ],
   "metadata": {
    "collapsed": false,
    "ExecuteTime": {
     "end_time": "2024-01-01T20:00:52.014482700Z",
     "start_time": "2024-01-01T19:59:36.396996500Z"
    }
   },
   "id": "c35bc9f3d418fb6"
  },
  {
   "cell_type": "code",
   "execution_count": 12,
   "outputs": [
    {
     "data": {
      "text/plain": "2.7261552008939205e-05"
     },
     "execution_count": 12,
     "metadata": {},
     "output_type": "execute_result"
    }
   ],
   "source": [
    "# assume 1% annual interest rate since the data is many years ago\n",
    "annual_interest_rate = 0.01\n",
    "# convert to monthly interest rate\n",
    "monthly_interest_rate = (1 + annual_interest_rate) ** (1 / 12) - 1\n",
    "# convert to daily interest rate\n",
    "daily_interest_rate = (1 + annual_interest_rate) ** (1 / 365) - 1\n",
    "daily_interest_rate"
   ],
   "metadata": {
    "collapsed": false,
    "ExecuteTime": {
     "end_time": "2024-01-01T20:00:52.048484500Z",
     "start_time": "2024-01-01T20:00:52.028486200Z"
    }
   },
   "id": "d8e7766154d7ea40"
  },
  {
   "cell_type": "code",
   "execution_count": 13,
   "outputs": [
    {
     "data": {
      "text/plain": "          SK_ID_PREV  NUM_INSTALMENT_NUMBER  DAYS_INSTALMENT  \\\n46           1000010                      1           -558.0   \n47           1000010                      2           -528.0   \n48           1000010                      3           -498.0   \n49           1000010                      4           -468.0   \n50           1000010                      5           -438.0   \n...              ...                    ...              ...   \n12861989     2843499                      6          -1053.0   \n12861990     2843499                      7          -1023.0   \n12861991     2843499                      8           -993.0   \n12861992     2843499                      9           -963.0   \n12861993     2843499                     10           -933.0   \n\n          DAYS_ENTRY_PAYMENT  AMT_INSTALMENT  AMT_PAYMENT  AMOUNT_NOT_PAID  \\\n46                    -568.0        74682.00     74682.00              0.0   \n47                    -528.0        74682.00     74682.00              0.0   \n48                    -502.0        74682.00     74682.00              0.0   \n49                    -471.0        74682.00     74682.00              0.0   \n50                    -457.0        74682.00     74682.00              0.0   \n...                      ...             ...          ...              ...   \n12861989             -1074.0        16074.00     16074.00              0.0   \n12861990             -1047.0        16074.00     16074.00              0.0   \n12861991             -1018.0        16074.00     16074.00              0.0   \n12861992              -980.0        16074.00     16074.00              0.0   \n12861993              -952.0       433416.24    433416.24              0.0   \n\n          DAYS_DIFF  AMOUNT_DELAYED_PAYMENT  \n46              0.0                     0.0  \n47              0.0                     0.0  \n48              0.0                     0.0  \n49              0.0                     0.0  \n50              0.0                     0.0  \n...             ...                     ...  \n12861989        0.0                     0.0  \n12861990        0.0                     0.0  \n12861991        0.0                     0.0  \n12861992        0.0                     0.0  \n12861993        0.0                     0.0  \n\n[3436543 rows x 9 columns]",
      "text/html": "<div>\n<style scoped>\n    .dataframe tbody tr th:only-of-type {\n        vertical-align: middle;\n    }\n\n    .dataframe tbody tr th {\n        vertical-align: top;\n    }\n\n    .dataframe thead th {\n        text-align: right;\n    }\n</style>\n<table border=\"1\" class=\"dataframe\">\n  <thead>\n    <tr style=\"text-align: right;\">\n      <th></th>\n      <th>SK_ID_PREV</th>\n      <th>NUM_INSTALMENT_NUMBER</th>\n      <th>DAYS_INSTALMENT</th>\n      <th>DAYS_ENTRY_PAYMENT</th>\n      <th>AMT_INSTALMENT</th>\n      <th>AMT_PAYMENT</th>\n      <th>AMOUNT_NOT_PAID</th>\n      <th>DAYS_DIFF</th>\n      <th>AMOUNT_DELAYED_PAYMENT</th>\n    </tr>\n  </thead>\n  <tbody>\n    <tr>\n      <th>46</th>\n      <td>1000010</td>\n      <td>1</td>\n      <td>-558.0</td>\n      <td>-568.0</td>\n      <td>74682.00</td>\n      <td>74682.00</td>\n      <td>0.0</td>\n      <td>0.0</td>\n      <td>0.0</td>\n    </tr>\n    <tr>\n      <th>47</th>\n      <td>1000010</td>\n      <td>2</td>\n      <td>-528.0</td>\n      <td>-528.0</td>\n      <td>74682.00</td>\n      <td>74682.00</td>\n      <td>0.0</td>\n      <td>0.0</td>\n      <td>0.0</td>\n    </tr>\n    <tr>\n      <th>48</th>\n      <td>1000010</td>\n      <td>3</td>\n      <td>-498.0</td>\n      <td>-502.0</td>\n      <td>74682.00</td>\n      <td>74682.00</td>\n      <td>0.0</td>\n      <td>0.0</td>\n      <td>0.0</td>\n    </tr>\n    <tr>\n      <th>49</th>\n      <td>1000010</td>\n      <td>4</td>\n      <td>-468.0</td>\n      <td>-471.0</td>\n      <td>74682.00</td>\n      <td>74682.00</td>\n      <td>0.0</td>\n      <td>0.0</td>\n      <td>0.0</td>\n    </tr>\n    <tr>\n      <th>50</th>\n      <td>1000010</td>\n      <td>5</td>\n      <td>-438.0</td>\n      <td>-457.0</td>\n      <td>74682.00</td>\n      <td>74682.00</td>\n      <td>0.0</td>\n      <td>0.0</td>\n      <td>0.0</td>\n    </tr>\n    <tr>\n      <th>...</th>\n      <td>...</td>\n      <td>...</td>\n      <td>...</td>\n      <td>...</td>\n      <td>...</td>\n      <td>...</td>\n      <td>...</td>\n      <td>...</td>\n      <td>...</td>\n    </tr>\n    <tr>\n      <th>12861989</th>\n      <td>2843499</td>\n      <td>6</td>\n      <td>-1053.0</td>\n      <td>-1074.0</td>\n      <td>16074.00</td>\n      <td>16074.00</td>\n      <td>0.0</td>\n      <td>0.0</td>\n      <td>0.0</td>\n    </tr>\n    <tr>\n      <th>12861990</th>\n      <td>2843499</td>\n      <td>7</td>\n      <td>-1023.0</td>\n      <td>-1047.0</td>\n      <td>16074.00</td>\n      <td>16074.00</td>\n      <td>0.0</td>\n      <td>0.0</td>\n      <td>0.0</td>\n    </tr>\n    <tr>\n      <th>12861991</th>\n      <td>2843499</td>\n      <td>8</td>\n      <td>-993.0</td>\n      <td>-1018.0</td>\n      <td>16074.00</td>\n      <td>16074.00</td>\n      <td>0.0</td>\n      <td>0.0</td>\n      <td>0.0</td>\n    </tr>\n    <tr>\n      <th>12861992</th>\n      <td>2843499</td>\n      <td>9</td>\n      <td>-963.0</td>\n      <td>-980.0</td>\n      <td>16074.00</td>\n      <td>16074.00</td>\n      <td>0.0</td>\n      <td>0.0</td>\n      <td>0.0</td>\n    </tr>\n    <tr>\n      <th>12861993</th>\n      <td>2843499</td>\n      <td>10</td>\n      <td>-933.0</td>\n      <td>-952.0</td>\n      <td>433416.24</td>\n      <td>433416.24</td>\n      <td>0.0</td>\n      <td>0.0</td>\n      <td>0.0</td>\n    </tr>\n  </tbody>\n</table>\n<p>3436543 rows × 9 columns</p>\n</div>"
     },
     "execution_count": 13,
     "metadata": {},
     "output_type": "execute_result"
    }
   ],
   "source": [
    "cash_installment"
   ],
   "metadata": {
    "collapsed": false,
    "ExecuteTime": {
     "end_time": "2024-01-01T20:00:52.091487900Z",
     "start_time": "2024-01-01T20:00:52.046483800Z"
    }
   },
   "id": "11f8f89261d6287c"
  },
  {
   "cell_type": "code",
   "execution_count": 14,
   "outputs": [],
   "source": [
    "def cal_past_loss(x):\n",
    "    discount = (1+monthly_interest_rate)**abs(x['NUM_INSTALMENT_NUMBER'])\n",
    "    loss_not_paid = (x['AMOUNT_NOT_PAID'] * (1 + daily_interest_rate) ** x['DAYS_DIFF'])/discount\n",
    "    loss_delayed_payment = (x['AMOUNT_DELAYED_PAYMENT'] * (1 + daily_interest_rate) ** x['DAYS_DIFF'] - x[\n",
    "        'AMOUNT_DELAYED_PAYMENT'])/discount\n",
    "    loss_delayed_payment = loss_delayed_payment.sum()\n",
    "    loss_not_paid = loss_not_paid.sum()\n",
    "    return -(loss_not_paid + loss_delayed_payment)\n",
    "\n",
    "\n",
    "def flag_default(x):\n",
    "    if len(x[(x['AMOUNT_NOT_PAID'] > 1)&(x['DAYS_DIFF']>15)]) > 0:# float precision and grace period\n",
    "        return 1\n",
    "    return 0\n",
    "\n",
    "\n",
    "def flag_delayed(x):\n",
    "    if x['DAYS_DIFF'].any() > 15 and not flag_default(x):  # avg grace period is 15 days, avoid double counting\n",
    "        return 1\n",
    "    return 0"
   ],
   "metadata": {
    "collapsed": false,
    "ExecuteTime": {
     "end_time": "2024-01-01T20:00:52.108484400Z",
     "start_time": "2024-01-01T20:00:52.091487900Z"
    }
   },
   "id": "8f4f485ef001450e"
  },
  {
   "cell_type": "code",
   "execution_count": 15,
   "outputs": [],
   "source": [
    "aggregated_cash_installment = pd.DataFrame()\n",
    "aggregated_cash_installment['PAST_LOSS_NPV'] = cash_installment.groupby('SK_ID_PREV').apply(cal_past_loss)  # pass loss net present value\n",
    "aggregated_cash_installment['DELAYED_FLAG'] = cash_installment.groupby('SK_ID_PREV').apply(flag_delayed)\n",
    "aggregated_cash_installment['DEFAULT_FLAG'] = cash_installment.groupby('SK_ID_PREV').apply(flag_default)"
   ],
   "metadata": {
    "collapsed": false,
    "ExecuteTime": {
     "end_time": "2024-01-01T20:10:29.071144300Z",
     "start_time": "2024-01-01T20:00:52.125483200Z"
    }
   },
   "id": "64b463ed100298b6"
  },
  {
   "cell_type": "code",
   "execution_count": 16,
   "outputs": [
    {
     "data": {
      "text/plain": "            PAST_LOSS_NPV  DELAYED_FLAG  DEFAULT_FLAG\nSK_ID_PREV                                           \n1000010         -0.000000             0             0\n1000011         -5.006539             0             0\n1000027         -0.000000             0             0\n1000040         -0.000000             0             0\n1000050         -0.000000             0             0\n...                   ...           ...           ...\n2843494         -0.000000             0             0\n2843495         -0.638991             0             0\n2843497         -0.000000             0             0\n2843498         -0.000000             0             0\n2843499         -0.000000             0             0\n\n[288405 rows x 3 columns]",
      "text/html": "<div>\n<style scoped>\n    .dataframe tbody tr th:only-of-type {\n        vertical-align: middle;\n    }\n\n    .dataframe tbody tr th {\n        vertical-align: top;\n    }\n\n    .dataframe thead th {\n        text-align: right;\n    }\n</style>\n<table border=\"1\" class=\"dataframe\">\n  <thead>\n    <tr style=\"text-align: right;\">\n      <th></th>\n      <th>PAST_LOSS_NPV</th>\n      <th>DELAYED_FLAG</th>\n      <th>DEFAULT_FLAG</th>\n    </tr>\n    <tr>\n      <th>SK_ID_PREV</th>\n      <th></th>\n      <th></th>\n      <th></th>\n    </tr>\n  </thead>\n  <tbody>\n    <tr>\n      <th>1000010</th>\n      <td>-0.000000</td>\n      <td>0</td>\n      <td>0</td>\n    </tr>\n    <tr>\n      <th>1000011</th>\n      <td>-5.006539</td>\n      <td>0</td>\n      <td>0</td>\n    </tr>\n    <tr>\n      <th>1000027</th>\n      <td>-0.000000</td>\n      <td>0</td>\n      <td>0</td>\n    </tr>\n    <tr>\n      <th>1000040</th>\n      <td>-0.000000</td>\n      <td>0</td>\n      <td>0</td>\n    </tr>\n    <tr>\n      <th>1000050</th>\n      <td>-0.000000</td>\n      <td>0</td>\n      <td>0</td>\n    </tr>\n    <tr>\n      <th>...</th>\n      <td>...</td>\n      <td>...</td>\n      <td>...</td>\n    </tr>\n    <tr>\n      <th>2843494</th>\n      <td>-0.000000</td>\n      <td>0</td>\n      <td>0</td>\n    </tr>\n    <tr>\n      <th>2843495</th>\n      <td>-0.638991</td>\n      <td>0</td>\n      <td>0</td>\n    </tr>\n    <tr>\n      <th>2843497</th>\n      <td>-0.000000</td>\n      <td>0</td>\n      <td>0</td>\n    </tr>\n    <tr>\n      <th>2843498</th>\n      <td>-0.000000</td>\n      <td>0</td>\n      <td>0</td>\n    </tr>\n    <tr>\n      <th>2843499</th>\n      <td>-0.000000</td>\n      <td>0</td>\n      <td>0</td>\n    </tr>\n  </tbody>\n</table>\n<p>288405 rows × 3 columns</p>\n</div>"
     },
     "execution_count": 16,
     "metadata": {},
     "output_type": "execute_result"
    }
   ],
   "source": [
    "aggregated_cash_installment"
   ],
   "metadata": {
    "collapsed": false,
    "ExecuteTime": {
     "end_time": "2024-01-01T20:10:29.134138700Z",
     "start_time": "2024-01-01T20:10:29.019643400Z"
    }
   },
   "id": "63d62206b2da8973"
  },
  {
   "cell_type": "code",
   "execution_count": 17,
   "outputs": [],
   "source": [
    "def cal_cash_future_loss_default(x):\n",
    "    if not x['DEFAULT_FLAG']:\n",
    "        return 0\n",
    "    # get the slice in cash_installment\n",
    "    slice = cash_installment[cash_installment['SK_ID_PREV'] == x.name]\n",
    "    # get the last installment\n",
    "    last_installment = slice['NUM_INSTALMENT_NUMBER'][\n",
    "        slice['NUM_INSTALMENT_NUMBER'] < 100].max()  # penalty have installment number >100\n",
    "    # try:\n",
    "    #     contract_full_installment = previous_application[previous_application['SK_ID_PREV'] == x.name]['CNT_PAYMENT'].values[0]\n",
    "    #     contract_annuity = previous_application[previous_application['SK_ID_PREV'] == x.name]['AMT_ANNUITY'].values[0]\n",
    "    # except IndexError:\n",
    "    #     print(x.name)\n",
    "    #     return 0\n",
    "    contract_full_installment = previous_application[previous_application['SK_ID_PREV'] == x.name]['CNT_PAYMENT'].values[0]\n",
    "    contract_annuity = previous_application[previous_application['SK_ID_PREV'] == x.name]['AMT_ANNUITY'].values[0]\n",
    "    if last_installment == contract_full_installment:\n",
    "        # no more future installment\n",
    "        return 0\n",
    "    else:\n",
    "        numerator = 1 - (1 + monthly_interest_rate) ** (-contract_full_installment + last_installment)\n",
    "        return -(contract_annuity * numerator / monthly_interest_rate)/(1+monthly_interest_rate)**last_installment\n",
    "\n",
    "\n",
    "def cal_cash_future_loss_delayed(x):\n",
    "    if not x['DELAYED_FLAG']:\n",
    "        return 0\n",
    "    # get the slice in cash_installment\n",
    "    slice = cash_installment[cash_installment['SK_ID_PREV'] == x.name]\n",
    "    # get the last installment\n",
    "    last_installment = slice['NUM_INSTALMENT_NUMBER'][\n",
    "        slice['NUM_INSTALMENT_NUMBER'] < 100].max()  # penalty have installment number >100\n",
    "    contract_full_installment = \\\n",
    "    previous_application[previous_application['SK_ID_PREV'] == x.name]['CNT_PAYMENT'].values[0]\n",
    "    contract_annuity = previous_application[previous_application['SK_ID_PREV'] == x.name]['AMT_ANNUITY'].values[0]\n",
    "    if last_installment == contract_full_installment:\n",
    "        # no more future installment\n",
    "        return 0\n",
    "    else:\n",
    "        avg_delayed_days = slice['DAYS_DIFF'][\n",
    "                           -len(slice) // 2:].mean()  # only consider the last half of the installment avg delay\n",
    "        future_loss_every_installment = contract_annuity * (\n",
    "                    1 + daily_interest_rate) ** avg_delayed_days - contract_annuity\n",
    "        numerator = 1 - (1 + monthly_interest_rate) ** (-contract_full_installment + last_installment)\n",
    "        return -(future_loss_every_installment * numerator / monthly_interest_rate)/(1+monthly_interest_rate)**last_installment\n",
    "\n",
    "\n",
    "aggregated_cash_installment['FUTURE_LOSS_DEFAULT'] = aggregated_cash_installment.apply(cal_cash_future_loss_default, axis=1)\n",
    "aggregated_cash_installment['FUTURE_LOSS_DELAYED'] = aggregated_cash_installment.apply(cal_cash_future_loss_delayed, axis=1)"
   ],
   "metadata": {
    "collapsed": false,
    "ExecuteTime": {
     "end_time": "2024-01-01T20:10:43.435056400Z",
     "start_time": "2024-01-01T20:10:29.049378900Z"
    }
   },
   "id": "484620bd60d8249b"
  },
  {
   "cell_type": "code",
   "execution_count": 18,
   "outputs": [
    {
     "data": {
      "text/plain": "            PAST_LOSS_NPV  DELAYED_FLAG  DEFAULT_FLAG  FUTURE_LOSS_DEFAULT  \\\nSK_ID_PREV                                                                   \n1000010         -0.000000             0             0                  0.0   \n1000011         -5.006539             0             0                  0.0   \n1000027         -0.000000             0             0                  0.0   \n1000040         -0.000000             0             0                  0.0   \n1000050         -0.000000             0             0                  0.0   \n...                   ...           ...           ...                  ...   \n2843494         -0.000000             0             0                  0.0   \n2843495         -0.638991             0             0                  0.0   \n2843497         -0.000000             0             0                  0.0   \n2843498         -0.000000             0             0                  0.0   \n2843499         -0.000000             0             0                  0.0   \n\n            FUTURE_LOSS_DELAYED  \nSK_ID_PREV                       \n1000010                       0  \n1000011                       0  \n1000027                       0  \n1000040                       0  \n1000050                       0  \n...                         ...  \n2843494                       0  \n2843495                       0  \n2843497                       0  \n2843498                       0  \n2843499                       0  \n\n[288405 rows x 5 columns]",
      "text/html": "<div>\n<style scoped>\n    .dataframe tbody tr th:only-of-type {\n        vertical-align: middle;\n    }\n\n    .dataframe tbody tr th {\n        vertical-align: top;\n    }\n\n    .dataframe thead th {\n        text-align: right;\n    }\n</style>\n<table border=\"1\" class=\"dataframe\">\n  <thead>\n    <tr style=\"text-align: right;\">\n      <th></th>\n      <th>PAST_LOSS_NPV</th>\n      <th>DELAYED_FLAG</th>\n      <th>DEFAULT_FLAG</th>\n      <th>FUTURE_LOSS_DEFAULT</th>\n      <th>FUTURE_LOSS_DELAYED</th>\n    </tr>\n    <tr>\n      <th>SK_ID_PREV</th>\n      <th></th>\n      <th></th>\n      <th></th>\n      <th></th>\n      <th></th>\n    </tr>\n  </thead>\n  <tbody>\n    <tr>\n      <th>1000010</th>\n      <td>-0.000000</td>\n      <td>0</td>\n      <td>0</td>\n      <td>0.0</td>\n      <td>0</td>\n    </tr>\n    <tr>\n      <th>1000011</th>\n      <td>-5.006539</td>\n      <td>0</td>\n      <td>0</td>\n      <td>0.0</td>\n      <td>0</td>\n    </tr>\n    <tr>\n      <th>1000027</th>\n      <td>-0.000000</td>\n      <td>0</td>\n      <td>0</td>\n      <td>0.0</td>\n      <td>0</td>\n    </tr>\n    <tr>\n      <th>1000040</th>\n      <td>-0.000000</td>\n      <td>0</td>\n      <td>0</td>\n      <td>0.0</td>\n      <td>0</td>\n    </tr>\n    <tr>\n      <th>1000050</th>\n      <td>-0.000000</td>\n      <td>0</td>\n      <td>0</td>\n      <td>0.0</td>\n      <td>0</td>\n    </tr>\n    <tr>\n      <th>...</th>\n      <td>...</td>\n      <td>...</td>\n      <td>...</td>\n      <td>...</td>\n      <td>...</td>\n    </tr>\n    <tr>\n      <th>2843494</th>\n      <td>-0.000000</td>\n      <td>0</td>\n      <td>0</td>\n      <td>0.0</td>\n      <td>0</td>\n    </tr>\n    <tr>\n      <th>2843495</th>\n      <td>-0.638991</td>\n      <td>0</td>\n      <td>0</td>\n      <td>0.0</td>\n      <td>0</td>\n    </tr>\n    <tr>\n      <th>2843497</th>\n      <td>-0.000000</td>\n      <td>0</td>\n      <td>0</td>\n      <td>0.0</td>\n      <td>0</td>\n    </tr>\n    <tr>\n      <th>2843498</th>\n      <td>-0.000000</td>\n      <td>0</td>\n      <td>0</td>\n      <td>0.0</td>\n      <td>0</td>\n    </tr>\n    <tr>\n      <th>2843499</th>\n      <td>-0.000000</td>\n      <td>0</td>\n      <td>0</td>\n      <td>0.0</td>\n      <td>0</td>\n    </tr>\n  </tbody>\n</table>\n<p>288405 rows × 5 columns</p>\n</div>"
     },
     "execution_count": 18,
     "metadata": {},
     "output_type": "execute_result"
    }
   ],
   "source": [
    "aggregated_cash_installment"
   ],
   "metadata": {
    "collapsed": false,
    "ExecuteTime": {
     "end_time": "2024-01-01T20:10:43.547023300Z",
     "start_time": "2024-01-01T20:10:43.439023400Z"
    }
   },
   "id": "8e348f294ec4c62e"
  },
  {
   "cell_type": "code",
   "execution_count": 19,
   "outputs": [],
   "source": [
    "def cal_loan_pv(x):\n",
    "    numerator = 1 - (1 + monthly_interest_rate) ** (-x['CNT_PAYMENT'])\n",
    "    return x['AMT_ANNUITY'] * numerator / monthly_interest_rate-x['AMT_CREDIT']\n",
    "aggregated_cash_installment['LOAN_PV'] = previous_application[previous_application['SK_ID_PREV'].isin(aggregated_cash_installment.index)].set_index('SK_ID_PREV').apply(cal_loan_pv, axis=1)\n",
    "aggregated_cash_installment['LOAN_PROFIT']=aggregated_cash_installment['PAST_LOSS_NPV']+aggregated_cash_installment['FUTURE_LOSS_DEFAULT']+aggregated_cash_installment['FUTURE_LOSS_DELAYED']+aggregated_cash_installment['LOAN_PV']"
   ],
   "metadata": {
    "collapsed": false,
    "ExecuteTime": {
     "end_time": "2024-01-01T20:10:59.736200900Z",
     "start_time": "2024-01-01T20:10:43.478024300Z"
    }
   },
   "id": "d913e1fe34b687e8"
  },
  {
   "cell_type": "code",
   "execution_count": 20,
   "outputs": [
    {
     "data": {
      "text/plain": "<Figure size 640x480 with 1 Axes>",
      "image/png": "[encoded data removed]"
     },
     "metadata": {},
     "output_type": "display_data"
    }
   ],
   "source": [
    "aggregated_cash_installment[aggregated_cash_installment['DEFAULT_FLAG']==1]['LOAN_PROFIT'].hist(bins=100)\n",
    "plt.title('Defaulted loan profit distribution')\n",
    "plt.xlabel('Loan profit')\n",
    "plt.ylabel('Count')\n",
    "plt.show()"
   ],
   "metadata": {
    "collapsed": false,
    "ExecuteTime": {
     "end_time": "2024-01-01T20:11:01.840104400Z",
     "start_time": "2024-01-01T20:10:59.741202900Z"
    }
   },
   "id": "23a5f8b30c32f5d1"
  },
  {
   "cell_type": "code",
   "execution_count": 21,
   "outputs": [
    {
     "data": {
      "text/plain": "<Figure size 640x480 with 1 Axes>",
      "image/png": "[encoded data removed]"
     },
     "metadata": {},
     "output_type": "display_data"
    }
   ],
   "source": [
    "aggregated_cash_installment[aggregated_cash_installment['DEFAULT_FLAG']==0]['LOAN_PROFIT'].hist(bins=100)\n",
    "plt.title('Non-defaulted loan profit distribution')\n",
    "plt.xlabel('Loan profit')\n",
    "plt.ylabel('Count')\n",
    "plt.show()"
   ],
   "metadata": {
    "collapsed": false,
    "ExecuteTime": {
     "end_time": "2024-01-01T20:11:02.289072600Z",
     "start_time": "2024-01-01T20:11:01.713436600Z"
    }
   },
   "id": "598fc2eab61435f"
  },
  {
   "cell_type": "markdown",
   "source": [
    "## 4. Revolving loan"
   ],
   "metadata": {
    "collapsed": false
   },
   "id": "dd653eacfbeb1a7a"
  },
  {
   "cell_type": "code",
   "execution_count": 22,
   "outputs": [],
   "source": [
    "revolving_loan_installment['DAYS_DIFF'] = revolving_loan_installment.apply(\n",
    "    lambda x: x['DAYS_DIFF'] if x['AMOUNT_NOT_PAID'] < 1 else min(abs(x['DAYS_INSTALMENT']), abs(previous_application[previous_application['SK_ID_PREV'] == x['SK_ID_PREV']]['DAYS_TERMINATION'].values[0])), axis=1)  "
   ],
   "metadata": {
    "collapsed": false,
    "ExecuteTime": {
     "end_time": "2024-01-01T20:11:56.421719400Z",
     "start_time": "2024-01-01T20:11:02.290071700Z"
    }
   },
   "id": "bf46b9ca9a26615a"
  },
  {
   "cell_type": "code",
   "execution_count": 23,
   "outputs": [],
   "source": [
    "revolving_loan_installment['AMOUNT_DELAYED_PAYMENT'] = revolving_loan_installment.apply(cal_amount_delayed_payment, axis=1)"
   ],
   "metadata": {
    "collapsed": false,
    "ExecuteTime": {
     "end_time": "2024-01-01T20:12:18.841469100Z",
     "start_time": "2024-01-01T20:11:56.338716900Z"
    }
   },
   "id": "68368dd0e26bb508"
  },
  {
   "cell_type": "code",
   "execution_count": 24,
   "outputs": [
    {
     "data": {
      "text/plain": "          SK_ID_PREV  NUM_INSTALMENT_NUMBER  DAYS_INSTALMENT  \\\n715          1000087                      3           -882.0   \n723          1000087                     11           -760.0   \n725          1000087                     13           -729.0   \n727          1000087                     15           -699.0   \n2336         1000257                      1           -422.0   \n...              ...                    ...              ...   \n12861224     2843461                      3          -2156.0   \n12861269     2843461                     48          -1245.0   \n12861894     2843493                      8           -321.0   \n12861904     2843493                     18           -168.0   \n12861911     2843493                     25            -76.0   \n\n          DAYS_ENTRY_PAYMENT  AMT_INSTALMENT  AMT_PAYMENT  AMOUNT_NOT_PAID  \\\n715                   -880.0        6319.665     6319.665              0.0   \n723                   -759.0        6938.550     6938.550              0.0   \n725                   -727.0        6836.085     6836.085              0.0   \n727                   -697.0        6713.595     6713.595              0.0   \n2336                  -411.0        2395.800     2395.800              0.0   \n...                      ...             ...          ...              ...   \n12861224             -2155.0        4500.000     4500.000              0.0   \n12861269             -1242.0        4500.000     4500.000              0.0   \n12861894              -319.0        3496.230     3496.230              0.0   \n12861904              -167.0        2996.010     2996.010              0.0   \n12861911               -75.0        3748.455     3748.455              0.0   \n\n          DAYS_DIFF  AMOUNT_DELAYED_PAYMENT  \n715             2.0                6319.665  \n723             1.0                6938.550  \n725             2.0                6836.085  \n727             2.0                6713.595  \n2336           11.0                2395.800  \n...             ...                     ...  \n12861224        1.0                4500.000  \n12861269        3.0                4500.000  \n12861894        2.0                3496.230  \n12861904        1.0                2996.010  \n12861911        1.0                3748.455  \n\n[133848 rows x 9 columns]",
      "text/html": "<div>\n<style scoped>\n    .dataframe tbody tr th:only-of-type {\n        vertical-align: middle;\n    }\n\n    .dataframe tbody tr th {\n        vertical-align: top;\n    }\n\n    .dataframe thead th {\n        text-align: right;\n    }\n</style>\n<table border=\"1\" class=\"dataframe\">\n  <thead>\n    <tr style=\"text-align: right;\">\n      <th></th>\n      <th>SK_ID_PREV</th>\n      <th>NUM_INSTALMENT_NUMBER</th>\n      <th>DAYS_INSTALMENT</th>\n      <th>DAYS_ENTRY_PAYMENT</th>\n      <th>AMT_INSTALMENT</th>\n      <th>AMT_PAYMENT</th>\n      <th>AMOUNT_NOT_PAID</th>\n      <th>DAYS_DIFF</th>\n      <th>AMOUNT_DELAYED_PAYMENT</th>\n    </tr>\n  </thead>\n  <tbody>\n    <tr>\n      <th>715</th>\n      <td>1000087</td>\n      <td>3</td>\n      <td>-882.0</td>\n      <td>-880.0</td>\n      <td>6319.665</td>\n      <td>6319.665</td>\n      <td>0.0</td>\n      <td>2.0</td>\n      <td>6319.665</td>\n    </tr>\n    <tr>\n      <th>723</th>\n      <td>1000087</td>\n      <td>11</td>\n      <td>-760.0</td>\n      <td>-759.0</td>\n      <td>6938.550</td>\n      <td>6938.550</td>\n      <td>0.0</td>\n      <td>1.0</td>\n      <td>6938.550</td>\n    </tr>\n    <tr>\n      <th>725</th>\n      <td>1000087</td>\n      <td>13</td>\n      <td>-729.0</td>\n      <td>-727.0</td>\n      <td>6836.085</td>\n      <td>6836.085</td>\n      <td>0.0</td>\n      <td>2.0</td>\n      <td>6836.085</td>\n    </tr>\n    <tr>\n      <th>727</th>\n      <td>1000087</td>\n      <td>15</td>\n      <td>-699.0</td>\n      <td>-697.0</td>\n      <td>6713.595</td>\n      <td>6713.595</td>\n      <td>0.0</td>\n      <td>2.0</td>\n      <td>6713.595</td>\n    </tr>\n    <tr>\n      <th>2336</th>\n      <td>1000257</td>\n      <td>1</td>\n      <td>-422.0</td>\n      <td>-411.0</td>\n      <td>2395.800</td>\n      <td>2395.800</td>\n      <td>0.0</td>\n      <td>11.0</td>\n      <td>2395.800</td>\n    </tr>\n    <tr>\n      <th>...</th>\n      <td>...</td>\n      <td>...</td>\n      <td>...</td>\n      <td>...</td>\n      <td>...</td>\n      <td>...</td>\n      <td>...</td>\n      <td>...</td>\n      <td>...</td>\n    </tr>\n    <tr>\n      <th>12861224</th>\n      <td>2843461</td>\n      <td>3</td>\n      <td>-2156.0</td>\n      <td>-2155.0</td>\n      <td>4500.000</td>\n      <td>4500.000</td>\n      <td>0.0</td>\n      <td>1.0</td>\n      <td>4500.000</td>\n    </tr>\n    <tr>\n      <th>12861269</th>\n      <td>2843461</td>\n      <td>48</td>\n      <td>-1245.0</td>\n      <td>-1242.0</td>\n      <td>4500.000</td>\n      <td>4500.000</td>\n      <td>0.0</td>\n      <td>3.0</td>\n      <td>4500.000</td>\n    </tr>\n    <tr>\n      <th>12861894</th>\n      <td>2843493</td>\n      <td>8</td>\n      <td>-321.0</td>\n      <td>-319.0</td>\n      <td>3496.230</td>\n      <td>3496.230</td>\n      <td>0.0</td>\n      <td>2.0</td>\n      <td>3496.230</td>\n    </tr>\n    <tr>\n      <th>12861904</th>\n      <td>2843493</td>\n      <td>18</td>\n      <td>-168.0</td>\n      <td>-167.0</td>\n      <td>2996.010</td>\n      <td>2996.010</td>\n      <td>0.0</td>\n      <td>1.0</td>\n      <td>2996.010</td>\n    </tr>\n    <tr>\n      <th>12861911</th>\n      <td>2843493</td>\n      <td>25</td>\n      <td>-76.0</td>\n      <td>-75.0</td>\n      <td>3748.455</td>\n      <td>3748.455</td>\n      <td>0.0</td>\n      <td>1.0</td>\n      <td>3748.455</td>\n    </tr>\n  </tbody>\n</table>\n<p>133848 rows × 9 columns</p>\n</div>"
     },
     "execution_count": 24,
     "metadata": {},
     "output_type": "execute_result"
    }
   ],
   "source": [
    "revolving_loan_installment[revolving_loan_installment['AMOUNT_DELAYED_PAYMENT']>0]"
   ],
   "metadata": {
    "collapsed": false,
    "ExecuteTime": {
     "end_time": "2024-01-01T20:12:18.997071300Z",
     "start_time": "2024-01-01T20:12:18.834472Z"
    }
   },
   "id": "34489abb06561e81"
  },
  {
   "cell_type": "code",
   "execution_count": 25,
   "outputs": [],
   "source": [
    "aggregated_revolving_loan_installment = pd.DataFrame()\n",
    "\n",
    "aggregated_revolving_loan_installment['DELAYED_FLAG'] = revolving_loan_installment.groupby('SK_ID_PREV').apply(flag_delayed)\n",
    "aggregated_revolving_loan_installment['DEFAULT_FLAG'] = revolving_loan_installment.groupby('SK_ID_PREV').apply(flag_default)"
   ],
   "metadata": {
    "collapsed": false,
    "ExecuteTime": {
     "end_time": "2024-01-01T20:13:08.626248800Z",
     "start_time": "2024-01-01T20:12:18.993070700Z"
    }
   },
   "id": "aaf71b89540c795a"
  },
  {
   "cell_type": "code",
   "execution_count": 26,
   "outputs": [
    {
     "ename": "KeyError",
     "evalue": "'DELAYED_FLAG'",
     "output_type": "error",
     "traceback": [
      "\u001B[1;31m---------------------------------------------------------------------------\u001B[0m",
      "\u001B[1;31mKeyError\u001B[0m                                  Traceback (most recent call last)",
      "File \u001B[1;32m~\\AppData\\Roaming\\Python\\Python38\\site-packages\\pandas\\core\\indexes\\base.py:3802\u001B[0m, in \u001B[0;36mIndex.get_loc\u001B[1;34m(self, key, method, tolerance)\u001B[0m\n\u001B[0;32m   3801\u001B[0m \u001B[38;5;28;01mtry\u001B[39;00m:\n\u001B[1;32m-> 3802\u001B[0m     \u001B[38;5;28;01mreturn\u001B[39;00m \u001B[38;5;28;43mself\u001B[39;49m\u001B[38;5;241;43m.\u001B[39;49m\u001B[43m_engine\u001B[49m\u001B[38;5;241;43m.\u001B[39;49m\u001B[43mget_loc\u001B[49m\u001B[43m(\u001B[49m\u001B[43mcasted_key\u001B[49m\u001B[43m)\u001B[49m\n\u001B[0;32m   3803\u001B[0m \u001B[38;5;28;01mexcept\u001B[39;00m \u001B[38;5;167;01mKeyError\u001B[39;00m \u001B[38;5;28;01mas\u001B[39;00m err:\n",
      "File \u001B[1;32m~\\AppData\\Roaming\\Python\\Python38\\site-packages\\pandas\\_libs\\index.pyx:138\u001B[0m, in \u001B[0;36mpandas._libs.index.IndexEngine.get_loc\u001B[1;34m()\u001B[0m\n",
      "File \u001B[1;32m~\\AppData\\Roaming\\Python\\Python38\\site-packages\\pandas\\_libs\\index.pyx:165\u001B[0m, in \u001B[0;36mpandas._libs.index.IndexEngine.get_loc\u001B[1;34m()\u001B[0m\n",
      "File \u001B[1;32mpandas\\_libs\\hashtable_class_helper.pxi:5745\u001B[0m, in \u001B[0;36mpandas._libs.hashtable.PyObjectHashTable.get_item\u001B[1;34m()\u001B[0m\n",
      "File \u001B[1;32mpandas\\_libs\\hashtable_class_helper.pxi:5753\u001B[0m, in \u001B[0;36mpandas._libs.hashtable.PyObjectHashTable.get_item\u001B[1;34m()\u001B[0m\n",
      "\u001B[1;31mKeyError\u001B[0m: 'DELAYED_FLAG'",
      "\nThe above exception was the direct cause of the following exception:\n",
      "\u001B[1;31mKeyError\u001B[0m                                  Traceback (most recent call last)",
      "Cell \u001B[1;32mIn[26], line 38\u001B[0m\n\u001B[0;32m     36\u001B[0m     commitment_fee \u001B[38;5;241m=\u001B[39m commitment_cal[\u001B[38;5;124m'\u001B[39m\u001B[38;5;124mAMT_INSTALMENT\u001B[39m\u001B[38;5;124m'\u001B[39m]\u001B[38;5;241m*\u001B[39mcommitment_cal[\u001B[38;5;124m'\u001B[39m\u001B[38;5;124mratio\u001B[39m\u001B[38;5;124m'\u001B[39m]\u001B[38;5;241m*\u001B[39m\u001B[38;5;241m0.001\u001B[39m \u001B[38;5;241m/\u001B[39m(\u001B[38;5;241m1\u001B[39m\u001B[38;5;241m+\u001B[39mmonthly_interest_rate)\u001B[38;5;241m*\u001B[39m\u001B[38;5;241m*\u001B[39mcommitment_cal[\u001B[38;5;124m'\u001B[39m\u001B[38;5;124mNUM_INSTALMENT_NUMBER\u001B[39m\u001B[38;5;124m'\u001B[39m]\u001B[38;5;66;03m# 10 base point \u001B[39;00m\n\u001B[0;32m     37\u001B[0m     \u001B[38;5;28;01mreturn\u001B[39;00m commitment_fee\u001B[38;5;241m.\u001B[39msum()\u001B[38;5;241m+\u001B[39mupfront_fee\n\u001B[1;32m---> 38\u001B[0m aggregated_revolving_loan_installment[\u001B[38;5;124m'\u001B[39m\u001B[38;5;124mFUTURE_LOSS_DELAYED\u001B[39m\u001B[38;5;124m'\u001B[39m]\u001B[38;5;241m=\u001B[39m\u001B[43mrevolving_loan_installment\u001B[49m\u001B[38;5;241;43m.\u001B[39;49m\u001B[43mgroupby\u001B[49m\u001B[43m(\u001B[49m\u001B[38;5;124;43m'\u001B[39;49m\u001B[38;5;124;43mSK_ID_PREV\u001B[39;49m\u001B[38;5;124;43m'\u001B[39;49m\u001B[43m)\u001B[49m\u001B[38;5;241;43m.\u001B[39;49m\u001B[43mapply\u001B[49m\u001B[43m(\u001B[49m\u001B[43mcal_revolving_future_loss_delayed\u001B[49m\u001B[43m)\u001B[49m\n\u001B[0;32m     39\u001B[0m aggregated_revolving_loan_installment[\u001B[38;5;124m'\u001B[39m\u001B[38;5;124mPAST_LOSS_NPV\u001B[39m\u001B[38;5;124m'\u001B[39m] \u001B[38;5;241m=\u001B[39m revolving_loan_installment\u001B[38;5;241m.\u001B[39mgroupby(\u001B[38;5;124m'\u001B[39m\u001B[38;5;124mSK_ID_PREV\u001B[39m\u001B[38;5;124m'\u001B[39m)\u001B[38;5;241m.\u001B[39mapply(cal_revolving_past_loss_default)  \u001B[38;5;66;03m# pass loss net present value\u001B[39;00m\n\u001B[0;32m     40\u001B[0m aggregated_revolving_loan_installment[\u001B[38;5;124m'\u001B[39m\u001B[38;5;124mPAST_PROFIT_NPV\u001B[39m\u001B[38;5;124m'\u001B[39m]\u001B[38;5;241m=\u001B[39mrevolving_loan_installment\u001B[38;5;241m.\u001B[39mgroupby(\u001B[38;5;124m'\u001B[39m\u001B[38;5;124mSK_ID_PREV\u001B[39m\u001B[38;5;124m'\u001B[39m)\u001B[38;5;241m.\u001B[39mapply(cal_revolving_npv_profit)\n",
      "File \u001B[1;32m~\\AppData\\Roaming\\Python\\Python38\\site-packages\\pandas\\core\\groupby\\groupby.py:1567\u001B[0m, in \u001B[0;36mGroupBy.apply\u001B[1;34m(self, func, *args, **kwargs)\u001B[0m\n\u001B[0;32m   1559\u001B[0m     new_msg \u001B[38;5;241m=\u001B[39m (\n\u001B[0;32m   1560\u001B[0m         \u001B[38;5;124mf\u001B[39m\u001B[38;5;124m\"\u001B[39m\u001B[38;5;124mThe operation \u001B[39m\u001B[38;5;132;01m{\u001B[39;00morig_func\u001B[38;5;132;01m}\u001B[39;00m\u001B[38;5;124m failed on a column. If any error is \u001B[39m\u001B[38;5;124m\"\u001B[39m\n\u001B[0;32m   1561\u001B[0m         \u001B[38;5;124mf\u001B[39m\u001B[38;5;124m\"\u001B[39m\u001B[38;5;124mraised, this will raise an exception in a future version \u001B[39m\u001B[38;5;124m\"\u001B[39m\n\u001B[0;32m   1562\u001B[0m         \u001B[38;5;124mf\u001B[39m\u001B[38;5;124m\"\u001B[39m\u001B[38;5;124mof pandas. Drop these columns to avoid this warning.\u001B[39m\u001B[38;5;124m\"\u001B[39m\n\u001B[0;32m   1563\u001B[0m     )\n\u001B[0;32m   1564\u001B[0m     \u001B[38;5;28;01mwith\u001B[39;00m rewrite_warning(\n\u001B[0;32m   1565\u001B[0m         old_msg, \u001B[38;5;167;01mFutureWarning\u001B[39;00m, new_msg\n\u001B[0;32m   1566\u001B[0m     ) \u001B[38;5;28;01mif\u001B[39;00m is_np_func \u001B[38;5;28;01melse\u001B[39;00m nullcontext():\n\u001B[1;32m-> 1567\u001B[0m         result \u001B[38;5;241m=\u001B[39m \u001B[38;5;28;43mself\u001B[39;49m\u001B[38;5;241;43m.\u001B[39;49m\u001B[43m_python_apply_general\u001B[49m\u001B[43m(\u001B[49m\u001B[43mf\u001B[49m\u001B[43m,\u001B[49m\u001B[43m \u001B[49m\u001B[38;5;28;43mself\u001B[39;49m\u001B[38;5;241;43m.\u001B[39;49m\u001B[43m_selected_obj\u001B[49m\u001B[43m)\u001B[49m\n\u001B[0;32m   1568\u001B[0m \u001B[38;5;28;01mexcept\u001B[39;00m \u001B[38;5;167;01mTypeError\u001B[39;00m:\n\u001B[0;32m   1569\u001B[0m     \u001B[38;5;66;03m# gh-20949\u001B[39;00m\n\u001B[0;32m   1570\u001B[0m     \u001B[38;5;66;03m# try again, with .apply acting as a filtering\u001B[39;00m\n\u001B[1;32m   (...)\u001B[0m\n\u001B[0;32m   1574\u001B[0m     \u001B[38;5;66;03m# fails on *some* columns, e.g. a numeric operation\u001B[39;00m\n\u001B[0;32m   1575\u001B[0m     \u001B[38;5;66;03m# on a string grouper column\u001B[39;00m\n\u001B[0;32m   1577\u001B[0m     \u001B[38;5;28;01mwith\u001B[39;00m \u001B[38;5;28mself\u001B[39m\u001B[38;5;241m.\u001B[39m_group_selection_context():\n\u001B[0;32m   1578\u001B[0m         \u001B[38;5;66;03m# GH#50538\u001B[39;00m\n",
      "File \u001B[1;32m~\\AppData\\Roaming\\Python\\Python38\\site-packages\\pandas\\core\\groupby\\groupby.py:1629\u001B[0m, in \u001B[0;36mGroupBy._python_apply_general\u001B[1;34m(self, f, data, not_indexed_same, is_transform, is_agg)\u001B[0m\n\u001B[0;32m   1592\u001B[0m \u001B[38;5;129m@final\u001B[39m\n\u001B[0;32m   1593\u001B[0m \u001B[38;5;28;01mdef\u001B[39;00m \u001B[38;5;21m_python_apply_general\u001B[39m(\n\u001B[0;32m   1594\u001B[0m     \u001B[38;5;28mself\u001B[39m,\n\u001B[1;32m   (...)\u001B[0m\n\u001B[0;32m   1599\u001B[0m     is_agg: \u001B[38;5;28mbool\u001B[39m \u001B[38;5;241m=\u001B[39m \u001B[38;5;28;01mFalse\u001B[39;00m,\n\u001B[0;32m   1600\u001B[0m ) \u001B[38;5;241m-\u001B[39m\u001B[38;5;241m>\u001B[39m NDFrameT:\n\u001B[0;32m   1601\u001B[0m \u001B[38;5;250m    \u001B[39m\u001B[38;5;124;03m\"\"\"\u001B[39;00m\n\u001B[0;32m   1602\u001B[0m \u001B[38;5;124;03m    Apply function f in python space\u001B[39;00m\n\u001B[0;32m   1603\u001B[0m \n\u001B[1;32m   (...)\u001B[0m\n\u001B[0;32m   1627\u001B[0m \u001B[38;5;124;03m        data after applying f\u001B[39;00m\n\u001B[0;32m   1628\u001B[0m \u001B[38;5;124;03m    \"\"\"\u001B[39;00m\n\u001B[1;32m-> 1629\u001B[0m     values, mutated \u001B[38;5;241m=\u001B[39m \u001B[38;5;28;43mself\u001B[39;49m\u001B[38;5;241;43m.\u001B[39;49m\u001B[43mgrouper\u001B[49m\u001B[38;5;241;43m.\u001B[39;49m\u001B[43mapply\u001B[49m\u001B[43m(\u001B[49m\u001B[43mf\u001B[49m\u001B[43m,\u001B[49m\u001B[43m \u001B[49m\u001B[43mdata\u001B[49m\u001B[43m,\u001B[49m\u001B[43m \u001B[49m\u001B[38;5;28;43mself\u001B[39;49m\u001B[38;5;241;43m.\u001B[39;49m\u001B[43maxis\u001B[49m\u001B[43m)\u001B[49m\n\u001B[0;32m   1630\u001B[0m     \u001B[38;5;28;01mif\u001B[39;00m not_indexed_same \u001B[38;5;129;01mis\u001B[39;00m \u001B[38;5;28;01mNone\u001B[39;00m:\n\u001B[0;32m   1631\u001B[0m         not_indexed_same \u001B[38;5;241m=\u001B[39m mutated \u001B[38;5;129;01mor\u001B[39;00m \u001B[38;5;28mself\u001B[39m\u001B[38;5;241m.\u001B[39mmutated\n",
      "File \u001B[1;32m~\\AppData\\Roaming\\Python\\Python38\\site-packages\\pandas\\core\\groupby\\ops.py:839\u001B[0m, in \u001B[0;36mBaseGrouper.apply\u001B[1;34m(self, f, data, axis)\u001B[0m\n\u001B[0;32m    837\u001B[0m \u001B[38;5;66;03m# group might be modified\u001B[39;00m\n\u001B[0;32m    838\u001B[0m group_axes \u001B[38;5;241m=\u001B[39m group\u001B[38;5;241m.\u001B[39maxes\n\u001B[1;32m--> 839\u001B[0m res \u001B[38;5;241m=\u001B[39m \u001B[43mf\u001B[49m\u001B[43m(\u001B[49m\u001B[43mgroup\u001B[49m\u001B[43m)\u001B[49m\n\u001B[0;32m    840\u001B[0m \u001B[38;5;28;01mif\u001B[39;00m \u001B[38;5;129;01mnot\u001B[39;00m mutated \u001B[38;5;129;01mand\u001B[39;00m \u001B[38;5;129;01mnot\u001B[39;00m _is_indexed_like(res, group_axes, axis):\n\u001B[0;32m    841\u001B[0m     mutated \u001B[38;5;241m=\u001B[39m \u001B[38;5;28;01mTrue\u001B[39;00m\n",
      "Cell \u001B[1;32mIn[26], line 2\u001B[0m, in \u001B[0;36mcal_revolving_future_loss_delayed\u001B[1;34m(x)\u001B[0m\n\u001B[0;32m      1\u001B[0m \u001B[38;5;28;01mdef\u001B[39;00m \u001B[38;5;21mcal_revolving_future_loss_delayed\u001B[39m(x):\n\u001B[1;32m----> 2\u001B[0m     \u001B[38;5;28;01mif\u001B[39;00m \u001B[38;5;129;01mnot\u001B[39;00m \u001B[43mx\u001B[49m\u001B[43m[\u001B[49m\u001B[38;5;124;43m'\u001B[39;49m\u001B[38;5;124;43mDELAYED_FLAG\u001B[39;49m\u001B[38;5;124;43m'\u001B[39;49m\u001B[43m]\u001B[49m:\n\u001B[0;32m      3\u001B[0m         \u001B[38;5;28;01mreturn\u001B[39;00m \u001B[38;5;241m0\u001B[39m\n\u001B[0;32m      4\u001B[0m     \u001B[38;5;66;03m# get the slice in cash_installment\u001B[39;00m\n",
      "File \u001B[1;32m~\\AppData\\Roaming\\Python\\Python38\\site-packages\\pandas\\core\\frame.py:3807\u001B[0m, in \u001B[0;36mDataFrame.__getitem__\u001B[1;34m(self, key)\u001B[0m\n\u001B[0;32m   3805\u001B[0m \u001B[38;5;28;01mif\u001B[39;00m \u001B[38;5;28mself\u001B[39m\u001B[38;5;241m.\u001B[39mcolumns\u001B[38;5;241m.\u001B[39mnlevels \u001B[38;5;241m>\u001B[39m \u001B[38;5;241m1\u001B[39m:\n\u001B[0;32m   3806\u001B[0m     \u001B[38;5;28;01mreturn\u001B[39;00m \u001B[38;5;28mself\u001B[39m\u001B[38;5;241m.\u001B[39m_getitem_multilevel(key)\n\u001B[1;32m-> 3807\u001B[0m indexer \u001B[38;5;241m=\u001B[39m \u001B[38;5;28;43mself\u001B[39;49m\u001B[38;5;241;43m.\u001B[39;49m\u001B[43mcolumns\u001B[49m\u001B[38;5;241;43m.\u001B[39;49m\u001B[43mget_loc\u001B[49m\u001B[43m(\u001B[49m\u001B[43mkey\u001B[49m\u001B[43m)\u001B[49m\n\u001B[0;32m   3808\u001B[0m \u001B[38;5;28;01mif\u001B[39;00m is_integer(indexer):\n\u001B[0;32m   3809\u001B[0m     indexer \u001B[38;5;241m=\u001B[39m [indexer]\n",
      "File \u001B[1;32m~\\AppData\\Roaming\\Python\\Python38\\site-packages\\pandas\\core\\indexes\\base.py:3804\u001B[0m, in \u001B[0;36mIndex.get_loc\u001B[1;34m(self, key, method, tolerance)\u001B[0m\n\u001B[0;32m   3802\u001B[0m     \u001B[38;5;28;01mreturn\u001B[39;00m \u001B[38;5;28mself\u001B[39m\u001B[38;5;241m.\u001B[39m_engine\u001B[38;5;241m.\u001B[39mget_loc(casted_key)\n\u001B[0;32m   3803\u001B[0m \u001B[38;5;28;01mexcept\u001B[39;00m \u001B[38;5;167;01mKeyError\u001B[39;00m \u001B[38;5;28;01mas\u001B[39;00m err:\n\u001B[1;32m-> 3804\u001B[0m     \u001B[38;5;28;01mraise\u001B[39;00m \u001B[38;5;167;01mKeyError\u001B[39;00m(key) \u001B[38;5;28;01mfrom\u001B[39;00m \u001B[38;5;21;01merr\u001B[39;00m\n\u001B[0;32m   3805\u001B[0m \u001B[38;5;28;01mexcept\u001B[39;00m \u001B[38;5;167;01mTypeError\u001B[39;00m:\n\u001B[0;32m   3806\u001B[0m     \u001B[38;5;66;03m# If we have a listlike key, _check_indexing_error will raise\u001B[39;00m\n\u001B[0;32m   3807\u001B[0m     \u001B[38;5;66;03m#  InvalidIndexError. Otherwise we fall through and re-raise\u001B[39;00m\n\u001B[0;32m   3808\u001B[0m     \u001B[38;5;66;03m#  the TypeError.\u001B[39;00m\n\u001B[0;32m   3809\u001B[0m     \u001B[38;5;28mself\u001B[39m\u001B[38;5;241m.\u001B[39m_check_indexing_error(key)\n",
      "\u001B[1;31mKeyError\u001B[0m: 'DELAYED_FLAG'"
     ]
    }
   ],
   "source": [
    "def cal_revolving_future_loss_delayed(x):\n",
    "    if not x['DELAYED_FLAG']:\n",
    "        return 0\n",
    "    # get the slice in cash_installment\n",
    "    x_slice = revolving_loan_installment[revolving_loan_installment['SK_ID_PREV'] == x.name]\n",
    "    # get the last installment\n",
    "    avg_delayed_days = x_slice['DAYS_DIFF'][\n",
    "                       -len(x_slice) // 2:].mean()  # only consider the last half of the installment avg delay\n",
    "    avg_delayed_amount = x_slice['AMOUNT_DELAYED_PAYMENT'][\n",
    "                       -len(x_slice) // 2:].mean()\n",
    "    future_loss_every_installment = avg_delayed_amount * (\n",
    "                1 + daily_interest_rate) ** avg_delayed_days - avg_delayed_amount\n",
    "    # calculate in a perpetuity way \n",
    "    future_loss_every_installment/=monthly_interest_rate\n",
    "    # discount back to day 1\n",
    "    future_loss_every_installment/=(1+monthly_interest_rate)**x_slice['NUM_INSTALMENT_NUMBER'].max()\n",
    "    return -future_loss_every_installment\n",
    "\n",
    "def cal_revolving_past_loss_default(x):\n",
    "    if not x['DEFAULT_FLAG']:\n",
    "        return 0\n",
    "    x_slice =  revolving_loan_installment[revolving_loan_installment['SK_ID_PREV'] == x.name]\n",
    "    # discount back to npv\n",
    "    delayed_npv = x_slice['AMOUNT_DELAYED_PAYMENT']*(1+daily_interest_rate)**x_slice['DAYS_DIFF']-x_slice['AMOUNT_DELAYED_PAYMENT']\n",
    "    default_npv=x_slice['AMOUNT_NOT_PAID']/(1+monthly_interest_rate)**x_slice['NUM_INSTALMENT_NUMBER']\n",
    "    return -(delayed_npv.sum()+default_npv.sum())\n",
    "    \n",
    "def cal_revolving_npv_profit(x):\n",
    "    # https://www.wallstreetprep.com/knowledge/corporate-banking-101-revolving-credit-facilities/\n",
    "    x_slice = x[x['AMOUNT_NOT_PAID']<1]\n",
    "    total_credit=previous_application[previous_application['SK_ID_PREV']==x.name]['AMT_ANNUITY']\n",
    "    upfront_fee = total_credit*0.001*(len(x_slice)//12)# 10 base point per annual \n",
    "    commitment_cal = x_slice.loc[:,['NUM_INSTALMENT_NUMBER','AMT_INSTALMENT']].copy()\n",
    "    commitment_cal['ratio']=1-commitment_cal['AMT_INSTALMENT']/total_credit\n",
    "    commitment_cal = commitment_cal[commitment_cal['ratio']]>0.2\n",
    "    commitment_fee = commitment_cal['AMT_INSTALMENT']*commitment_cal['ratio']*0.001 /(1+monthly_interest_rate)**commitment_cal['NUM_INSTALMENT_NUMBER']# 10 base point \n",
    "    return commitment_fee.sum()+upfront_fee\n",
    "aggregated_revolving_loan_installment['FUTURE_LOSS_DELAYED']=revolving_loan_installment.groupby('SK_ID_PREV').apply(cal_revolving_future_loss_delayed)\n",
    "aggregated_revolving_loan_installment['PAST_LOSS_NPV'] = revolving_loan_installment.groupby('SK_ID_PREV').apply(cal_revolving_past_loss_default)  # pass loss net present value\n",
    "aggregated_revolving_loan_installment['PAST_PROFIT_NPV']=revolving_loan_installment.groupby('SK_ID_PREV').apply(cal_revolving_npv_profit)"
   ],
   "metadata": {
    "collapsed": false,
    "ExecuteTime": {
     "end_time": "2024-01-01T20:13:11.176146900Z",
     "start_time": "2024-01-01T20:13:08.636215700Z"
    }
   },
   "id": "94dad01588dc30ed"
  },
  {
   "cell_type": "code",
   "execution_count": null,
   "outputs": [],
   "source": [
    "aggregated_revolving_loan_installment['LOAN_PROFIT']=aggregated_revolving_loan_installment['PAST_PROFIT_NPV']+aggregated_revolving_loan_installment['PAST_LOSS_NPV']+aggregated_revolving_loan_installment['FUTURE_LOSS_DELAYED']"
   ],
   "metadata": {
    "collapsed": false,
    "ExecuteTime": {
     "start_time": "2024-01-01T20:13:11.180146400Z"
    }
   },
   "id": "7fd8f648dab17a54"
  },
  {
   "cell_type": "code",
   "execution_count": null,
   "outputs": [],
   "source": [
    "aggregated_revolving_loan_installment[aggregated_revolving_loan_installment['DEFAULT_FLAG']==1]['LOAN_PROFIT'].hist()"
   ],
   "metadata": {
    "collapsed": false,
    "ExecuteTime": {
     "start_time": "2024-01-01T20:13:11.183145800Z"
    }
   },
   "id": "7aeb66516421c3a"
  },
  {
   "cell_type": "code",
   "execution_count": null,
   "outputs": [],
   "source": [
    "aggregated_revolving_loan_installment[aggregated_revolving_loan_installment['DEFAULT_FLAG']==0]['LOAN_PROFIT'].hist()"
   ],
   "metadata": {
    "collapsed": false,
    "ExecuteTime": {
     "end_time": "2024-01-01T20:13:11.195145800Z",
     "start_time": "2024-01-01T20:13:11.186147200Z"
    }
   },
   "id": "a1fc6554f84b59b2"
  },
  {
   "cell_type": "code",
   "execution_count": null,
   "outputs": [],
   "source": [],
   "metadata": {
    "collapsed": false,
    "ExecuteTime": {
     "start_time": "2024-01-01T20:13:11.189146400Z"
    }
   },
   "id": "88bba521105a8b28"
  }
 ],
 "metadata": {
  "kernelspec": {
   "display_name": "Python 3",
   "language": "python",
   "name": "python3"
  },
  "language_info": {
   "codemirror_mode": {
    "name": "ipython",
    "version": 2
   },
   "file_extension": ".py",
   "mimetype": "text/x-python",
   "name": "python",
   "nbconvert_exporter": "python",
   "pygments_lexer": "ipython2",
   "version": "2.7.6"
  }
 },
 "nbformat": 4,
 "nbformat_minor": 5
}
