{
 "cells": [
  {
   "cell_type": "code",
   "execution_count": 12,
   "id": "initial_id",
   "metadata": {
    "collapsed": true,
    "ExecuteTime": {
     "end_time": "2023-12-22T04:32:50.834058400Z",
     "start_time": "2023-12-22T04:32:50.762984300Z"
    }
   },
   "outputs": [],
   "source": [
    "import numpy as np\n",
    "import pandas as pd\n",
    "import matplotlib.pyplot as plt"
   ]
  },
  {
   "cell_type": "code",
   "execution_count": 13,
   "outputs": [],
   "source": [
    "# get cleaned data\n",
    "cleaned_data = pd.read_csv('src/cleaned_data.csv')"
   ],
   "metadata": {
    "collapsed": false,
    "ExecuteTime": {
     "end_time": "2023-12-22T04:33:21.305539600Z",
     "start_time": "2023-12-22T04:32:50.837104Z"
    }
   },
   "id": "add457ed767abe8c"
  },
  {
   "cell_type": "code",
   "execution_count": 14,
   "outputs": [
    {
     "data": {
      "text/plain": "0"
     },
     "execution_count": 14,
     "metadata": {},
     "output_type": "execute_result"
    }
   ],
   "source": [
    "cleaned_data.isnull().sum().sum()"
   ],
   "metadata": {
    "collapsed": false,
    "ExecuteTime": {
     "end_time": "2023-12-22T04:33:21.894540Z",
     "start_time": "2023-12-22T04:33:21.319542500Z"
    }
   },
   "id": "f0d4a1fa23d318f9"
  },
  {
   "cell_type": "code",
   "execution_count": 15,
   "outputs": [
    {
     "data": {
      "text/plain": "0"
     },
     "execution_count": 15,
     "metadata": {},
     "output_type": "execute_result"
    }
   ],
   "source": [
    "# check if there is any inf or -inf value\n",
    "np.isinf(cleaned_data).sum().sum()"
   ],
   "metadata": {
    "collapsed": false,
    "ExecuteTime": {
     "end_time": "2023-12-22T04:33:22.352538Z",
     "start_time": "2023-12-22T04:33:21.888540600Z"
    }
   },
   "id": "1ec015f4312bce58"
  },
  {
   "cell_type": "code",
   "execution_count": 16,
   "outputs": [
    {
     "data": {
      "text/plain": "0.0      44020\n1.0      36072\n2.0      35635\n3.0      32925\n4.0      28973\n         ...  \n61.0         1\n58.0         1\n53.0         1\n116.0        1\n59.0         1\nName: BUREAU_SK_ID_BUREAU_COUNT, Length: 61, dtype: int64"
     },
     "execution_count": 16,
     "metadata": {},
     "output_type": "execute_result"
    }
   ],
   "source": [
    "cleaned_data['BUREAU_SK_ID_BUREAU_COUNT'].value_counts()"
   ],
   "metadata": {
    "collapsed": false,
    "ExecuteTime": {
     "end_time": "2023-12-22T04:33:22.411540400Z",
     "start_time": "2023-12-22T04:33:22.346538400Z"
    }
   },
   "id": "b4f2e9d70b0e8584"
  },
  {
   "cell_type": "code",
   "execution_count": 28,
   "outputs": [
    {
     "name": "stderr",
     "output_type": "stream",
     "text": [
      "C:\\Users\\kevin\\AppData\\Roaming\\Python\\Python38\\site-packages\\pandas\\core\\arraylike.py:402: RuntimeWarning: overflow encountered in exp\n",
      "  result = getattr(ufunc, method)(*inputs, **kwargs)\n"
     ]
    }
   ],
   "source": [
    "possible_feature = pd.DataFrame()\n",
    "possible_feature['SK_ID_CURR'] = cleaned_data['SK_ID_CURR']\n",
    "#Average frequency of taking out loans\n",
    "possible_feature['Freq_take_loan_avg'] = (cleaned_data['BUREAU_DAYS_CREDIT_max'] - cleaned_data[\n",
    "    'BUREAU_DAYS_CREDIT_min']) / 30 / cleaned_data.BUREAU_SK_ID_BUREAU_COUNT\n",
    "#Percentage of previous instalment paid \n",
    "possible_feature['Pct_prev_ins_paid'] = (cleaned_data.INS_AMT_PAYMENT_sum / cleaned_data.INS_AMT_INSTALMENT_sum) ** 4\n",
    "#Average loan amount approved previously for each month\n",
    "possible_feature[\n",
    "    'avg_credit_approval_per_month'] = cleaned_data.PREV_APP_AMT_CREDIT_sum / cleaned_data.PREV_APP_CNT_PAYMENT_sum\n",
    "#Previous annuity amount as pct of income\n",
    "possible_feature['Pct_prev_annuity_in_income'] = (cleaned_data.PREV_APP_AMT_ANNUITY_mean * np.exp(\n",
    "    0.05 * abs(cleaned_data.PREV_APP_DAYS_DECISION_mean) / 365)) / cleaned_data.APP_AMT_INCOME_TOTAL\n",
    "#Work percentage of life\n",
    "possible_feature['Pct_work_life'] = cleaned_data.APP_DAYS_EMPLOYED / cleaned_data.APP_DAYS_BIRTH\n",
    "#good price as pct of credit amount\n",
    "possible_feature[\n",
    "    'Pct_good_p_in_credit_prev'] = cleaned_data.PREV_APP_AMT_GOODS_PRICE_sum / cleaned_data.PREV_APP_AMT_CREDIT_sum\n",
    "possible_feature['Pct_good_p_in_credit_curr'] = cleaned_data.APP_AMT_GOODS_PRICE / cleaned_data.APP_AMT_CREDIT\n",
    "#amount of instal overdue per day\n",
    "possible_feature['Amt_ins_overdue_daily'] = cleaned_data.INS_AMT_INSTALMENT_sum / abs(\n",
    "    cleaned_data.INS_DAYS_ENTRY_PAYMENT_sum - cleaned_data.INS_DAYS_INSTALMENT_sum)\n",
    "# prob runaway\n",
    "possible_feature['runaway'] = np.sqrt(\n",
    "    cleaned_data.APP_DAYS_ID_PUBLISH * cleaned_data.APP_DAYS_LAST_PHONE_CHANGE) * cleaned_data.CNT_DRAWINGS_CURRENT * cleaned_data.CC_AMT_DRAWINGS_CURRENT_sum\n",
    "possible_feature['approval_imbalance'] = (\n",
    "                                                 cleaned_data.PREV_APP_AMT_APPLICATION_sum - cleaned_data.PREV_APP_AMT_CREDIT_sum) / (\n",
    "                                                 cleaned_data.PREV_APP_AMT_APPLICATION_sum + cleaned_data.PREV_APP_AMT_CREDIT_sum)\n",
    "possible_feature[\n",
    "    'downpayment_percent'] = cleaned_data.PREV_APP_AMT_DOWN_PAYMENT_sum / cleaned_data.PREV_APP_AMT_GOODS_PRICE_sum\n",
    "possible_feature[\n",
    "    'avg_atm_withdrawl'] = cleaned_data.CC_AMT_DRAWINGS_ATM_CURRENT_sum / cleaned_data.CNT_DRAWINGS_ATM_CURRENT\n",
    "possible_feature[\n",
    "    'overdue_historical_comparison'] = cleaned_data.BUREAU_AMT_CREDIT_SUM_OVERDUE_max / cleaned_data.BUREAU_AMT_CREDIT_MAX_OVERDUE_max\n",
    "possible_feature['industry_trend'] = np.exp(cleaned_data.APP_AMT_INCOME_TOTAL / (\n",
    "        cleaned_data.APP_DEF_60_CNT_SOCIAL_CIRCLE / np.sqrt(cleaned_data.APP_REGION_POPULATION_RELATIVE)))\n"
   ],
   "metadata": {
    "collapsed": false,
    "ExecuteTime": {
     "end_time": "2023-12-22T04:46:47.345581600Z",
     "start_time": "2023-12-22T04:46:46.840583100Z"
    }
   },
   "id": "341643a33210a2b6"
  },
  {
   "cell_type": "code",
   "execution_count": 17,
   "outputs": [],
   "source": [],
   "metadata": {
    "collapsed": false,
    "ExecuteTime": {
     "end_time": "2023-12-22T04:33:22.543535400Z",
     "start_time": "2023-12-22T04:33:22.522539400Z"
    }
   },
   "id": "9f9d3f5f40c28fa4"
  },
  {
   "cell_type": "markdown",
   "source": [
    "# NA features:"
   ],
   "metadata": {
    "collapsed": false
   },
   "id": "e4384d0db8c40c4a"
  },
  {
   "cell_type": "code",
   "execution_count": 18,
   "outputs": [
    {
     "data": {
      "text/plain": "['Freq_take_loan_avg',\n 'Pct_prev_ins_paid',\n 'avg_credit_approval_per_month',\n 'Pct_prev_annuity_in_income',\n 'Pct_work_life',\n 'Pct_good_p_in_credit_prev',\n 'Pct_good_p_in_credit_curr',\n 'Amt_ins_overdue_daily',\n 'approval_imbalance',\n 'downpayment_percent',\n 'avg_atm_withdrawl',\n 'overdue_historical_comparison',\n 'industry_trend']"
     },
     "execution_count": 18,
     "metadata": {},
     "output_type": "execute_result"
    }
   ],
   "source": [
    "['Freq_take_loan_avg',\n",
    " 'Pct_prev_ins_paid',\n",
    " 'avg_credit_approval_per_month',\n",
    " 'Pct_prev_annuity_in_income',\n",
    " 'Pct_work_life', 'Pct_good_p_in_credit_prev',\n",
    " 'Pct_good_p_in_credit_curr',\n",
    " 'Amt_ins_overdue_daily',\n",
    " 'approval_imbalance',\n",
    " 'downpayment_percent',\n",
    " 'avg_atm_withdrawl',\n",
    " 'overdue_historical_comparison',\n",
    " 'industry_trend']"
   ],
   "metadata": {
    "collapsed": false,
    "ExecuteTime": {
     "end_time": "2023-12-22T04:33:22.597811800Z",
     "start_time": "2023-12-22T04:33:22.537537Z"
    }
   },
   "id": "5d0c69781f3eb7db"
  },
  {
   "cell_type": "markdown",
   "source": [
    "## Freq_take_loan_avg: reason: BUREAU_SK_ID_BUREAU_COUNT can be 0. div by 0"
   ],
   "metadata": {
    "collapsed": false
   },
   "id": "d50442903bb8d630"
  },
  {
   "cell_type": "code",
   "execution_count": 19,
   "outputs": [
    {
     "data": {
      "text/plain": "0.0      44020\n1.0      36072\n2.0      35635\n3.0      32925\n4.0      28973\n         ...  \n61.0         1\n58.0         1\n53.0         1\n116.0        1\n59.0         1\nName: BUREAU_SK_ID_BUREAU_COUNT, Length: 61, dtype: int64"
     },
     "execution_count": 19,
     "metadata": {},
     "output_type": "execute_result"
    }
   ],
   "source": [
    "cleaned_data['BUREAU_SK_ID_BUREAU_COUNT'].value_counts()"
   ],
   "metadata": {
    "collapsed": false,
    "ExecuteTime": {
     "end_time": "2023-12-22T04:33:22.599819300Z",
     "start_time": "2023-12-22T04:33:22.555541900Z"
    }
   },
   "id": "c331061dbffa612c"
  },
  {
   "cell_type": "markdown",
   "source": [
    "## Pct_prev_ins_paid: div 0"
   ],
   "metadata": {
    "collapsed": false
   },
   "id": "4fb2f49095dfa37c"
  },
  {
   "cell_type": "code",
   "execution_count": 21,
   "outputs": [
    {
     "data": {
      "text/plain": "0.000          15871\n204935.580        17\n56555.010         16\n127421.280        12\n235291.725        10\n               ...  \n243749.565         1\n1424915.955        1\n1625081.760        1\n20843.685          1\n3068388.810        1\nName: INS_AMT_INSTALMENT_sum, Length: 287906, dtype: int64"
     },
     "execution_count": 21,
     "metadata": {},
     "output_type": "execute_result"
    }
   ],
   "source": [
    "cleaned_data['INS_AMT_INSTALMENT_sum'].value_counts()"
   ],
   "metadata": {
    "collapsed": false,
    "ExecuteTime": {
     "end_time": "2023-12-22T04:37:55.917518700Z",
     "start_time": "2023-12-22T04:37:55.805510700Z"
    }
   },
   "id": "50d2fb37cd86b441"
  },
  {
   "cell_type": "code",
   "execution_count": 26,
   "outputs": [
    {
     "data": {
      "text/plain": "        SK_ID_CURR  INS_AMT_INSTALMENT_sum\n20          100024                     0.0\n26          100031                     0.0\n50          100058                     0.0\n64          100076                     0.0\n81          100096                     0.0\n...            ...                     ...\n307387      456113                     0.0\n307422      456155                     0.0\n307439      456177                     0.0\n307449      456187                     0.0\n307485      456229                     0.0\n\n[15871 rows x 2 columns]",
      "text/html": "<div>\n<style scoped>\n    .dataframe tbody tr th:only-of-type {\n        vertical-align: middle;\n    }\n\n    .dataframe tbody tr th {\n        vertical-align: top;\n    }\n\n    .dataframe thead th {\n        text-align: right;\n    }\n</style>\n<table border=\"1\" class=\"dataframe\">\n  <thead>\n    <tr style=\"text-align: right;\">\n      <th></th>\n      <th>SK_ID_CURR</th>\n      <th>INS_AMT_INSTALMENT_sum</th>\n    </tr>\n  </thead>\n  <tbody>\n    <tr>\n      <th>20</th>\n      <td>100024</td>\n      <td>0.0</td>\n    </tr>\n    <tr>\n      <th>26</th>\n      <td>100031</td>\n      <td>0.0</td>\n    </tr>\n    <tr>\n      <th>50</th>\n      <td>100058</td>\n      <td>0.0</td>\n    </tr>\n    <tr>\n      <th>64</th>\n      <td>100076</td>\n      <td>0.0</td>\n    </tr>\n    <tr>\n      <th>81</th>\n      <td>100096</td>\n      <td>0.0</td>\n    </tr>\n    <tr>\n      <th>...</th>\n      <td>...</td>\n      <td>...</td>\n    </tr>\n    <tr>\n      <th>307387</th>\n      <td>456113</td>\n      <td>0.0</td>\n    </tr>\n    <tr>\n      <th>307422</th>\n      <td>456155</td>\n      <td>0.0</td>\n    </tr>\n    <tr>\n      <th>307439</th>\n      <td>456177</td>\n      <td>0.0</td>\n    </tr>\n    <tr>\n      <th>307449</th>\n      <td>456187</td>\n      <td>0.0</td>\n    </tr>\n    <tr>\n      <th>307485</th>\n      <td>456229</td>\n      <td>0.0</td>\n    </tr>\n  </tbody>\n</table>\n<p>15871 rows × 2 columns</p>\n</div>"
     },
     "execution_count": 26,
     "metadata": {},
     "output_type": "execute_result"
    }
   ],
   "source": [
    "temp = cleaned_data.loc[:,['SK_ID_CURR','INS_AMT_INSTALMENT_sum']]\n",
    "temp[temp['INS_AMT_INSTALMENT_sum'] == 0]"
   ],
   "metadata": {
    "collapsed": false,
    "ExecuteTime": {
     "end_time": "2023-12-22T04:45:58.773595700Z",
     "start_time": "2023-12-22T04:45:58.680595300Z"
    }
   },
   "id": "1f43b7da4da32dac"
  },
  {
   "cell_type": "code",
   "execution_count": 31,
   "outputs": [
    {
     "data": {
      "text/plain": "20   NaN\nName: Pct_prev_ins_paid, dtype: float64"
     },
     "execution_count": 31,
     "metadata": {},
     "output_type": "execute_result"
    }
   ],
   "source": [
    "possible_feature[possible_feature['SK_ID_CURR']==100024]['Pct_prev_ins_paid']"
   ],
   "metadata": {
    "collapsed": false,
    "ExecuteTime": {
     "end_time": "2023-12-22T04:47:50.184496Z",
     "start_time": "2023-12-22T04:47:50.065496500Z"
    }
   },
   "id": "e2861259da8bb9fd"
  },
  {
   "cell_type": "markdown",
   "source": [
    "## avg_credit_approval_per_month: div 0"
   ],
   "metadata": {
    "collapsed": false
   },
   "id": "b54f2093f39a7508"
  },
  {
   "cell_type": "code",
   "execution_count": 32,
   "outputs": [
    {
     "data": {
      "text/plain": "12.0      29058\n24.0      19015\n0.0       18945\n6.0       14545\n10.0      13191\n          ...  \n1056.0        1\n459.0         1\n842.0         1\n911.0         1\n964.0         1\nName: PREV_APP_CNT_PAYMENT_sum, Length: 727, dtype: int64"
     },
     "execution_count": 32,
     "metadata": {},
     "output_type": "execute_result"
    }
   ],
   "source": [
    "cleaned_data['PREV_APP_CNT_PAYMENT_sum'].value_counts()"
   ],
   "metadata": {
    "collapsed": false,
    "ExecuteTime": {
     "end_time": "2023-12-22T04:49:27.724623400Z",
     "start_time": "2023-12-22T04:49:27.673622100Z"
    }
   },
   "id": "f201957ecb695c4c"
  },
  {
   "cell_type": "markdown",
   "source": [
    "## Pct_prev_annuity_in_income: div 0"
   ],
   "metadata": {
    "collapsed": false
   },
   "id": "baf4ca24f496c629"
  },
  {
   "cell_type": "code",
   "execution_count": 33,
   "outputs": [
    {
     "data": {
      "text/plain": "0.0         128438\n135000.0     20821\n112500.0     18042\n157500.0     15483\n180000.0     14464\n             ...  \n67275.0          1\n189148.5         1\n100476.0         1\n183825.0         1\n78664.5          1\nName: APP_AMT_INCOME_TOTAL, Length: 1702, dtype: int64"
     },
     "execution_count": 33,
     "metadata": {},
     "output_type": "execute_result"
    }
   ],
   "source": [
    "cleaned_data['APP_AMT_INCOME_TOTAL'].value_counts()"
   ],
   "metadata": {
    "collapsed": false,
    "ExecuteTime": {
     "end_time": "2023-12-22T04:51:00.105076800Z",
     "start_time": "2023-12-22T04:51:00.040075900Z"
    }
   },
   "id": "85d32fac2a458838"
  },
  {
   "cell_type": "markdown",
   "source": [
    "## Pct_work_life: div0 from APP_DAYS_BIRTH. fixed in the new version of cleaned_data: if APP_DAYS_BIRTH == 0, then APP_DAYS_BIRTH should be nan instead of 0"
   ],
   "metadata": {
    "collapsed": false
   },
   "id": "a655780193535540"
  },
  {
   "cell_type": "code",
   "execution_count": 34,
   "outputs": [
    {
     "data": {
      "text/plain": " 0.0        128438\n-10292.0        30\n-15771.0        28\n-13481.0        28\n-12988.0        27\n             ...  \n-7852.0          1\n-24328.0         1\n-25036.0         1\n-24042.0         1\n-7988.0          1\nName: APP_DAYS_BIRTH, Length: 17326, dtype: int64"
     },
     "execution_count": 34,
     "metadata": {},
     "output_type": "execute_result"
    }
   ],
   "source": [
    "cleaned_data['APP_DAYS_BIRTH'].value_counts()"
   ],
   "metadata": {
    "collapsed": false,
    "ExecuteTime": {
     "end_time": "2023-12-22T04:51:33.066876100Z",
     "start_time": "2023-12-22T04:51:32.983872100Z"
    }
   },
   "id": "bd66c22b05d851b6"
  },
  {
   "cell_type": "markdown",
   "source": [
    "## Pct_good_p_in_credit_curr: div 0"
   ],
   "metadata": {
    "collapsed": false
   },
   "id": "ef5e8066c9aa8736"
  },
  {
   "cell_type": "code",
   "execution_count": 36,
   "outputs": [
    {
     "data": {
      "text/plain": "0.0          128438\n450000.0       5669\n675000.0       5123\n225000.0       4729\n270000.0       4249\n              ...  \n1411038.0         1\n1552221.0         1\n1399122.0         1\n357552.0          1\n321970.5          1\nName: APP_AMT_CREDIT, Length: 4835, dtype: int64"
     },
     "execution_count": 36,
     "metadata": {},
     "output_type": "execute_result"
    }
   ],
   "source": [
    "cleaned_data['APP_AMT_CREDIT'].value_counts()"
   ],
   "metadata": {
    "collapsed": false,
    "ExecuteTime": {
     "end_time": "2023-12-22T04:55:11.765382700Z",
     "start_time": "2023-12-22T04:55:11.691362600Z"
    }
   },
   "id": "c7e01e5bc6f0ab08"
  },
  {
   "cell_type": "markdown",
   "source": [
    "## Pct_good_p_in_credit_curr: div 0"
   ],
   "metadata": {
    "collapsed": false
   },
   "id": "179b587bdd54132"
  },
  {
   "cell_type": "code",
   "execution_count": 37,
   "outputs": [
    {
     "data": {
      "text/plain": "0.0          128438\n450000.0       5669\n675000.0       5123\n225000.0       4729\n270000.0       4249\n              ...  \n1411038.0         1\n1552221.0         1\n1399122.0         1\n357552.0          1\n321970.5          1\nName: APP_AMT_CREDIT, Length: 4835, dtype: int64"
     },
     "execution_count": 37,
     "metadata": {},
     "output_type": "execute_result"
    }
   ],
   "source": [
    "cleaned_data['APP_AMT_CREDIT'].value_counts()"
   ],
   "metadata": {
    "collapsed": false,
    "ExecuteTime": {
     "end_time": "2023-12-22T04:55:57.046235100Z",
     "start_time": "2023-12-22T04:55:56.961235200Z"
    }
   },
   "id": "68275980fb735e51"
  },
  {
   "cell_type": "markdown",
   "source": [
    "## Amt_ins_overdue_daily: div 0. fix: replace 0 with -1 to avoid div 0 but still keep the order information, or do transformation to some distribution function to avoid div 0"
   ],
   "metadata": {
    "collapsed": false
   },
   "id": "1387b15e73440287"
  },
  {
   "cell_type": "code",
   "execution_count": 39,
   "outputs": [
    {
     "data": {
      "text/plain": " 0.0         15876\n-1997.0         28\n-2294.0         27\n-1675.0         27\n-1197.0         27\n             ...  \n-119029.0        1\n-94423.0         1\n-88616.0         1\n-103001.0        1\n-215206.0        1\nName: INS_DAYS_ENTRY_PAYMENT_sum, Length: 102909, dtype: int64"
     },
     "execution_count": 39,
     "metadata": {},
     "output_type": "execute_result"
    }
   ],
   "source": [
    "cleaned_data['INS_DAYS_ENTRY_PAYMENT_sum'].value_counts()"
   ],
   "metadata": {
    "collapsed": false,
    "ExecuteTime": {
     "end_time": "2023-12-22T04:57:00.453157Z",
     "start_time": "2023-12-22T04:57:00.378119200Z"
    }
   },
   "id": "aa4449669100619"
  },
  {
   "cell_type": "markdown",
   "source": [
    "## approval_imbalance: div 0."
   ],
   "metadata": {
    "collapsed": false
   },
   "id": "4cedd5dbb6a9f6e"
  },
  {
   "cell_type": "code",
   "execution_count": 41,
   "outputs": [
    {
     "data": {
      "text/plain": "0.0          17469\n225000.0      1107\n135000.0      1025\n45000.0        844\n450000.0       767\n             ...  \n1361299.5        1\n1333453.5        1\n3411499.5        1\n1136192.4        1\n2902167.0        1\nName: PREV_APP_AMT_APPLICATION_sum, Length: 175559, dtype: int64"
     },
     "execution_count": 41,
     "metadata": {},
     "output_type": "execute_result"
    }
   ],
   "source": [
    "cleaned_data['PREV_APP_AMT_APPLICATION_sum'].value_counts()"
   ],
   "metadata": {
    "collapsed": false,
    "ExecuteTime": {
     "end_time": "2023-12-22T05:01:40.285588200Z",
     "start_time": "2023-12-22T05:01:40.203590Z"
    }
   },
   "id": "c93cb6ef2b022598"
  },
  {
   "cell_type": "code",
   "execution_count": 42,
   "outputs": [
    {
     "data": {
      "text/plain": "0.00          16681\n45000.00        590\n135000.00       422\n225000.00       402\n90000.00        338\n              ...  \n141970.50         1\n1728972.18        1\n918981.00         1\n731011.50         1\n3395448.00        1\nName: PREV_APP_AMT_CREDIT_sum, Length: 194245, dtype: int64"
     },
     "execution_count": 42,
     "metadata": {},
     "output_type": "execute_result"
    }
   ],
   "source": [
    "cleaned_data['PREV_APP_AMT_CREDIT_sum'].value_counts()"
   ],
   "metadata": {
    "collapsed": false,
    "ExecuteTime": {
     "end_time": "2023-12-22T05:01:41.052588300Z",
     "start_time": "2023-12-22T05:01:40.910016900Z"
    }
   },
   "id": "84d201a2ee015c04"
  },
  {
   "cell_type": "markdown",
   "source": [
    "## downpayment_percent div 0"
   ],
   "metadata": {
    "collapsed": false
   },
   "id": "5ce4300bcc22ba60"
  },
  {
   "cell_type": "code",
   "execution_count": 43,
   "outputs": [
    {
     "data": {
      "text/plain": "0.000          17469\n225000.000      1106\n135000.000      1025\n45000.000        844\n450000.000       767\n               ...  \n859855.950         1\n329962.500         1\n464557.500         1\n79109.595          1\n2902167.000        1\nName: PREV_APP_AMT_GOODS_PRICE_sum, Length: 175570, dtype: int64"
     },
     "execution_count": 43,
     "metadata": {},
     "output_type": "execute_result"
    }
   ],
   "source": [
    "cleaned_data['PREV_APP_AMT_GOODS_PRICE_sum'].value_counts()"
   ],
   "metadata": {
    "collapsed": false,
    "ExecuteTime": {
     "end_time": "2023-12-22T05:02:24.804280800Z",
     "start_time": "2023-12-22T05:02:24.747281200Z"
    }
   },
   "id": "cae6f21a698d0dc7"
  },
  {
   "cell_type": "markdown",
   "source": [
    "## avg_atm_withdrawl: div 0, handle with care. smallest non-zero value is 3"
   ],
   "metadata": {
    "collapsed": false
   },
   "id": "83df447b2d58e968"
  },
  {
   "cell_type": "code",
   "execution_count": 44,
   "outputs": [
    {
     "data": {
      "text/plain": "0.0     256223\n3.0       8949\n4.0       8020\n2.0       7797\n5.0       5862\n1.0       5308\n6.0       4303\n7.0       2931\n8.0       2254\n9.0       1493\n10.0      1189\n11.0       756\n12.0       551\n13.0       430\n14.0       341\n15.0       247\n16.0       196\n17.0       143\n18.0       118\n19.0        88\n20.0        64\n21.0        56\n22.0        45\n24.0        22\n23.0        21\n25.0        18\n28.0        14\n26.0        11\n31.0        10\n27.0        10\n30.0         8\n29.0         7\n35.0         4\n33.0         4\n34.0         3\n36.0         3\n37.0         2\n39.0         2\n38.0         2\n41.0         2\n32.0         1\n44.0         1\n43.0         1\n51.0         1\nName: CNT_DRAWINGS_ATM_CURRENT, dtype: int64"
     },
     "execution_count": 44,
     "metadata": {},
     "output_type": "execute_result"
    }
   ],
   "source": [
    "cleaned_data['CNT_DRAWINGS_ATM_CURRENT'].value_counts()"
   ],
   "metadata": {
    "collapsed": false,
    "ExecuteTime": {
     "end_time": "2023-12-22T05:03:12.260618200Z",
     "start_time": "2023-12-22T05:03:12.179618500Z"
    }
   },
   "id": "9c6c8c1a100dc485"
  },
  {
   "cell_type": "markdown",
   "source": [
    "## overdue_historical_comparison: div 0: this 0 should probably be set to -1 to avoid div 0 but represent complete of payment "
   ],
   "metadata": {
    "collapsed": false
   },
   "id": "7025a5cdd1bea673"
  },
  {
   "cell_type": "code",
   "execution_count": 45,
   "outputs": [
    {
     "data": {
      "text/plain": "0.0        304177\n4.5           265\n9.0            96\n13.5           66\n18.0           58\n            ...  \n29767.5         1\n28143.0         1\n34389.0         1\n54315.0         1\n4158.0          1\nName: BUREAU_AMT_CREDIT_SUM_OVERDUE_max, Length: 1203, dtype: int64"
     },
     "execution_count": 45,
     "metadata": {},
     "output_type": "execute_result"
    }
   ],
   "source": [
    "cleaned_data['BUREAU_AMT_CREDIT_SUM_OVERDUE_max'].value_counts()"
   ],
   "metadata": {
    "collapsed": false,
    "ExecuteTime": {
     "end_time": "2023-12-22T05:04:14.224060700Z",
     "start_time": "2023-12-22T05:04:14.127031800Z"
    }
   },
   "id": "9f1a41d40538e4b8"
  },
  {
   "cell_type": "markdown",
   "source": [
    "## industry_trend: div 0 by sqrt(0). handle with care since the smallest non-zero number is 0.035"
   ],
   "metadata": {
    "collapsed": false
   },
   "id": "d4ca5c5b5a8d53b6"
  },
  {
   "cell_type": "code",
   "execution_count": 46,
   "outputs": [
    {
     "data": {
      "text/plain": "0.000000    128438\n0.035792      9602\n0.046220      7835\n0.030755      7067\n0.025164      6936\n             ...  \n0.001417       257\n0.001333       130\n0.000533        24\n0.000938        14\n0.000290         2\nName: APP_REGION_POPULATION_RELATIVE, Length: 82, dtype: int64"
     },
     "execution_count": 46,
     "metadata": {},
     "output_type": "execute_result"
    }
   ],
   "source": [
    "cleaned_data['APP_REGION_POPULATION_RELATIVE'].value_counts()"
   ],
   "metadata": {
    "collapsed": false,
    "ExecuteTime": {
     "end_time": "2023-12-22T05:06:54.141174700Z",
     "start_time": "2023-12-22T05:06:54.036205400Z"
    }
   },
   "id": "88e18c9ac99e7dc9"
  },
  {
   "cell_type": "code",
   "execution_count": 47,
   "outputs": [
    {
     "data": {
      "text/plain": "0.0"
     },
     "execution_count": 47,
     "metadata": {},
     "output_type": "execute_result"
    }
   ],
   "source": [
    "np.sqrt(0)"
   ],
   "metadata": {
    "collapsed": false,
    "ExecuteTime": {
     "end_time": "2023-12-22T05:07:01.898068300Z",
     "start_time": "2023-12-22T05:07:01.743069400Z"
    }
   },
   "id": "b832ec93a3f68a1e"
  }
 ],
 "metadata": {
  "kernelspec": {
   "display_name": "Python 3",
   "language": "python",
   "name": "python3"
  },
  "language_info": {
   "codemirror_mode": {
    "name": "ipython",
    "version": 2
   },
   "file_extension": ".py",
   "mimetype": "text/x-python",
   "name": "python",
   "nbconvert_exporter": "python",
   "pygments_lexer": "ipython2",
   "version": "2.7.6"
  }
 },
 "nbformat": 4,
 "nbformat_minor": 5
}
