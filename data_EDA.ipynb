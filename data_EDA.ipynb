{
 "cells": [
  {
   "cell_type": "code",
   "execution_count": 2,
   "id": "initial_id",
   "metadata": {
    "collapsed": true,
    "ExecuteTime": {
     "end_time": "2023-11-15T00:21:26.709712Z",
     "start_time": "2023-11-15T00:21:25.983644500Z"
    }
   },
   "outputs": [],
   "source": [
    "import numpy as np\n",
    "import pandas as pd\n",
    "import glob"
   ]
  },
  {
   "cell_type": "code",
   "execution_count": 18,
   "outputs": [],
   "source": [
    "application_train = pd.read_csv('./application_train.csv')\n",
    "application_test = pd.read_csv('./application_test.csv')"
   ],
   "metadata": {
    "collapsed": false,
    "ExecuteTime": {
     "end_time": "2023-11-15T00:34:31.534891400Z",
     "start_time": "2023-11-15T00:34:28.006957500Z"
    }
   },
   "id": "f458d84e2c18bd7"
  },
  {
   "cell_type": "code",
   "execution_count": 12,
   "outputs": [],
   "source": [
    "bureau = pd.read_csv('./bureau.csv')"
   ],
   "metadata": {
    "collapsed": false,
    "ExecuteTime": {
     "end_time": "2023-11-15T00:28:06.914778300Z",
     "start_time": "2023-11-15T00:28:04.285559800Z"
    }
   },
   "id": "a8afb58a3095b93c"
  },
  {
   "cell_type": "code",
   "execution_count": 14,
   "outputs": [],
   "source": [
    "bureau_balance = pd.read_csv('./bureau_balance.csv')"
   ],
   "metadata": {
    "collapsed": false,
    "ExecuteTime": {
     "end_time": "2023-11-15T00:28:32.128468200Z",
     "start_time": "2023-11-15T00:28:26.643076700Z"
    }
   },
   "id": "db36699d210346c1"
  },
  {
   "cell_type": "code",
   "execution_count": 19,
   "outputs": [],
   "source": [
    "credit_card_balance = pd.read_csv('./credit_card_balance.csv')"
   ],
   "metadata": {
    "collapsed": false,
    "ExecuteTime": {
     "end_time": "2023-11-15T00:34:39.253375Z",
     "start_time": "2023-11-15T00:34:31.537890500Z"
    }
   },
   "id": "de81f5c560c80e8e"
  },
  {
   "cell_type": "code",
   "execution_count": 0,
   "outputs": [],
   "source": [
    "installments_payments = pd.read_csv('./installments_payments.csv')"
   ],
   "metadata": {
    "collapsed": false
   },
   "id": "e0ac28272c3117a5"
  },
  {
   "cell_type": "code",
   "execution_count": 22,
   "outputs": [],
   "source": [
    "POS_CASH_balance = pd.read_csv('./POS_CASH_balance.csv')\n",
    "previous_application = pd.read_csv('./previous_application.csv')\n"
   ],
   "metadata": {
    "collapsed": false,
    "ExecuteTime": {
     "end_time": "2023-11-15T00:36:26.205935600Z",
     "start_time": "2023-11-15T00:36:15.915944700Z"
    }
   },
   "id": "501e96b8fab98fa"
  },
  {
   "cell_type": "code",
   "execution_count": 30,
   "outputs": [],
   "source": [
    "home_credit_columns_description = pd.read_csv('./HomeCredit_columns_description.csv', encoding='iso-8859-1',index_col=0)"
   ],
   "metadata": {
    "collapsed": false,
    "ExecuteTime": {
     "end_time": "2023-11-15T01:07:40.690618500Z",
     "start_time": "2023-11-15T01:07:40.638617300Z"
    }
   },
   "id": "b3b034cf2b4e26a9"
  },
  {
   "cell_type": "code",
   "execution_count": 16,
   "outputs": [],
   "source": [
    "sample_submission = pd.read_csv('./sample_submission.csv')"
   ],
   "metadata": {
    "collapsed": false,
    "ExecuteTime": {
     "end_time": "2023-11-15T00:33:32.583256700Z",
     "start_time": "2023-11-15T00:33:32.545586100Z"
    }
   },
   "id": "7d3a79a42ee94a10"
  },
  {
   "cell_type": "code",
   "execution_count": 11,
   "outputs": [
    {
     "data": {
      "text/plain": "          SK_ID_CURR         TARGET   CNT_CHILDREN  AMT_INCOME_TOTAL  \\\ncount  307511.000000  307511.000000  307511.000000      3.075110e+05   \nmean   278180.518577       0.080729       0.417052      1.687979e+05   \nstd    102790.175348       0.272419       0.722121      2.371231e+05   \nmin    100002.000000       0.000000       0.000000      2.565000e+04   \n25%    189145.500000       0.000000       0.000000      1.125000e+05   \n50%    278202.000000       0.000000       0.000000      1.471500e+05   \n75%    367142.500000       0.000000       1.000000      2.025000e+05   \nmax    456255.000000       1.000000      19.000000      1.170000e+08   \n\n         AMT_CREDIT    AMT_ANNUITY  AMT_GOODS_PRICE  \\\ncount  3.075110e+05  307499.000000     3.072330e+05   \nmean   5.990260e+05   27108.573909     5.383962e+05   \nstd    4.024908e+05   14493.737315     3.694465e+05   \nmin    4.500000e+04    1615.500000     4.050000e+04   \n25%    2.700000e+05   16524.000000     2.385000e+05   \n50%    5.135310e+05   24903.000000     4.500000e+05   \n75%    8.086500e+05   34596.000000     6.795000e+05   \nmax    4.050000e+06  258025.500000     4.050000e+06   \n\n       REGION_POPULATION_RELATIVE     DAYS_BIRTH  DAYS_EMPLOYED  ...  \\\ncount               307511.000000  307511.000000  307511.000000  ...   \nmean                     0.020868  -16036.995067   63815.045904  ...   \nstd                      0.013831    4363.988632  141275.766519  ...   \nmin                      0.000290  -25229.000000  -17912.000000  ...   \n25%                      0.010006  -19682.000000   -2760.000000  ...   \n50%                      0.018850  -15750.000000   -1213.000000  ...   \n75%                      0.028663  -12413.000000    -289.000000  ...   \nmax                      0.072508   -7489.000000  365243.000000  ...   \n\n       FLAG_DOCUMENT_18  FLAG_DOCUMENT_19  FLAG_DOCUMENT_20  FLAG_DOCUMENT_21  \\\ncount     307511.000000     307511.000000     307511.000000     307511.000000   \nmean           0.008130          0.000595          0.000507          0.000335   \nstd            0.089798          0.024387          0.022518          0.018299   \nmin            0.000000          0.000000          0.000000          0.000000   \n25%            0.000000          0.000000          0.000000          0.000000   \n50%            0.000000          0.000000          0.000000          0.000000   \n75%            0.000000          0.000000          0.000000          0.000000   \nmax            1.000000          1.000000          1.000000          1.000000   \n\n       AMT_REQ_CREDIT_BUREAU_HOUR  AMT_REQ_CREDIT_BUREAU_DAY  \\\ncount               265992.000000              265992.000000   \nmean                     0.006402                   0.007000   \nstd                      0.083849                   0.110757   \nmin                      0.000000                   0.000000   \n25%                      0.000000                   0.000000   \n50%                      0.000000                   0.000000   \n75%                      0.000000                   0.000000   \nmax                      4.000000                   9.000000   \n\n       AMT_REQ_CREDIT_BUREAU_WEEK  AMT_REQ_CREDIT_BUREAU_MON  \\\ncount               265992.000000              265992.000000   \nmean                     0.034362                   0.267395   \nstd                      0.204685                   0.916002   \nmin                      0.000000                   0.000000   \n25%                      0.000000                   0.000000   \n50%                      0.000000                   0.000000   \n75%                      0.000000                   0.000000   \nmax                      8.000000                  27.000000   \n\n       AMT_REQ_CREDIT_BUREAU_QRT  AMT_REQ_CREDIT_BUREAU_YEAR  \ncount              265992.000000               265992.000000  \nmean                    0.265474                    1.899974  \nstd                     0.794056                    1.869295  \nmin                     0.000000                    0.000000  \n25%                     0.000000                    0.000000  \n50%                     0.000000                    1.000000  \n75%                     0.000000                    3.000000  \nmax                   261.000000                   25.000000  \n\n[8 rows x 106 columns]",
      "text/html": "<div>\n<style scoped>\n    .dataframe tbody tr th:only-of-type {\n        vertical-align: middle;\n    }\n\n    .dataframe tbody tr th {\n        vertical-align: top;\n    }\n\n    .dataframe thead th {\n        text-align: right;\n    }\n</style>\n<table border=\"1\" class=\"dataframe\">\n  <thead>\n    <tr style=\"text-align: right;\">\n      <th></th>\n      <th>SK_ID_CURR</th>\n      <th>TARGET</th>\n      <th>CNT_CHILDREN</th>\n      <th>AMT_INCOME_TOTAL</th>\n      <th>AMT_CREDIT</th>\n      <th>AMT_ANNUITY</th>\n      <th>AMT_GOODS_PRICE</th>\n      <th>REGION_POPULATION_RELATIVE</th>\n      <th>DAYS_BIRTH</th>\n      <th>DAYS_EMPLOYED</th>\n      <th>...</th>\n      <th>FLAG_DOCUMENT_18</th>\n      <th>FLAG_DOCUMENT_19</th>\n      <th>FLAG_DOCUMENT_20</th>\n      <th>FLAG_DOCUMENT_21</th>\n      <th>AMT_REQ_CREDIT_BUREAU_HOUR</th>\n      <th>AMT_REQ_CREDIT_BUREAU_DAY</th>\n      <th>AMT_REQ_CREDIT_BUREAU_WEEK</th>\n      <th>AMT_REQ_CREDIT_BUREAU_MON</th>\n      <th>AMT_REQ_CREDIT_BUREAU_QRT</th>\n      <th>AMT_REQ_CREDIT_BUREAU_YEAR</th>\n    </tr>\n  </thead>\n  <tbody>\n    <tr>\n      <th>count</th>\n      <td>307511.000000</td>\n      <td>307511.000000</td>\n      <td>307511.000000</td>\n      <td>3.075110e+05</td>\n      <td>3.075110e+05</td>\n      <td>307499.000000</td>\n      <td>3.072330e+05</td>\n      <td>307511.000000</td>\n      <td>307511.000000</td>\n      <td>307511.000000</td>\n      <td>...</td>\n      <td>307511.000000</td>\n      <td>307511.000000</td>\n      <td>307511.000000</td>\n      <td>307511.000000</td>\n      <td>265992.000000</td>\n      <td>265992.000000</td>\n      <td>265992.000000</td>\n      <td>265992.000000</td>\n      <td>265992.000000</td>\n      <td>265992.000000</td>\n    </tr>\n    <tr>\n      <th>mean</th>\n      <td>278180.518577</td>\n      <td>0.080729</td>\n      <td>0.417052</td>\n      <td>1.687979e+05</td>\n      <td>5.990260e+05</td>\n      <td>27108.573909</td>\n      <td>5.383962e+05</td>\n      <td>0.020868</td>\n      <td>-16036.995067</td>\n      <td>63815.045904</td>\n      <td>...</td>\n      <td>0.008130</td>\n      <td>0.000595</td>\n      <td>0.000507</td>\n      <td>0.000335</td>\n      <td>0.006402</td>\n      <td>0.007000</td>\n      <td>0.034362</td>\n      <td>0.267395</td>\n      <td>0.265474</td>\n      <td>1.899974</td>\n    </tr>\n    <tr>\n      <th>std</th>\n      <td>102790.175348</td>\n      <td>0.272419</td>\n      <td>0.722121</td>\n      <td>2.371231e+05</td>\n      <td>4.024908e+05</td>\n      <td>14493.737315</td>\n      <td>3.694465e+05</td>\n      <td>0.013831</td>\n      <td>4363.988632</td>\n      <td>141275.766519</td>\n      <td>...</td>\n      <td>0.089798</td>\n      <td>0.024387</td>\n      <td>0.022518</td>\n      <td>0.018299</td>\n      <td>0.083849</td>\n      <td>0.110757</td>\n      <td>0.204685</td>\n      <td>0.916002</td>\n      <td>0.794056</td>\n      <td>1.869295</td>\n    </tr>\n    <tr>\n      <th>min</th>\n      <td>100002.000000</td>\n      <td>0.000000</td>\n      <td>0.000000</td>\n      <td>2.565000e+04</td>\n      <td>4.500000e+04</td>\n      <td>1615.500000</td>\n      <td>4.050000e+04</td>\n      <td>0.000290</td>\n      <td>-25229.000000</td>\n      <td>-17912.000000</td>\n      <td>...</td>\n      <td>0.000000</td>\n      <td>0.000000</td>\n      <td>0.000000</td>\n      <td>0.000000</td>\n      <td>0.000000</td>\n      <td>0.000000</td>\n      <td>0.000000</td>\n      <td>0.000000</td>\n      <td>0.000000</td>\n      <td>0.000000</td>\n    </tr>\n    <tr>\n      <th>25%</th>\n      <td>189145.500000</td>\n      <td>0.000000</td>\n      <td>0.000000</td>\n      <td>1.125000e+05</td>\n      <td>2.700000e+05</td>\n      <td>16524.000000</td>\n      <td>2.385000e+05</td>\n      <td>0.010006</td>\n      <td>-19682.000000</td>\n      <td>-2760.000000</td>\n      <td>...</td>\n      <td>0.000000</td>\n      <td>0.000000</td>\n      <td>0.000000</td>\n      <td>0.000000</td>\n      <td>0.000000</td>\n      <td>0.000000</td>\n      <td>0.000000</td>\n      <td>0.000000</td>\n      <td>0.000000</td>\n      <td>0.000000</td>\n    </tr>\n    <tr>\n      <th>50%</th>\n      <td>278202.000000</td>\n      <td>0.000000</td>\n      <td>0.000000</td>\n      <td>1.471500e+05</td>\n      <td>5.135310e+05</td>\n      <td>24903.000000</td>\n      <td>4.500000e+05</td>\n      <td>0.018850</td>\n      <td>-15750.000000</td>\n      <td>-1213.000000</td>\n      <td>...</td>\n      <td>0.000000</td>\n      <td>0.000000</td>\n      <td>0.000000</td>\n      <td>0.000000</td>\n      <td>0.000000</td>\n      <td>0.000000</td>\n      <td>0.000000</td>\n      <td>0.000000</td>\n      <td>0.000000</td>\n      <td>1.000000</td>\n    </tr>\n    <tr>\n      <th>75%</th>\n      <td>367142.500000</td>\n      <td>0.000000</td>\n      <td>1.000000</td>\n      <td>2.025000e+05</td>\n      <td>8.086500e+05</td>\n      <td>34596.000000</td>\n      <td>6.795000e+05</td>\n      <td>0.028663</td>\n      <td>-12413.000000</td>\n      <td>-289.000000</td>\n      <td>...</td>\n      <td>0.000000</td>\n      <td>0.000000</td>\n      <td>0.000000</td>\n      <td>0.000000</td>\n      <td>0.000000</td>\n      <td>0.000000</td>\n      <td>0.000000</td>\n      <td>0.000000</td>\n      <td>0.000000</td>\n      <td>3.000000</td>\n    </tr>\n    <tr>\n      <th>max</th>\n      <td>456255.000000</td>\n      <td>1.000000</td>\n      <td>19.000000</td>\n      <td>1.170000e+08</td>\n      <td>4.050000e+06</td>\n      <td>258025.500000</td>\n      <td>4.050000e+06</td>\n      <td>0.072508</td>\n      <td>-7489.000000</td>\n      <td>365243.000000</td>\n      <td>...</td>\n      <td>1.000000</td>\n      <td>1.000000</td>\n      <td>1.000000</td>\n      <td>1.000000</td>\n      <td>4.000000</td>\n      <td>9.000000</td>\n      <td>8.000000</td>\n      <td>27.000000</td>\n      <td>261.000000</td>\n      <td>25.000000</td>\n    </tr>\n  </tbody>\n</table>\n<p>8 rows × 106 columns</p>\n</div>"
     },
     "execution_count": 11,
     "metadata": {},
     "output_type": "execute_result"
    }
   ],
   "source": [
    "application_train.describe()"
   ],
   "metadata": {
    "collapsed": false,
    "ExecuteTime": {
     "start_time": "2023-11-15T00:27:32.459969100Z"
    }
   },
   "id": "3a3b46acac9ec371"
  },
  {
   "cell_type": "code",
   "execution_count": 31,
   "outputs": [
    {
     "data": {
      "text/plain": "                            Table                    Row  \\\n1    application_{train|test}.csv             SK_ID_CURR   \n2    application_{train|test}.csv                 TARGET   \n5    application_{train|test}.csv     NAME_CONTRACT_TYPE   \n6    application_{train|test}.csv            CODE_GENDER   \n7    application_{train|test}.csv           FLAG_OWN_CAR   \n..                            ...                    ...   \n217     installments_payments.csv  NUM_INSTALMENT_NUMBER   \n218     installments_payments.csv        DAYS_INSTALMENT   \n219     installments_payments.csv     DAYS_ENTRY_PAYMENT   \n220     installments_payments.csv         AMT_INSTALMENT   \n221     installments_payments.csv            AMT_PAYMENT   \n\n                                           Description  \\\n1                             ID of loan in our sample   \n2    Target variable (1 - client with payment diffi...   \n5          Identification if loan is cash or revolving   \n6                                 Gender of the client   \n7                        Flag if the client owns a car   \n..                                                 ...   \n217            On which installment we observe payment   \n218  When the installment of previous credit was su...   \n219  When was the installments of previous credit p...   \n220  What was the prescribed installment amount of ...   \n221  What the client actually paid on previous cred...   \n\n                                   Special  \n1                                      NaN  \n2                                      NaN  \n5                                      NaN  \n6                                      NaN  \n7                                      NaN  \n..                                     ...  \n217                                    NaN  \n218  time only relative to the application  \n219  time only relative to the application  \n220                                    NaN  \n221                                    NaN  \n\n[219 rows x 4 columns]",
      "text/html": "<div>\n<style scoped>\n    .dataframe tbody tr th:only-of-type {\n        vertical-align: middle;\n    }\n\n    .dataframe tbody tr th {\n        vertical-align: top;\n    }\n\n    .dataframe thead th {\n        text-align: right;\n    }\n</style>\n<table border=\"1\" class=\"dataframe\">\n  <thead>\n    <tr style=\"text-align: right;\">\n      <th></th>\n      <th>Table</th>\n      <th>Row</th>\n      <th>Description</th>\n      <th>Special</th>\n    </tr>\n  </thead>\n  <tbody>\n    <tr>\n      <th>1</th>\n      <td>application_{train|test}.csv</td>\n      <td>SK_ID_CURR</td>\n      <td>ID of loan in our sample</td>\n      <td>NaN</td>\n    </tr>\n    <tr>\n      <th>2</th>\n      <td>application_{train|test}.csv</td>\n      <td>TARGET</td>\n      <td>Target variable (1 - client with payment diffi...</td>\n      <td>NaN</td>\n    </tr>\n    <tr>\n      <th>5</th>\n      <td>application_{train|test}.csv</td>\n      <td>NAME_CONTRACT_TYPE</td>\n      <td>Identification if loan is cash or revolving</td>\n      <td>NaN</td>\n    </tr>\n    <tr>\n      <th>6</th>\n      <td>application_{train|test}.csv</td>\n      <td>CODE_GENDER</td>\n      <td>Gender of the client</td>\n      <td>NaN</td>\n    </tr>\n    <tr>\n      <th>7</th>\n      <td>application_{train|test}.csv</td>\n      <td>FLAG_OWN_CAR</td>\n      <td>Flag if the client owns a car</td>\n      <td>NaN</td>\n    </tr>\n    <tr>\n      <th>...</th>\n      <td>...</td>\n      <td>...</td>\n      <td>...</td>\n      <td>...</td>\n    </tr>\n    <tr>\n      <th>217</th>\n      <td>installments_payments.csv</td>\n      <td>NUM_INSTALMENT_NUMBER</td>\n      <td>On which installment we observe payment</td>\n      <td>NaN</td>\n    </tr>\n    <tr>\n      <th>218</th>\n      <td>installments_payments.csv</td>\n      <td>DAYS_INSTALMENT</td>\n      <td>When the installment of previous credit was su...</td>\n      <td>time only relative to the application</td>\n    </tr>\n    <tr>\n      <th>219</th>\n      <td>installments_payments.csv</td>\n      <td>DAYS_ENTRY_PAYMENT</td>\n      <td>When was the installments of previous credit p...</td>\n      <td>time only relative to the application</td>\n    </tr>\n    <tr>\n      <th>220</th>\n      <td>installments_payments.csv</td>\n      <td>AMT_INSTALMENT</td>\n      <td>What was the prescribed installment amount of ...</td>\n      <td>NaN</td>\n    </tr>\n    <tr>\n      <th>221</th>\n      <td>installments_payments.csv</td>\n      <td>AMT_PAYMENT</td>\n      <td>What the client actually paid on previous cred...</td>\n      <td>NaN</td>\n    </tr>\n  </tbody>\n</table>\n<p>219 rows × 4 columns</p>\n</div>"
     },
     "execution_count": 31,
     "metadata": {},
     "output_type": "execute_result"
    }
   ],
   "source": [
    "home_credit_columns_description"
   ],
   "metadata": {
    "collapsed": false,
    "ExecuteTime": {
     "end_time": "2023-11-15T01:07:43.159698800Z",
     "start_time": "2023-11-15T01:07:43.107699900Z"
    }
   },
   "id": "8b9482304820288d"
  },
  {
   "cell_type": "code",
   "execution_count": 24,
   "outputs": [
    {
     "data": {
      "text/plain": "array([100002, 100003, 100004, ..., 456253, 456254, 456255], dtype=int64)"
     },
     "execution_count": 24,
     "metadata": {},
     "output_type": "execute_result"
    }
   ],
   "source": [
    "application_train['SK_ID_CURR'].unique()"
   ],
   "metadata": {
    "collapsed": false,
    "ExecuteTime": {
     "end_time": "2023-11-15T00:47:11.144809200Z",
     "start_time": "2023-11-15T00:47:11.108810600Z"
    }
   },
   "id": "1a175ea864ce6c22"
  },
  {
   "cell_type": "code",
   "execution_count": 25,
   "outputs": [
    {
     "data": {
      "text/plain": "<Axes: >"
     },
     "execution_count": 25,
     "metadata": {},
     "output_type": "execute_result"
    },
    {
     "data": {
      "text/plain": "<Figure size 640x480 with 1 Axes>",
      "image/png": "[encoded data removed]"
     },
     "metadata": {},
     "output_type": "display_data"
    }
   ],
   "source": [
    "application_train['TARGET'].hist()"
   ],
   "metadata": {
    "collapsed": false,
    "ExecuteTime": {
     "end_time": "2023-11-15T00:48:14.677571800Z",
     "start_time": "2023-11-15T00:48:12.755016800Z"
    }
   },
   "id": "2652b3542bb83d34"
  },
  {
   "cell_type": "code",
   "execution_count": 13,
   "outputs": [
    {
     "data": {
      "text/plain": "         SK_ID_CURR  SK_ID_BUREAU   DAYS_CREDIT  CREDIT_DAY_OVERDUE  \\\ncount  1.716428e+06  1.716428e+06  1.716428e+06        1.716428e+06   \nmean   2.782149e+05  5.924434e+06 -1.142108e+03        8.181666e-01   \nstd    1.029386e+05  5.322657e+05  7.951649e+02        3.654443e+01   \nmin    1.000010e+05  5.000000e+06 -2.922000e+03        0.000000e+00   \n25%    1.888668e+05  5.463954e+06 -1.666000e+03        0.000000e+00   \n50%    2.780550e+05  5.926304e+06 -9.870000e+02        0.000000e+00   \n75%    3.674260e+05  6.385681e+06 -4.740000e+02        0.000000e+00   \nmax    4.562550e+05  6.843457e+06  0.000000e+00        2.792000e+03   \n\n       DAYS_CREDIT_ENDDATE  DAYS_ENDDATE_FACT  AMT_CREDIT_MAX_OVERDUE  \\\ncount         1.610875e+06       1.082775e+06            5.919400e+05   \nmean          5.105174e+02      -1.017437e+03            3.825418e+03   \nstd           4.994220e+03       7.140106e+02            2.060316e+05   \nmin          -4.206000e+04      -4.202300e+04            0.000000e+00   \n25%          -1.138000e+03      -1.489000e+03            0.000000e+00   \n50%          -3.300000e+02      -8.970000e+02            0.000000e+00   \n75%           4.740000e+02      -4.250000e+02            0.000000e+00   \nmax           3.119900e+04       0.000000e+00            1.159872e+08   \n\n       CNT_CREDIT_PROLONG  AMT_CREDIT_SUM  AMT_CREDIT_SUM_DEBT  \\\ncount        1.716428e+06    1.716415e+06         1.458759e+06   \nmean         6.410406e-03    3.549946e+05         1.370851e+05   \nstd          9.622391e-02    1.149811e+06         6.774011e+05   \nmin          0.000000e+00    0.000000e+00        -4.705600e+06   \n25%          0.000000e+00    5.130000e+04         0.000000e+00   \n50%          0.000000e+00    1.255185e+05         0.000000e+00   \n75%          0.000000e+00    3.150000e+05         4.015350e+04   \nmax          9.000000e+00    5.850000e+08         1.701000e+08   \n\n       AMT_CREDIT_SUM_LIMIT  AMT_CREDIT_SUM_OVERDUE  DAYS_CREDIT_UPDATE  \\\ncount          1.124648e+06            1.716428e+06        1.716428e+06   \nmean           6.229515e+03            3.791276e+01       -5.937483e+02   \nstd            4.503203e+04            5.937650e+03        7.207473e+02   \nmin           -5.864061e+05            0.000000e+00       -4.194700e+04   \n25%            0.000000e+00            0.000000e+00       -9.080000e+02   \n50%            0.000000e+00            0.000000e+00       -3.950000e+02   \n75%            0.000000e+00            0.000000e+00       -3.300000e+01   \nmax            4.705600e+06            3.756681e+06        3.720000e+02   \n\n        AMT_ANNUITY  \ncount  4.896370e+05  \nmean   1.571276e+04  \nstd    3.258269e+05  \nmin    0.000000e+00  \n25%    0.000000e+00  \n50%    0.000000e+00  \n75%    1.350000e+04  \nmax    1.184534e+08  ",
      "text/html": "<div>\n<style scoped>\n    .dataframe tbody tr th:only-of-type {\n        vertical-align: middle;\n    }\n\n    .dataframe tbody tr th {\n        vertical-align: top;\n    }\n\n    .dataframe thead th {\n        text-align: right;\n    }\n</style>\n<table border=\"1\" class=\"dataframe\">\n  <thead>\n    <tr style=\"text-align: right;\">\n      <th></th>\n      <th>SK_ID_CURR</th>\n      <th>SK_ID_BUREAU</th>\n      <th>DAYS_CREDIT</th>\n      <th>CREDIT_DAY_OVERDUE</th>\n      <th>DAYS_CREDIT_ENDDATE</th>\n      <th>DAYS_ENDDATE_FACT</th>\n      <th>AMT_CREDIT_MAX_OVERDUE</th>\n      <th>CNT_CREDIT_PROLONG</th>\n      <th>AMT_CREDIT_SUM</th>\n      <th>AMT_CREDIT_SUM_DEBT</th>\n      <th>AMT_CREDIT_SUM_LIMIT</th>\n      <th>AMT_CREDIT_SUM_OVERDUE</th>\n      <th>DAYS_CREDIT_UPDATE</th>\n      <th>AMT_ANNUITY</th>\n    </tr>\n  </thead>\n  <tbody>\n    <tr>\n      <th>count</th>\n      <td>1.716428e+06</td>\n      <td>1.716428e+06</td>\n      <td>1.716428e+06</td>\n      <td>1.716428e+06</td>\n      <td>1.610875e+06</td>\n      <td>1.082775e+06</td>\n      <td>5.919400e+05</td>\n      <td>1.716428e+06</td>\n      <td>1.716415e+06</td>\n      <td>1.458759e+06</td>\n      <td>1.124648e+06</td>\n      <td>1.716428e+06</td>\n      <td>1.716428e+06</td>\n      <td>4.896370e+05</td>\n    </tr>\n    <tr>\n      <th>mean</th>\n      <td>2.782149e+05</td>\n      <td>5.924434e+06</td>\n      <td>-1.142108e+03</td>\n      <td>8.181666e-01</td>\n      <td>5.105174e+02</td>\n      <td>-1.017437e+03</td>\n      <td>3.825418e+03</td>\n      <td>6.410406e-03</td>\n      <td>3.549946e+05</td>\n      <td>1.370851e+05</td>\n      <td>6.229515e+03</td>\n      <td>3.791276e+01</td>\n      <td>-5.937483e+02</td>\n      <td>1.571276e+04</td>\n    </tr>\n    <tr>\n      <th>std</th>\n      <td>1.029386e+05</td>\n      <td>5.322657e+05</td>\n      <td>7.951649e+02</td>\n      <td>3.654443e+01</td>\n      <td>4.994220e+03</td>\n      <td>7.140106e+02</td>\n      <td>2.060316e+05</td>\n      <td>9.622391e-02</td>\n      <td>1.149811e+06</td>\n      <td>6.774011e+05</td>\n      <td>4.503203e+04</td>\n      <td>5.937650e+03</td>\n      <td>7.207473e+02</td>\n      <td>3.258269e+05</td>\n    </tr>\n    <tr>\n      <th>min</th>\n      <td>1.000010e+05</td>\n      <td>5.000000e+06</td>\n      <td>-2.922000e+03</td>\n      <td>0.000000e+00</td>\n      <td>-4.206000e+04</td>\n      <td>-4.202300e+04</td>\n      <td>0.000000e+00</td>\n      <td>0.000000e+00</td>\n      <td>0.000000e+00</td>\n      <td>-4.705600e+06</td>\n      <td>-5.864061e+05</td>\n      <td>0.000000e+00</td>\n      <td>-4.194700e+04</td>\n      <td>0.000000e+00</td>\n    </tr>\n    <tr>\n      <th>25%</th>\n      <td>1.888668e+05</td>\n      <td>5.463954e+06</td>\n      <td>-1.666000e+03</td>\n      <td>0.000000e+00</td>\n      <td>-1.138000e+03</td>\n      <td>-1.489000e+03</td>\n      <td>0.000000e+00</td>\n      <td>0.000000e+00</td>\n      <td>5.130000e+04</td>\n      <td>0.000000e+00</td>\n      <td>0.000000e+00</td>\n      <td>0.000000e+00</td>\n      <td>-9.080000e+02</td>\n      <td>0.000000e+00</td>\n    </tr>\n    <tr>\n      <th>50%</th>\n      <td>2.780550e+05</td>\n      <td>5.926304e+06</td>\n      <td>-9.870000e+02</td>\n      <td>0.000000e+00</td>\n      <td>-3.300000e+02</td>\n      <td>-8.970000e+02</td>\n      <td>0.000000e+00</td>\n      <td>0.000000e+00</td>\n      <td>1.255185e+05</td>\n      <td>0.000000e+00</td>\n      <td>0.000000e+00</td>\n      <td>0.000000e+00</td>\n      <td>-3.950000e+02</td>\n      <td>0.000000e+00</td>\n    </tr>\n    <tr>\n      <th>75%</th>\n      <td>3.674260e+05</td>\n      <td>6.385681e+06</td>\n      <td>-4.740000e+02</td>\n      <td>0.000000e+00</td>\n      <td>4.740000e+02</td>\n      <td>-4.250000e+02</td>\n      <td>0.000000e+00</td>\n      <td>0.000000e+00</td>\n      <td>3.150000e+05</td>\n      <td>4.015350e+04</td>\n      <td>0.000000e+00</td>\n      <td>0.000000e+00</td>\n      <td>-3.300000e+01</td>\n      <td>1.350000e+04</td>\n    </tr>\n    <tr>\n      <th>max</th>\n      <td>4.562550e+05</td>\n      <td>6.843457e+06</td>\n      <td>0.000000e+00</td>\n      <td>2.792000e+03</td>\n      <td>3.119900e+04</td>\n      <td>0.000000e+00</td>\n      <td>1.159872e+08</td>\n      <td>9.000000e+00</td>\n      <td>5.850000e+08</td>\n      <td>1.701000e+08</td>\n      <td>4.705600e+06</td>\n      <td>3.756681e+06</td>\n      <td>3.720000e+02</td>\n      <td>1.184534e+08</td>\n    </tr>\n  </tbody>\n</table>\n</div>"
     },
     "execution_count": 13,
     "metadata": {},
     "output_type": "execute_result"
    }
   ],
   "source": [
    "bureau.describe()"
   ],
   "metadata": {
    "collapsed": false,
    "ExecuteTime": {
     "start_time": "2023-11-15T00:28:07.338626300Z"
    }
   },
   "id": "f4f0f9b11939901"
  },
  {
   "cell_type": "code",
   "execution_count": 15,
   "outputs": [
    {
     "data": {
      "text/plain": "       SK_ID_BUREAU  MONTHS_BALANCE\ncount  2.729992e+07    2.729992e+07\nmean   6.036297e+06   -3.074169e+01\nstd    4.923489e+05    2.386451e+01\nmin    5.001709e+06   -9.600000e+01\n25%    5.730933e+06   -4.600000e+01\n50%    6.070821e+06   -2.500000e+01\n75%    6.431951e+06   -1.100000e+01\nmax    6.842888e+06    0.000000e+00",
      "text/html": "<div>\n<style scoped>\n    .dataframe tbody tr th:only-of-type {\n        vertical-align: middle;\n    }\n\n    .dataframe tbody tr th {\n        vertical-align: top;\n    }\n\n    .dataframe thead th {\n        text-align: right;\n    }\n</style>\n<table border=\"1\" class=\"dataframe\">\n  <thead>\n    <tr style=\"text-align: right;\">\n      <th></th>\n      <th>SK_ID_BUREAU</th>\n      <th>MONTHS_BALANCE</th>\n    </tr>\n  </thead>\n  <tbody>\n    <tr>\n      <th>count</th>\n      <td>2.729992e+07</td>\n      <td>2.729992e+07</td>\n    </tr>\n    <tr>\n      <th>mean</th>\n      <td>6.036297e+06</td>\n      <td>-3.074169e+01</td>\n    </tr>\n    <tr>\n      <th>std</th>\n      <td>4.923489e+05</td>\n      <td>2.386451e+01</td>\n    </tr>\n    <tr>\n      <th>min</th>\n      <td>5.001709e+06</td>\n      <td>-9.600000e+01</td>\n    </tr>\n    <tr>\n      <th>25%</th>\n      <td>5.730933e+06</td>\n      <td>-4.600000e+01</td>\n    </tr>\n    <tr>\n      <th>50%</th>\n      <td>6.070821e+06</td>\n      <td>-2.500000e+01</td>\n    </tr>\n    <tr>\n      <th>75%</th>\n      <td>6.431951e+06</td>\n      <td>-1.100000e+01</td>\n    </tr>\n    <tr>\n      <th>max</th>\n      <td>6.842888e+06</td>\n      <td>0.000000e+00</td>\n    </tr>\n  </tbody>\n</table>\n</div>"
     },
     "execution_count": 15,
     "metadata": {},
     "output_type": "execute_result"
    }
   ],
   "source": [
    "bureau_balance.describe()"
   ],
   "metadata": {
    "collapsed": false,
    "ExecuteTime": {
     "end_time": "2023-11-15T00:29:11.163827Z",
     "start_time": "2023-11-15T00:29:09.657165700Z"
    }
   },
   "id": "cb82d91699cf512e"
  },
  {
   "cell_type": "code",
   "execution_count": null,
   "outputs": [],
   "source": [],
   "metadata": {
    "collapsed": false
   },
   "id": "46d54466832d5b5a"
  },
  {
   "cell_type": "code",
   "execution_count": null,
   "outputs": [],
   "source": [],
   "metadata": {
    "collapsed": false
   },
   "id": "c6dad7883f62833"
  }
 ],
 "metadata": {
  "kernelspec": {
   "display_name": "Python 3",
   "language": "python",
   "name": "python3"
  },
  "language_info": {
   "codemirror_mode": {
    "name": "ipython",
    "version": 2
   },
   "file_extension": ".py",
   "mimetype": "text/x-python",
   "name": "python",
   "nbconvert_exporter": "python",
   "pygments_lexer": "ipython2",
   "version": "2.7.6"
  }
 },
 "nbformat": 4,
 "nbformat_minor": 5
}
