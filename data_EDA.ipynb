{
 "cells": [
  {
   "cell_type": "code",
   "execution_count": 1,
   "id": "initial_id",
   "metadata": {
    "collapsed": true,
    "ExecuteTime": {
     "end_time": "2023-12-15T20:24:14.817864400Z",
     "start_time": "2023-12-15T20:24:14.213865900Z"
    }
   },
   "outputs": [],
   "source": [
    "import numpy as np\n",
    "import pandas as pd\n",
    "import glob\n",
    "from joblib import Parallel, delayed\n",
    "from tqdm import tqdm"
   ]
  },
  {
   "cell_type": "code",
   "execution_count": 2,
   "outputs": [],
   "source": [
    "application = pd.read_csv('./src/application_train.csv')\n",
    "# application_test = pd.read_csv('./src/application_test.csv')\n",
    "# application_test doesnt contain target column, it is useless to us because even if we develop a model, we still dont know its accuracy on the training set. "
   ],
   "metadata": {
    "collapsed": false,
    "ExecuteTime": {
     "end_time": "2023-12-15T20:24:17.244865800Z",
     "start_time": "2023-12-15T20:24:14.820866900Z"
    }
   },
   "id": "f458d84e2c18bd7"
  },
  {
   "cell_type": "code",
   "execution_count": 3,
   "outputs": [],
   "source": [
    "bureau = pd.read_csv('./src/bureau.csv')"
   ],
   "metadata": {
    "collapsed": false,
    "ExecuteTime": {
     "end_time": "2023-12-15T20:24:19.221867100Z",
     "start_time": "2023-12-15T20:24:17.246868700Z"
    }
   },
   "id": "a8afb58a3095b93c"
  },
  {
   "cell_type": "code",
   "execution_count": 4,
   "outputs": [],
   "source": [
    "bureau_balance = pd.read_csv('./src/bureau_balance.csv')"
   ],
   "metadata": {
    "collapsed": false,
    "ExecuteTime": {
     "end_time": "2023-12-15T20:24:23.570866700Z",
     "start_time": "2023-12-15T20:24:19.226889Z"
    }
   },
   "id": "63c85cbb13394d30"
  },
  {
   "cell_type": "code",
   "execution_count": 5,
   "outputs": [],
   "source": [
    "credit_card_balance = pd.read_csv('./src/credit_card_balance.csv')"
   ],
   "metadata": {
    "collapsed": false,
    "ExecuteTime": {
     "end_time": "2023-12-15T20:24:29.841877400Z",
     "start_time": "2023-12-15T20:24:23.573866900Z"
    }
   },
   "id": "de81f5c560c80e8e"
  },
  {
   "cell_type": "code",
   "execution_count": 6,
   "outputs": [],
   "source": [
    "installments_payments = pd.read_csv('./src/installments_payments.csv')"
   ],
   "metadata": {
    "collapsed": false,
    "ExecuteTime": {
     "end_time": "2023-12-15T20:24:38.823224300Z",
     "start_time": "2023-12-15T20:24:29.845867300Z"
    }
   },
   "id": "e0ac28272c3117a5"
  },
  {
   "cell_type": "code",
   "execution_count": 77,
   "outputs": [],
   "source": [
    "POS_CASH_balance = pd.read_csv('./src/POS_CASH_balance.csv')\n",
    "previous_application = pd.read_csv('./src/previous_application.csv')"
   ],
   "metadata": {
    "collapsed": false,
    "ExecuteTime": {
     "end_time": "2023-12-15T22:09:53.655128600Z",
     "start_time": "2023-12-15T22:09:40.819128200Z"
    }
   },
   "id": "501e96b8fab98fa"
  },
  {
   "cell_type": "code",
   "execution_count": 8,
   "outputs": [],
   "source": [
    "home_credit_columns_description = pd.read_csv('./src/HomeCredit_columns_description.csv', encoding='iso-8859-1',\n",
    "                                              index_col=0)"
   ],
   "metadata": {
    "collapsed": false,
    "ExecuteTime": {
     "end_time": "2023-12-15T20:24:49.339264400Z",
     "start_time": "2023-12-15T20:24:49.308256900Z"
    }
   },
   "id": "b3b034cf2b4e26a9"
  },
  {
   "cell_type": "code",
   "execution_count": 112,
   "outputs": [],
   "source": [
    "# sample_submission = pd.read_csv('./src/sample_submission.csv')"
   ],
   "metadata": {
    "collapsed": false,
    "ExecuteTime": {
     "end_time": "2023-12-15T18:43:26.129072200Z",
     "start_time": "2023-12-15T18:43:26.096072500Z"
    }
   },
   "id": "7d3a79a42ee94a10"
  },
  {
   "cell_type": "markdown",
   "source": [
    "# Data preprocessing"
   ],
   "metadata": {
    "collapsed": false
   },
   "id": "c1d04ebcb1f9ff32"
  },
  {
   "cell_type": "code",
   "execution_count": 113,
   "outputs": [
    {
     "data": {
      "text/plain": "          SK_ID_CURR         TARGET   CNT_CHILDREN  AMT_INCOME_TOTAL  \\\ncount  307511.000000  307511.000000  307511.000000      3.075110e+05   \nmean   278180.518577       0.080729       0.417052      1.687979e+05   \nstd    102790.175348       0.272419       0.722121      2.371231e+05   \nmin    100002.000000       0.000000       0.000000      2.565000e+04   \n25%    189145.500000       0.000000       0.000000      1.125000e+05   \n50%    278202.000000       0.000000       0.000000      1.471500e+05   \n75%    367142.500000       0.000000       1.000000      2.025000e+05   \nmax    456255.000000       1.000000      19.000000      1.170000e+08   \n\n         AMT_CREDIT    AMT_ANNUITY  AMT_GOODS_PRICE  \\\ncount  3.075110e+05  307499.000000     3.072330e+05   \nmean   5.990260e+05   27108.573909     5.383962e+05   \nstd    4.024908e+05   14493.737315     3.694465e+05   \nmin    4.500000e+04    1615.500000     4.050000e+04   \n25%    2.700000e+05   16524.000000     2.385000e+05   \n50%    5.135310e+05   24903.000000     4.500000e+05   \n75%    8.086500e+05   34596.000000     6.795000e+05   \nmax    4.050000e+06  258025.500000     4.050000e+06   \n\n       REGION_POPULATION_RELATIVE     DAYS_BIRTH  DAYS_EMPLOYED  ...  \\\ncount               307511.000000  307511.000000  307511.000000  ...   \nmean                     0.020868  -16036.995067   63815.045904  ...   \nstd                      0.013831    4363.988632  141275.766519  ...   \nmin                      0.000290  -25229.000000  -17912.000000  ...   \n25%                      0.010006  -19682.000000   -2760.000000  ...   \n50%                      0.018850  -15750.000000   -1213.000000  ...   \n75%                      0.028663  -12413.000000    -289.000000  ...   \nmax                      0.072508   -7489.000000  365243.000000  ...   \n\n       FLAG_DOCUMENT_18  FLAG_DOCUMENT_19  FLAG_DOCUMENT_20  FLAG_DOCUMENT_21  \\\ncount     307511.000000     307511.000000     307511.000000     307511.000000   \nmean           0.008130          0.000595          0.000507          0.000335   \nstd            0.089798          0.024387          0.022518          0.018299   \nmin            0.000000          0.000000          0.000000          0.000000   \n25%            0.000000          0.000000          0.000000          0.000000   \n50%            0.000000          0.000000          0.000000          0.000000   \n75%            0.000000          0.000000          0.000000          0.000000   \nmax            1.000000          1.000000          1.000000          1.000000   \n\n       AMT_REQ_CREDIT_BUREAU_HOUR  AMT_REQ_CREDIT_BUREAU_DAY  \\\ncount               265992.000000              265992.000000   \nmean                     0.006402                   0.007000   \nstd                      0.083849                   0.110757   \nmin                      0.000000                   0.000000   \n25%                      0.000000                   0.000000   \n50%                      0.000000                   0.000000   \n75%                      0.000000                   0.000000   \nmax                      4.000000                   9.000000   \n\n       AMT_REQ_CREDIT_BUREAU_WEEK  AMT_REQ_CREDIT_BUREAU_MON  \\\ncount               265992.000000              265992.000000   \nmean                     0.034362                   0.267395   \nstd                      0.204685                   0.916002   \nmin                      0.000000                   0.000000   \n25%                      0.000000                   0.000000   \n50%                      0.000000                   0.000000   \n75%                      0.000000                   0.000000   \nmax                      8.000000                  27.000000   \n\n       AMT_REQ_CREDIT_BUREAU_QRT  AMT_REQ_CREDIT_BUREAU_YEAR  \ncount              265992.000000               265992.000000  \nmean                    0.265474                    1.899974  \nstd                     0.794056                    1.869295  \nmin                     0.000000                    0.000000  \n25%                     0.000000                    0.000000  \n50%                     0.000000                    1.000000  \n75%                     0.000000                    3.000000  \nmax                   261.000000                   25.000000  \n\n[8 rows x 106 columns]",
      "text/html": "<div>\n<style scoped>\n    .dataframe tbody tr th:only-of-type {\n        vertical-align: middle;\n    }\n\n    .dataframe tbody tr th {\n        vertical-align: top;\n    }\n\n    .dataframe thead th {\n        text-align: right;\n    }\n</style>\n<table border=\"1\" class=\"dataframe\">\n  <thead>\n    <tr style=\"text-align: right;\">\n      <th></th>\n      <th>SK_ID_CURR</th>\n      <th>TARGET</th>\n      <th>CNT_CHILDREN</th>\n      <th>AMT_INCOME_TOTAL</th>\n      <th>AMT_CREDIT</th>\n      <th>AMT_ANNUITY</th>\n      <th>AMT_GOODS_PRICE</th>\n      <th>REGION_POPULATION_RELATIVE</th>\n      <th>DAYS_BIRTH</th>\n      <th>DAYS_EMPLOYED</th>\n      <th>...</th>\n      <th>FLAG_DOCUMENT_18</th>\n      <th>FLAG_DOCUMENT_19</th>\n      <th>FLAG_DOCUMENT_20</th>\n      <th>FLAG_DOCUMENT_21</th>\n      <th>AMT_REQ_CREDIT_BUREAU_HOUR</th>\n      <th>AMT_REQ_CREDIT_BUREAU_DAY</th>\n      <th>AMT_REQ_CREDIT_BUREAU_WEEK</th>\n      <th>AMT_REQ_CREDIT_BUREAU_MON</th>\n      <th>AMT_REQ_CREDIT_BUREAU_QRT</th>\n      <th>AMT_REQ_CREDIT_BUREAU_YEAR</th>\n    </tr>\n  </thead>\n  <tbody>\n    <tr>\n      <th>count</th>\n      <td>307511.000000</td>\n      <td>307511.000000</td>\n      <td>307511.000000</td>\n      <td>3.075110e+05</td>\n      <td>3.075110e+05</td>\n      <td>307499.000000</td>\n      <td>3.072330e+05</td>\n      <td>307511.000000</td>\n      <td>307511.000000</td>\n      <td>307511.000000</td>\n      <td>...</td>\n      <td>307511.000000</td>\n      <td>307511.000000</td>\n      <td>307511.000000</td>\n      <td>307511.000000</td>\n      <td>265992.000000</td>\n      <td>265992.000000</td>\n      <td>265992.000000</td>\n      <td>265992.000000</td>\n      <td>265992.000000</td>\n      <td>265992.000000</td>\n    </tr>\n    <tr>\n      <th>mean</th>\n      <td>278180.518577</td>\n      <td>0.080729</td>\n      <td>0.417052</td>\n      <td>1.687979e+05</td>\n      <td>5.990260e+05</td>\n      <td>27108.573909</td>\n      <td>5.383962e+05</td>\n      <td>0.020868</td>\n      <td>-16036.995067</td>\n      <td>63815.045904</td>\n      <td>...</td>\n      <td>0.008130</td>\n      <td>0.000595</td>\n      <td>0.000507</td>\n      <td>0.000335</td>\n      <td>0.006402</td>\n      <td>0.007000</td>\n      <td>0.034362</td>\n      <td>0.267395</td>\n      <td>0.265474</td>\n      <td>1.899974</td>\n    </tr>\n    <tr>\n      <th>std</th>\n      <td>102790.175348</td>\n      <td>0.272419</td>\n      <td>0.722121</td>\n      <td>2.371231e+05</td>\n      <td>4.024908e+05</td>\n      <td>14493.737315</td>\n      <td>3.694465e+05</td>\n      <td>0.013831</td>\n      <td>4363.988632</td>\n      <td>141275.766519</td>\n      <td>...</td>\n      <td>0.089798</td>\n      <td>0.024387</td>\n      <td>0.022518</td>\n      <td>0.018299</td>\n      <td>0.083849</td>\n      <td>0.110757</td>\n      <td>0.204685</td>\n      <td>0.916002</td>\n      <td>0.794056</td>\n      <td>1.869295</td>\n    </tr>\n    <tr>\n      <th>min</th>\n      <td>100002.000000</td>\n      <td>0.000000</td>\n      <td>0.000000</td>\n      <td>2.565000e+04</td>\n      <td>4.500000e+04</td>\n      <td>1615.500000</td>\n      <td>4.050000e+04</td>\n      <td>0.000290</td>\n      <td>-25229.000000</td>\n      <td>-17912.000000</td>\n      <td>...</td>\n      <td>0.000000</td>\n      <td>0.000000</td>\n      <td>0.000000</td>\n      <td>0.000000</td>\n      <td>0.000000</td>\n      <td>0.000000</td>\n      <td>0.000000</td>\n      <td>0.000000</td>\n      <td>0.000000</td>\n      <td>0.000000</td>\n    </tr>\n    <tr>\n      <th>25%</th>\n      <td>189145.500000</td>\n      <td>0.000000</td>\n      <td>0.000000</td>\n      <td>1.125000e+05</td>\n      <td>2.700000e+05</td>\n      <td>16524.000000</td>\n      <td>2.385000e+05</td>\n      <td>0.010006</td>\n      <td>-19682.000000</td>\n      <td>-2760.000000</td>\n      <td>...</td>\n      <td>0.000000</td>\n      <td>0.000000</td>\n      <td>0.000000</td>\n      <td>0.000000</td>\n      <td>0.000000</td>\n      <td>0.000000</td>\n      <td>0.000000</td>\n      <td>0.000000</td>\n      <td>0.000000</td>\n      <td>0.000000</td>\n    </tr>\n    <tr>\n      <th>50%</th>\n      <td>278202.000000</td>\n      <td>0.000000</td>\n      <td>0.000000</td>\n      <td>1.471500e+05</td>\n      <td>5.135310e+05</td>\n      <td>24903.000000</td>\n      <td>4.500000e+05</td>\n      <td>0.018850</td>\n      <td>-15750.000000</td>\n      <td>-1213.000000</td>\n      <td>...</td>\n      <td>0.000000</td>\n      <td>0.000000</td>\n      <td>0.000000</td>\n      <td>0.000000</td>\n      <td>0.000000</td>\n      <td>0.000000</td>\n      <td>0.000000</td>\n      <td>0.000000</td>\n      <td>0.000000</td>\n      <td>1.000000</td>\n    </tr>\n    <tr>\n      <th>75%</th>\n      <td>367142.500000</td>\n      <td>0.000000</td>\n      <td>1.000000</td>\n      <td>2.025000e+05</td>\n      <td>8.086500e+05</td>\n      <td>34596.000000</td>\n      <td>6.795000e+05</td>\n      <td>0.028663</td>\n      <td>-12413.000000</td>\n      <td>-289.000000</td>\n      <td>...</td>\n      <td>0.000000</td>\n      <td>0.000000</td>\n      <td>0.000000</td>\n      <td>0.000000</td>\n      <td>0.000000</td>\n      <td>0.000000</td>\n      <td>0.000000</td>\n      <td>0.000000</td>\n      <td>0.000000</td>\n      <td>3.000000</td>\n    </tr>\n    <tr>\n      <th>max</th>\n      <td>456255.000000</td>\n      <td>1.000000</td>\n      <td>19.000000</td>\n      <td>1.170000e+08</td>\n      <td>4.050000e+06</td>\n      <td>258025.500000</td>\n      <td>4.050000e+06</td>\n      <td>0.072508</td>\n      <td>-7489.000000</td>\n      <td>365243.000000</td>\n      <td>...</td>\n      <td>1.000000</td>\n      <td>1.000000</td>\n      <td>1.000000</td>\n      <td>1.000000</td>\n      <td>4.000000</td>\n      <td>9.000000</td>\n      <td>8.000000</td>\n      <td>27.000000</td>\n      <td>261.000000</td>\n      <td>25.000000</td>\n    </tr>\n  </tbody>\n</table>\n<p>8 rows × 106 columns</p>\n</div>"
     },
     "execution_count": 113,
     "metadata": {},
     "output_type": "execute_result"
    }
   ],
   "source": [
    "application.describe()"
   ],
   "metadata": {
    "collapsed": false,
    "ExecuteTime": {
     "end_time": "2023-12-15T18:43:27.968072500Z",
     "start_time": "2023-12-15T18:43:26.130073800Z"
    }
   },
   "id": "3a3b46acac9ec371"
  },
  {
   "cell_type": "code",
   "execution_count": 114,
   "outputs": [],
   "source": [
    "# application.loc[:,['SK_ID_CURR','SK_ID_BUREAU','SK_ID_PREV']]"
   ],
   "metadata": {
    "collapsed": false,
    "ExecuteTime": {
     "end_time": "2023-12-15T18:43:28.004072500Z",
     "start_time": "2023-12-15T18:43:27.970109400Z"
    }
   },
   "id": "bc8a9a2157c0054e"
  },
  {
   "cell_type": "code",
   "execution_count": 13,
   "outputs": [
    {
     "data": {
      "text/plain": "                            Table                    Row  \\\n1    application_{train|test}.csv             SK_ID_CURR   \n2    application_{train|test}.csv                 TARGET   \n5    application_{train|test}.csv     NAME_CONTRACT_TYPE   \n6    application_{train|test}.csv            CODE_GENDER   \n7    application_{train|test}.csv           FLAG_OWN_CAR   \n..                            ...                    ...   \n217     installments_payments.csv  NUM_INSTALMENT_NUMBER   \n218     installments_payments.csv        DAYS_INSTALMENT   \n219     installments_payments.csv     DAYS_ENTRY_PAYMENT   \n220     installments_payments.csv         AMT_INSTALMENT   \n221     installments_payments.csv            AMT_PAYMENT   \n\n                                           Description  \\\n1                             ID of loan in our sample   \n2    Target variable (1 - client with payment diffi...   \n5          Identification if loan is cash or revolving   \n6                                 Gender of the client   \n7                        Flag if the client owns a car   \n..                                                 ...   \n217            On which installment we observe payment   \n218  When the installment of previous credit was su...   \n219  When was the installments of previous credit p...   \n220  What was the prescribed installment amount of ...   \n221  What the client actually paid on previous cred...   \n\n                                   Special  \n1                                      NaN  \n2                                      NaN  \n5                                      NaN  \n6                                      NaN  \n7                                      NaN  \n..                                     ...  \n217                                    NaN  \n218  time only relative to the application  \n219  time only relative to the application  \n220                                    NaN  \n221                                    NaN  \n\n[219 rows x 4 columns]",
      "text/html": "<div>\n<style scoped>\n    .dataframe tbody tr th:only-of-type {\n        vertical-align: middle;\n    }\n\n    .dataframe tbody tr th {\n        vertical-align: top;\n    }\n\n    .dataframe thead th {\n        text-align: right;\n    }\n</style>\n<table border=\"1\" class=\"dataframe\">\n  <thead>\n    <tr style=\"text-align: right;\">\n      <th></th>\n      <th>Table</th>\n      <th>Row</th>\n      <th>Description</th>\n      <th>Special</th>\n    </tr>\n  </thead>\n  <tbody>\n    <tr>\n      <th>1</th>\n      <td>application_{train|test}.csv</td>\n      <td>SK_ID_CURR</td>\n      <td>ID of loan in our sample</td>\n      <td>NaN</td>\n    </tr>\n    <tr>\n      <th>2</th>\n      <td>application_{train|test}.csv</td>\n      <td>TARGET</td>\n      <td>Target variable (1 - client with payment diffi...</td>\n      <td>NaN</td>\n    </tr>\n    <tr>\n      <th>5</th>\n      <td>application_{train|test}.csv</td>\n      <td>NAME_CONTRACT_TYPE</td>\n      <td>Identification if loan is cash or revolving</td>\n      <td>NaN</td>\n    </tr>\n    <tr>\n      <th>6</th>\n      <td>application_{train|test}.csv</td>\n      <td>CODE_GENDER</td>\n      <td>Gender of the client</td>\n      <td>NaN</td>\n    </tr>\n    <tr>\n      <th>7</th>\n      <td>application_{train|test}.csv</td>\n      <td>FLAG_OWN_CAR</td>\n      <td>Flag if the client owns a car</td>\n      <td>NaN</td>\n    </tr>\n    <tr>\n      <th>...</th>\n      <td>...</td>\n      <td>...</td>\n      <td>...</td>\n      <td>...</td>\n    </tr>\n    <tr>\n      <th>217</th>\n      <td>installments_payments.csv</td>\n      <td>NUM_INSTALMENT_NUMBER</td>\n      <td>On which installment we observe payment</td>\n      <td>NaN</td>\n    </tr>\n    <tr>\n      <th>218</th>\n      <td>installments_payments.csv</td>\n      <td>DAYS_INSTALMENT</td>\n      <td>When the installment of previous credit was su...</td>\n      <td>time only relative to the application</td>\n    </tr>\n    <tr>\n      <th>219</th>\n      <td>installments_payments.csv</td>\n      <td>DAYS_ENTRY_PAYMENT</td>\n      <td>When was the installments of previous credit p...</td>\n      <td>time only relative to the application</td>\n    </tr>\n    <tr>\n      <th>220</th>\n      <td>installments_payments.csv</td>\n      <td>AMT_INSTALMENT</td>\n      <td>What was the prescribed installment amount of ...</td>\n      <td>NaN</td>\n    </tr>\n    <tr>\n      <th>221</th>\n      <td>installments_payments.csv</td>\n      <td>AMT_PAYMENT</td>\n      <td>What the client actually paid on previous cred...</td>\n      <td>NaN</td>\n    </tr>\n  </tbody>\n</table>\n<p>219 rows × 4 columns</p>\n</div>"
     },
     "execution_count": 13,
     "metadata": {},
     "output_type": "execute_result"
    }
   ],
   "source": [
    "home_credit_columns_description"
   ],
   "metadata": {
    "collapsed": false,
    "ExecuteTime": {
     "end_time": "2023-12-15T20:32:13.333263500Z",
     "start_time": "2023-12-15T20:32:13.299265900Z"
    }
   },
   "id": "8b9482304820288d"
  },
  {
   "cell_type": "code",
   "execution_count": null,
   "outputs": [],
   "source": [
    "bureau"
   ],
   "metadata": {
    "collapsed": false,
    "is_executing": true
   },
   "id": "9dc5e0a699319182"
  },
  {
   "cell_type": "markdown",
   "source": [
    "the SK_ID_CURR is the unique id for each client"
   ],
   "metadata": {
    "collapsed": false
   },
   "id": "23c713be525dadd7"
  },
  {
   "cell_type": "code",
   "execution_count": 116,
   "outputs": [
    {
     "data": {
      "text/plain": "307511"
     },
     "execution_count": 116,
     "metadata": {},
     "output_type": "execute_result"
    }
   ],
   "source": [
    "len(application)"
   ],
   "metadata": {
    "collapsed": false,
    "ExecuteTime": {
     "end_time": "2023-12-15T18:43:28.127119900Z",
     "start_time": "2023-12-15T18:43:28.001073Z"
    }
   },
   "id": "ae9a611a50f57755"
  },
  {
   "cell_type": "code",
   "execution_count": 117,
   "outputs": [
    {
     "data": {
      "text/plain": "1716428"
     },
     "execution_count": 117,
     "metadata": {},
     "output_type": "execute_result"
    }
   ],
   "source": [
    "len(bureau)"
   ],
   "metadata": {
    "collapsed": false,
    "ExecuteTime": {
     "end_time": "2023-12-15T18:43:28.173120Z",
     "start_time": "2023-12-15T18:43:28.019072200Z"
    }
   },
   "id": "313a145e2036bf78"
  },
  {
   "cell_type": "code",
   "execution_count": 118,
   "outputs": [
    {
     "data": {
      "text/plain": "27299925"
     },
     "execution_count": 118,
     "metadata": {},
     "output_type": "execute_result"
    }
   ],
   "source": [
    "len(bureau_balance)"
   ],
   "metadata": {
    "collapsed": false,
    "ExecuteTime": {
     "end_time": "2023-12-15T18:43:28.176120100Z",
     "start_time": "2023-12-15T18:43:28.034072500Z"
    }
   },
   "id": "24ccd66df705096c"
  },
  {
   "cell_type": "code",
   "execution_count": 119,
   "outputs": [
    {
     "data": {
      "text/plain": "3840312"
     },
     "execution_count": 119,
     "metadata": {},
     "output_type": "execute_result"
    }
   ],
   "source": [
    "len(credit_card_balance)"
   ],
   "metadata": {
    "collapsed": false,
    "ExecuteTime": {
     "end_time": "2023-12-15T18:43:28.215119400Z",
     "start_time": "2023-12-15T18:43:28.049120600Z"
    }
   },
   "id": "e26e2e0b3a3ebc27"
  },
  {
   "cell_type": "code",
   "execution_count": 120,
   "outputs": [
    {
     "data": {
      "text/plain": "13605401"
     },
     "execution_count": 120,
     "metadata": {},
     "output_type": "execute_result"
    }
   ],
   "source": [
    "len(installments_payments)"
   ],
   "metadata": {
    "collapsed": false,
    "ExecuteTime": {
     "end_time": "2023-12-15T18:43:28.217120600Z",
     "start_time": "2023-12-15T18:43:28.066129200Z"
    }
   },
   "id": "e135b4ff817d4be"
  },
  {
   "cell_type": "code",
   "execution_count": 121,
   "outputs": [
    {
     "data": {
      "text/plain": "10001358"
     },
     "execution_count": 121,
     "metadata": {},
     "output_type": "execute_result"
    }
   ],
   "source": [
    "len(POS_CASH_balance)"
   ],
   "metadata": {
    "collapsed": false,
    "ExecuteTime": {
     "end_time": "2023-12-15T18:43:28.241116600Z",
     "start_time": "2023-12-15T18:43:28.081120200Z"
    }
   },
   "id": "42e701ffbfdd1043"
  },
  {
   "cell_type": "code",
   "execution_count": 122,
   "outputs": [
    {
     "data": {
      "text/plain": "1670214"
     },
     "execution_count": 122,
     "metadata": {},
     "output_type": "execute_result"
    }
   ],
   "source": [
    "len(previous_application)"
   ],
   "metadata": {
    "collapsed": false,
    "ExecuteTime": {
     "end_time": "2023-12-15T18:43:28.244120Z",
     "start_time": "2023-12-15T18:43:28.099123200Z"
    }
   },
   "id": "765943a97789ccae"
  },
  {
   "cell_type": "markdown",
   "source": [
    "## merge the bureau data with bureau_balance data"
   ],
   "metadata": {
    "collapsed": false
   },
   "id": "f2d0c358fc7aaff1"
  },
  {
   "cell_type": "code",
   "execution_count": 123,
   "outputs": [],
   "source": [
    "status_count = bureau_balance.groupby('SK_ID_BUREAU')['STATUS'].value_counts().unstack().fillna(0)\n",
    "status_count.columns = ['BUREAU_BALANCE_' + str(col_name) for col_name in status_count.columns]\n",
    "status_count.reset_index(inplace=True)\n",
    "month_count = bureau_balance.groupby('SK_ID_BUREAU')['MONTHS_BALANCE'].min().abs().rename('BUREAU_BALANCE_MONTH_COUNT')\n",
    "status_count = status_count.merge(month_count, how='left', on='SK_ID_BUREAU')  # add 0.001 to avoid divide by 0"
   ],
   "metadata": {
    "collapsed": false,
    "ExecuteTime": {
     "end_time": "2023-12-15T18:43:34.746116300Z",
     "start_time": "2023-12-15T18:43:28.114122700Z"
    }
   },
   "id": "9d79d030a5d72314"
  },
  {
   "cell_type": "code",
   "execution_count": 124,
   "outputs": [],
   "source": [
    "# scale the status_count by month_count\n",
    "for col in status_count.columns[1:-1]:\n",
    "    status_count[col] = status_count[col] / (status_count['BUREAU_BALANCE_MONTH_COUNT'] + 1.001)"
   ],
   "metadata": {
    "collapsed": false,
    "ExecuteTime": {
     "end_time": "2023-12-15T18:43:34.879216200Z",
     "start_time": "2023-12-15T18:43:34.749119400Z"
    }
   },
   "id": "2d0915b49f00885c"
  },
  {
   "cell_type": "code",
   "execution_count": 125,
   "outputs": [
    {
     "data": {
      "text/plain": "Index(['SK_ID_BUREAU', 'BUREAU_BALANCE_0', 'BUREAU_BALANCE_1',\n       'BUREAU_BALANCE_2', 'BUREAU_BALANCE_3', 'BUREAU_BALANCE_4',\n       'BUREAU_BALANCE_5', 'BUREAU_BALANCE_C', 'BUREAU_BALANCE_X',\n       'BUREAU_BALANCE_MONTH_COUNT'],\n      dtype='object')"
     },
     "execution_count": 125,
     "metadata": {},
     "output_type": "execute_result"
    }
   ],
   "source": [
    "status_count.columns"
   ],
   "metadata": {
    "collapsed": false,
    "ExecuteTime": {
     "end_time": "2023-12-15T18:43:34.888215600Z",
     "start_time": "2023-12-15T18:43:34.873219500Z"
    }
   },
   "id": "a79917fce42c41d3"
  },
  {
   "cell_type": "code",
   "execution_count": 126,
   "outputs": [],
   "source": [
    "bureau = bureau.merge(status_count, how='left', on='SK_ID_BUREAU')"
   ],
   "metadata": {
    "collapsed": false,
    "ExecuteTime": {
     "end_time": "2023-12-15T18:43:35.714546100Z",
     "start_time": "2023-12-15T18:43:34.890215700Z"
    }
   },
   "id": "4f11ff72d5370b3f"
  },
  {
   "cell_type": "code",
   "execution_count": 127,
   "outputs": [
    {
     "data": {
      "text/plain": "         SK_ID_CURR  SK_ID_BUREAU   DAYS_CREDIT  CREDIT_DAY_OVERDUE  \\\ncount  1.716428e+06  1.716428e+06  1.716428e+06        1.716428e+06   \nmean   2.782149e+05  5.924434e+06 -1.142108e+03        8.181666e-01   \nstd    1.029386e+05  5.322657e+05  7.951649e+02        3.654443e+01   \nmin    1.000010e+05  5.000000e+06 -2.922000e+03        0.000000e+00   \n25%    1.888668e+05  5.463954e+06 -1.666000e+03        0.000000e+00   \n50%    2.780550e+05  5.926304e+06 -9.870000e+02        0.000000e+00   \n75%    3.674260e+05  6.385681e+06 -4.740000e+02        0.000000e+00   \nmax    4.562550e+05  6.843457e+06  0.000000e+00        2.792000e+03   \n\n       DAYS_CREDIT_ENDDATE  DAYS_ENDDATE_FACT  AMT_CREDIT_MAX_OVERDUE  \\\ncount         1.610875e+06       1.082775e+06            5.919400e+05   \nmean          5.105174e+02      -1.017437e+03            3.825418e+03   \nstd           4.994220e+03       7.140106e+02            2.060316e+05   \nmin          -4.206000e+04      -4.202300e+04            0.000000e+00   \n25%          -1.138000e+03      -1.489000e+03            0.000000e+00   \n50%          -3.300000e+02      -8.970000e+02            0.000000e+00   \n75%           4.740000e+02      -4.250000e+02            0.000000e+00   \nmax           3.119900e+04       0.000000e+00            1.159872e+08   \n\n       CNT_CREDIT_PROLONG  AMT_CREDIT_SUM  AMT_CREDIT_SUM_DEBT  ...  \\\ncount        1.716428e+06    1.716415e+06         1.458759e+06  ...   \nmean         6.410406e-03    3.549946e+05         1.370851e+05  ...   \nstd          9.622391e-02    1.149811e+06         6.774011e+05  ...   \nmin          0.000000e+00    0.000000e+00        -4.705600e+06  ...   \n25%          0.000000e+00    5.130000e+04         0.000000e+00  ...   \n50%          0.000000e+00    1.255185e+05         0.000000e+00  ...   \n75%          0.000000e+00    3.150000e+05         4.015350e+04  ...   \nmax          9.000000e+00    5.850000e+08         1.701000e+08  ...   \n\n        AMT_ANNUITY  BUREAU_BALANCE_0  BUREAU_BALANCE_1  BUREAU_BALANCE_2  \\\ncount  4.896370e+05     774354.000000     774354.000000     774354.000000   \nmean   1.571276e+04          4.726299          0.014638          0.000723   \nstd    3.258269e+05         65.733833          1.968870          0.008864   \nmin    0.000000e+00          0.000000          0.000000          0.000000   \n25%    0.000000e+00          0.081631          0.000000          0.000000   \n50%    0.000000e+00          0.249984          0.000000          0.000000   \n75%    1.350000e+04          0.624961          0.000000          0.000000   \nmax    1.184534e+08       1000.000000       1000.000000          0.833194   \n\n       BUREAU_BALANCE_3  BUREAU_BALANCE_4  BUREAU_BALANCE_5  BUREAU_BALANCE_C  \\\ncount     774354.000000     774354.000000     774354.000000     774354.000000   \nmean           0.000248          0.000161          0.001339          0.689338   \nstd            0.004092          0.003129          0.025614         18.667082   \nmin            0.000000          0.000000          0.000000          0.000000   \n25%            0.000000          0.000000          0.000000          0.000000   \n50%            0.000000          0.000000          0.000000          0.166657   \n75%            0.000000          0.000000          0.000000          0.718728   \nmax            0.499875          0.666445          1.998002       1000.000000   \n\n       BUREAU_BALANCE_X  BUREAU_BALANCE_MONTH_COUNT  \ncount     774354.000000               774354.000000  \nmean           2.205009                   36.288669  \nstd           44.658598                   25.449736  \nmin            0.000000                    0.000000  \n25%            0.000000                   15.000000  \n50%            0.020000                   31.000000  \n75%            0.249938                   53.000000  \nmax         1000.000000                   96.000000  \n\n[8 rows x 23 columns]",
      "text/html": "<div>\n<style scoped>\n    .dataframe tbody tr th:only-of-type {\n        vertical-align: middle;\n    }\n\n    .dataframe tbody tr th {\n        vertical-align: top;\n    }\n\n    .dataframe thead th {\n        text-align: right;\n    }\n</style>\n<table border=\"1\" class=\"dataframe\">\n  <thead>\n    <tr style=\"text-align: right;\">\n      <th></th>\n      <th>SK_ID_CURR</th>\n      <th>SK_ID_BUREAU</th>\n      <th>DAYS_CREDIT</th>\n      <th>CREDIT_DAY_OVERDUE</th>\n      <th>DAYS_CREDIT_ENDDATE</th>\n      <th>DAYS_ENDDATE_FACT</th>\n      <th>AMT_CREDIT_MAX_OVERDUE</th>\n      <th>CNT_CREDIT_PROLONG</th>\n      <th>AMT_CREDIT_SUM</th>\n      <th>AMT_CREDIT_SUM_DEBT</th>\n      <th>...</th>\n      <th>AMT_ANNUITY</th>\n      <th>BUREAU_BALANCE_0</th>\n      <th>BUREAU_BALANCE_1</th>\n      <th>BUREAU_BALANCE_2</th>\n      <th>BUREAU_BALANCE_3</th>\n      <th>BUREAU_BALANCE_4</th>\n      <th>BUREAU_BALANCE_5</th>\n      <th>BUREAU_BALANCE_C</th>\n      <th>BUREAU_BALANCE_X</th>\n      <th>BUREAU_BALANCE_MONTH_COUNT</th>\n    </tr>\n  </thead>\n  <tbody>\n    <tr>\n      <th>count</th>\n      <td>1.716428e+06</td>\n      <td>1.716428e+06</td>\n      <td>1.716428e+06</td>\n      <td>1.716428e+06</td>\n      <td>1.610875e+06</td>\n      <td>1.082775e+06</td>\n      <td>5.919400e+05</td>\n      <td>1.716428e+06</td>\n      <td>1.716415e+06</td>\n      <td>1.458759e+06</td>\n      <td>...</td>\n      <td>4.896370e+05</td>\n      <td>774354.000000</td>\n      <td>774354.000000</td>\n      <td>774354.000000</td>\n      <td>774354.000000</td>\n      <td>774354.000000</td>\n      <td>774354.000000</td>\n      <td>774354.000000</td>\n      <td>774354.000000</td>\n      <td>774354.000000</td>\n    </tr>\n    <tr>\n      <th>mean</th>\n      <td>2.782149e+05</td>\n      <td>5.924434e+06</td>\n      <td>-1.142108e+03</td>\n      <td>8.181666e-01</td>\n      <td>5.105174e+02</td>\n      <td>-1.017437e+03</td>\n      <td>3.825418e+03</td>\n      <td>6.410406e-03</td>\n      <td>3.549946e+05</td>\n      <td>1.370851e+05</td>\n      <td>...</td>\n      <td>1.571276e+04</td>\n      <td>4.726299</td>\n      <td>0.014638</td>\n      <td>0.000723</td>\n      <td>0.000248</td>\n      <td>0.000161</td>\n      <td>0.001339</td>\n      <td>0.689338</td>\n      <td>2.205009</td>\n      <td>36.288669</td>\n    </tr>\n    <tr>\n      <th>std</th>\n      <td>1.029386e+05</td>\n      <td>5.322657e+05</td>\n      <td>7.951649e+02</td>\n      <td>3.654443e+01</td>\n      <td>4.994220e+03</td>\n      <td>7.140106e+02</td>\n      <td>2.060316e+05</td>\n      <td>9.622391e-02</td>\n      <td>1.149811e+06</td>\n      <td>6.774011e+05</td>\n      <td>...</td>\n      <td>3.258269e+05</td>\n      <td>65.733833</td>\n      <td>1.968870</td>\n      <td>0.008864</td>\n      <td>0.004092</td>\n      <td>0.003129</td>\n      <td>0.025614</td>\n      <td>18.667082</td>\n      <td>44.658598</td>\n      <td>25.449736</td>\n    </tr>\n    <tr>\n      <th>min</th>\n      <td>1.000010e+05</td>\n      <td>5.000000e+06</td>\n      <td>-2.922000e+03</td>\n      <td>0.000000e+00</td>\n      <td>-4.206000e+04</td>\n      <td>-4.202300e+04</td>\n      <td>0.000000e+00</td>\n      <td>0.000000e+00</td>\n      <td>0.000000e+00</td>\n      <td>-4.705600e+06</td>\n      <td>...</td>\n      <td>0.000000e+00</td>\n      <td>0.000000</td>\n      <td>0.000000</td>\n      <td>0.000000</td>\n      <td>0.000000</td>\n      <td>0.000000</td>\n      <td>0.000000</td>\n      <td>0.000000</td>\n      <td>0.000000</td>\n      <td>0.000000</td>\n    </tr>\n    <tr>\n      <th>25%</th>\n      <td>1.888668e+05</td>\n      <td>5.463954e+06</td>\n      <td>-1.666000e+03</td>\n      <td>0.000000e+00</td>\n      <td>-1.138000e+03</td>\n      <td>-1.489000e+03</td>\n      <td>0.000000e+00</td>\n      <td>0.000000e+00</td>\n      <td>5.130000e+04</td>\n      <td>0.000000e+00</td>\n      <td>...</td>\n      <td>0.000000e+00</td>\n      <td>0.081631</td>\n      <td>0.000000</td>\n      <td>0.000000</td>\n      <td>0.000000</td>\n      <td>0.000000</td>\n      <td>0.000000</td>\n      <td>0.000000</td>\n      <td>0.000000</td>\n      <td>15.000000</td>\n    </tr>\n    <tr>\n      <th>50%</th>\n      <td>2.780550e+05</td>\n      <td>5.926304e+06</td>\n      <td>-9.870000e+02</td>\n      <td>0.000000e+00</td>\n      <td>-3.300000e+02</td>\n      <td>-8.970000e+02</td>\n      <td>0.000000e+00</td>\n      <td>0.000000e+00</td>\n      <td>1.255185e+05</td>\n      <td>0.000000e+00</td>\n      <td>...</td>\n      <td>0.000000e+00</td>\n      <td>0.249984</td>\n      <td>0.000000</td>\n      <td>0.000000</td>\n      <td>0.000000</td>\n      <td>0.000000</td>\n      <td>0.000000</td>\n      <td>0.166657</td>\n      <td>0.020000</td>\n      <td>31.000000</td>\n    </tr>\n    <tr>\n      <th>75%</th>\n      <td>3.674260e+05</td>\n      <td>6.385681e+06</td>\n      <td>-4.740000e+02</td>\n      <td>0.000000e+00</td>\n      <td>4.740000e+02</td>\n      <td>-4.250000e+02</td>\n      <td>0.000000e+00</td>\n      <td>0.000000e+00</td>\n      <td>3.150000e+05</td>\n      <td>4.015350e+04</td>\n      <td>...</td>\n      <td>1.350000e+04</td>\n      <td>0.624961</td>\n      <td>0.000000</td>\n      <td>0.000000</td>\n      <td>0.000000</td>\n      <td>0.000000</td>\n      <td>0.000000</td>\n      <td>0.718728</td>\n      <td>0.249938</td>\n      <td>53.000000</td>\n    </tr>\n    <tr>\n      <th>max</th>\n      <td>4.562550e+05</td>\n      <td>6.843457e+06</td>\n      <td>0.000000e+00</td>\n      <td>2.792000e+03</td>\n      <td>3.119900e+04</td>\n      <td>0.000000e+00</td>\n      <td>1.159872e+08</td>\n      <td>9.000000e+00</td>\n      <td>5.850000e+08</td>\n      <td>1.701000e+08</td>\n      <td>...</td>\n      <td>1.184534e+08</td>\n      <td>1000.000000</td>\n      <td>1000.000000</td>\n      <td>0.833194</td>\n      <td>0.499875</td>\n      <td>0.666445</td>\n      <td>1.998002</td>\n      <td>1000.000000</td>\n      <td>1000.000000</td>\n      <td>96.000000</td>\n    </tr>\n  </tbody>\n</table>\n<p>8 rows × 23 columns</p>\n</div>"
     },
     "execution_count": 127,
     "metadata": {},
     "output_type": "execute_result"
    }
   ],
   "source": [
    "bureau.describe()"
   ],
   "metadata": {
    "collapsed": false,
    "ExecuteTime": {
     "end_time": "2023-12-15T18:43:37.811545500Z",
     "start_time": "2023-12-15T18:43:35.716547Z"
    }
   },
   "id": "eca1c1686e33f8f0"
  },
  {
   "cell_type": "markdown",
   "source": [
    "## Cleaning bureau data"
   ],
   "metadata": {
    "collapsed": false
   },
   "id": "329d338e194c3ed1"
  },
  {
   "cell_type": "code",
   "execution_count": 14,
   "outputs": [
    {
     "name": "stdout",
     "output_type": "stream",
     "text": [
      "SK_ID_CURR Unique item: 305811 NA: 0 value=0: 0\n",
      "SK_ID_BUREAU Unique item: 1716428 NA: 0 value=0: 0\n",
      "CREDIT_ACTIVE Unique item: 4 NA: 0 value=0: 0\n",
      "CREDIT_CURRENCY Unique item: 4 NA: 0 value=0: 0\n",
      "DAYS_CREDIT Unique item: 2923 NA: 0 value=0: 25\n",
      "CREDIT_DAY_OVERDUE Unique item: 942 NA: 0 value=0: 1712211\n",
      "DAYS_CREDIT_ENDDATE Unique item: 14097 NA: 105553 value=0: 883\n",
      "DAYS_ENDDATE_FACT Unique item: 2918 NA: 633653 value=0: 64\n",
      "AMT_CREDIT_MAX_OVERDUE Unique item: 68252 NA: 1124488 value=0: 470650\n",
      "CNT_CREDIT_PROLONG Unique item: 10 NA: 0 value=0: 1707314\n",
      "AMT_CREDIT_SUM Unique item: 236709 NA: 13 value=0: 66582\n",
      "AMT_CREDIT_SUM_DEBT Unique item: 226538 NA: 257669 value=0: 1016434\n",
      "AMT_CREDIT_SUM_LIMIT Unique item: 51727 NA: 591780 value=0: 1050142\n",
      "AMT_CREDIT_SUM_OVERDUE Unique item: 1616 NA: 0 value=0: 1712270\n",
      "CREDIT_TYPE Unique item: 15 NA: 0 value=0: 0\n",
      "DAYS_CREDIT_UPDATE Unique item: 2982 NA: 0 value=0: 605\n",
      "AMT_ANNUITY Unique item: 40322 NA: 1226791 value=0: 256915\n"
     ]
    }
   ],
   "source": [
    "# print number of unique item in each column\n",
    "for col in bureau.columns:\n",
    "    print(col, 'Unique item:',  len(bureau[col].unique()),'NA:',  len(bureau.loc[bureau[col].isnull()]),'value=0:', len(bureau.loc[bureau[col] == 0]))"
   ],
   "metadata": {
    "collapsed": false,
    "ExecuteTime": {
     "end_time": "2023-12-15T20:39:21.884122100Z",
     "start_time": "2023-12-15T20:39:19.523084600Z"
    }
   },
   "id": "c169f6b4e11cd704"
  },
  {
   "cell_type": "code",
   "execution_count": 131,
   "outputs": [],
   "source": [
    "# def aggregate_do_nothing(bureau, col):\n",
    "#     res = bureau[col]\n",
    "#     return res.reindex(application['SK_ID_CURR']).fillna(0).rename('BUREAU_' + col)"
   ],
   "metadata": {
    "collapsed": false,
    "ExecuteTime": {
     "end_time": "2023-12-15T18:43:43.310545500Z",
     "start_time": "2023-12-15T18:43:43.254589Z"
    }
   },
   "id": "8b631e8b2f485894"
  },
  {
   "cell_type": "code",
   "execution_count": 18,
   "outputs": [],
   "source": [
    "def aggregate_count(bureau, col):\n",
    "    # res = bureau[bureau['SK_ID_CURR'].isin(application['SK_ID_CURR'])]\n",
    "    # res = res.groupby('SK_ID_CURR')[col].count()\n",
    "    res = bureau.groupby('SK_ID_CURR')[col].count()\n",
    "    return res.reindex(application['SK_ID_CURR']).fillna(0).rename('BUREAU_' + col + '_COUNT')"
   ],
   "metadata": {
    "collapsed": false,
    "ExecuteTime": {
     "end_time": "2023-12-15T20:44:36.437944700Z",
     "start_time": "2023-12-15T20:44:36.414942Z"
    }
   },
   "id": "f31d18b8b1b97300"
  },
  {
   "cell_type": "code",
   "execution_count": 19,
   "outputs": [],
   "source": [
    "def aggregate_categorical(bureau, col):\n",
    "    # res = bureau[bureau['SK_ID_CURR'].isin(application['SK_ID_CURR'])]\n",
    "    # res = res.groupby('SK_ID_CURR')[col].value_counts().unstack()\n",
    "    res = bureau.groupby('SK_ID_CURR')[col].value_counts().unstack()\n",
    "    res = res.reindex(application['SK_ID_CURR']).fillna(0)\n",
    "    res.columns = ['BUREAU_' + col + '_' + str(col_name) for col_name in res.columns]\n",
    "    return res"
   ],
   "metadata": {
    "collapsed": false,
    "ExecuteTime": {
     "end_time": "2023-12-15T20:44:37.304945500Z",
     "start_time": "2023-12-15T20:44:37.284943400Z"
    }
   },
   "id": "df8dcf1572ecc5b7"
  },
  {
   "cell_type": "code",
   "execution_count": 20,
   "outputs": [],
   "source": [
    "def aggregate_avg_max_min_std_skw(bureau, col):\n",
    "    # res = bureau[bureau['SK_ID_CURR'].isin(application['SK_ID_CURR'])]\n",
    "    # res = res.groupby('SK_ID_CURR')[col].agg(['mean', 'max', 'min', 'std', 'skew'])\n",
    "    res = bureau.groupby('SK_ID_CURR')[col].agg(['mean', 'max', 'min', 'std', 'skew'])\n",
    "    res = res.reindex(application['SK_ID_CURR']).fillna(0)\n",
    "    res.columns = ['BUREAU_' + col + '_' + col_name for col_name in res.columns]\n",
    "    return res"
   ],
   "metadata": {
    "collapsed": false,
    "ExecuteTime": {
     "end_time": "2023-12-15T20:44:38.185942400Z",
     "start_time": "2023-12-15T20:44:38.163943200Z"
    }
   },
   "id": "adb2d10c8c63827a"
  },
  {
   "cell_type": "code",
   "execution_count": 21,
   "outputs": [],
   "source": [
    "def aggregate_avg_max_min_std_skw_nan_count(bureau, col):\n",
    "    res = bureau[bureau['SK_ID_CURR'].isin(application['SK_ID_CURR'])]\n",
    "    res = res.groupby('SK_ID_CURR')[col].agg(['mean', 'max', 'min', 'std', 'skew'])\n",
    "    # count the number of nan\n",
    "    res['nan_count'] = bureau.groupby('SK_ID_CURR')[col].apply(lambda x: x.isnull().sum())\n",
    "    res = res.reindex(application['SK_ID_CURR']).fillna(0)\n",
    "    res.columns = ['BUREAU_' + col + '_' + col_name for col_name in res.columns]\n",
    "    return res"
   ],
   "metadata": {
    "collapsed": false,
    "ExecuteTime": {
     "end_time": "2023-12-15T20:44:38.213975500Z",
     "start_time": "2023-12-15T20:44:38.179943300Z"
    }
   },
   "id": "8901b0ae346bcb10"
  },
  {
   "cell_type": "code",
   "execution_count": 136,
   "outputs": [],
   "source": [
    "bureau_agg_dic = {'SK_ID_BUREAU': 'aggregate_count',\n",
    "                  'CREDIT_ACTIVE': 'aggregate_categorical',\n",
    "                  'CREDIT_CURRENCY': 'aggregate_categorical',\n",
    "                  'DAYS_CREDIT': 'aggregate_avg_max_min_std_skw',\n",
    "                  'CREDIT_DAY_OVERDUE': 'aggregate_avg_max_min_std_skw',\n",
    "                  'DAYS_CREDIT_ENDDATE': 'aggregate_avg_max_min_std_skw_nan_count',\n",
    "                  'DAYS_ENDDATE_FACT': 'aggregate_avg_max_min_std_skw_nan_count',\n",
    "                  'AMT_CREDIT_MAX_OVERDUE': 'aggregate_avg_max_min_std_skw_nan_count',\n",
    "                  'CNT_CREDIT_PROLONG': 'aggregate_avg_max_min_std_skw',\n",
    "                  'AMT_CREDIT_SUM': 'aggregate_avg_max_min_std_skw',\n",
    "                  'AMT_CREDIT_SUM_DEBT': 'aggregate_avg_max_min_std_skw_nan_count',\n",
    "                  'AMT_CREDIT_SUM_LIMIT': 'aggregate_avg_max_min_std_skw_nan_count',\n",
    "                  'AMT_CREDIT_SUM_OVERDUE': 'aggregate_avg_max_min_std_skw',\n",
    "                  'DAYS_CREDIT_UPDATE': 'aggregate_avg_max_min_std_skw',\n",
    "                  'AMT_ANNUITY': 'aggregate_avg_max_min_std_skw_nan_count',\n",
    "                  'BUREAU_BALANCE_0': 'aggregate_avg_max_min_std_skw',\n",
    "                  'BUREAU_BALANCE_1': 'aggregate_avg_max_min_std_skw',\n",
    "                  'BUREAU_BALANCE_2': 'aggregate_avg_max_min_std_skw',\n",
    "                  'BUREAU_BALANCE_3': 'aggregate_avg_max_min_std_skw',\n",
    "                  'BUREAU_BALANCE_4': 'aggregate_avg_max_min_std_skw',\n",
    "                  'BUREAU_BALANCE_5': 'aggregate_avg_max_min_std_skw',\n",
    "                  'BUREAU_BALANCE_C': 'aggregate_avg_max_min_std_skw',\n",
    "                  'BUREAU_BALANCE_X': 'aggregate_avg_max_min_std_skw',\n",
    "                  'BUREAU_BALANCE_MONTH_COUNT': 'aggregate_avg_max_min_std_skw'}"
   ],
   "metadata": {
    "collapsed": false,
    "ExecuteTime": {
     "end_time": "2023-12-15T18:43:43.387544800Z",
     "start_time": "2023-12-15T18:43:43.337548Z"
    }
   },
   "id": "ae4f9c4688aed498"
  },
  {
   "cell_type": "code",
   "execution_count": 37,
   "outputs": [
    {
     "data": {
      "text/plain": "'Contract status (approved, cancelled, ...) of previous application'"
     },
     "execution_count": 37,
     "metadata": {},
     "output_type": "execute_result"
    }
   ],
   "source": [
    "home_credit_columns_description.where(home_credit_columns_description['Row'] == 'NAME_CONTRACT_STATUS').dropna(axis=0, how='all')['Description'].values[2]"
   ],
   "metadata": {
    "collapsed": false,
    "ExecuteTime": {
     "end_time": "2023-12-15T21:14:07.849222800Z",
     "start_time": "2023-12-15T21:14:07.755221100Z"
    }
   },
   "id": "ff8cc2b9e55de35e"
  },
  {
   "cell_type": "code",
   "execution_count": 138,
   "outputs": [],
   "source": [
    "# parallel processing\n",
    "bureau_merging_result = Parallel(n_jobs=-1)(\n",
    "    delayed(eval(bureau_agg_dic[col]))(bureau[bureau['SK_ID_CURR'].isin(application['SK_ID_CURR'])], col) for col in bureau_agg_dic.keys())# 6min"
   ],
   "metadata": {
    "collapsed": false,
    "ExecuteTime": {
     "end_time": "2023-12-15T18:49:31.842604700Z",
     "start_time": "2023-12-15T18:43:43.367545500Z"
    }
   },
   "id": "6a8064393ddd25e9"
  },
  {
   "cell_type": "code",
   "execution_count": 139,
   "outputs": [],
   "source": [
    "# merge all the result on SK_ID_CURR\n",
    "bureau_merging_result = pd.concat(bureau_merging_result, axis=1)"
   ],
   "metadata": {
    "collapsed": false,
    "ExecuteTime": {
     "end_time": "2023-12-15T18:49:32.083602100Z",
     "start_time": "2023-12-15T18:49:31.902606900Z"
    }
   },
   "id": "4b21c8c1323c179b"
  },
  {
   "cell_type": "markdown",
   "source": [
    "## Cleaning POS Cash data\n",
    "grace"
   ],
   "metadata": {
    "collapsed": false
   },
   "id": "1d373e3d84007118"
  },
  {
   "cell_type": "code",
   "execution_count": 78,
   "outputs": [
    {
     "data": {
      "text/plain": "Active                   9151119\nCompleted                 744883\nSigned                     87260\nDemand                      7065\nReturned to the store       5461\nApproved                    4917\nAmortized debt               636\nCanceled                      15\nXNA                            2\nName: NAME_CONTRACT_STATUS, dtype: int64"
     },
     "execution_count": 78,
     "metadata": {},
     "output_type": "execute_result"
    }
   ],
   "source": [
    "POS_CASH_balance['NAME_CONTRACT_STATUS'].value_counts()"
   ],
   "metadata": {
    "collapsed": false,
    "ExecuteTime": {
     "end_time": "2023-12-15T22:09:54.274159800Z",
     "start_time": "2023-12-15T22:09:54.243160700Z"
    }
   },
   "id": "fcc62f78b906c771"
  },
  {
   "cell_type": "code",
   "execution_count": 74,
   "outputs": [
    {
     "data": {
      "text/plain": "          SK_ID_PREV  SK_ID_CURR  MONTHS_BALANCE  CNT_INSTALMENT  \\\n0            1803195      182943             -31            48.0   \n1            1715348      367990             -33            36.0   \n2            1784872      397406             -32            12.0   \n3            1903291      269225             -35            48.0   \n4            2341044      334279             -35            36.0   \n...              ...         ...             ...             ...   \n10001353     2448283      226558             -20             6.0   \n10001354     1717234      141565             -19            12.0   \n10001355     1283126      315695             -21            10.0   \n10001356     1082516      450255             -22            12.0   \n10001357     1259607      174278             -52            16.0   \n\n          CNT_INSTALMENT_FUTURE  NAME_CONTRACT_STATUS  SK_DPD  SK_DPD_DEF  \n0                          45.0                     1       0           0  \n1                          35.0                     1       0           0  \n2                           9.0                     1       0           0  \n3                          42.0                     1       0           0  \n4                          35.0                     1       0           0  \n...                         ...                   ...     ...         ...  \n10001353                    0.0                     1     843           0  \n10001354                    0.0                     1     602           0  \n10001355                    0.0                     1     609           0  \n10001356                    0.0                     1     614           0  \n10001357                    0.0                     1       0           0  \n\n[10001358 rows x 8 columns]",
      "text/html": "<div>\n<style scoped>\n    .dataframe tbody tr th:only-of-type {\n        vertical-align: middle;\n    }\n\n    .dataframe tbody tr th {\n        vertical-align: top;\n    }\n\n    .dataframe thead th {\n        text-align: right;\n    }\n</style>\n<table border=\"1\" class=\"dataframe\">\n  <thead>\n    <tr style=\"text-align: right;\">\n      <th></th>\n      <th>SK_ID_PREV</th>\n      <th>SK_ID_CURR</th>\n      <th>MONTHS_BALANCE</th>\n      <th>CNT_INSTALMENT</th>\n      <th>CNT_INSTALMENT_FUTURE</th>\n      <th>NAME_CONTRACT_STATUS</th>\n      <th>SK_DPD</th>\n      <th>SK_DPD_DEF</th>\n    </tr>\n  </thead>\n  <tbody>\n    <tr>\n      <th>0</th>\n      <td>1803195</td>\n      <td>182943</td>\n      <td>-31</td>\n      <td>48.0</td>\n      <td>45.0</td>\n      <td>1</td>\n      <td>0</td>\n      <td>0</td>\n    </tr>\n    <tr>\n      <th>1</th>\n      <td>1715348</td>\n      <td>367990</td>\n      <td>-33</td>\n      <td>36.0</td>\n      <td>35.0</td>\n      <td>1</td>\n      <td>0</td>\n      <td>0</td>\n    </tr>\n    <tr>\n      <th>2</th>\n      <td>1784872</td>\n      <td>397406</td>\n      <td>-32</td>\n      <td>12.0</td>\n      <td>9.0</td>\n      <td>1</td>\n      <td>0</td>\n      <td>0</td>\n    </tr>\n    <tr>\n      <th>3</th>\n      <td>1903291</td>\n      <td>269225</td>\n      <td>-35</td>\n      <td>48.0</td>\n      <td>42.0</td>\n      <td>1</td>\n      <td>0</td>\n      <td>0</td>\n    </tr>\n    <tr>\n      <th>4</th>\n      <td>2341044</td>\n      <td>334279</td>\n      <td>-35</td>\n      <td>36.0</td>\n      <td>35.0</td>\n      <td>1</td>\n      <td>0</td>\n      <td>0</td>\n    </tr>\n    <tr>\n      <th>...</th>\n      <td>...</td>\n      <td>...</td>\n      <td>...</td>\n      <td>...</td>\n      <td>...</td>\n      <td>...</td>\n      <td>...</td>\n      <td>...</td>\n    </tr>\n    <tr>\n      <th>10001353</th>\n      <td>2448283</td>\n      <td>226558</td>\n      <td>-20</td>\n      <td>6.0</td>\n      <td>0.0</td>\n      <td>1</td>\n      <td>843</td>\n      <td>0</td>\n    </tr>\n    <tr>\n      <th>10001354</th>\n      <td>1717234</td>\n      <td>141565</td>\n      <td>-19</td>\n      <td>12.0</td>\n      <td>0.0</td>\n      <td>1</td>\n      <td>602</td>\n      <td>0</td>\n    </tr>\n    <tr>\n      <th>10001355</th>\n      <td>1283126</td>\n      <td>315695</td>\n      <td>-21</td>\n      <td>10.0</td>\n      <td>0.0</td>\n      <td>1</td>\n      <td>609</td>\n      <td>0</td>\n    </tr>\n    <tr>\n      <th>10001356</th>\n      <td>1082516</td>\n      <td>450255</td>\n      <td>-22</td>\n      <td>12.0</td>\n      <td>0.0</td>\n      <td>1</td>\n      <td>614</td>\n      <td>0</td>\n    </tr>\n    <tr>\n      <th>10001357</th>\n      <td>1259607</td>\n      <td>174278</td>\n      <td>-52</td>\n      <td>16.0</td>\n      <td>0.0</td>\n      <td>1</td>\n      <td>0</td>\n      <td>0</td>\n    </tr>\n  </tbody>\n</table>\n<p>10001358 rows × 8 columns</p>\n</div>"
     },
     "execution_count": 74,
     "metadata": {},
     "output_type": "execute_result"
    }
   ],
   "source": [
    "# encode the NAME_CONTRACT_STATUS\n",
    "POS_CASH_balance['NAME_CONTRACT_STATUS'] = POS_CASH_balance['NAME_CONTRACT_STATUS'].map({'Active': 0, 'Completed': 1, 'Signed': 2, 'Approved': 3, 'Returned to the store': 4, 'Demand': 5, 'Canceled': 6, 'XNA': 7, })\n"
   ],
   "metadata": {
    "collapsed": false,
    "ExecuteTime": {
     "end_time": "2023-12-15T22:07:14.174381900Z",
     "start_time": "2023-12-15T22:07:14.121380700Z"
    }
   },
   "id": "490739a98559e70c"
  },
  {
   "cell_type": "code",
   "execution_count": 68,
   "outputs": [],
   "source": [
    "def aggregate_POS(POS_CASH_balance):\n",
    "    temp=POS_CASH_balance.loc[:,['SK_ID_PREV','SK_ID_CURR','NAME_CONTRACT_STATUS']].copy()\n",
    "    temp['pct_process']=POS_CASH_balance['CNT_INSTALMENT_FUTURE']/(POS_CASH_balance['CNT_INSTALMENT']+POS_CASH_balance['CNT_INSTALMENT_FUTURE'])\n",
    "    status = pd.get_dummies(POS_CASH_balance['NAME_CONTRACT_STATUS'])\n",
    "    for col in status:\n",
    "        temp[col]=status[col]*temp['pct_process']\n",
    "    temp=temp.groupby(['SK_ID_CURR','SK_ID_PREV']).sum()\n",
    "    print(temp)"
   ],
   "metadata": {
    "collapsed": false,
    "ExecuteTime": {
     "end_time": "2023-12-15T21:49:46.349100200Z",
     "start_time": "2023-12-15T21:49:46.326100600Z"
    }
   },
   "id": "da955880d6858292"
  },
  {
   "cell_type": "code",
   "execution_count": 70,
   "outputs": [
    {
     "data": {
      "text/plain": "          SK_ID_PREV  SK_ID_CURR  MONTHS_BALANCE  CNT_INSTALMENT  \\\n0            1803195      182943             -31            48.0   \n1            1715348      367990             -33            36.0   \n2            1784872      397406             -32            12.0   \n3            1903291      269225             -35            48.0   \n4            2341044      334279             -35            36.0   \n...              ...         ...             ...             ...   \n10001353     2448283      226558             -20             6.0   \n10001354     1717234      141565             -19            12.0   \n10001355     1283126      315695             -21            10.0   \n10001356     1082516      450255             -22            12.0   \n10001357     1259607      174278             -52            16.0   \n\n          CNT_INSTALMENT_FUTURE NAME_CONTRACT_STATUS  SK_DPD  SK_DPD_DEF  \n0                          45.0               Active       0           0  \n1                          35.0               Active       0           0  \n2                           9.0               Active       0           0  \n3                          42.0               Active       0           0  \n4                          35.0               Active       0           0  \n...                         ...                  ...     ...         ...  \n10001353                    0.0               Active     843           0  \n10001354                    0.0               Active     602           0  \n10001355                    0.0               Active     609           0  \n10001356                    0.0               Active     614           0  \n10001357                    0.0            Completed       0           0  \n\n[10001358 rows x 8 columns]",
      "text/html": "<div>\n<style scoped>\n    .dataframe tbody tr th:only-of-type {\n        vertical-align: middle;\n    }\n\n    .dataframe tbody tr th {\n        vertical-align: top;\n    }\n\n    .dataframe thead th {\n        text-align: right;\n    }\n</style>\n<table border=\"1\" class=\"dataframe\">\n  <thead>\n    <tr style=\"text-align: right;\">\n      <th></th>\n      <th>SK_ID_PREV</th>\n      <th>SK_ID_CURR</th>\n      <th>MONTHS_BALANCE</th>\n      <th>CNT_INSTALMENT</th>\n      <th>CNT_INSTALMENT_FUTURE</th>\n      <th>NAME_CONTRACT_STATUS</th>\n      <th>SK_DPD</th>\n      <th>SK_DPD_DEF</th>\n    </tr>\n  </thead>\n  <tbody>\n    <tr>\n      <th>0</th>\n      <td>1803195</td>\n      <td>182943</td>\n      <td>-31</td>\n      <td>48.0</td>\n      <td>45.0</td>\n      <td>Active</td>\n      <td>0</td>\n      <td>0</td>\n    </tr>\n    <tr>\n      <th>1</th>\n      <td>1715348</td>\n      <td>367990</td>\n      <td>-33</td>\n      <td>36.0</td>\n      <td>35.0</td>\n      <td>Active</td>\n      <td>0</td>\n      <td>0</td>\n    </tr>\n    <tr>\n      <th>2</th>\n      <td>1784872</td>\n      <td>397406</td>\n      <td>-32</td>\n      <td>12.0</td>\n      <td>9.0</td>\n      <td>Active</td>\n      <td>0</td>\n      <td>0</td>\n    </tr>\n    <tr>\n      <th>3</th>\n      <td>1903291</td>\n      <td>269225</td>\n      <td>-35</td>\n      <td>48.0</td>\n      <td>42.0</td>\n      <td>Active</td>\n      <td>0</td>\n      <td>0</td>\n    </tr>\n    <tr>\n      <th>4</th>\n      <td>2341044</td>\n      <td>334279</td>\n      <td>-35</td>\n      <td>36.0</td>\n      <td>35.0</td>\n      <td>Active</td>\n      <td>0</td>\n      <td>0</td>\n    </tr>\n    <tr>\n      <th>...</th>\n      <td>...</td>\n      <td>...</td>\n      <td>...</td>\n      <td>...</td>\n      <td>...</td>\n      <td>...</td>\n      <td>...</td>\n      <td>...</td>\n    </tr>\n    <tr>\n      <th>10001353</th>\n      <td>2448283</td>\n      <td>226558</td>\n      <td>-20</td>\n      <td>6.0</td>\n      <td>0.0</td>\n      <td>Active</td>\n      <td>843</td>\n      <td>0</td>\n    </tr>\n    <tr>\n      <th>10001354</th>\n      <td>1717234</td>\n      <td>141565</td>\n      <td>-19</td>\n      <td>12.0</td>\n      <td>0.0</td>\n      <td>Active</td>\n      <td>602</td>\n      <td>0</td>\n    </tr>\n    <tr>\n      <th>10001355</th>\n      <td>1283126</td>\n      <td>315695</td>\n      <td>-21</td>\n      <td>10.0</td>\n      <td>0.0</td>\n      <td>Active</td>\n      <td>609</td>\n      <td>0</td>\n    </tr>\n    <tr>\n      <th>10001356</th>\n      <td>1082516</td>\n      <td>450255</td>\n      <td>-22</td>\n      <td>12.0</td>\n      <td>0.0</td>\n      <td>Active</td>\n      <td>614</td>\n      <td>0</td>\n    </tr>\n    <tr>\n      <th>10001357</th>\n      <td>1259607</td>\n      <td>174278</td>\n      <td>-52</td>\n      <td>16.0</td>\n      <td>0.0</td>\n      <td>Completed</td>\n      <td>0</td>\n      <td>0</td>\n    </tr>\n  </tbody>\n</table>\n<p>10001358 rows × 8 columns</p>\n</div>"
     },
     "execution_count": 70,
     "metadata": {},
     "output_type": "execute_result"
    }
   ],
   "source": [
    "POS_CASH_balance"
   ],
   "metadata": {
    "collapsed": false
   },
   "id": "f073153591aa76d6"
  },
  {
   "cell_type": "code",
   "execution_count": 69,
   "outputs": [
    {
     "name": "stdout",
     "output_type": "stream",
     "text": [
      "                       pct_process    Active  Amortized debt  Approved  \\\n",
      "SK_ID_CURR SK_ID_PREV                                                    \n",
      "100001     1369693        1.461905  1.461905             0.0       0.0   \n",
      "           1851984        0.533333  0.533333             0.0       0.0   \n",
      "100002     1038818        7.068559  7.068559             0.0       0.0   \n",
      "100003     1810518        2.963132  2.963132             0.0       0.0   \n",
      "           2396755        3.927030  3.927030             0.0       0.0   \n",
      "...                            ...       ...             ...       ...   \n",
      "456255     1359084        3.257250  3.257250             0.0       0.0   \n",
      "           1743609        3.707250  3.707250             0.0       0.0   \n",
      "           2073384        1.467623  1.467623             0.0       0.0   \n",
      "           2631384        9.527533  9.527533             0.0       0.0   \n",
      "           2729207        0.954545  0.954545             0.0       0.0   \n",
      "\n",
      "                       Canceled  Completed  Demand  Returned to the store  \\\n",
      "SK_ID_CURR SK_ID_PREV                                                       \n",
      "100001     1369693          0.0        0.0     0.0                    0.0   \n",
      "           1851984          0.0        0.0     0.0                    0.0   \n",
      "100002     1038818          0.0        0.0     0.0                    0.0   \n",
      "100003     1810518          0.0        0.0     0.0                    0.0   \n",
      "           2396755          0.0        0.0     0.0                    0.0   \n",
      "...                         ...        ...     ...                    ...   \n",
      "456255     1359084          0.0        0.0     0.0                    0.0   \n",
      "           1743609          0.0        0.0     0.0                    0.0   \n",
      "           2073384          0.0        0.0     0.0                    0.0   \n",
      "           2631384          0.0        0.0     0.0                    0.0   \n",
      "           2729207          0.0        0.0     0.0                    0.0   \n",
      "\n",
      "                       Signed  XNA  \n",
      "SK_ID_CURR SK_ID_PREV               \n",
      "100001     1369693        0.0  0.0  \n",
      "           1851984        0.0  0.0  \n",
      "100002     1038818        0.0  0.0  \n",
      "100003     1810518        0.0  0.0  \n",
      "           2396755        0.0  0.0  \n",
      "...                       ...  ...  \n",
      "456255     1359084        0.0  0.0  \n",
      "           1743609        0.0  0.0  \n",
      "           2073384        0.0  0.0  \n",
      "           2631384        0.0  0.0  \n",
      "           2729207        0.0  0.0  \n",
      "\n",
      "[936325 rows x 10 columns]\n"
     ]
    },
    {
     "name": "stderr",
     "output_type": "stream",
     "text": [
      "C:\\Users\\kevin\\AppData\\Local\\Temp\\ipykernel_13804\\3335008114.py:7: FutureWarning: The default value of numeric_only in DataFrameGroupBy.sum is deprecated. In a future version, numeric_only will default to False. Either specify numeric_only or select only columns which should be valid for the function.\n",
      "  temp=temp.groupby(['SK_ID_CURR','SK_ID_PREV']).sum()\n"
     ]
    }
   ],
   "source": [
    "aggregate_POS(POS_CASH_balance)"
   ],
   "metadata": {
    "collapsed": false,
    "ExecuteTime": {
     "end_time": "2023-12-15T21:49:56.468228400Z",
     "start_time": "2023-12-15T21:49:47.211101100Z"
    }
   },
   "id": "cfa49e8f4fe26e6"
  },
  {
   "cell_type": "code",
   "execution_count": null,
   "outputs": [],
   "source": [
    "def default_time(x):\n",
    "    if 'Completed' in x['NAME_CONTRACT_STATUS'].values:\n",
    "        return 1.5\n",
    "    else:\n",
    "        "
   ],
   "metadata": {
    "collapsed": false
   },
   "id": "9641975a9a19eda5"
  },
  {
   "cell_type": "code",
   "execution_count": null,
   "outputs": [],
   "source": [
    "POS_CASH_balance.groupby(['SK_ID_CURR','SK_ID_PREV'])['NAME_CONTRACT_STATUS','CNT_INSTALMENT_FUTURE','CNT_INSTALMENT','MONTHS_BALANCE'].apply(default_time)"
   ],
   "metadata": {
    "collapsed": false
   },
   "id": "1e35ed462a203bd0"
  },
  {
   "cell_type": "code",
   "execution_count": 67,
   "outputs": [
    {
     "name": "stdout",
     "output_type": "stream",
     "text": [
      "0           1\n",
      "1           1\n",
      "2           1\n",
      "3           1\n",
      "4           1\n",
      "           ..\n",
      "10001353    1\n",
      "10001354    1\n",
      "10001355    1\n",
      "10001356    1\n",
      "10001357    0\n",
      "Name: Active, Length: 10001358, dtype: uint8\n",
      "0           0\n",
      "1           0\n",
      "2           0\n",
      "3           0\n",
      "4           0\n",
      "           ..\n",
      "10001353    0\n",
      "10001354    0\n",
      "10001355    0\n",
      "10001356    0\n",
      "10001357    0\n",
      "Name: Amortized debt, Length: 10001358, dtype: uint8\n",
      "0           0\n",
      "1           0\n",
      "2           0\n",
      "3           0\n",
      "4           0\n",
      "           ..\n",
      "10001353    0\n",
      "10001354    0\n",
      "10001355    0\n",
      "10001356    0\n",
      "10001357    0\n",
      "Name: Approved, Length: 10001358, dtype: uint8\n",
      "0           0\n",
      "1           0\n",
      "2           0\n",
      "3           0\n",
      "4           0\n",
      "           ..\n",
      "10001353    0\n",
      "10001354    0\n",
      "10001355    0\n",
      "10001356    0\n",
      "10001357    0\n",
      "Name: Canceled, Length: 10001358, dtype: uint8\n",
      "0           0\n",
      "1           0\n",
      "2           0\n",
      "3           0\n",
      "4           0\n",
      "           ..\n",
      "10001353    0\n",
      "10001354    0\n",
      "10001355    0\n",
      "10001356    0\n",
      "10001357    1\n",
      "Name: Completed, Length: 10001358, dtype: uint8\n",
      "0           0\n",
      "1           0\n",
      "2           0\n",
      "3           0\n",
      "4           0\n",
      "           ..\n",
      "10001353    0\n",
      "10001354    0\n",
      "10001355    0\n",
      "10001356    0\n",
      "10001357    0\n",
      "Name: Demand, Length: 10001358, dtype: uint8\n",
      "0           0\n",
      "1           0\n",
      "2           0\n",
      "3           0\n",
      "4           0\n",
      "           ..\n",
      "10001353    0\n",
      "10001354    0\n",
      "10001355    0\n",
      "10001356    0\n",
      "10001357    0\n",
      "Name: Returned to the store, Length: 10001358, dtype: uint8\n",
      "0           0\n",
      "1           0\n",
      "2           0\n",
      "3           0\n",
      "4           0\n",
      "           ..\n",
      "10001353    0\n",
      "10001354    0\n",
      "10001355    0\n",
      "10001356    0\n",
      "10001357    0\n",
      "Name: Signed, Length: 10001358, dtype: uint8\n",
      "0           0\n",
      "1           0\n",
      "2           0\n",
      "3           0\n",
      "4           0\n",
      "           ..\n",
      "10001353    0\n",
      "10001354    0\n",
      "10001355    0\n",
      "10001356    0\n",
      "10001357    0\n",
      "Name: XNA, Length: 10001358, dtype: uint8\n"
     ]
    }
   ],
   "source": [
    "# one hot encode the NAME_CONTRACT_STATUS\n",
    "data = pd.get_dummies(POS_CASH_balance['NAME_CONTRACT_STATUS'])\n",
    "for col in data:\n",
    "    print(data[col])\n"
   ],
   "metadata": {
    "collapsed": false,
    "ExecuteTime": {
     "end_time": "2023-12-15T21:47:44.432050500Z",
     "start_time": "2023-12-15T21:47:43.579012700Z"
    }
   },
   "id": "8be0ffbae7a7b74d"
  },
  {
   "cell_type": "code",
   "execution_count": 56,
   "outputs": [
    {
     "ename": "ValueError",
     "evalue": "setting an array element with a sequence. The requested array has an inhomogeneous shape after 2 dimensions. The detected shape was (2, 10001358) + inhomogeneous part.",
     "output_type": "error",
     "traceback": [
      "\u001B[1;31m---------------------------------------------------------------------------\u001B[0m",
      "\u001B[1;31mValueError\u001B[0m                                Traceback (most recent call last)",
      "Cell \u001B[1;32mIn[56], line 1\u001B[0m\n\u001B[1;32m----> 1\u001B[0m \u001B[43mpd\u001B[49m\u001B[38;5;241;43m.\u001B[39;49m\u001B[43mDataFrame\u001B[49m\u001B[43m(\u001B[49m\u001B[43m[\u001B[49m\u001B[43mPOS_CASH_balance\u001B[49m\u001B[38;5;241;43m.\u001B[39;49m\u001B[43mloc\u001B[49m\u001B[43m[\u001B[49m\u001B[43m:\u001B[49m\u001B[43m,\u001B[49m\u001B[43m[\u001B[49m\u001B[38;5;124;43m'\u001B[39;49m\u001B[38;5;124;43mSK_ID_PREV\u001B[39;49m\u001B[38;5;124;43m'\u001B[39;49m\u001B[43m,\u001B[49m\u001B[38;5;124;43m'\u001B[39;49m\u001B[38;5;124;43mSK_ID_CURR\u001B[39;49m\u001B[38;5;124;43m'\u001B[39;49m\u001B[43m]\u001B[49m\u001B[43m]\u001B[49m\u001B[43m,\u001B[49m\u001B[43mPOS_CASH_balance\u001B[49m\u001B[43m[\u001B[49m\u001B[38;5;124;43m'\u001B[39;49m\u001B[38;5;124;43mCNT_INSTALMENT_FUTURE\u001B[39;49m\u001B[38;5;124;43m'\u001B[39;49m\u001B[43m]\u001B[49m\u001B[38;5;241;43m/\u001B[39;49m\u001B[43m(\u001B[49m\u001B[43mPOS_CASH_balance\u001B[49m\u001B[43m[\u001B[49m\u001B[38;5;124;43m'\u001B[39;49m\u001B[38;5;124;43mCNT_INSTALMENT\u001B[39;49m\u001B[38;5;124;43m'\u001B[39;49m\u001B[43m]\u001B[49m\u001B[38;5;241;43m+\u001B[39;49m\u001B[43mPOS_CASH_balance\u001B[49m\u001B[43m[\u001B[49m\u001B[38;5;124;43m'\u001B[39;49m\u001B[38;5;124;43mCNT_INSTALMENT_FUTURE\u001B[39;49m\u001B[38;5;124;43m'\u001B[39;49m\u001B[43m]\u001B[49m\u001B[43m)\u001B[49m\u001B[43m]\u001B[49m\u001B[43m)\u001B[49m\n",
      "File \u001B[1;32m~\\AppData\\Roaming\\Python\\Python38\\site-packages\\pandas\\core\\frame.py:762\u001B[0m, in \u001B[0;36mDataFrame.__init__\u001B[1;34m(self, data, index, columns, dtype, copy)\u001B[0m\n\u001B[0;32m    754\u001B[0m         mgr \u001B[38;5;241m=\u001B[39m arrays_to_mgr(\n\u001B[0;32m    755\u001B[0m             arrays,\n\u001B[0;32m    756\u001B[0m             columns,\n\u001B[1;32m   (...)\u001B[0m\n\u001B[0;32m    759\u001B[0m             typ\u001B[38;5;241m=\u001B[39mmanager,\n\u001B[0;32m    760\u001B[0m         )\n\u001B[0;32m    761\u001B[0m     \u001B[38;5;28;01melse\u001B[39;00m:\n\u001B[1;32m--> 762\u001B[0m         mgr \u001B[38;5;241m=\u001B[39m \u001B[43mndarray_to_mgr\u001B[49m\u001B[43m(\u001B[49m\n\u001B[0;32m    763\u001B[0m \u001B[43m            \u001B[49m\u001B[43mdata\u001B[49m\u001B[43m,\u001B[49m\n\u001B[0;32m    764\u001B[0m \u001B[43m            \u001B[49m\u001B[43mindex\u001B[49m\u001B[43m,\u001B[49m\n\u001B[0;32m    765\u001B[0m \u001B[43m            \u001B[49m\u001B[43mcolumns\u001B[49m\u001B[43m,\u001B[49m\n\u001B[0;32m    766\u001B[0m \u001B[43m            \u001B[49m\u001B[43mdtype\u001B[49m\u001B[38;5;241;43m=\u001B[39;49m\u001B[43mdtype\u001B[49m\u001B[43m,\u001B[49m\n\u001B[0;32m    767\u001B[0m \u001B[43m            \u001B[49m\u001B[43mcopy\u001B[49m\u001B[38;5;241;43m=\u001B[39;49m\u001B[43mcopy\u001B[49m\u001B[43m,\u001B[49m\n\u001B[0;32m    768\u001B[0m \u001B[43m            \u001B[49m\u001B[43mtyp\u001B[49m\u001B[38;5;241;43m=\u001B[39;49m\u001B[43mmanager\u001B[49m\u001B[43m,\u001B[49m\n\u001B[0;32m    769\u001B[0m \u001B[43m        \u001B[49m\u001B[43m)\u001B[49m\n\u001B[0;32m    770\u001B[0m \u001B[38;5;28;01melse\u001B[39;00m:\n\u001B[0;32m    771\u001B[0m     mgr \u001B[38;5;241m=\u001B[39m dict_to_mgr(\n\u001B[0;32m    772\u001B[0m         {},\n\u001B[0;32m    773\u001B[0m         index,\n\u001B[1;32m   (...)\u001B[0m\n\u001B[0;32m    776\u001B[0m         typ\u001B[38;5;241m=\u001B[39mmanager,\n\u001B[0;32m    777\u001B[0m     )\n",
      "File \u001B[1;32m~\\AppData\\Roaming\\Python\\Python38\\site-packages\\pandas\\core\\internals\\construction.py:329\u001B[0m, in \u001B[0;36mndarray_to_mgr\u001B[1;34m(values, index, columns, dtype, copy, typ)\u001B[0m\n\u001B[0;32m    324\u001B[0m         values \u001B[38;5;241m=\u001B[39m values\u001B[38;5;241m.\u001B[39mreshape(\u001B[38;5;241m-\u001B[39m\u001B[38;5;241m1\u001B[39m, \u001B[38;5;241m1\u001B[39m)\n\u001B[0;32m    326\u001B[0m \u001B[38;5;28;01melse\u001B[39;00m:\n\u001B[0;32m    327\u001B[0m     \u001B[38;5;66;03m# by definition an array here\u001B[39;00m\n\u001B[0;32m    328\u001B[0m     \u001B[38;5;66;03m# the dtypes will be coerced to a single dtype\u001B[39;00m\n\u001B[1;32m--> 329\u001B[0m     values \u001B[38;5;241m=\u001B[39m \u001B[43m_prep_ndarraylike\u001B[49m\u001B[43m(\u001B[49m\u001B[43mvalues\u001B[49m\u001B[43m,\u001B[49m\u001B[43m \u001B[49m\u001B[43mcopy\u001B[49m\u001B[38;5;241;43m=\u001B[39;49m\u001B[43mcopy_on_sanitize\u001B[49m\u001B[43m)\u001B[49m\n\u001B[0;32m    331\u001B[0m \u001B[38;5;28;01mif\u001B[39;00m dtype \u001B[38;5;129;01mis\u001B[39;00m \u001B[38;5;129;01mnot\u001B[39;00m \u001B[38;5;28;01mNone\u001B[39;00m \u001B[38;5;129;01mand\u001B[39;00m \u001B[38;5;129;01mnot\u001B[39;00m is_dtype_equal(values\u001B[38;5;241m.\u001B[39mdtype, dtype):\n\u001B[0;32m    332\u001B[0m     \u001B[38;5;66;03m# GH#40110 see similar check inside sanitize_array\u001B[39;00m\n\u001B[0;32m    333\u001B[0m     rcf \u001B[38;5;241m=\u001B[39m \u001B[38;5;129;01mnot\u001B[39;00m (is_integer_dtype(dtype) \u001B[38;5;129;01mand\u001B[39;00m values\u001B[38;5;241m.\u001B[39mdtype\u001B[38;5;241m.\u001B[39mkind \u001B[38;5;241m==\u001B[39m \u001B[38;5;124m\"\u001B[39m\u001B[38;5;124mf\u001B[39m\u001B[38;5;124m\"\u001B[39m)\n",
      "File \u001B[1;32m~\\AppData\\Roaming\\Python\\Python38\\site-packages\\pandas\\core\\internals\\construction.py:568\u001B[0m, in \u001B[0;36m_prep_ndarraylike\u001B[1;34m(values, copy)\u001B[0m\n\u001B[0;32m    564\u001B[0m \u001B[38;5;66;03m# we could have a 1-dim or 2-dim list here\u001B[39;00m\n\u001B[0;32m    565\u001B[0m \u001B[38;5;66;03m# this is equiv of np.asarray, but does object conversion\u001B[39;00m\n\u001B[0;32m    566\u001B[0m \u001B[38;5;66;03m# and platform dtype preservation\u001B[39;00m\n\u001B[0;32m    567\u001B[0m \u001B[38;5;28;01mif\u001B[39;00m is_list_like(values[\u001B[38;5;241m0\u001B[39m]):\n\u001B[1;32m--> 568\u001B[0m     values \u001B[38;5;241m=\u001B[39m \u001B[43mnp\u001B[49m\u001B[38;5;241;43m.\u001B[39;49m\u001B[43marray\u001B[49m\u001B[43m(\u001B[49m\u001B[43m[\u001B[49m\u001B[43mconvert\u001B[49m\u001B[43m(\u001B[49m\u001B[43mv\u001B[49m\u001B[43m)\u001B[49m\u001B[43m \u001B[49m\u001B[38;5;28;43;01mfor\u001B[39;49;00m\u001B[43m \u001B[49m\u001B[43mv\u001B[49m\u001B[43m \u001B[49m\u001B[38;5;129;43;01min\u001B[39;49;00m\u001B[43m \u001B[49m\u001B[43mvalues\u001B[49m\u001B[43m]\u001B[49m\u001B[43m)\u001B[49m\n\u001B[0;32m    569\u001B[0m \u001B[38;5;28;01melif\u001B[39;00m \u001B[38;5;28misinstance\u001B[39m(values[\u001B[38;5;241m0\u001B[39m], np\u001B[38;5;241m.\u001B[39mndarray) \u001B[38;5;129;01mand\u001B[39;00m values[\u001B[38;5;241m0\u001B[39m]\u001B[38;5;241m.\u001B[39mndim \u001B[38;5;241m==\u001B[39m \u001B[38;5;241m0\u001B[39m:\n\u001B[0;32m    570\u001B[0m     \u001B[38;5;66;03m# GH#21861 see test_constructor_list_of_lists\u001B[39;00m\n\u001B[0;32m    571\u001B[0m     values \u001B[38;5;241m=\u001B[39m np\u001B[38;5;241m.\u001B[39marray([convert(v) \u001B[38;5;28;01mfor\u001B[39;00m v \u001B[38;5;129;01min\u001B[39;00m values])\n",
      "\u001B[1;31mValueError\u001B[0m: setting an array element with a sequence. The requested array has an inhomogeneous shape after 2 dimensions. The detected shape was (2, 10001358) + inhomogeneous part."
     ]
    }
   ],
   "source": [
    "pd.DataFrame([,POS_CASH_balance['CNT_INSTALMENT_FUTURE']/(POS_CASH_balance['CNT_INSTALMENT']+POS_CASH_balance['CNT_INSTALMENT_FUTURE'])])"
   ],
   "metadata": {
    "collapsed": false,
    "ExecuteTime": {
     "end_time": "2023-12-15T21:33:01.728864300Z",
     "start_time": "2023-12-15T21:33:01.428864900Z"
    }
   },
   "id": "585930808a189f64"
  },
  {
   "cell_type": "code",
   "execution_count": 58,
   "outputs": [
    {
     "name": "stderr",
     "output_type": "stream",
     "text": [
      "C:\\Users\\kevin\\AppData\\Local\\Temp\\ipykernel_13804\\488546652.py:1: FutureWarning: In a future version of pandas all arguments of concat except for the argument 'objs' will be keyword-only.\n",
      "  pd.concat(POS_CASH_balance.loc[:,['SK_ID_PREV','SK_ID_CURR']],pd.DataFrame(POS_CASH_balance['CNT_INSTALMENT_FUTURE']/(POS_CASH_balance['CNT_INSTALMENT']+POS_CASH_balance['CNT_INSTALMENT_FUTURE'])))\n"
     ]
    },
    {
     "ename": "TypeError",
     "evalue": "first argument must be an iterable of pandas objects, you passed an object of type \"DataFrame\"",
     "output_type": "error",
     "traceback": [
      "\u001B[1;31m---------------------------------------------------------------------------\u001B[0m",
      "\u001B[1;31mTypeError\u001B[0m                                 Traceback (most recent call last)",
      "Cell \u001B[1;32mIn[58], line 1\u001B[0m\n\u001B[1;32m----> 1\u001B[0m \u001B[43mpd\u001B[49m\u001B[38;5;241;43m.\u001B[39;49m\u001B[43mconcat\u001B[49m\u001B[43m(\u001B[49m\u001B[43mPOS_CASH_balance\u001B[49m\u001B[38;5;241;43m.\u001B[39;49m\u001B[43mloc\u001B[49m\u001B[43m[\u001B[49m\u001B[43m:\u001B[49m\u001B[43m,\u001B[49m\u001B[43m[\u001B[49m\u001B[38;5;124;43m'\u001B[39;49m\u001B[38;5;124;43mSK_ID_PREV\u001B[39;49m\u001B[38;5;124;43m'\u001B[39;49m\u001B[43m,\u001B[49m\u001B[38;5;124;43m'\u001B[39;49m\u001B[38;5;124;43mSK_ID_CURR\u001B[39;49m\u001B[38;5;124;43m'\u001B[39;49m\u001B[43m]\u001B[49m\u001B[43m]\u001B[49m\u001B[43m,\u001B[49m\u001B[43mpd\u001B[49m\u001B[38;5;241;43m.\u001B[39;49m\u001B[43mDataFrame\u001B[49m\u001B[43m(\u001B[49m\u001B[43mPOS_CASH_balance\u001B[49m\u001B[43m[\u001B[49m\u001B[38;5;124;43m'\u001B[39;49m\u001B[38;5;124;43mCNT_INSTALMENT_FUTURE\u001B[39;49m\u001B[38;5;124;43m'\u001B[39;49m\u001B[43m]\u001B[49m\u001B[38;5;241;43m/\u001B[39;49m\u001B[43m(\u001B[49m\u001B[43mPOS_CASH_balance\u001B[49m\u001B[43m[\u001B[49m\u001B[38;5;124;43m'\u001B[39;49m\u001B[38;5;124;43mCNT_INSTALMENT\u001B[39;49m\u001B[38;5;124;43m'\u001B[39;49m\u001B[43m]\u001B[49m\u001B[38;5;241;43m+\u001B[39;49m\u001B[43mPOS_CASH_balance\u001B[49m\u001B[43m[\u001B[49m\u001B[38;5;124;43m'\u001B[39;49m\u001B[38;5;124;43mCNT_INSTALMENT_FUTURE\u001B[39;49m\u001B[38;5;124;43m'\u001B[39;49m\u001B[43m]\u001B[49m\u001B[43m)\u001B[49m\u001B[43m)\u001B[49m\u001B[43m)\u001B[49m\n",
      "File \u001B[1;32m~\\AppData\\Roaming\\Python\\Python38\\site-packages\\pandas\\util\\_decorators.py:331\u001B[0m, in \u001B[0;36mdeprecate_nonkeyword_arguments.<locals>.decorate.<locals>.wrapper\u001B[1;34m(*args, **kwargs)\u001B[0m\n\u001B[0;32m    325\u001B[0m \u001B[38;5;28;01mif\u001B[39;00m \u001B[38;5;28mlen\u001B[39m(args) \u001B[38;5;241m>\u001B[39m num_allow_args:\n\u001B[0;32m    326\u001B[0m     warnings\u001B[38;5;241m.\u001B[39mwarn(\n\u001B[0;32m    327\u001B[0m         msg\u001B[38;5;241m.\u001B[39mformat(arguments\u001B[38;5;241m=\u001B[39m_format_argument_list(allow_args)),\n\u001B[0;32m    328\u001B[0m         \u001B[38;5;167;01mFutureWarning\u001B[39;00m,\n\u001B[0;32m    329\u001B[0m         stacklevel\u001B[38;5;241m=\u001B[39mfind_stack_level(),\n\u001B[0;32m    330\u001B[0m     )\n\u001B[1;32m--> 331\u001B[0m \u001B[38;5;28;01mreturn\u001B[39;00m \u001B[43mfunc\u001B[49m\u001B[43m(\u001B[49m\u001B[38;5;241;43m*\u001B[39;49m\u001B[43margs\u001B[49m\u001B[43m,\u001B[49m\u001B[43m \u001B[49m\u001B[38;5;241;43m*\u001B[39;49m\u001B[38;5;241;43m*\u001B[39;49m\u001B[43mkwargs\u001B[49m\u001B[43m)\u001B[49m\n",
      "File \u001B[1;32m~\\AppData\\Roaming\\Python\\Python38\\site-packages\\pandas\\core\\reshape\\concat.py:368\u001B[0m, in \u001B[0;36mconcat\u001B[1;34m(objs, axis, join, ignore_index, keys, levels, names, verify_integrity, sort, copy)\u001B[0m\n\u001B[0;32m    146\u001B[0m \u001B[38;5;129m@deprecate_nonkeyword_arguments\u001B[39m(version\u001B[38;5;241m=\u001B[39m\u001B[38;5;28;01mNone\u001B[39;00m, allowed_args\u001B[38;5;241m=\u001B[39m[\u001B[38;5;124m\"\u001B[39m\u001B[38;5;124mobjs\u001B[39m\u001B[38;5;124m\"\u001B[39m])\n\u001B[0;32m    147\u001B[0m \u001B[38;5;28;01mdef\u001B[39;00m \u001B[38;5;21mconcat\u001B[39m(\n\u001B[0;32m    148\u001B[0m     objs: Iterable[NDFrame] \u001B[38;5;241m|\u001B[39m Mapping[HashableT, NDFrame],\n\u001B[1;32m   (...)\u001B[0m\n\u001B[0;32m    157\u001B[0m     copy: \u001B[38;5;28mbool\u001B[39m \u001B[38;5;241m=\u001B[39m \u001B[38;5;28;01mTrue\u001B[39;00m,\n\u001B[0;32m    158\u001B[0m ) \u001B[38;5;241m-\u001B[39m\u001B[38;5;241m>\u001B[39m DataFrame \u001B[38;5;241m|\u001B[39m Series:\n\u001B[0;32m    159\u001B[0m \u001B[38;5;250m    \u001B[39m\u001B[38;5;124;03m\"\"\"\u001B[39;00m\n\u001B[0;32m    160\u001B[0m \u001B[38;5;124;03m    Concatenate pandas objects along a particular axis.\u001B[39;00m\n\u001B[0;32m    161\u001B[0m \n\u001B[1;32m   (...)\u001B[0m\n\u001B[0;32m    366\u001B[0m \u001B[38;5;124;03m    1   3   4\u001B[39;00m\n\u001B[0;32m    367\u001B[0m \u001B[38;5;124;03m    \"\"\"\u001B[39;00m\n\u001B[1;32m--> 368\u001B[0m     op \u001B[38;5;241m=\u001B[39m \u001B[43m_Concatenator\u001B[49m\u001B[43m(\u001B[49m\n\u001B[0;32m    369\u001B[0m \u001B[43m        \u001B[49m\u001B[43mobjs\u001B[49m\u001B[43m,\u001B[49m\n\u001B[0;32m    370\u001B[0m \u001B[43m        \u001B[49m\u001B[43maxis\u001B[49m\u001B[38;5;241;43m=\u001B[39;49m\u001B[43maxis\u001B[49m\u001B[43m,\u001B[49m\n\u001B[0;32m    371\u001B[0m \u001B[43m        \u001B[49m\u001B[43mignore_index\u001B[49m\u001B[38;5;241;43m=\u001B[39;49m\u001B[43mignore_index\u001B[49m\u001B[43m,\u001B[49m\n\u001B[0;32m    372\u001B[0m \u001B[43m        \u001B[49m\u001B[43mjoin\u001B[49m\u001B[38;5;241;43m=\u001B[39;49m\u001B[43mjoin\u001B[49m\u001B[43m,\u001B[49m\n\u001B[0;32m    373\u001B[0m \u001B[43m        \u001B[49m\u001B[43mkeys\u001B[49m\u001B[38;5;241;43m=\u001B[39;49m\u001B[43mkeys\u001B[49m\u001B[43m,\u001B[49m\n\u001B[0;32m    374\u001B[0m \u001B[43m        \u001B[49m\u001B[43mlevels\u001B[49m\u001B[38;5;241;43m=\u001B[39;49m\u001B[43mlevels\u001B[49m\u001B[43m,\u001B[49m\n\u001B[0;32m    375\u001B[0m \u001B[43m        \u001B[49m\u001B[43mnames\u001B[49m\u001B[38;5;241;43m=\u001B[39;49m\u001B[43mnames\u001B[49m\u001B[43m,\u001B[49m\n\u001B[0;32m    376\u001B[0m \u001B[43m        \u001B[49m\u001B[43mverify_integrity\u001B[49m\u001B[38;5;241;43m=\u001B[39;49m\u001B[43mverify_integrity\u001B[49m\u001B[43m,\u001B[49m\n\u001B[0;32m    377\u001B[0m \u001B[43m        \u001B[49m\u001B[43mcopy\u001B[49m\u001B[38;5;241;43m=\u001B[39;49m\u001B[43mcopy\u001B[49m\u001B[43m,\u001B[49m\n\u001B[0;32m    378\u001B[0m \u001B[43m        \u001B[49m\u001B[43msort\u001B[49m\u001B[38;5;241;43m=\u001B[39;49m\u001B[43msort\u001B[49m\u001B[43m,\u001B[49m\n\u001B[0;32m    379\u001B[0m \u001B[43m    \u001B[49m\u001B[43m)\u001B[49m\n\u001B[0;32m    381\u001B[0m     \u001B[38;5;28;01mreturn\u001B[39;00m op\u001B[38;5;241m.\u001B[39mget_result()\n",
      "File \u001B[1;32m~\\AppData\\Roaming\\Python\\Python38\\site-packages\\pandas\\core\\reshape\\concat.py:403\u001B[0m, in \u001B[0;36m_Concatenator.__init__\u001B[1;34m(self, objs, axis, join, keys, levels, names, ignore_index, verify_integrity, copy, sort)\u001B[0m\n\u001B[0;32m    389\u001B[0m \u001B[38;5;28;01mdef\u001B[39;00m \u001B[38;5;21m__init__\u001B[39m(\n\u001B[0;32m    390\u001B[0m     \u001B[38;5;28mself\u001B[39m,\n\u001B[0;32m    391\u001B[0m     objs: Iterable[NDFrame] \u001B[38;5;241m|\u001B[39m Mapping[HashableT, NDFrame],\n\u001B[1;32m   (...)\u001B[0m\n\u001B[0;32m    400\u001B[0m     sort\u001B[38;5;241m=\u001B[39m\u001B[38;5;28;01mFalse\u001B[39;00m,\n\u001B[0;32m    401\u001B[0m ) \u001B[38;5;241m-\u001B[39m\u001B[38;5;241m>\u001B[39m \u001B[38;5;28;01mNone\u001B[39;00m:\n\u001B[0;32m    402\u001B[0m     \u001B[38;5;28;01mif\u001B[39;00m \u001B[38;5;28misinstance\u001B[39m(objs, (ABCSeries, ABCDataFrame, \u001B[38;5;28mstr\u001B[39m)):\n\u001B[1;32m--> 403\u001B[0m         \u001B[38;5;28;01mraise\u001B[39;00m \u001B[38;5;167;01mTypeError\u001B[39;00m(\n\u001B[0;32m    404\u001B[0m             \u001B[38;5;124m\"\u001B[39m\u001B[38;5;124mfirst argument must be an iterable of pandas \u001B[39m\u001B[38;5;124m\"\u001B[39m\n\u001B[0;32m    405\u001B[0m             \u001B[38;5;124mf\u001B[39m\u001B[38;5;124m'\u001B[39m\u001B[38;5;124mobjects, you passed an object of type \u001B[39m\u001B[38;5;124m\"\u001B[39m\u001B[38;5;132;01m{\u001B[39;00m\u001B[38;5;28mtype\u001B[39m(objs)\u001B[38;5;241m.\u001B[39m\u001B[38;5;18m__name__\u001B[39m\u001B[38;5;132;01m}\u001B[39;00m\u001B[38;5;124m\"\u001B[39m\u001B[38;5;124m'\u001B[39m\n\u001B[0;32m    406\u001B[0m         )\n\u001B[0;32m    408\u001B[0m     \u001B[38;5;28;01mif\u001B[39;00m join \u001B[38;5;241m==\u001B[39m \u001B[38;5;124m\"\u001B[39m\u001B[38;5;124mouter\u001B[39m\u001B[38;5;124m\"\u001B[39m:\n\u001B[0;32m    409\u001B[0m         \u001B[38;5;28mself\u001B[39m\u001B[38;5;241m.\u001B[39mintersect \u001B[38;5;241m=\u001B[39m \u001B[38;5;28;01mFalse\u001B[39;00m\n",
      "\u001B[1;31mTypeError\u001B[0m: first argument must be an iterable of pandas objects, you passed an object of type \"DataFrame\""
     ]
    }
   ],
   "source": [
    "pd.concat(POS_CASH_balance.loc[:,['SK_ID_PREV','SK_ID_CURR']],pd.DataFrame(POS_CASH_balance['CNT_INSTALMENT_FUTURE']/(POS_CASH_balance['CNT_INSTALMENT']+POS_CASH_balance['CNT_INSTALMENT_FUTURE'])))"
   ],
   "metadata": {
    "collapsed": false,
    "ExecuteTime": {
     "end_time": "2023-12-15T21:33:41.080486500Z",
     "start_time": "2023-12-15T21:33:40.814488100Z"
    }
   },
   "id": "b408a2a9850368e5"
  },
  {
   "cell_type": "code",
   "execution_count": 24,
   "outputs": [
    {
     "data": {
      "text/plain": "          SK_ID_PREV  SK_ID_CURR  MONTHS_BALANCE  CNT_INSTALMENT  \\\n0            1803195      182943             -31            48.0   \n1            1715348      367990             -33            36.0   \n2            1784872      397406             -32            12.0   \n3            1903291      269225             -35            48.0   \n4            2341044      334279             -35            36.0   \n...              ...         ...             ...             ...   \n10001353     2448283      226558             -20             6.0   \n10001354     1717234      141565             -19            12.0   \n10001355     1283126      315695             -21            10.0   \n10001356     1082516      450255             -22            12.0   \n10001357     1259607      174278             -52            16.0   \n\n          CNT_INSTALMENT_FUTURE NAME_CONTRACT_STATUS  SK_DPD  SK_DPD_DEF  \n0                          45.0               Active       0           0  \n1                          35.0               Active       0           0  \n2                           9.0               Active       0           0  \n3                          42.0               Active       0           0  \n4                          35.0               Active       0           0  \n...                         ...                  ...     ...         ...  \n10001353                    0.0               Active     843           0  \n10001354                    0.0               Active     602           0  \n10001355                    0.0               Active     609           0  \n10001356                    0.0               Active     614           0  \n10001357                    0.0            Completed       0           0  \n\n[10001358 rows x 8 columns]",
      "text/html": "<div>\n<style scoped>\n    .dataframe tbody tr th:only-of-type {\n        vertical-align: middle;\n    }\n\n    .dataframe tbody tr th {\n        vertical-align: top;\n    }\n\n    .dataframe thead th {\n        text-align: right;\n    }\n</style>\n<table border=\"1\" class=\"dataframe\">\n  <thead>\n    <tr style=\"text-align: right;\">\n      <th></th>\n      <th>SK_ID_PREV</th>\n      <th>SK_ID_CURR</th>\n      <th>MONTHS_BALANCE</th>\n      <th>CNT_INSTALMENT</th>\n      <th>CNT_INSTALMENT_FUTURE</th>\n      <th>NAME_CONTRACT_STATUS</th>\n      <th>SK_DPD</th>\n      <th>SK_DPD_DEF</th>\n    </tr>\n  </thead>\n  <tbody>\n    <tr>\n      <th>0</th>\n      <td>1803195</td>\n      <td>182943</td>\n      <td>-31</td>\n      <td>48.0</td>\n      <td>45.0</td>\n      <td>Active</td>\n      <td>0</td>\n      <td>0</td>\n    </tr>\n    <tr>\n      <th>1</th>\n      <td>1715348</td>\n      <td>367990</td>\n      <td>-33</td>\n      <td>36.0</td>\n      <td>35.0</td>\n      <td>Active</td>\n      <td>0</td>\n      <td>0</td>\n    </tr>\n    <tr>\n      <th>2</th>\n      <td>1784872</td>\n      <td>397406</td>\n      <td>-32</td>\n      <td>12.0</td>\n      <td>9.0</td>\n      <td>Active</td>\n      <td>0</td>\n      <td>0</td>\n    </tr>\n    <tr>\n      <th>3</th>\n      <td>1903291</td>\n      <td>269225</td>\n      <td>-35</td>\n      <td>48.0</td>\n      <td>42.0</td>\n      <td>Active</td>\n      <td>0</td>\n      <td>0</td>\n    </tr>\n    <tr>\n      <th>4</th>\n      <td>2341044</td>\n      <td>334279</td>\n      <td>-35</td>\n      <td>36.0</td>\n      <td>35.0</td>\n      <td>Active</td>\n      <td>0</td>\n      <td>0</td>\n    </tr>\n    <tr>\n      <th>...</th>\n      <td>...</td>\n      <td>...</td>\n      <td>...</td>\n      <td>...</td>\n      <td>...</td>\n      <td>...</td>\n      <td>...</td>\n      <td>...</td>\n    </tr>\n    <tr>\n      <th>10001353</th>\n      <td>2448283</td>\n      <td>226558</td>\n      <td>-20</td>\n      <td>6.0</td>\n      <td>0.0</td>\n      <td>Active</td>\n      <td>843</td>\n      <td>0</td>\n    </tr>\n    <tr>\n      <th>10001354</th>\n      <td>1717234</td>\n      <td>141565</td>\n      <td>-19</td>\n      <td>12.0</td>\n      <td>0.0</td>\n      <td>Active</td>\n      <td>602</td>\n      <td>0</td>\n    </tr>\n    <tr>\n      <th>10001355</th>\n      <td>1283126</td>\n      <td>315695</td>\n      <td>-21</td>\n      <td>10.0</td>\n      <td>0.0</td>\n      <td>Active</td>\n      <td>609</td>\n      <td>0</td>\n    </tr>\n    <tr>\n      <th>10001356</th>\n      <td>1082516</td>\n      <td>450255</td>\n      <td>-22</td>\n      <td>12.0</td>\n      <td>0.0</td>\n      <td>Active</td>\n      <td>614</td>\n      <td>0</td>\n    </tr>\n    <tr>\n      <th>10001357</th>\n      <td>1259607</td>\n      <td>174278</td>\n      <td>-52</td>\n      <td>16.0</td>\n      <td>0.0</td>\n      <td>Completed</td>\n      <td>0</td>\n      <td>0</td>\n    </tr>\n  </tbody>\n</table>\n<p>10001358 rows × 8 columns</p>\n</div>"
     },
     "execution_count": 24,
     "metadata": {},
     "output_type": "execute_result"
    }
   ],
   "source": [
    "POS_CASH_balance"
   ],
   "metadata": {
    "collapsed": false,
    "ExecuteTime": {
     "end_time": "2023-12-15T20:54:13.220356600Z",
     "start_time": "2023-12-15T20:54:13.181356700Z"
    }
   },
   "id": "81d02db51d593ac3"
  },
  {
   "cell_type": "code",
   "execution_count": 54,
   "outputs": [
    {
     "data": {
      "text/plain": "0           0.483871\n1           0.492958\n2           0.428571\n3           0.466667\n4           0.492958\n              ...   \n10001353    0.000000\n10001354    0.000000\n10001355    0.000000\n10001356    0.000000\n10001357    0.000000\nLength: 10001358, dtype: float64"
     },
     "execution_count": 54,
     "metadata": {},
     "output_type": "execute_result"
    }
   ],
   "source": [
    "POS_CASH_balance['CNT_INSTALMENT_FUTURE']/(POS_CASH_balance['CNT_INSTALMENT']+POS_CASH_balance['CNT_INSTALMENT_FUTURE'])"
   ],
   "metadata": {
    "collapsed": false,
    "ExecuteTime": {
     "end_time": "2023-12-15T21:29:28.409702100Z",
     "start_time": "2023-12-15T21:29:28.171703Z"
    }
   },
   "id": "9c4e8bd3ed54af8"
  },
  {
   "cell_type": "code",
   "execution_count": 44,
   "outputs": [
    {
     "data": {
      "text/plain": "NAME_CONTRACT_STATUS   Active  Amortized debt  Approved  Canceled  Completed  \\\nSK_ID_CURR SK_ID_PREV                                                          \n100001     1369693        4.0             NaN       NaN       NaN        1.0   \n           1851984        3.0             NaN       NaN       NaN        1.0   \n100002     1038818       19.0             NaN       NaN       NaN        NaN   \n100003     1810518        7.0             NaN       NaN       NaN        1.0   \n           2396755       12.0             NaN       NaN       NaN        NaN   \n...                       ...             ...       ...       ...        ...   \n456255     1359084        8.0             NaN       NaN       NaN        1.0   \n           1743609       10.0             NaN       NaN       NaN        1.0   \n           2073384        4.0             NaN       NaN       NaN        1.0   \n           2631384       24.0             NaN       NaN       NaN        1.0   \n           2729207        3.0             NaN       NaN       NaN        1.0   \n\nNAME_CONTRACT_STATUS   Demand  Returned to the store  Signed  XNA  \nSK_ID_CURR SK_ID_PREV                                              \n100001     1369693        NaN                    NaN     NaN  NaN  \n           1851984        NaN                    NaN     NaN  NaN  \n100002     1038818        NaN                    NaN     NaN  NaN  \n100003     1810518        NaN                    NaN     NaN  NaN  \n           2396755        NaN                    NaN     NaN  NaN  \n...                       ...                    ...     ...  ...  \n456255     1359084        NaN                    NaN     NaN  NaN  \n           1743609        NaN                    NaN     NaN  NaN  \n           2073384        NaN                    NaN     NaN  NaN  \n           2631384        NaN                    NaN     NaN  NaN  \n           2729207        NaN                    NaN     NaN  NaN  \n\n[936325 rows x 9 columns]",
      "text/html": "<div>\n<style scoped>\n    .dataframe tbody tr th:only-of-type {\n        vertical-align: middle;\n    }\n\n    .dataframe tbody tr th {\n        vertical-align: top;\n    }\n\n    .dataframe thead th {\n        text-align: right;\n    }\n</style>\n<table border=\"1\" class=\"dataframe\">\n  <thead>\n    <tr style=\"text-align: right;\">\n      <th></th>\n      <th>NAME_CONTRACT_STATUS</th>\n      <th>Active</th>\n      <th>Amortized debt</th>\n      <th>Approved</th>\n      <th>Canceled</th>\n      <th>Completed</th>\n      <th>Demand</th>\n      <th>Returned to the store</th>\n      <th>Signed</th>\n      <th>XNA</th>\n    </tr>\n    <tr>\n      <th>SK_ID_CURR</th>\n      <th>SK_ID_PREV</th>\n      <th></th>\n      <th></th>\n      <th></th>\n      <th></th>\n      <th></th>\n      <th></th>\n      <th></th>\n      <th></th>\n      <th></th>\n    </tr>\n  </thead>\n  <tbody>\n    <tr>\n      <th rowspan=\"2\" valign=\"top\">100001</th>\n      <th>1369693</th>\n      <td>4.0</td>\n      <td>NaN</td>\n      <td>NaN</td>\n      <td>NaN</td>\n      <td>1.0</td>\n      <td>NaN</td>\n      <td>NaN</td>\n      <td>NaN</td>\n      <td>NaN</td>\n    </tr>\n    <tr>\n      <th>1851984</th>\n      <td>3.0</td>\n      <td>NaN</td>\n      <td>NaN</td>\n      <td>NaN</td>\n      <td>1.0</td>\n      <td>NaN</td>\n      <td>NaN</td>\n      <td>NaN</td>\n      <td>NaN</td>\n    </tr>\n    <tr>\n      <th>100002</th>\n      <th>1038818</th>\n      <td>19.0</td>\n      <td>NaN</td>\n      <td>NaN</td>\n      <td>NaN</td>\n      <td>NaN</td>\n      <td>NaN</td>\n      <td>NaN</td>\n      <td>NaN</td>\n      <td>NaN</td>\n    </tr>\n    <tr>\n      <th rowspan=\"2\" valign=\"top\">100003</th>\n      <th>1810518</th>\n      <td>7.0</td>\n      <td>NaN</td>\n      <td>NaN</td>\n      <td>NaN</td>\n      <td>1.0</td>\n      <td>NaN</td>\n      <td>NaN</td>\n      <td>NaN</td>\n      <td>NaN</td>\n    </tr>\n    <tr>\n      <th>2396755</th>\n      <td>12.0</td>\n      <td>NaN</td>\n      <td>NaN</td>\n      <td>NaN</td>\n      <td>NaN</td>\n      <td>NaN</td>\n      <td>NaN</td>\n      <td>NaN</td>\n      <td>NaN</td>\n    </tr>\n    <tr>\n      <th>...</th>\n      <th>...</th>\n      <td>...</td>\n      <td>...</td>\n      <td>...</td>\n      <td>...</td>\n      <td>...</td>\n      <td>...</td>\n      <td>...</td>\n      <td>...</td>\n      <td>...</td>\n    </tr>\n    <tr>\n      <th rowspan=\"5\" valign=\"top\">456255</th>\n      <th>1359084</th>\n      <td>8.0</td>\n      <td>NaN</td>\n      <td>NaN</td>\n      <td>NaN</td>\n      <td>1.0</td>\n      <td>NaN</td>\n      <td>NaN</td>\n      <td>NaN</td>\n      <td>NaN</td>\n    </tr>\n    <tr>\n      <th>1743609</th>\n      <td>10.0</td>\n      <td>NaN</td>\n      <td>NaN</td>\n      <td>NaN</td>\n      <td>1.0</td>\n      <td>NaN</td>\n      <td>NaN</td>\n      <td>NaN</td>\n      <td>NaN</td>\n    </tr>\n    <tr>\n      <th>2073384</th>\n      <td>4.0</td>\n      <td>NaN</td>\n      <td>NaN</td>\n      <td>NaN</td>\n      <td>1.0</td>\n      <td>NaN</td>\n      <td>NaN</td>\n      <td>NaN</td>\n      <td>NaN</td>\n    </tr>\n    <tr>\n      <th>2631384</th>\n      <td>24.0</td>\n      <td>NaN</td>\n      <td>NaN</td>\n      <td>NaN</td>\n      <td>1.0</td>\n      <td>NaN</td>\n      <td>NaN</td>\n      <td>NaN</td>\n      <td>NaN</td>\n    </tr>\n    <tr>\n      <th>2729207</th>\n      <td>3.0</td>\n      <td>NaN</td>\n      <td>NaN</td>\n      <td>NaN</td>\n      <td>1.0</td>\n      <td>NaN</td>\n      <td>NaN</td>\n      <td>NaN</td>\n      <td>NaN</td>\n    </tr>\n  </tbody>\n</table>\n<p>936325 rows × 9 columns</p>\n</div>"
     },
     "execution_count": 44,
     "metadata": {},
     "output_type": "execute_result"
    }
   ],
   "source": [
    "POS_CASH_balance.groupby(['SK_ID_CURR','SK_ID_PREV'])['NAME_CONTRACT_STATUS'].value_counts().unstack().fillna(0)"
   ],
   "metadata": {
    "collapsed": false,
    "ExecuteTime": {
     "end_time": "2023-12-15T21:22:47.783553100Z",
     "start_time": "2023-12-15T21:22:42.246520400Z"
    }
   },
   "id": "499b43a4f52c5c12"
  },
  {
   "cell_type": "code",
   "execution_count": 32,
   "outputs": [
    {
     "data": {
      "text/plain": "SK_ID_CURR  SK_ID_PREV\n100001      1369693       55.0\n            1851984       94.5\n100002      1038818       10.0\n100003      1810518       21.5\n            2396755       71.5\n                          ... \n456255      1359084       11.0\n            1743609       28.0\n            2073384       19.0\n            2631384       14.0\n            2729207       14.5\nName: MONTHS_BALANCE, Length: 936325, dtype: float64"
     },
     "execution_count": 32,
     "metadata": {},
     "output_type": "execute_result"
    }
   ],
   "source": [
    "POS_CASH_balance.groupby(['SK_ID_CURR','SK_ID_PREV'])['MONTHS_BALANCE'].mean().abs()"
   ],
   "metadata": {
    "collapsed": false,
    "ExecuteTime": {
     "end_time": "2023-12-15T21:12:14.353500500Z",
     "start_time": "2023-12-15T21:12:11.546268300Z"
    }
   },
   "id": "3e129687347bb91b"
  },
  {
   "cell_type": "code",
   "execution_count": 38,
   "outputs": [
    {
     "data": {
      "text/plain": "Active                   9151119\nCompleted                 744883\nSigned                     87260\nDemand                      7065\nReturned to the store       5461\nApproved                    4917\nAmortized debt               636\nCanceled                      15\nXNA                            2\nName: NAME_CONTRACT_STATUS, dtype: int64"
     },
     "execution_count": 38,
     "metadata": {},
     "output_type": "execute_result"
    }
   ],
   "source": [
    "POS_CASH_balance['NAME_CONTRACT_STATUS'].value_counts()"
   ],
   "metadata": {
    "collapsed": false,
    "ExecuteTime": {
     "end_time": "2023-12-15T21:15:47.474347100Z",
     "start_time": "2023-12-15T21:15:46.719374900Z"
    }
   },
   "id": "444718c48cc96a48"
  },
  {
   "cell_type": "code",
   "execution_count": 15,
   "outputs": [
    {
     "data": {
      "text/plain": "         SK_ID_PREV    SK_ID_CURR  MONTHS_BALANCE  CNT_INSTALMENT  \\\ncount  1.000136e+07  1.000136e+07    1.000136e+07    9.975287e+06   \nmean   1.903217e+06  2.784039e+05   -3.501259e+01    1.708965e+01   \nstd    5.358465e+05  1.027637e+05    2.606657e+01    1.199506e+01   \nmin    1.000001e+06  1.000010e+05   -9.600000e+01    1.000000e+00   \n25%    1.434405e+06  1.895500e+05   -5.400000e+01    1.000000e+01   \n50%    1.896565e+06  2.786540e+05   -2.800000e+01    1.200000e+01   \n75%    2.368963e+06  3.674290e+05   -1.300000e+01    2.400000e+01   \nmax    2.843499e+06  4.562550e+05   -1.000000e+00    9.200000e+01   \n\n       CNT_INSTALMENT_FUTURE        SK_DPD    SK_DPD_DEF  \ncount           9.975271e+06  1.000136e+07  1.000136e+07  \nmean            1.048384e+01  1.160693e+01  6.544684e-01  \nstd             1.110906e+01  1.327140e+02  3.276249e+01  \nmin             0.000000e+00  0.000000e+00  0.000000e+00  \n25%             3.000000e+00  0.000000e+00  0.000000e+00  \n50%             7.000000e+00  0.000000e+00  0.000000e+00  \n75%             1.400000e+01  0.000000e+00  0.000000e+00  \nmax             8.500000e+01  4.231000e+03  3.595000e+03  ",
      "text/html": "<div>\n<style scoped>\n    .dataframe tbody tr th:only-of-type {\n        vertical-align: middle;\n    }\n\n    .dataframe tbody tr th {\n        vertical-align: top;\n    }\n\n    .dataframe thead th {\n        text-align: right;\n    }\n</style>\n<table border=\"1\" class=\"dataframe\">\n  <thead>\n    <tr style=\"text-align: right;\">\n      <th></th>\n      <th>SK_ID_PREV</th>\n      <th>SK_ID_CURR</th>\n      <th>MONTHS_BALANCE</th>\n      <th>CNT_INSTALMENT</th>\n      <th>CNT_INSTALMENT_FUTURE</th>\n      <th>SK_DPD</th>\n      <th>SK_DPD_DEF</th>\n    </tr>\n  </thead>\n  <tbody>\n    <tr>\n      <th>count</th>\n      <td>1.000136e+07</td>\n      <td>1.000136e+07</td>\n      <td>1.000136e+07</td>\n      <td>9.975287e+06</td>\n      <td>9.975271e+06</td>\n      <td>1.000136e+07</td>\n      <td>1.000136e+07</td>\n    </tr>\n    <tr>\n      <th>mean</th>\n      <td>1.903217e+06</td>\n      <td>2.784039e+05</td>\n      <td>-3.501259e+01</td>\n      <td>1.708965e+01</td>\n      <td>1.048384e+01</td>\n      <td>1.160693e+01</td>\n      <td>6.544684e-01</td>\n    </tr>\n    <tr>\n      <th>std</th>\n      <td>5.358465e+05</td>\n      <td>1.027637e+05</td>\n      <td>2.606657e+01</td>\n      <td>1.199506e+01</td>\n      <td>1.110906e+01</td>\n      <td>1.327140e+02</td>\n      <td>3.276249e+01</td>\n    </tr>\n    <tr>\n      <th>min</th>\n      <td>1.000001e+06</td>\n      <td>1.000010e+05</td>\n      <td>-9.600000e+01</td>\n      <td>1.000000e+00</td>\n      <td>0.000000e+00</td>\n      <td>0.000000e+00</td>\n      <td>0.000000e+00</td>\n    </tr>\n    <tr>\n      <th>25%</th>\n      <td>1.434405e+06</td>\n      <td>1.895500e+05</td>\n      <td>-5.400000e+01</td>\n      <td>1.000000e+01</td>\n      <td>3.000000e+00</td>\n      <td>0.000000e+00</td>\n      <td>0.000000e+00</td>\n    </tr>\n    <tr>\n      <th>50%</th>\n      <td>1.896565e+06</td>\n      <td>2.786540e+05</td>\n      <td>-2.800000e+01</td>\n      <td>1.200000e+01</td>\n      <td>7.000000e+00</td>\n      <td>0.000000e+00</td>\n      <td>0.000000e+00</td>\n    </tr>\n    <tr>\n      <th>75%</th>\n      <td>2.368963e+06</td>\n      <td>3.674290e+05</td>\n      <td>-1.300000e+01</td>\n      <td>2.400000e+01</td>\n      <td>1.400000e+01</td>\n      <td>0.000000e+00</td>\n      <td>0.000000e+00</td>\n    </tr>\n    <tr>\n      <th>max</th>\n      <td>2.843499e+06</td>\n      <td>4.562550e+05</td>\n      <td>-1.000000e+00</td>\n      <td>9.200000e+01</td>\n      <td>8.500000e+01</td>\n      <td>4.231000e+03</td>\n      <td>3.595000e+03</td>\n    </tr>\n  </tbody>\n</table>\n</div>"
     },
     "execution_count": 15,
     "metadata": {},
     "output_type": "execute_result"
    }
   ],
   "source": [
    "POS_CASH_balance.describe()"
   ],
   "metadata": {
    "collapsed": false,
    "ExecuteTime": {
     "end_time": "2023-12-15T20:41:34.311814500Z",
     "start_time": "2023-12-15T20:41:31.838782400Z"
    }
   },
   "id": "7fd23237d3bbc42d"
  },
  {
   "cell_type": "code",
   "execution_count": 11,
   "outputs": [
    {
     "data": {
      "text/plain": "         SK_ID_PREV    SK_ID_CURR  MONTHS_BALANCE  CNT_INSTALMENT  \\\ncount  1.000136e+07  1.000136e+07    1.000136e+07    9.975287e+06   \nmean   1.903217e+06  2.784039e+05   -3.501259e+01    1.708965e+01   \nstd    5.358465e+05  1.027637e+05    2.606657e+01    1.199506e+01   \nmin    1.000001e+06  1.000010e+05   -9.600000e+01    1.000000e+00   \n25%    1.434405e+06  1.895500e+05   -5.400000e+01    1.000000e+01   \n50%    1.896565e+06  2.786540e+05   -2.800000e+01    1.200000e+01   \n75%    2.368963e+06  3.674290e+05   -1.300000e+01    2.400000e+01   \nmax    2.843499e+06  4.562550e+05   -1.000000e+00    9.200000e+01   \n\n       CNT_INSTALMENT_FUTURE        SK_DPD    SK_DPD_DEF  \ncount           9.975271e+06  1.000136e+07  1.000136e+07  \nmean            1.048384e+01  1.160693e+01  6.544684e-01  \nstd             1.110906e+01  1.327140e+02  3.276249e+01  \nmin             0.000000e+00  0.000000e+00  0.000000e+00  \n25%             3.000000e+00  0.000000e+00  0.000000e+00  \n50%             7.000000e+00  0.000000e+00  0.000000e+00  \n75%             1.400000e+01  0.000000e+00  0.000000e+00  \nmax             8.500000e+01  4.231000e+03  3.595000e+03  ",
      "text/html": "<div>\n<style scoped>\n    .dataframe tbody tr th:only-of-type {\n        vertical-align: middle;\n    }\n\n    .dataframe tbody tr th {\n        vertical-align: top;\n    }\n\n    .dataframe thead th {\n        text-align: right;\n    }\n</style>\n<table border=\"1\" class=\"dataframe\">\n  <thead>\n    <tr style=\"text-align: right;\">\n      <th></th>\n      <th>SK_ID_PREV</th>\n      <th>SK_ID_CURR</th>\n      <th>MONTHS_BALANCE</th>\n      <th>CNT_INSTALMENT</th>\n      <th>CNT_INSTALMENT_FUTURE</th>\n      <th>SK_DPD</th>\n      <th>SK_DPD_DEF</th>\n    </tr>\n  </thead>\n  <tbody>\n    <tr>\n      <th>count</th>\n      <td>1.000136e+07</td>\n      <td>1.000136e+07</td>\n      <td>1.000136e+07</td>\n      <td>9.975287e+06</td>\n      <td>9.975271e+06</td>\n      <td>1.000136e+07</td>\n      <td>1.000136e+07</td>\n    </tr>\n    <tr>\n      <th>mean</th>\n      <td>1.903217e+06</td>\n      <td>2.784039e+05</td>\n      <td>-3.501259e+01</td>\n      <td>1.708965e+01</td>\n      <td>1.048384e+01</td>\n      <td>1.160693e+01</td>\n      <td>6.544684e-01</td>\n    </tr>\n    <tr>\n      <th>std</th>\n      <td>5.358465e+05</td>\n      <td>1.027637e+05</td>\n      <td>2.606657e+01</td>\n      <td>1.199506e+01</td>\n      <td>1.110906e+01</td>\n      <td>1.327140e+02</td>\n      <td>3.276249e+01</td>\n    </tr>\n    <tr>\n      <th>min</th>\n      <td>1.000001e+06</td>\n      <td>1.000010e+05</td>\n      <td>-9.600000e+01</td>\n      <td>1.000000e+00</td>\n      <td>0.000000e+00</td>\n      <td>0.000000e+00</td>\n      <td>0.000000e+00</td>\n    </tr>\n    <tr>\n      <th>25%</th>\n      <td>1.434405e+06</td>\n      <td>1.895500e+05</td>\n      <td>-5.400000e+01</td>\n      <td>1.000000e+01</td>\n      <td>3.000000e+00</td>\n      <td>0.000000e+00</td>\n      <td>0.000000e+00</td>\n    </tr>\n    <tr>\n      <th>50%</th>\n      <td>1.896565e+06</td>\n      <td>2.786540e+05</td>\n      <td>-2.800000e+01</td>\n      <td>1.200000e+01</td>\n      <td>7.000000e+00</td>\n      <td>0.000000e+00</td>\n      <td>0.000000e+00</td>\n    </tr>\n    <tr>\n      <th>75%</th>\n      <td>2.368963e+06</td>\n      <td>3.674290e+05</td>\n      <td>-1.300000e+01</td>\n      <td>2.400000e+01</td>\n      <td>1.400000e+01</td>\n      <td>0.000000e+00</td>\n      <td>0.000000e+00</td>\n    </tr>\n    <tr>\n      <th>max</th>\n      <td>2.843499e+06</td>\n      <td>4.562550e+05</td>\n      <td>-1.000000e+00</td>\n      <td>9.200000e+01</td>\n      <td>8.500000e+01</td>\n      <td>4.231000e+03</td>\n      <td>3.595000e+03</td>\n    </tr>\n  </tbody>\n</table>\n</div>"
     },
     "execution_count": 11,
     "metadata": {},
     "output_type": "execute_result"
    }
   ],
   "source": [
    "POS_CASH_balance.groupby"
   ],
   "metadata": {
    "collapsed": false,
    "ExecuteTime": {
     "end_time": "2023-12-15T20:31:42.990533700Z",
     "start_time": "2023-12-15T20:31:40.277528700Z"
    }
   },
   "id": "dd7e740154fddfbf"
  },
  {
   "cell_type": "markdown",
   "source": [
    "## Cleaning Credit card data\n",
    "evelyn"
   ],
   "metadata": {
    "collapsed": false
   },
   "id": "f518f665afa1fb98"
  },
  {
   "cell_type": "code",
   "execution_count": 145,
   "outputs": [
    {
     "data": {
      "text/plain": "         SK_ID_PREV  SK_ID_CURR  MONTHS_BALANCE  AMT_BALANCE  \\\n0           2562384      378907              -6       56.970   \n1           2582071      363914              -1    63975.555   \n2           1740877      371185              -7    31815.225   \n3           1389973      337855              -4   236572.110   \n4           1891521      126868              -1   453919.455   \n...             ...         ...             ...          ...   \n3840307     1036507      328243              -9        0.000   \n3840308     1714892      347207              -9        0.000   \n3840309     1302323      215757              -9   275784.975   \n3840310     1624872      430337             -10        0.000   \n3840311     2411345      236760             -10        0.000   \n\n         AMT_CREDIT_LIMIT_ACTUAL  AMT_DRAWINGS_ATM_CURRENT  \\\n0                         135000                       0.0   \n1                          45000                    2250.0   \n2                         450000                       0.0   \n3                         225000                    2250.0   \n4                         450000                       0.0   \n...                          ...                       ...   \n3840307                    45000                       NaN   \n3840308                    45000                       0.0   \n3840309                   585000                  270000.0   \n3840310                   450000                       NaN   \n3840311                   157500                       0.0   \n\n         AMT_DRAWINGS_CURRENT  AMT_DRAWINGS_OTHER_CURRENT  \\\n0                       877.5                         0.0   \n1                      2250.0                         0.0   \n2                         0.0                         0.0   \n3                      2250.0                         0.0   \n4                     11547.0                         0.0   \n...                       ...                         ...   \n3840307                   0.0                         NaN   \n3840308                   0.0                         0.0   \n3840309              270000.0                         0.0   \n3840310                   0.0                         NaN   \n3840311                   0.0                         0.0   \n\n         AMT_DRAWINGS_POS_CURRENT  AMT_INST_MIN_REGULARITY  ...  \\\n0                           877.5                 1700.325  ...   \n1                             0.0                 2250.000  ...   \n2                             0.0                 2250.000  ...   \n3                             0.0                11795.760  ...   \n4                         11547.0                22924.890  ...   \n...                           ...                      ...  ...   \n3840307                       NaN                    0.000  ...   \n3840308                       0.0                    0.000  ...   \n3840309                       0.0                 2250.000  ...   \n3840310                       NaN                    0.000  ...   \n3840311                       0.0                    0.000  ...   \n\n         AMT_RECIVABLE  AMT_TOTAL_RECEIVABLE  CNT_DRAWINGS_ATM_CURRENT  \\\n0                0.000                 0.000                       0.0   \n1            64875.555             64875.555                       1.0   \n2            31460.085             31460.085                       0.0   \n3           233048.970            233048.970                       1.0   \n4           453919.455            453919.455                       0.0   \n...                ...                   ...                       ...   \n3840307          0.000                 0.000                       NaN   \n3840308          0.000                 0.000                       0.0   \n3840309     273093.975            273093.975                       2.0   \n3840310          0.000                 0.000                       NaN   \n3840311          0.000                 0.000                       0.0   \n\n         CNT_DRAWINGS_CURRENT  CNT_DRAWINGS_OTHER_CURRENT  \\\n0                           1                         0.0   \n1                           1                         0.0   \n2                           0                         0.0   \n3                           1                         0.0   \n4                           1                         0.0   \n...                       ...                         ...   \n3840307                     0                         NaN   \n3840308                     0                         0.0   \n3840309                     2                         0.0   \n3840310                     0                         NaN   \n3840311                     0                         0.0   \n\n         CNT_DRAWINGS_POS_CURRENT  CNT_INSTALMENT_MATURE_CUM  \\\n0                             1.0                       35.0   \n1                             0.0                       69.0   \n2                             0.0                       30.0   \n3                             0.0                       10.0   \n4                             1.0                      101.0   \n...                           ...                        ...   \n3840307                       NaN                        0.0   \n3840308                       0.0                       23.0   \n3840309                       0.0                       18.0   \n3840310                       NaN                        0.0   \n3840311                       0.0                       21.0   \n\n         NAME_CONTRACT_STATUS  SK_DPD  SK_DPD_DEF  \n0                      Active       0           0  \n1                      Active       0           0  \n2                      Active       0           0  \n3                      Active       0           0  \n4                      Active       0           0  \n...                       ...     ...         ...  \n3840307                Active       0           0  \n3840308                Active       0           0  \n3840309                Active       0           0  \n3840310                Active       0           0  \n3840311             Completed       0           0  \n\n[3840312 rows x 23 columns]",
      "text/html": "<div>\n<style scoped>\n    .dataframe tbody tr th:only-of-type {\n        vertical-align: middle;\n    }\n\n    .dataframe tbody tr th {\n        vertical-align: top;\n    }\n\n    .dataframe thead th {\n        text-align: right;\n    }\n</style>\n<table border=\"1\" class=\"dataframe\">\n  <thead>\n    <tr style=\"text-align: right;\">\n      <th></th>\n      <th>SK_ID_PREV</th>\n      <th>SK_ID_CURR</th>\n      <th>MONTHS_BALANCE</th>\n      <th>AMT_BALANCE</th>\n      <th>AMT_CREDIT_LIMIT_ACTUAL</th>\n      <th>AMT_DRAWINGS_ATM_CURRENT</th>\n      <th>AMT_DRAWINGS_CURRENT</th>\n      <th>AMT_DRAWINGS_OTHER_CURRENT</th>\n      <th>AMT_DRAWINGS_POS_CURRENT</th>\n      <th>AMT_INST_MIN_REGULARITY</th>\n      <th>...</th>\n      <th>AMT_RECIVABLE</th>\n      <th>AMT_TOTAL_RECEIVABLE</th>\n      <th>CNT_DRAWINGS_ATM_CURRENT</th>\n      <th>CNT_DRAWINGS_CURRENT</th>\n      <th>CNT_DRAWINGS_OTHER_CURRENT</th>\n      <th>CNT_DRAWINGS_POS_CURRENT</th>\n      <th>CNT_INSTALMENT_MATURE_CUM</th>\n      <th>NAME_CONTRACT_STATUS</th>\n      <th>SK_DPD</th>\n      <th>SK_DPD_DEF</th>\n    </tr>\n  </thead>\n  <tbody>\n    <tr>\n      <th>0</th>\n      <td>2562384</td>\n      <td>378907</td>\n      <td>-6</td>\n      <td>56.970</td>\n      <td>135000</td>\n      <td>0.0</td>\n      <td>877.5</td>\n      <td>0.0</td>\n      <td>877.5</td>\n      <td>1700.325</td>\n      <td>...</td>\n      <td>0.000</td>\n      <td>0.000</td>\n      <td>0.0</td>\n      <td>1</td>\n      <td>0.0</td>\n      <td>1.0</td>\n      <td>35.0</td>\n      <td>Active</td>\n      <td>0</td>\n      <td>0</td>\n    </tr>\n    <tr>\n      <th>1</th>\n      <td>2582071</td>\n      <td>363914</td>\n      <td>-1</td>\n      <td>63975.555</td>\n      <td>45000</td>\n      <td>2250.0</td>\n      <td>2250.0</td>\n      <td>0.0</td>\n      <td>0.0</td>\n      <td>2250.000</td>\n      <td>...</td>\n      <td>64875.555</td>\n      <td>64875.555</td>\n      <td>1.0</td>\n      <td>1</td>\n      <td>0.0</td>\n      <td>0.0</td>\n      <td>69.0</td>\n      <td>Active</td>\n      <td>0</td>\n      <td>0</td>\n    </tr>\n    <tr>\n      <th>2</th>\n      <td>1740877</td>\n      <td>371185</td>\n      <td>-7</td>\n      <td>31815.225</td>\n      <td>450000</td>\n      <td>0.0</td>\n      <td>0.0</td>\n      <td>0.0</td>\n      <td>0.0</td>\n      <td>2250.000</td>\n      <td>...</td>\n      <td>31460.085</td>\n      <td>31460.085</td>\n      <td>0.0</td>\n      <td>0</td>\n      <td>0.0</td>\n      <td>0.0</td>\n      <td>30.0</td>\n      <td>Active</td>\n      <td>0</td>\n      <td>0</td>\n    </tr>\n    <tr>\n      <th>3</th>\n      <td>1389973</td>\n      <td>337855</td>\n      <td>-4</td>\n      <td>236572.110</td>\n      <td>225000</td>\n      <td>2250.0</td>\n      <td>2250.0</td>\n      <td>0.0</td>\n      <td>0.0</td>\n      <td>11795.760</td>\n      <td>...</td>\n      <td>233048.970</td>\n      <td>233048.970</td>\n      <td>1.0</td>\n      <td>1</td>\n      <td>0.0</td>\n      <td>0.0</td>\n      <td>10.0</td>\n      <td>Active</td>\n      <td>0</td>\n      <td>0</td>\n    </tr>\n    <tr>\n      <th>4</th>\n      <td>1891521</td>\n      <td>126868</td>\n      <td>-1</td>\n      <td>453919.455</td>\n      <td>450000</td>\n      <td>0.0</td>\n      <td>11547.0</td>\n      <td>0.0</td>\n      <td>11547.0</td>\n      <td>22924.890</td>\n      <td>...</td>\n      <td>453919.455</td>\n      <td>453919.455</td>\n      <td>0.0</td>\n      <td>1</td>\n      <td>0.0</td>\n      <td>1.0</td>\n      <td>101.0</td>\n      <td>Active</td>\n      <td>0</td>\n      <td>0</td>\n    </tr>\n    <tr>\n      <th>...</th>\n      <td>...</td>\n      <td>...</td>\n      <td>...</td>\n      <td>...</td>\n      <td>...</td>\n      <td>...</td>\n      <td>...</td>\n      <td>...</td>\n      <td>...</td>\n      <td>...</td>\n      <td>...</td>\n      <td>...</td>\n      <td>...</td>\n      <td>...</td>\n      <td>...</td>\n      <td>...</td>\n      <td>...</td>\n      <td>...</td>\n      <td>...</td>\n      <td>...</td>\n      <td>...</td>\n    </tr>\n    <tr>\n      <th>3840307</th>\n      <td>1036507</td>\n      <td>328243</td>\n      <td>-9</td>\n      <td>0.000</td>\n      <td>45000</td>\n      <td>NaN</td>\n      <td>0.0</td>\n      <td>NaN</td>\n      <td>NaN</td>\n      <td>0.000</td>\n      <td>...</td>\n      <td>0.000</td>\n      <td>0.000</td>\n      <td>NaN</td>\n      <td>0</td>\n      <td>NaN</td>\n      <td>NaN</td>\n      <td>0.0</td>\n      <td>Active</td>\n      <td>0</td>\n      <td>0</td>\n    </tr>\n    <tr>\n      <th>3840308</th>\n      <td>1714892</td>\n      <td>347207</td>\n      <td>-9</td>\n      <td>0.000</td>\n      <td>45000</td>\n      <td>0.0</td>\n      <td>0.0</td>\n      <td>0.0</td>\n      <td>0.0</td>\n      <td>0.000</td>\n      <td>...</td>\n      <td>0.000</td>\n      <td>0.000</td>\n      <td>0.0</td>\n      <td>0</td>\n      <td>0.0</td>\n      <td>0.0</td>\n      <td>23.0</td>\n      <td>Active</td>\n      <td>0</td>\n      <td>0</td>\n    </tr>\n    <tr>\n      <th>3840309</th>\n      <td>1302323</td>\n      <td>215757</td>\n      <td>-9</td>\n      <td>275784.975</td>\n      <td>585000</td>\n      <td>270000.0</td>\n      <td>270000.0</td>\n      <td>0.0</td>\n      <td>0.0</td>\n      <td>2250.000</td>\n      <td>...</td>\n      <td>273093.975</td>\n      <td>273093.975</td>\n      <td>2.0</td>\n      <td>2</td>\n      <td>0.0</td>\n      <td>0.0</td>\n      <td>18.0</td>\n      <td>Active</td>\n      <td>0</td>\n      <td>0</td>\n    </tr>\n    <tr>\n      <th>3840310</th>\n      <td>1624872</td>\n      <td>430337</td>\n      <td>-10</td>\n      <td>0.000</td>\n      <td>450000</td>\n      <td>NaN</td>\n      <td>0.0</td>\n      <td>NaN</td>\n      <td>NaN</td>\n      <td>0.000</td>\n      <td>...</td>\n      <td>0.000</td>\n      <td>0.000</td>\n      <td>NaN</td>\n      <td>0</td>\n      <td>NaN</td>\n      <td>NaN</td>\n      <td>0.0</td>\n      <td>Active</td>\n      <td>0</td>\n      <td>0</td>\n    </tr>\n    <tr>\n      <th>3840311</th>\n      <td>2411345</td>\n      <td>236760</td>\n      <td>-10</td>\n      <td>0.000</td>\n      <td>157500</td>\n      <td>0.0</td>\n      <td>0.0</td>\n      <td>0.0</td>\n      <td>0.0</td>\n      <td>0.000</td>\n      <td>...</td>\n      <td>0.000</td>\n      <td>0.000</td>\n      <td>0.0</td>\n      <td>0</td>\n      <td>0.0</td>\n      <td>0.0</td>\n      <td>21.0</td>\n      <td>Completed</td>\n      <td>0</td>\n      <td>0</td>\n    </tr>\n  </tbody>\n</table>\n<p>3840312 rows × 23 columns</p>\n</div>"
     },
     "execution_count": 145,
     "metadata": {},
     "output_type": "execute_result"
    }
   ],
   "source": [
    "credit_card_balance"
   ],
   "metadata": {
    "collapsed": false,
    "ExecuteTime": {
     "end_time": "2023-12-15T18:49:41.186240100Z",
     "start_time": "2023-12-15T18:49:38.819605500Z"
    }
   },
   "id": "7533ace631c79b39"
  },
  {
   "cell_type": "markdown",
   "source": [
    "## Cleaning Installment data\n",
    "fu"
   ],
   "metadata": {
    "collapsed": false
   },
   "id": "17c4a1d0064a4242"
  },
  {
   "cell_type": "markdown",
   "source": [
    "## Cleaning Previous application data\n",
    "nicola"
   ],
   "metadata": {
    "collapsed": false
   },
   "id": "384167cb78bd991c"
  }
 ],
 "metadata": {
  "kernelspec": {
   "display_name": "Python 3",
   "language": "python",
   "name": "python3"
  },
  "language_info": {
   "codemirror_mode": {
    "name": "ipython",
    "version": 2
   },
   "file_extension": ".py",
   "mimetype": "text/x-python",
   "name": "python",
   "nbconvert_exporter": "python",
   "pygments_lexer": "ipython2",
   "version": "2.7.6"
  }
 },
 "nbformat": 4,
 "nbformat_minor": 5
}
