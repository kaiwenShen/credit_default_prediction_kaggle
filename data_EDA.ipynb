{
 "cells": [
  {
   "cell_type": "code",
   "execution_count": 104,
   "id": "initial_id",
   "metadata": {
    "collapsed": true,
    "ExecuteTime": {
     "end_time": "2023-12-15T18:42:48.868072900Z",
     "start_time": "2023-12-15T18:42:48.534071700Z"
    }
   },
   "outputs": [],
   "source": [
    "import numpy as np\n",
    "import pandas as pd\n",
    "import glob\n",
    "from joblib import Parallel, delayed\n",
    "from tqdm import tqdm"
   ]
  },
  {
   "cell_type": "code",
   "execution_count": 105,
   "outputs": [],
   "source": [
    "application = pd.read_csv('./src/application_train.csv')\n",
    "# application_test = pd.read_csv('./src/application_test.csv')\n",
    "# application_test doesnt contain target column, it is useless to us because even if we develop a model, we still dont know its accuracy on the training set. "
   ],
   "metadata": {
    "collapsed": false,
    "ExecuteTime": {
     "end_time": "2023-12-15T18:42:52.887071700Z",
     "start_time": "2023-12-15T18:42:48.874077200Z"
    }
   },
   "id": "f458d84e2c18bd7"
  },
  {
   "cell_type": "code",
   "execution_count": 106,
   "outputs": [],
   "source": [
    "bureau = pd.read_csv('./src/bureau.csv')"
   ],
   "metadata": {
    "collapsed": false,
    "ExecuteTime": {
     "end_time": "2023-12-15T18:42:55.015072900Z",
     "start_time": "2023-12-15T18:42:52.889072800Z"
    }
   },
   "id": "a8afb58a3095b93c"
  },
  {
   "cell_type": "code",
   "execution_count": 107,
   "outputs": [],
   "source": [
    "bureau_balance = pd.read_csv('./src/bureau_balance.csv')"
   ],
   "metadata": {
    "collapsed": false,
    "ExecuteTime": {
     "end_time": "2023-12-15T18:42:59.861074Z",
     "start_time": "2023-12-15T18:42:55.017072900Z"
    }
   },
   "id": "63c85cbb13394d30"
  },
  {
   "cell_type": "code",
   "execution_count": 108,
   "outputs": [],
   "source": [
    "credit_card_balance = pd.read_csv('./src/credit_card_balance.csv')"
   ],
   "metadata": {
    "collapsed": false,
    "ExecuteTime": {
     "end_time": "2023-12-15T18:43:06.245106400Z",
     "start_time": "2023-12-15T18:42:59.864073Z"
    }
   },
   "id": "de81f5c560c80e8e"
  },
  {
   "cell_type": "code",
   "execution_count": 109,
   "outputs": [],
   "source": [
    "installments_payments = pd.read_csv('./src/installments_payments.csv')"
   ],
   "metadata": {
    "collapsed": false,
    "ExecuteTime": {
     "end_time": "2023-12-15T18:43:15.419073500Z",
     "start_time": "2023-12-15T18:43:06.247072700Z"
    }
   },
   "id": "e0ac28272c3117a5"
  },
  {
   "cell_type": "code",
   "execution_count": 110,
   "outputs": [],
   "source": [
    "POS_CASH_balance = pd.read_csv('./src/POS_CASH_balance.csv')\n",
    "previous_application = pd.read_csv('./src/previous_application.csv')"
   ],
   "metadata": {
    "collapsed": false,
    "ExecuteTime": {
     "end_time": "2023-12-15T18:43:26.078074200Z",
     "start_time": "2023-12-15T18:43:15.422072100Z"
    }
   },
   "id": "501e96b8fab98fa"
  },
  {
   "cell_type": "code",
   "execution_count": 111,
   "outputs": [],
   "source": [
    "home_credit_columns_description = pd.read_csv('./src/HomeCredit_columns_description.csv', encoding='iso-8859-1',\n",
    "                                              index_col=0)"
   ],
   "metadata": {
    "collapsed": false,
    "ExecuteTime": {
     "end_time": "2023-12-15T18:43:26.094073600Z",
     "start_time": "2023-12-15T18:43:26.080072100Z"
    }
   },
   "id": "b3b034cf2b4e26a9"
  },
  {
   "cell_type": "code",
   "execution_count": 112,
   "outputs": [],
   "source": [
    "# sample_submission = pd.read_csv('./src/sample_submission.csv')"
   ],
   "metadata": {
    "collapsed": false,
    "ExecuteTime": {
     "end_time": "2023-12-15T18:43:26.129072200Z",
     "start_time": "2023-12-15T18:43:26.096072500Z"
    }
   },
   "id": "7d3a79a42ee94a10"
  },
  {
   "cell_type": "markdown",
   "source": [
    "# Data preprocessing"
   ],
   "metadata": {
    "collapsed": false
   },
   "id": "c1d04ebcb1f9ff32"
  },
  {
   "cell_type": "code",
   "execution_count": 113,
   "outputs": [
    {
     "data": {
      "text/plain": "          SK_ID_CURR         TARGET   CNT_CHILDREN  AMT_INCOME_TOTAL  \\\ncount  307511.000000  307511.000000  307511.000000      3.075110e+05   \nmean   278180.518577       0.080729       0.417052      1.687979e+05   \nstd    102790.175348       0.272419       0.722121      2.371231e+05   \nmin    100002.000000       0.000000       0.000000      2.565000e+04   \n25%    189145.500000       0.000000       0.000000      1.125000e+05   \n50%    278202.000000       0.000000       0.000000      1.471500e+05   \n75%    367142.500000       0.000000       1.000000      2.025000e+05   \nmax    456255.000000       1.000000      19.000000      1.170000e+08   \n\n         AMT_CREDIT    AMT_ANNUITY  AMT_GOODS_PRICE  \\\ncount  3.075110e+05  307499.000000     3.072330e+05   \nmean   5.990260e+05   27108.573909     5.383962e+05   \nstd    4.024908e+05   14493.737315     3.694465e+05   \nmin    4.500000e+04    1615.500000     4.050000e+04   \n25%    2.700000e+05   16524.000000     2.385000e+05   \n50%    5.135310e+05   24903.000000     4.500000e+05   \n75%    8.086500e+05   34596.000000     6.795000e+05   \nmax    4.050000e+06  258025.500000     4.050000e+06   \n\n       REGION_POPULATION_RELATIVE     DAYS_BIRTH  DAYS_EMPLOYED  ...  \\\ncount               307511.000000  307511.000000  307511.000000  ...   \nmean                     0.020868  -16036.995067   63815.045904  ...   \nstd                      0.013831    4363.988632  141275.766519  ...   \nmin                      0.000290  -25229.000000  -17912.000000  ...   \n25%                      0.010006  -19682.000000   -2760.000000  ...   \n50%                      0.018850  -15750.000000   -1213.000000  ...   \n75%                      0.028663  -12413.000000    -289.000000  ...   \nmax                      0.072508   -7489.000000  365243.000000  ...   \n\n       FLAG_DOCUMENT_18  FLAG_DOCUMENT_19  FLAG_DOCUMENT_20  FLAG_DOCUMENT_21  \\\ncount     307511.000000     307511.000000     307511.000000     307511.000000   \nmean           0.008130          0.000595          0.000507          0.000335   \nstd            0.089798          0.024387          0.022518          0.018299   \nmin            0.000000          0.000000          0.000000          0.000000   \n25%            0.000000          0.000000          0.000000          0.000000   \n50%            0.000000          0.000000          0.000000          0.000000   \n75%            0.000000          0.000000          0.000000          0.000000   \nmax            1.000000          1.000000          1.000000          1.000000   \n\n       AMT_REQ_CREDIT_BUREAU_HOUR  AMT_REQ_CREDIT_BUREAU_DAY  \\\ncount               265992.000000              265992.000000   \nmean                     0.006402                   0.007000   \nstd                      0.083849                   0.110757   \nmin                      0.000000                   0.000000   \n25%                      0.000000                   0.000000   \n50%                      0.000000                   0.000000   \n75%                      0.000000                   0.000000   \nmax                      4.000000                   9.000000   \n\n       AMT_REQ_CREDIT_BUREAU_WEEK  AMT_REQ_CREDIT_BUREAU_MON  \\\ncount               265992.000000              265992.000000   \nmean                     0.034362                   0.267395   \nstd                      0.204685                   0.916002   \nmin                      0.000000                   0.000000   \n25%                      0.000000                   0.000000   \n50%                      0.000000                   0.000000   \n75%                      0.000000                   0.000000   \nmax                      8.000000                  27.000000   \n\n       AMT_REQ_CREDIT_BUREAU_QRT  AMT_REQ_CREDIT_BUREAU_YEAR  \ncount              265992.000000               265992.000000  \nmean                    0.265474                    1.899974  \nstd                     0.794056                    1.869295  \nmin                     0.000000                    0.000000  \n25%                     0.000000                    0.000000  \n50%                     0.000000                    1.000000  \n75%                     0.000000                    3.000000  \nmax                   261.000000                   25.000000  \n\n[8 rows x 106 columns]",
      "text/html": "<div>\n<style scoped>\n    .dataframe tbody tr th:only-of-type {\n        vertical-align: middle;\n    }\n\n    .dataframe tbody tr th {\n        vertical-align: top;\n    }\n\n    .dataframe thead th {\n        text-align: right;\n    }\n</style>\n<table border=\"1\" class=\"dataframe\">\n  <thead>\n    <tr style=\"text-align: right;\">\n      <th></th>\n      <th>SK_ID_CURR</th>\n      <th>TARGET</th>\n      <th>CNT_CHILDREN</th>\n      <th>AMT_INCOME_TOTAL</th>\n      <th>AMT_CREDIT</th>\n      <th>AMT_ANNUITY</th>\n      <th>AMT_GOODS_PRICE</th>\n      <th>REGION_POPULATION_RELATIVE</th>\n      <th>DAYS_BIRTH</th>\n      <th>DAYS_EMPLOYED</th>\n      <th>...</th>\n      <th>FLAG_DOCUMENT_18</th>\n      <th>FLAG_DOCUMENT_19</th>\n      <th>FLAG_DOCUMENT_20</th>\n      <th>FLAG_DOCUMENT_21</th>\n      <th>AMT_REQ_CREDIT_BUREAU_HOUR</th>\n      <th>AMT_REQ_CREDIT_BUREAU_DAY</th>\n      <th>AMT_REQ_CREDIT_BUREAU_WEEK</th>\n      <th>AMT_REQ_CREDIT_BUREAU_MON</th>\n      <th>AMT_REQ_CREDIT_BUREAU_QRT</th>\n      <th>AMT_REQ_CREDIT_BUREAU_YEAR</th>\n    </tr>\n  </thead>\n  <tbody>\n    <tr>\n      <th>count</th>\n      <td>307511.000000</td>\n      <td>307511.000000</td>\n      <td>307511.000000</td>\n      <td>3.075110e+05</td>\n      <td>3.075110e+05</td>\n      <td>307499.000000</td>\n      <td>3.072330e+05</td>\n      <td>307511.000000</td>\n      <td>307511.000000</td>\n      <td>307511.000000</td>\n      <td>...</td>\n      <td>307511.000000</td>\n      <td>307511.000000</td>\n      <td>307511.000000</td>\n      <td>307511.000000</td>\n      <td>265992.000000</td>\n      <td>265992.000000</td>\n      <td>265992.000000</td>\n      <td>265992.000000</td>\n      <td>265992.000000</td>\n      <td>265992.000000</td>\n    </tr>\n    <tr>\n      <th>mean</th>\n      <td>278180.518577</td>\n      <td>0.080729</td>\n      <td>0.417052</td>\n      <td>1.687979e+05</td>\n      <td>5.990260e+05</td>\n      <td>27108.573909</td>\n      <td>5.383962e+05</td>\n      <td>0.020868</td>\n      <td>-16036.995067</td>\n      <td>63815.045904</td>\n      <td>...</td>\n      <td>0.008130</td>\n      <td>0.000595</td>\n      <td>0.000507</td>\n      <td>0.000335</td>\n      <td>0.006402</td>\n      <td>0.007000</td>\n      <td>0.034362</td>\n      <td>0.267395</td>\n      <td>0.265474</td>\n      <td>1.899974</td>\n    </tr>\n    <tr>\n      <th>std</th>\n      <td>102790.175348</td>\n      <td>0.272419</td>\n      <td>0.722121</td>\n      <td>2.371231e+05</td>\n      <td>4.024908e+05</td>\n      <td>14493.737315</td>\n      <td>3.694465e+05</td>\n      <td>0.013831</td>\n      <td>4363.988632</td>\n      <td>141275.766519</td>\n      <td>...</td>\n      <td>0.089798</td>\n      <td>0.024387</td>\n      <td>0.022518</td>\n      <td>0.018299</td>\n      <td>0.083849</td>\n      <td>0.110757</td>\n      <td>0.204685</td>\n      <td>0.916002</td>\n      <td>0.794056</td>\n      <td>1.869295</td>\n    </tr>\n    <tr>\n      <th>min</th>\n      <td>100002.000000</td>\n      <td>0.000000</td>\n      <td>0.000000</td>\n      <td>2.565000e+04</td>\n      <td>4.500000e+04</td>\n      <td>1615.500000</td>\n      <td>4.050000e+04</td>\n      <td>0.000290</td>\n      <td>-25229.000000</td>\n      <td>-17912.000000</td>\n      <td>...</td>\n      <td>0.000000</td>\n      <td>0.000000</td>\n      <td>0.000000</td>\n      <td>0.000000</td>\n      <td>0.000000</td>\n      <td>0.000000</td>\n      <td>0.000000</td>\n      <td>0.000000</td>\n      <td>0.000000</td>\n      <td>0.000000</td>\n    </tr>\n    <tr>\n      <th>25%</th>\n      <td>189145.500000</td>\n      <td>0.000000</td>\n      <td>0.000000</td>\n      <td>1.125000e+05</td>\n      <td>2.700000e+05</td>\n      <td>16524.000000</td>\n      <td>2.385000e+05</td>\n      <td>0.010006</td>\n      <td>-19682.000000</td>\n      <td>-2760.000000</td>\n      <td>...</td>\n      <td>0.000000</td>\n      <td>0.000000</td>\n      <td>0.000000</td>\n      <td>0.000000</td>\n      <td>0.000000</td>\n      <td>0.000000</td>\n      <td>0.000000</td>\n      <td>0.000000</td>\n      <td>0.000000</td>\n      <td>0.000000</td>\n    </tr>\n    <tr>\n      <th>50%</th>\n      <td>278202.000000</td>\n      <td>0.000000</td>\n      <td>0.000000</td>\n      <td>1.471500e+05</td>\n      <td>5.135310e+05</td>\n      <td>24903.000000</td>\n      <td>4.500000e+05</td>\n      <td>0.018850</td>\n      <td>-15750.000000</td>\n      <td>-1213.000000</td>\n      <td>...</td>\n      <td>0.000000</td>\n      <td>0.000000</td>\n      <td>0.000000</td>\n      <td>0.000000</td>\n      <td>0.000000</td>\n      <td>0.000000</td>\n      <td>0.000000</td>\n      <td>0.000000</td>\n      <td>0.000000</td>\n      <td>1.000000</td>\n    </tr>\n    <tr>\n      <th>75%</th>\n      <td>367142.500000</td>\n      <td>0.000000</td>\n      <td>1.000000</td>\n      <td>2.025000e+05</td>\n      <td>8.086500e+05</td>\n      <td>34596.000000</td>\n      <td>6.795000e+05</td>\n      <td>0.028663</td>\n      <td>-12413.000000</td>\n      <td>-289.000000</td>\n      <td>...</td>\n      <td>0.000000</td>\n      <td>0.000000</td>\n      <td>0.000000</td>\n      <td>0.000000</td>\n      <td>0.000000</td>\n      <td>0.000000</td>\n      <td>0.000000</td>\n      <td>0.000000</td>\n      <td>0.000000</td>\n      <td>3.000000</td>\n    </tr>\n    <tr>\n      <th>max</th>\n      <td>456255.000000</td>\n      <td>1.000000</td>\n      <td>19.000000</td>\n      <td>1.170000e+08</td>\n      <td>4.050000e+06</td>\n      <td>258025.500000</td>\n      <td>4.050000e+06</td>\n      <td>0.072508</td>\n      <td>-7489.000000</td>\n      <td>365243.000000</td>\n      <td>...</td>\n      <td>1.000000</td>\n      <td>1.000000</td>\n      <td>1.000000</td>\n      <td>1.000000</td>\n      <td>4.000000</td>\n      <td>9.000000</td>\n      <td>8.000000</td>\n      <td>27.000000</td>\n      <td>261.000000</td>\n      <td>25.000000</td>\n    </tr>\n  </tbody>\n</table>\n<p>8 rows × 106 columns</p>\n</div>"
     },
     "execution_count": 113,
     "metadata": {},
     "output_type": "execute_result"
    }
   ],
   "source": [
    "application.describe()"
   ],
   "metadata": {
    "collapsed": false,
    "ExecuteTime": {
     "end_time": "2023-12-15T18:43:27.968072500Z",
     "start_time": "2023-12-15T18:43:26.130073800Z"
    }
   },
   "id": "3a3b46acac9ec371"
  },
  {
   "cell_type": "code",
   "execution_count": 114,
   "outputs": [],
   "source": [
    "# application.loc[:,['SK_ID_CURR','SK_ID_BUREAU','SK_ID_PREV']]"
   ],
   "metadata": {
    "collapsed": false,
    "ExecuteTime": {
     "end_time": "2023-12-15T18:43:28.004072500Z",
     "start_time": "2023-12-15T18:43:27.970109400Z"
    }
   },
   "id": "bc8a9a2157c0054e"
  },
  {
   "cell_type": "code",
   "execution_count": 115,
   "outputs": [
    {
     "data": {
      "text/plain": "                            Table                    Row  \\\n1    application_{train|test}.csv             SK_ID_CURR   \n2    application_{train|test}.csv                 TARGET   \n5    application_{train|test}.csv     NAME_CONTRACT_TYPE   \n6    application_{train|test}.csv            CODE_GENDER   \n7    application_{train|test}.csv           FLAG_OWN_CAR   \n..                            ...                    ...   \n217     installments_payments.csv  NUM_INSTALMENT_NUMBER   \n218     installments_payments.csv        DAYS_INSTALMENT   \n219     installments_payments.csv     DAYS_ENTRY_PAYMENT   \n220     installments_payments.csv         AMT_INSTALMENT   \n221     installments_payments.csv            AMT_PAYMENT   \n\n                                           Description  \\\n1                             ID of loan in our sample   \n2    Target variable (1 - client with payment diffi...   \n5          Identification if loan is cash or revolving   \n6                                 Gender of the client   \n7                        Flag if the client owns a car   \n..                                                 ...   \n217            On which installment we observe payment   \n218  When the installment of previous credit was su...   \n219  When was the installments of previous credit p...   \n220  What was the prescribed installment amount of ...   \n221  What the client actually paid on previous cred...   \n\n                                   Special  \n1                                      NaN  \n2                                      NaN  \n5                                      NaN  \n6                                      NaN  \n7                                      NaN  \n..                                     ...  \n217                                    NaN  \n218  time only relative to the application  \n219  time only relative to the application  \n220                                    NaN  \n221                                    NaN  \n\n[219 rows x 4 columns]",
      "text/html": "<div>\n<style scoped>\n    .dataframe tbody tr th:only-of-type {\n        vertical-align: middle;\n    }\n\n    .dataframe tbody tr th {\n        vertical-align: top;\n    }\n\n    .dataframe thead th {\n        text-align: right;\n    }\n</style>\n<table border=\"1\" class=\"dataframe\">\n  <thead>\n    <tr style=\"text-align: right;\">\n      <th></th>\n      <th>Table</th>\n      <th>Row</th>\n      <th>Description</th>\n      <th>Special</th>\n    </tr>\n  </thead>\n  <tbody>\n    <tr>\n      <th>1</th>\n      <td>application_{train|test}.csv</td>\n      <td>SK_ID_CURR</td>\n      <td>ID of loan in our sample</td>\n      <td>NaN</td>\n    </tr>\n    <tr>\n      <th>2</th>\n      <td>application_{train|test}.csv</td>\n      <td>TARGET</td>\n      <td>Target variable (1 - client with payment diffi...</td>\n      <td>NaN</td>\n    </tr>\n    <tr>\n      <th>5</th>\n      <td>application_{train|test}.csv</td>\n      <td>NAME_CONTRACT_TYPE</td>\n      <td>Identification if loan is cash or revolving</td>\n      <td>NaN</td>\n    </tr>\n    <tr>\n      <th>6</th>\n      <td>application_{train|test}.csv</td>\n      <td>CODE_GENDER</td>\n      <td>Gender of the client</td>\n      <td>NaN</td>\n    </tr>\n    <tr>\n      <th>7</th>\n      <td>application_{train|test}.csv</td>\n      <td>FLAG_OWN_CAR</td>\n      <td>Flag if the client owns a car</td>\n      <td>NaN</td>\n    </tr>\n    <tr>\n      <th>...</th>\n      <td>...</td>\n      <td>...</td>\n      <td>...</td>\n      <td>...</td>\n    </tr>\n    <tr>\n      <th>217</th>\n      <td>installments_payments.csv</td>\n      <td>NUM_INSTALMENT_NUMBER</td>\n      <td>On which installment we observe payment</td>\n      <td>NaN</td>\n    </tr>\n    <tr>\n      <th>218</th>\n      <td>installments_payments.csv</td>\n      <td>DAYS_INSTALMENT</td>\n      <td>When the installment of previous credit was su...</td>\n      <td>time only relative to the application</td>\n    </tr>\n    <tr>\n      <th>219</th>\n      <td>installments_payments.csv</td>\n      <td>DAYS_ENTRY_PAYMENT</td>\n      <td>When was the installments of previous credit p...</td>\n      <td>time only relative to the application</td>\n    </tr>\n    <tr>\n      <th>220</th>\n      <td>installments_payments.csv</td>\n      <td>AMT_INSTALMENT</td>\n      <td>What was the prescribed installment amount of ...</td>\n      <td>NaN</td>\n    </tr>\n    <tr>\n      <th>221</th>\n      <td>installments_payments.csv</td>\n      <td>AMT_PAYMENT</td>\n      <td>What the client actually paid on previous cred...</td>\n      <td>NaN</td>\n    </tr>\n  </tbody>\n</table>\n<p>219 rows × 4 columns</p>\n</div>"
     },
     "execution_count": 115,
     "metadata": {},
     "output_type": "execute_result"
    }
   ],
   "source": [
    "home_credit_columns_description"
   ],
   "metadata": {
    "collapsed": false,
    "ExecuteTime": {
     "end_time": "2023-12-15T18:43:28.031075800Z",
     "start_time": "2023-12-15T18:43:27.991072600Z"
    }
   },
   "id": "8b9482304820288d"
  },
  {
   "cell_type": "markdown",
   "source": [
    "the SK_ID_CURR is the unique id for each client"
   ],
   "metadata": {
    "collapsed": false
   },
   "id": "23c713be525dadd7"
  },
  {
   "cell_type": "code",
   "execution_count": 116,
   "outputs": [
    {
     "data": {
      "text/plain": "307511"
     },
     "execution_count": 116,
     "metadata": {},
     "output_type": "execute_result"
    }
   ],
   "source": [
    "len(application)"
   ],
   "metadata": {
    "collapsed": false,
    "ExecuteTime": {
     "end_time": "2023-12-15T18:43:28.127119900Z",
     "start_time": "2023-12-15T18:43:28.001073Z"
    }
   },
   "id": "ae9a611a50f57755"
  },
  {
   "cell_type": "code",
   "execution_count": 117,
   "outputs": [
    {
     "data": {
      "text/plain": "1716428"
     },
     "execution_count": 117,
     "metadata": {},
     "output_type": "execute_result"
    }
   ],
   "source": [
    "len(bureau)"
   ],
   "metadata": {
    "collapsed": false,
    "ExecuteTime": {
     "end_time": "2023-12-15T18:43:28.173120Z",
     "start_time": "2023-12-15T18:43:28.019072200Z"
    }
   },
   "id": "313a145e2036bf78"
  },
  {
   "cell_type": "code",
   "execution_count": 118,
   "outputs": [
    {
     "data": {
      "text/plain": "27299925"
     },
     "execution_count": 118,
     "metadata": {},
     "output_type": "execute_result"
    }
   ],
   "source": [
    "len(bureau_balance)"
   ],
   "metadata": {
    "collapsed": false,
    "ExecuteTime": {
     "end_time": "2023-12-15T18:43:28.176120100Z",
     "start_time": "2023-12-15T18:43:28.034072500Z"
    }
   },
   "id": "24ccd66df705096c"
  },
  {
   "cell_type": "code",
   "execution_count": 119,
   "outputs": [
    {
     "data": {
      "text/plain": "3840312"
     },
     "execution_count": 119,
     "metadata": {},
     "output_type": "execute_result"
    }
   ],
   "source": [
    "len(credit_card_balance)"
   ],
   "metadata": {
    "collapsed": false,
    "ExecuteTime": {
     "end_time": "2023-12-15T18:43:28.215119400Z",
     "start_time": "2023-12-15T18:43:28.049120600Z"
    }
   },
   "id": "e26e2e0b3a3ebc27"
  },
  {
   "cell_type": "code",
   "execution_count": 120,
   "outputs": [
    {
     "data": {
      "text/plain": "13605401"
     },
     "execution_count": 120,
     "metadata": {},
     "output_type": "execute_result"
    }
   ],
   "source": [
    "len(installments_payments)"
   ],
   "metadata": {
    "collapsed": false,
    "ExecuteTime": {
     "end_time": "2023-12-15T18:43:28.217120600Z",
     "start_time": "2023-12-15T18:43:28.066129200Z"
    }
   },
   "id": "e135b4ff817d4be"
  },
  {
   "cell_type": "code",
   "execution_count": 121,
   "outputs": [
    {
     "data": {
      "text/plain": "10001358"
     },
     "execution_count": 121,
     "metadata": {},
     "output_type": "execute_result"
    }
   ],
   "source": [
    "len(POS_CASH_balance)"
   ],
   "metadata": {
    "collapsed": false,
    "ExecuteTime": {
     "end_time": "2023-12-15T18:43:28.241116600Z",
     "start_time": "2023-12-15T18:43:28.081120200Z"
    }
   },
   "id": "42e701ffbfdd1043"
  },
  {
   "cell_type": "code",
   "execution_count": 122,
   "outputs": [
    {
     "data": {
      "text/plain": "1670214"
     },
     "execution_count": 122,
     "metadata": {},
     "output_type": "execute_result"
    }
   ],
   "source": [
    "len(previous_application)"
   ],
   "metadata": {
    "collapsed": false,
    "ExecuteTime": {
     "end_time": "2023-12-15T18:43:28.244120Z",
     "start_time": "2023-12-15T18:43:28.099123200Z"
    }
   },
   "id": "765943a97789ccae"
  },
  {
   "cell_type": "markdown",
   "source": [
    "## merge the bureau data with bureau_balance data"
   ],
   "metadata": {
    "collapsed": false
   },
   "id": "f2d0c358fc7aaff1"
  },
  {
   "cell_type": "code",
   "execution_count": 123,
   "outputs": [],
   "source": [
    "status_count = bureau_balance.groupby('SK_ID_BUREAU')['STATUS'].value_counts().unstack().fillna(0)\n",
    "status_count.columns = ['BUREAU_BALANCE_' + str(col_name) for col_name in status_count.columns]\n",
    "status_count.reset_index(inplace=True)\n",
    "month_count = bureau_balance.groupby('SK_ID_BUREAU')['MONTHS_BALANCE'].min().abs().rename('BUREAU_BALANCE_MONTH_COUNT')\n",
    "status_count = status_count.merge(month_count, how='left', on='SK_ID_BUREAU')  # add 0.001 to avoid divide by 0"
   ],
   "metadata": {
    "collapsed": false,
    "ExecuteTime": {
     "end_time": "2023-12-15T18:43:34.746116300Z",
     "start_time": "2023-12-15T18:43:28.114122700Z"
    }
   },
   "id": "9d79d030a5d72314"
  },
  {
   "cell_type": "code",
   "execution_count": 124,
   "outputs": [],
   "source": [
    "# scale the status_count by month_count\n",
    "for col in status_count.columns[1:-1]:\n",
    "    status_count[col] = status_count[col] / (status_count['BUREAU_BALANCE_MONTH_COUNT'] + 0.001)"
   ],
   "metadata": {
    "collapsed": false,
    "ExecuteTime": {
     "end_time": "2023-12-15T18:43:34.879216200Z",
     "start_time": "2023-12-15T18:43:34.749119400Z"
    }
   },
   "id": "2d0915b49f00885c"
  },
  {
   "cell_type": "code",
   "execution_count": 125,
   "outputs": [
    {
     "data": {
      "text/plain": "Index(['SK_ID_BUREAU', 'BUREAU_BALANCE_0', 'BUREAU_BALANCE_1',\n       'BUREAU_BALANCE_2', 'BUREAU_BALANCE_3', 'BUREAU_BALANCE_4',\n       'BUREAU_BALANCE_5', 'BUREAU_BALANCE_C', 'BUREAU_BALANCE_X',\n       'BUREAU_BALANCE_MONTH_COUNT'],\n      dtype='object')"
     },
     "execution_count": 125,
     "metadata": {},
     "output_type": "execute_result"
    }
   ],
   "source": [
    "status_count.columns"
   ],
   "metadata": {
    "collapsed": false,
    "ExecuteTime": {
     "end_time": "2023-12-15T18:43:34.888215600Z",
     "start_time": "2023-12-15T18:43:34.873219500Z"
    }
   },
   "id": "a79917fce42c41d3"
  },
  {
   "cell_type": "code",
   "execution_count": 126,
   "outputs": [],
   "source": [
    "bureau = bureau.merge(status_count, how='left', on='SK_ID_BUREAU')"
   ],
   "metadata": {
    "collapsed": false,
    "ExecuteTime": {
     "end_time": "2023-12-15T18:43:35.714546100Z",
     "start_time": "2023-12-15T18:43:34.890215700Z"
    }
   },
   "id": "4f11ff72d5370b3f"
  },
  {
   "cell_type": "code",
   "execution_count": 127,
   "outputs": [
    {
     "data": {
      "text/plain": "         SK_ID_CURR  SK_ID_BUREAU   DAYS_CREDIT  CREDIT_DAY_OVERDUE  \\\ncount  1.716428e+06  1.716428e+06  1.716428e+06        1.716428e+06   \nmean   2.782149e+05  5.924434e+06 -1.142108e+03        8.181666e-01   \nstd    1.029386e+05  5.322657e+05  7.951649e+02        3.654443e+01   \nmin    1.000010e+05  5.000000e+06 -2.922000e+03        0.000000e+00   \n25%    1.888668e+05  5.463954e+06 -1.666000e+03        0.000000e+00   \n50%    2.780550e+05  5.926304e+06 -9.870000e+02        0.000000e+00   \n75%    3.674260e+05  6.385681e+06 -4.740000e+02        0.000000e+00   \nmax    4.562550e+05  6.843457e+06  0.000000e+00        2.792000e+03   \n\n       DAYS_CREDIT_ENDDATE  DAYS_ENDDATE_FACT  AMT_CREDIT_MAX_OVERDUE  \\\ncount         1.610875e+06       1.082775e+06            5.919400e+05   \nmean          5.105174e+02      -1.017437e+03            3.825418e+03   \nstd           4.994220e+03       7.140106e+02            2.060316e+05   \nmin          -4.206000e+04      -4.202300e+04            0.000000e+00   \n25%          -1.138000e+03      -1.489000e+03            0.000000e+00   \n50%          -3.300000e+02      -8.970000e+02            0.000000e+00   \n75%           4.740000e+02      -4.250000e+02            0.000000e+00   \nmax           3.119900e+04       0.000000e+00            1.159872e+08   \n\n       CNT_CREDIT_PROLONG  AMT_CREDIT_SUM  AMT_CREDIT_SUM_DEBT  ...  \\\ncount        1.716428e+06    1.716415e+06         1.458759e+06  ...   \nmean         6.410406e-03    3.549946e+05         1.370851e+05  ...   \nstd          9.622391e-02    1.149811e+06         6.774011e+05  ...   \nmin          0.000000e+00    0.000000e+00        -4.705600e+06  ...   \n25%          0.000000e+00    5.130000e+04         0.000000e+00  ...   \n50%          0.000000e+00    1.255185e+05         0.000000e+00  ...   \n75%          0.000000e+00    3.150000e+05         4.015350e+04  ...   \nmax          9.000000e+00    5.850000e+08         1.701000e+08  ...   \n\n        AMT_ANNUITY  BUREAU_BALANCE_0  BUREAU_BALANCE_1  BUREAU_BALANCE_2  \\\ncount  4.896370e+05     774354.000000     774354.000000     774354.000000   \nmean   1.571276e+04          4.726299          0.014638          0.000723   \nstd    3.258269e+05         65.733833          1.968870          0.008864   \nmin    0.000000e+00          0.000000          0.000000          0.000000   \n25%    0.000000e+00          0.081631          0.000000          0.000000   \n50%    0.000000e+00          0.249984          0.000000          0.000000   \n75%    1.350000e+04          0.624961          0.000000          0.000000   \nmax    1.184534e+08       1000.000000       1000.000000          0.833194   \n\n       BUREAU_BALANCE_3  BUREAU_BALANCE_4  BUREAU_BALANCE_5  BUREAU_BALANCE_C  \\\ncount     774354.000000     774354.000000     774354.000000     774354.000000   \nmean           0.000248          0.000161          0.001339          0.689338   \nstd            0.004092          0.003129          0.025614         18.667082   \nmin            0.000000          0.000000          0.000000          0.000000   \n25%            0.000000          0.000000          0.000000          0.000000   \n50%            0.000000          0.000000          0.000000          0.166657   \n75%            0.000000          0.000000          0.000000          0.718728   \nmax            0.499875          0.666445          1.998002       1000.000000   \n\n       BUREAU_BALANCE_X  BUREAU_BALANCE_MONTH_COUNT  \ncount     774354.000000               774354.000000  \nmean           2.205009                   36.288669  \nstd           44.658598                   25.449736  \nmin            0.000000                    0.000000  \n25%            0.000000                   15.000000  \n50%            0.020000                   31.000000  \n75%            0.249938                   53.000000  \nmax         1000.000000                   96.000000  \n\n[8 rows x 23 columns]",
      "text/html": "<div>\n<style scoped>\n    .dataframe tbody tr th:only-of-type {\n        vertical-align: middle;\n    }\n\n    .dataframe tbody tr th {\n        vertical-align: top;\n    }\n\n    .dataframe thead th {\n        text-align: right;\n    }\n</style>\n<table border=\"1\" class=\"dataframe\">\n  <thead>\n    <tr style=\"text-align: right;\">\n      <th></th>\n      <th>SK_ID_CURR</th>\n      <th>SK_ID_BUREAU</th>\n      <th>DAYS_CREDIT</th>\n      <th>CREDIT_DAY_OVERDUE</th>\n      <th>DAYS_CREDIT_ENDDATE</th>\n      <th>DAYS_ENDDATE_FACT</th>\n      <th>AMT_CREDIT_MAX_OVERDUE</th>\n      <th>CNT_CREDIT_PROLONG</th>\n      <th>AMT_CREDIT_SUM</th>\n      <th>AMT_CREDIT_SUM_DEBT</th>\n      <th>...</th>\n      <th>AMT_ANNUITY</th>\n      <th>BUREAU_BALANCE_0</th>\n      <th>BUREAU_BALANCE_1</th>\n      <th>BUREAU_BALANCE_2</th>\n      <th>BUREAU_BALANCE_3</th>\n      <th>BUREAU_BALANCE_4</th>\n      <th>BUREAU_BALANCE_5</th>\n      <th>BUREAU_BALANCE_C</th>\n      <th>BUREAU_BALANCE_X</th>\n      <th>BUREAU_BALANCE_MONTH_COUNT</th>\n    </tr>\n  </thead>\n  <tbody>\n    <tr>\n      <th>count</th>\n      <td>1.716428e+06</td>\n      <td>1.716428e+06</td>\n      <td>1.716428e+06</td>\n      <td>1.716428e+06</td>\n      <td>1.610875e+06</td>\n      <td>1.082775e+06</td>\n      <td>5.919400e+05</td>\n      <td>1.716428e+06</td>\n      <td>1.716415e+06</td>\n      <td>1.458759e+06</td>\n      <td>...</td>\n      <td>4.896370e+05</td>\n      <td>774354.000000</td>\n      <td>774354.000000</td>\n      <td>774354.000000</td>\n      <td>774354.000000</td>\n      <td>774354.000000</td>\n      <td>774354.000000</td>\n      <td>774354.000000</td>\n      <td>774354.000000</td>\n      <td>774354.000000</td>\n    </tr>\n    <tr>\n      <th>mean</th>\n      <td>2.782149e+05</td>\n      <td>5.924434e+06</td>\n      <td>-1.142108e+03</td>\n      <td>8.181666e-01</td>\n      <td>5.105174e+02</td>\n      <td>-1.017437e+03</td>\n      <td>3.825418e+03</td>\n      <td>6.410406e-03</td>\n      <td>3.549946e+05</td>\n      <td>1.370851e+05</td>\n      <td>...</td>\n      <td>1.571276e+04</td>\n      <td>4.726299</td>\n      <td>0.014638</td>\n      <td>0.000723</td>\n      <td>0.000248</td>\n      <td>0.000161</td>\n      <td>0.001339</td>\n      <td>0.689338</td>\n      <td>2.205009</td>\n      <td>36.288669</td>\n    </tr>\n    <tr>\n      <th>std</th>\n      <td>1.029386e+05</td>\n      <td>5.322657e+05</td>\n      <td>7.951649e+02</td>\n      <td>3.654443e+01</td>\n      <td>4.994220e+03</td>\n      <td>7.140106e+02</td>\n      <td>2.060316e+05</td>\n      <td>9.622391e-02</td>\n      <td>1.149811e+06</td>\n      <td>6.774011e+05</td>\n      <td>...</td>\n      <td>3.258269e+05</td>\n      <td>65.733833</td>\n      <td>1.968870</td>\n      <td>0.008864</td>\n      <td>0.004092</td>\n      <td>0.003129</td>\n      <td>0.025614</td>\n      <td>18.667082</td>\n      <td>44.658598</td>\n      <td>25.449736</td>\n    </tr>\n    <tr>\n      <th>min</th>\n      <td>1.000010e+05</td>\n      <td>5.000000e+06</td>\n      <td>-2.922000e+03</td>\n      <td>0.000000e+00</td>\n      <td>-4.206000e+04</td>\n      <td>-4.202300e+04</td>\n      <td>0.000000e+00</td>\n      <td>0.000000e+00</td>\n      <td>0.000000e+00</td>\n      <td>-4.705600e+06</td>\n      <td>...</td>\n      <td>0.000000e+00</td>\n      <td>0.000000</td>\n      <td>0.000000</td>\n      <td>0.000000</td>\n      <td>0.000000</td>\n      <td>0.000000</td>\n      <td>0.000000</td>\n      <td>0.000000</td>\n      <td>0.000000</td>\n      <td>0.000000</td>\n    </tr>\n    <tr>\n      <th>25%</th>\n      <td>1.888668e+05</td>\n      <td>5.463954e+06</td>\n      <td>-1.666000e+03</td>\n      <td>0.000000e+00</td>\n      <td>-1.138000e+03</td>\n      <td>-1.489000e+03</td>\n      <td>0.000000e+00</td>\n      <td>0.000000e+00</td>\n      <td>5.130000e+04</td>\n      <td>0.000000e+00</td>\n      <td>...</td>\n      <td>0.000000e+00</td>\n      <td>0.081631</td>\n      <td>0.000000</td>\n      <td>0.000000</td>\n      <td>0.000000</td>\n      <td>0.000000</td>\n      <td>0.000000</td>\n      <td>0.000000</td>\n      <td>0.000000</td>\n      <td>15.000000</td>\n    </tr>\n    <tr>\n      <th>50%</th>\n      <td>2.780550e+05</td>\n      <td>5.926304e+06</td>\n      <td>-9.870000e+02</td>\n      <td>0.000000e+00</td>\n      <td>-3.300000e+02</td>\n      <td>-8.970000e+02</td>\n      <td>0.000000e+00</td>\n      <td>0.000000e+00</td>\n      <td>1.255185e+05</td>\n      <td>0.000000e+00</td>\n      <td>...</td>\n      <td>0.000000e+00</td>\n      <td>0.249984</td>\n      <td>0.000000</td>\n      <td>0.000000</td>\n      <td>0.000000</td>\n      <td>0.000000</td>\n      <td>0.000000</td>\n      <td>0.166657</td>\n      <td>0.020000</td>\n      <td>31.000000</td>\n    </tr>\n    <tr>\n      <th>75%</th>\n      <td>3.674260e+05</td>\n      <td>6.385681e+06</td>\n      <td>-4.740000e+02</td>\n      <td>0.000000e+00</td>\n      <td>4.740000e+02</td>\n      <td>-4.250000e+02</td>\n      <td>0.000000e+00</td>\n      <td>0.000000e+00</td>\n      <td>3.150000e+05</td>\n      <td>4.015350e+04</td>\n      <td>...</td>\n      <td>1.350000e+04</td>\n      <td>0.624961</td>\n      <td>0.000000</td>\n      <td>0.000000</td>\n      <td>0.000000</td>\n      <td>0.000000</td>\n      <td>0.000000</td>\n      <td>0.718728</td>\n      <td>0.249938</td>\n      <td>53.000000</td>\n    </tr>\n    <tr>\n      <th>max</th>\n      <td>4.562550e+05</td>\n      <td>6.843457e+06</td>\n      <td>0.000000e+00</td>\n      <td>2.792000e+03</td>\n      <td>3.119900e+04</td>\n      <td>0.000000e+00</td>\n      <td>1.159872e+08</td>\n      <td>9.000000e+00</td>\n      <td>5.850000e+08</td>\n      <td>1.701000e+08</td>\n      <td>...</td>\n      <td>1.184534e+08</td>\n      <td>1000.000000</td>\n      <td>1000.000000</td>\n      <td>0.833194</td>\n      <td>0.499875</td>\n      <td>0.666445</td>\n      <td>1.998002</td>\n      <td>1000.000000</td>\n      <td>1000.000000</td>\n      <td>96.000000</td>\n    </tr>\n  </tbody>\n</table>\n<p>8 rows × 23 columns</p>\n</div>"
     },
     "execution_count": 127,
     "metadata": {},
     "output_type": "execute_result"
    }
   ],
   "source": [
    "bureau.describe()"
   ],
   "metadata": {
    "collapsed": false,
    "ExecuteTime": {
     "end_time": "2023-12-15T18:43:37.811545500Z",
     "start_time": "2023-12-15T18:43:35.716547Z"
    }
   },
   "id": "eca1c1686e33f8f0"
  },
  {
   "cell_type": "markdown",
   "source": [
    "## Cleaning bureau data"
   ],
   "metadata": {
    "collapsed": false
   },
   "id": "329d338e194c3ed1"
  },
  {
   "cell_type": "code",
   "execution_count": 128,
   "outputs": [
    {
     "name": "stdout",
     "output_type": "stream",
     "text": [
      "Unique item: SK_ID_CURR 305811\n",
      "Unique item: SK_ID_BUREAU 1716428\n",
      "Unique item: CREDIT_ACTIVE 4\n",
      "Unique item: CREDIT_CURRENCY 4\n",
      "Unique item: DAYS_CREDIT 2923\n",
      "Unique item: CREDIT_DAY_OVERDUE 942\n",
      "Unique item: DAYS_CREDIT_ENDDATE 14097\n",
      "Unique item: DAYS_ENDDATE_FACT 2918\n",
      "Unique item: AMT_CREDIT_MAX_OVERDUE 68252\n",
      "Unique item: CNT_CREDIT_PROLONG 10\n",
      "Unique item: AMT_CREDIT_SUM 236709\n",
      "Unique item: AMT_CREDIT_SUM_DEBT 226538\n",
      "Unique item: AMT_CREDIT_SUM_LIMIT 51727\n",
      "Unique item: AMT_CREDIT_SUM_OVERDUE 1616\n",
      "Unique item: CREDIT_TYPE 15\n",
      "Unique item: DAYS_CREDIT_UPDATE 2982\n",
      "Unique item: AMT_ANNUITY 40322\n",
      "Unique item: BUREAU_BALANCE_0 4638\n",
      "Unique item: BUREAU_BALANCE_1 1834\n",
      "Unique item: BUREAU_BALANCE_2 596\n",
      "Unique item: BUREAU_BALANCE_3 347\n",
      "Unique item: BUREAU_BALANCE_4 265\n",
      "Unique item: BUREAU_BALANCE_5 1801\n",
      "Unique item: BUREAU_BALANCE_C 4698\n",
      "Unique item: BUREAU_BALANCE_X 4670\n",
      "Unique item: BUREAU_BALANCE_MONTH_COUNT 98\n"
     ]
    }
   ],
   "source": [
    "# print number of unique item in each column\n",
    "for col in bureau.columns:\n",
    "    print('Unique item:', col, len(bureau[col].unique()))"
   ],
   "metadata": {
    "collapsed": false,
    "ExecuteTime": {
     "end_time": "2023-12-15T18:43:38.870549800Z",
     "start_time": "2023-12-15T18:43:37.812544500Z"
    }
   },
   "id": "c169f6b4e11cd704"
  },
  {
   "cell_type": "code",
   "execution_count": 129,
   "outputs": [
    {
     "name": "stdout",
     "output_type": "stream",
     "text": [
      "NA: SK_ID_CURR 0\n",
      "NA: SK_ID_BUREAU 0\n",
      "NA: CREDIT_ACTIVE 0\n",
      "NA: CREDIT_CURRENCY 0\n",
      "NA: DAYS_CREDIT 0\n",
      "NA: CREDIT_DAY_OVERDUE 0\n",
      "NA: DAYS_CREDIT_ENDDATE 105553\n",
      "NA: DAYS_ENDDATE_FACT 633653\n",
      "NA: AMT_CREDIT_MAX_OVERDUE 1124488\n",
      "NA: CNT_CREDIT_PROLONG 0\n",
      "NA: AMT_CREDIT_SUM 13\n",
      "NA: AMT_CREDIT_SUM_DEBT 257669\n",
      "NA: AMT_CREDIT_SUM_LIMIT 591780\n",
      "NA: AMT_CREDIT_SUM_OVERDUE 0\n",
      "NA: CREDIT_TYPE 0\n",
      "NA: DAYS_CREDIT_UPDATE 0\n",
      "NA: AMT_ANNUITY 1226791\n",
      "NA: BUREAU_BALANCE_0 942074\n",
      "NA: BUREAU_BALANCE_1 942074\n",
      "NA: BUREAU_BALANCE_2 942074\n",
      "NA: BUREAU_BALANCE_3 942074\n",
      "NA: BUREAU_BALANCE_4 942074\n",
      "NA: BUREAU_BALANCE_5 942074\n",
      "NA: BUREAU_BALANCE_C 942074\n",
      "NA: BUREAU_BALANCE_X 942074\n",
      "NA: BUREAU_BALANCE_MONTH_COUNT 942074\n"
     ]
    }
   ],
   "source": [
    "# print number of missing value in each column\n",
    "for col in bureau.columns:\n",
    "    print('NA:', col, len(bureau.loc[bureau[col].isnull()]))"
   ],
   "metadata": {
    "collapsed": false,
    "ExecuteTime": {
     "end_time": "2023-12-15T18:43:41.142547700Z",
     "start_time": "2023-12-15T18:43:38.871547600Z"
    }
   },
   "id": "b754a681a8d7d013"
  },
  {
   "cell_type": "code",
   "execution_count": 130,
   "outputs": [
    {
     "name": "stdout",
     "output_type": "stream",
     "text": [
      "value=0: SK_ID_CURR 0\n",
      "value=0: SK_ID_BUREAU 0\n",
      "value=0: CREDIT_ACTIVE 0\n",
      "value=0: CREDIT_CURRENCY 0\n",
      "value=0: DAYS_CREDIT 25\n",
      "value=0: CREDIT_DAY_OVERDUE 1712211\n",
      "value=0: DAYS_CREDIT_ENDDATE 883\n",
      "value=0: DAYS_ENDDATE_FACT 64\n",
      "value=0: AMT_CREDIT_MAX_OVERDUE 470650\n",
      "value=0: CNT_CREDIT_PROLONG 1707314\n",
      "value=0: AMT_CREDIT_SUM 66582\n",
      "value=0: AMT_CREDIT_SUM_DEBT 1016434\n",
      "value=0: AMT_CREDIT_SUM_LIMIT 1050142\n",
      "value=0: AMT_CREDIT_SUM_OVERDUE 1712270\n",
      "value=0: CREDIT_TYPE 0\n",
      "value=0: DAYS_CREDIT_UPDATE 605\n",
      "value=0: AMT_ANNUITY 256915\n",
      "value=0: BUREAU_BALANCE_0 111951\n",
      "value=0: BUREAU_BALANCE_1 679211\n",
      "value=0: BUREAU_BALANCE_2 761260\n",
      "value=0: BUREAU_BALANCE_3 768467\n",
      "value=0: BUREAU_BALANCE_4 770147\n",
      "value=0: BUREAU_BALANCE_5 769913\n",
      "value=0: BUREAU_BALANCE_C 356962\n",
      "value=0: BUREAU_BALANCE_X 345823\n",
      "value=0: BUREAU_BALANCE_MONTH_COUNT 5184\n"
     ]
    }
   ],
   "source": [
    "# print number of 0 in each column\n",
    "for col in bureau.columns:\n",
    "    print('value=0:', col, len(bureau.loc[bureau[col] == 0]))"
   ],
   "metadata": {
    "collapsed": false,
    "ExecuteTime": {
     "end_time": "2023-12-15T18:43:43.256545400Z",
     "start_time": "2023-12-15T18:43:41.145550800Z"
    }
   },
   "id": "ad3a39716866db92"
  },
  {
   "cell_type": "code",
   "execution_count": 131,
   "outputs": [],
   "source": [
    "# def aggregate_do_nothing(bureau, col):\n",
    "#     res = bureau[col]\n",
    "#     return res.reindex(application['SK_ID_CURR']).fillna(0).rename('BUREAU_' + col)"
   ],
   "metadata": {
    "collapsed": false,
    "ExecuteTime": {
     "end_time": "2023-12-15T18:43:43.310545500Z",
     "start_time": "2023-12-15T18:43:43.254589Z"
    }
   },
   "id": "8b631e8b2f485894"
  },
  {
   "cell_type": "code",
   "execution_count": 132,
   "outputs": [],
   "source": [
    "def aggregate_count(bureau, col):\n",
    "    # res = bureau[bureau['SK_ID_CURR'].isin(application['SK_ID_CURR'])]\n",
    "    # res = res.groupby('SK_ID_CURR')[col].count()\n",
    "    res = bureau.groupby('SK_ID_CURR')[col].count()\n",
    "    return res.reindex(application['SK_ID_CURR']).fillna(0).rename('BUREAU_' + col + '_COUNT')"
   ],
   "metadata": {
    "collapsed": false,
    "ExecuteTime": {
     "end_time": "2023-12-15T18:43:43.312544900Z",
     "start_time": "2023-12-15T18:43:43.273580900Z"
    }
   },
   "id": "f31d18b8b1b97300"
  },
  {
   "cell_type": "code",
   "execution_count": 133,
   "outputs": [],
   "source": [
    "def aggregate_categorical(bureau, col):\n",
    "    # res = bureau[bureau['SK_ID_CURR'].isin(application['SK_ID_CURR'])]\n",
    "    # res = res.groupby('SK_ID_CURR')[col].value_counts().unstack()\n",
    "    res = bureau.groupby('SK_ID_CURR')[col].value_counts().unstack()\n",
    "    res = res.reindex(application['SK_ID_CURR']).fillna(0)\n",
    "    res.columns = ['BUREAU_' + col + '_' + str(col_name) for col_name in res.columns]\n",
    "    return res"
   ],
   "metadata": {
    "collapsed": false,
    "ExecuteTime": {
     "end_time": "2023-12-15T18:43:43.338548500Z",
     "start_time": "2023-12-15T18:43:43.287545900Z"
    }
   },
   "id": "df8dcf1572ecc5b7"
  },
  {
   "cell_type": "code",
   "execution_count": 134,
   "outputs": [],
   "source": [
    "def aggregate_avg_max_min_std_skw(bureau, col):\n",
    "    # res = bureau[bureau['SK_ID_CURR'].isin(application['SK_ID_CURR'])]\n",
    "    # res = res.groupby('SK_ID_CURR')[col].agg(['mean', 'max', 'min', 'std', 'skew'])\n",
    "    res = bureau.groupby('SK_ID_CURR')[col].agg(['mean', 'max', 'min', 'std', 'skew'])\n",
    "    res = res.reindex(application['SK_ID_CURR']).fillna(0)\n",
    "    res.columns = ['BUREAU_' + col + '_' + col_name for col_name in res.columns]\n",
    "    return res"
   ],
   "metadata": {
    "collapsed": false,
    "ExecuteTime": {
     "end_time": "2023-12-15T18:43:43.354546100Z",
     "start_time": "2023-12-15T18:43:43.302545200Z"
    }
   },
   "id": "adb2d10c8c63827a"
  },
  {
   "cell_type": "code",
   "execution_count": 135,
   "outputs": [],
   "source": [
    "def aggregate_avg_max_min_std_skw_nan_count(bureau, col):\n",
    "    res = bureau[bureau['SK_ID_CURR'].isin(application['SK_ID_CURR'])]\n",
    "    res = res.groupby('SK_ID_CURR')[col].agg(['mean', 'max', 'min', 'std', 'skew'])\n",
    "    # count the number of nan\n",
    "    res['nan_count'] = bureau.groupby('SK_ID_CURR')[col].apply(lambda x: x.isnull().sum())\n",
    "    res = res.reindex(application['SK_ID_CURR']).fillna(0)\n",
    "    res.columns = ['BUREAU_' + col + '_' + col_name for col_name in res.columns]\n",
    "    return res"
   ],
   "metadata": {
    "collapsed": false,
    "ExecuteTime": {
     "end_time": "2023-12-15T18:43:43.356545600Z",
     "start_time": "2023-12-15T18:43:43.317545900Z"
    }
   },
   "id": "8901b0ae346bcb10"
  },
  {
   "cell_type": "code",
   "execution_count": 136,
   "outputs": [],
   "source": [
    "bureau_agg_dic = {'SK_ID_BUREAU': 'aggregate_count',\n",
    "                  'CREDIT_ACTIVE': 'aggregate_categorical',\n",
    "                  'CREDIT_CURRENCY': 'aggregate_categorical',\n",
    "                  'DAYS_CREDIT': 'aggregate_avg_max_min_std_skw',\n",
    "                  'CREDIT_DAY_OVERDUE': 'aggregate_avg_max_min_std_skw',\n",
    "                  'DAYS_CREDIT_ENDDATE': 'aggregate_avg_max_min_std_skw_nan_count',\n",
    "                  'DAYS_ENDDATE_FACT': 'aggregate_avg_max_min_std_skw_nan_count',\n",
    "                  'AMT_CREDIT_MAX_OVERDUE': 'aggregate_avg_max_min_std_skw_nan_count',\n",
    "                  'CNT_CREDIT_PROLONG': 'aggregate_avg_max_min_std_skw',\n",
    "                  'AMT_CREDIT_SUM': 'aggregate_avg_max_min_std_skw',\n",
    "                  'AMT_CREDIT_SUM_DEBT': 'aggregate_avg_max_min_std_skw_nan_count',\n",
    "                  'AMT_CREDIT_SUM_LIMIT': 'aggregate_avg_max_min_std_skw_nan_count',\n",
    "                  'AMT_CREDIT_SUM_OVERDUE': 'aggregate_avg_max_min_std_skw',\n",
    "                  'DAYS_CREDIT_UPDATE': 'aggregate_avg_max_min_std_skw',\n",
    "                  'AMT_ANNUITY': 'aggregate_avg_max_min_std_skw_nan_count',\n",
    "                  'BUREAU_BALANCE_0': 'aggregate_avg_max_min_std_skw',\n",
    "                  'BUREAU_BALANCE_1': 'aggregate_avg_max_min_std_skw',\n",
    "                  'BUREAU_BALANCE_2': 'aggregate_avg_max_min_std_skw',\n",
    "                  'BUREAU_BALANCE_3': 'aggregate_avg_max_min_std_skw',\n",
    "                  'BUREAU_BALANCE_4': 'aggregate_avg_max_min_std_skw',\n",
    "                  'BUREAU_BALANCE_5': 'aggregate_avg_max_min_std_skw',\n",
    "                  'BUREAU_BALANCE_C': 'aggregate_avg_max_min_std_skw',\n",
    "                  'BUREAU_BALANCE_X': 'aggregate_avg_max_min_std_skw',\n",
    "                  'BUREAU_BALANCE_MONTH_COUNT': 'aggregate_avg_max_min_std_skw'}"
   ],
   "metadata": {
    "collapsed": false,
    "ExecuteTime": {
     "end_time": "2023-12-15T18:43:43.387544800Z",
     "start_time": "2023-12-15T18:43:43.337548Z"
    }
   },
   "id": "ae4f9c4688aed498"
  },
  {
   "cell_type": "code",
   "execution_count": 137,
   "outputs": [
    {
     "data": {
      "text/plain": "'Status of Credit Bureau loan during the month (active, closed, DPD0-30,\\x85 [C means closed, X means status unknown, 0 means no DPD, 1 means maximal did during month between 1-30, 2 means DPD 31-60,\\x85 5 means DPD 120+ or sold or written off ] )'"
     },
     "execution_count": 137,
     "metadata": {},
     "output_type": "execute_result"
    }
   ],
   "source": [
    "home_credit_columns_description.where(home_credit_columns_description['Row'] == 'STATUS').dropna(axis=0, how='all')[\n",
    "    'Description'].values[0]"
   ],
   "metadata": {
    "collapsed": false,
    "ExecuteTime": {
     "end_time": "2023-12-15T18:43:43.392546Z",
     "start_time": "2023-12-15T18:43:43.353546300Z"
    }
   },
   "id": "ff8cc2b9e55de35e"
  },
  {
   "cell_type": "code",
   "execution_count": 138,
   "outputs": [],
   "source": [
    "# parallel processing\n",
    "bureau_merging_result = Parallel(n_jobs=-1)(\n",
    "    delayed(eval(bureau_agg_dic[col]))(bureau[bureau['SK_ID_CURR'].isin(application['SK_ID_CURR'])], col) for col in bureau_agg_dic.keys())# 6min"
   ],
   "metadata": {
    "collapsed": false,
    "ExecuteTime": {
     "end_time": "2023-12-15T18:49:31.842604700Z",
     "start_time": "2023-12-15T18:43:43.367545500Z"
    }
   },
   "id": "6a8064393ddd25e9"
  },
  {
   "cell_type": "code",
   "execution_count": 139,
   "outputs": [],
   "source": [
    "# merge all the result on SK_ID_CURR\n",
    "bureau_merging_result = pd.concat(bureau_merging_result, axis=1)"
   ],
   "metadata": {
    "collapsed": false,
    "ExecuteTime": {
     "end_time": "2023-12-15T18:49:32.083602100Z",
     "start_time": "2023-12-15T18:49:31.902606900Z"
    }
   },
   "id": "4b21c8c1323c179b"
  },
  {
   "cell_type": "code",
   "execution_count": 147,
   "outputs": [
    {
     "name": "stdout",
     "output_type": "stream",
     "text": [
      "<class 'pandas.core.frame.DataFrame'>\n",
      "Int64Index: 307511 entries, 100002 to 456255\n",
      "Columns: 120 entries, BUREAU_SK_ID_BUREAU_COUNT to BUREAU_BUREAU_BALANCE_MONTH_COUNT_skew\n",
      "dtypes: float64(120)\n",
      "memory usage: 283.9 MB\n"
     ]
    }
   ],
   "source": [
    "bureau_merging_result.info()"
   ],
   "metadata": {
    "collapsed": false,
    "ExecuteTime": {
     "end_time": "2023-12-15T18:51:14.977357900Z",
     "start_time": "2023-12-15T18:51:14.910321200Z"
    }
   },
   "id": "c03a893545bcd018"
  },
  {
   "cell_type": "code",
   "execution_count": 148,
   "outputs": [
    {
     "name": "stdout",
     "output_type": "stream",
     "text": [
      "<class 'pandas.core.frame.DataFrame'>\n",
      "RangeIndex: 307511 entries, 0 to 307510\n",
      "Columns: 122 entries, SK_ID_CURR to AMT_REQ_CREDIT_BUREAU_YEAR\n",
      "dtypes: float64(65), int64(41), object(16)\n",
      "memory usage: 286.2+ MB\n"
     ]
    }
   ],
   "source": [
    "application.info()"
   ],
   "metadata": {
    "collapsed": false,
    "ExecuteTime": {
     "end_time": "2023-12-15T18:51:42.973210400Z",
     "start_time": "2023-12-15T18:51:42.913179200Z"
    }
   },
   "id": "fe6ae65be07c9464"
  },
  {
   "cell_type": "markdown",
   "source": [
    "## Cleaning POS Cash data"
   ],
   "metadata": {
    "collapsed": false
   },
   "id": "1d373e3d84007118"
  },
  {
   "cell_type": "code",
   "execution_count": null,
   "outputs": [],
   "source": [],
   "metadata": {
    "collapsed": false
   },
   "id": "968f32b7caaf9c90"
  },
  {
   "cell_type": "code",
   "execution_count": 141,
   "outputs": [
    {
     "data": {
      "text/plain": "         SK_ID_PREV    SK_ID_CURR  MONTHS_BALANCE  CNT_INSTALMENT  \\\ncount  1.000136e+07  1.000136e+07    1.000136e+07    9.975287e+06   \nmean   1.903217e+06  2.784039e+05   -3.501259e+01    1.708965e+01   \nstd    5.358465e+05  1.027637e+05    2.606657e+01    1.199506e+01   \nmin    1.000001e+06  1.000010e+05   -9.600000e+01    1.000000e+00   \n25%    1.434405e+06  1.895500e+05   -5.400000e+01    1.000000e+01   \n50%    1.896565e+06  2.786540e+05   -2.800000e+01    1.200000e+01   \n75%    2.368963e+06  3.674290e+05   -1.300000e+01    2.400000e+01   \nmax    2.843499e+06  4.562550e+05   -1.000000e+00    9.200000e+01   \n\n       CNT_INSTALMENT_FUTURE        SK_DPD    SK_DPD_DEF  \ncount           9.975271e+06  1.000136e+07  1.000136e+07  \nmean            1.048384e+01  1.160693e+01  6.544684e-01  \nstd             1.110906e+01  1.327140e+02  3.276249e+01  \nmin             0.000000e+00  0.000000e+00  0.000000e+00  \n25%             3.000000e+00  0.000000e+00  0.000000e+00  \n50%             7.000000e+00  0.000000e+00  0.000000e+00  \n75%             1.400000e+01  0.000000e+00  0.000000e+00  \nmax             8.500000e+01  4.231000e+03  3.595000e+03  ",
      "text/html": "<div>\n<style scoped>\n    .dataframe tbody tr th:only-of-type {\n        vertical-align: middle;\n    }\n\n    .dataframe tbody tr th {\n        vertical-align: top;\n    }\n\n    .dataframe thead th {\n        text-align: right;\n    }\n</style>\n<table border=\"1\" class=\"dataframe\">\n  <thead>\n    <tr style=\"text-align: right;\">\n      <th></th>\n      <th>SK_ID_PREV</th>\n      <th>SK_ID_CURR</th>\n      <th>MONTHS_BALANCE</th>\n      <th>CNT_INSTALMENT</th>\n      <th>CNT_INSTALMENT_FUTURE</th>\n      <th>SK_DPD</th>\n      <th>SK_DPD_DEF</th>\n    </tr>\n  </thead>\n  <tbody>\n    <tr>\n      <th>count</th>\n      <td>1.000136e+07</td>\n      <td>1.000136e+07</td>\n      <td>1.000136e+07</td>\n      <td>9.975287e+06</td>\n      <td>9.975271e+06</td>\n      <td>1.000136e+07</td>\n      <td>1.000136e+07</td>\n    </tr>\n    <tr>\n      <th>mean</th>\n      <td>1.903217e+06</td>\n      <td>2.784039e+05</td>\n      <td>-3.501259e+01</td>\n      <td>1.708965e+01</td>\n      <td>1.048384e+01</td>\n      <td>1.160693e+01</td>\n      <td>6.544684e-01</td>\n    </tr>\n    <tr>\n      <th>std</th>\n      <td>5.358465e+05</td>\n      <td>1.027637e+05</td>\n      <td>2.606657e+01</td>\n      <td>1.199506e+01</td>\n      <td>1.110906e+01</td>\n      <td>1.327140e+02</td>\n      <td>3.276249e+01</td>\n    </tr>\n    <tr>\n      <th>min</th>\n      <td>1.000001e+06</td>\n      <td>1.000010e+05</td>\n      <td>-9.600000e+01</td>\n      <td>1.000000e+00</td>\n      <td>0.000000e+00</td>\n      <td>0.000000e+00</td>\n      <td>0.000000e+00</td>\n    </tr>\n    <tr>\n      <th>25%</th>\n      <td>1.434405e+06</td>\n      <td>1.895500e+05</td>\n      <td>-5.400000e+01</td>\n      <td>1.000000e+01</td>\n      <td>3.000000e+00</td>\n      <td>0.000000e+00</td>\n      <td>0.000000e+00</td>\n    </tr>\n    <tr>\n      <th>50%</th>\n      <td>1.896565e+06</td>\n      <td>2.786540e+05</td>\n      <td>-2.800000e+01</td>\n      <td>1.200000e+01</td>\n      <td>7.000000e+00</td>\n      <td>0.000000e+00</td>\n      <td>0.000000e+00</td>\n    </tr>\n    <tr>\n      <th>75%</th>\n      <td>2.368963e+06</td>\n      <td>3.674290e+05</td>\n      <td>-1.300000e+01</td>\n      <td>2.400000e+01</td>\n      <td>1.400000e+01</td>\n      <td>0.000000e+00</td>\n      <td>0.000000e+00</td>\n    </tr>\n    <tr>\n      <th>max</th>\n      <td>2.843499e+06</td>\n      <td>4.562550e+05</td>\n      <td>-1.000000e+00</td>\n      <td>9.200000e+01</td>\n      <td>8.500000e+01</td>\n      <td>4.231000e+03</td>\n      <td>3.595000e+03</td>\n    </tr>\n  </tbody>\n</table>\n</div>"
     },
     "execution_count": 141,
     "metadata": {},
     "output_type": "execute_result"
    }
   ],
   "source": [
    "POS_CASH_balance.describe()"
   ],
   "metadata": {
    "collapsed": false,
    "ExecuteTime": {
     "end_time": "2023-12-15T18:49:36.352605900Z",
     "start_time": "2023-12-15T18:49:32.236606400Z"
    }
   },
   "id": "3d0ed3beab5ca908"
  },
  {
   "cell_type": "code",
   "execution_count": 142,
   "outputs": [
    {
     "data": {
      "text/plain": "          SK_ID_PREV  SK_ID_CURR  MONTHS_BALANCE  CNT_INSTALMENT  \\\n0            1803195      182943             -31            48.0   \n1            1715348      367990             -33            36.0   \n2            1784872      397406             -32            12.0   \n3            1903291      269225             -35            48.0   \n4            2341044      334279             -35            36.0   \n...              ...         ...             ...             ...   \n10001353     2448283      226558             -20             6.0   \n10001354     1717234      141565             -19            12.0   \n10001355     1283126      315695             -21            10.0   \n10001356     1082516      450255             -22            12.0   \n10001357     1259607      174278             -52            16.0   \n\n          CNT_INSTALMENT_FUTURE NAME_CONTRACT_STATUS  SK_DPD  SK_DPD_DEF  \n0                          45.0               Active       0           0  \n1                          35.0               Active       0           0  \n2                           9.0               Active       0           0  \n3                          42.0               Active       0           0  \n4                          35.0               Active       0           0  \n...                         ...                  ...     ...         ...  \n10001353                    0.0               Active     843           0  \n10001354                    0.0               Active     602           0  \n10001355                    0.0               Active     609           0  \n10001356                    0.0               Active     614           0  \n10001357                    0.0            Completed       0           0  \n\n[10001358 rows x 8 columns]",
      "text/html": "<div>\n<style scoped>\n    .dataframe tbody tr th:only-of-type {\n        vertical-align: middle;\n    }\n\n    .dataframe tbody tr th {\n        vertical-align: top;\n    }\n\n    .dataframe thead th {\n        text-align: right;\n    }\n</style>\n<table border=\"1\" class=\"dataframe\">\n  <thead>\n    <tr style=\"text-align: right;\">\n      <th></th>\n      <th>SK_ID_PREV</th>\n      <th>SK_ID_CURR</th>\n      <th>MONTHS_BALANCE</th>\n      <th>CNT_INSTALMENT</th>\n      <th>CNT_INSTALMENT_FUTURE</th>\n      <th>NAME_CONTRACT_STATUS</th>\n      <th>SK_DPD</th>\n      <th>SK_DPD_DEF</th>\n    </tr>\n  </thead>\n  <tbody>\n    <tr>\n      <th>0</th>\n      <td>1803195</td>\n      <td>182943</td>\n      <td>-31</td>\n      <td>48.0</td>\n      <td>45.0</td>\n      <td>Active</td>\n      <td>0</td>\n      <td>0</td>\n    </tr>\n    <tr>\n      <th>1</th>\n      <td>1715348</td>\n      <td>367990</td>\n      <td>-33</td>\n      <td>36.0</td>\n      <td>35.0</td>\n      <td>Active</td>\n      <td>0</td>\n      <td>0</td>\n    </tr>\n    <tr>\n      <th>2</th>\n      <td>1784872</td>\n      <td>397406</td>\n      <td>-32</td>\n      <td>12.0</td>\n      <td>9.0</td>\n      <td>Active</td>\n      <td>0</td>\n      <td>0</td>\n    </tr>\n    <tr>\n      <th>3</th>\n      <td>1903291</td>\n      <td>269225</td>\n      <td>-35</td>\n      <td>48.0</td>\n      <td>42.0</td>\n      <td>Active</td>\n      <td>0</td>\n      <td>0</td>\n    </tr>\n    <tr>\n      <th>4</th>\n      <td>2341044</td>\n      <td>334279</td>\n      <td>-35</td>\n      <td>36.0</td>\n      <td>35.0</td>\n      <td>Active</td>\n      <td>0</td>\n      <td>0</td>\n    </tr>\n    <tr>\n      <th>...</th>\n      <td>...</td>\n      <td>...</td>\n      <td>...</td>\n      <td>...</td>\n      <td>...</td>\n      <td>...</td>\n      <td>...</td>\n      <td>...</td>\n    </tr>\n    <tr>\n      <th>10001353</th>\n      <td>2448283</td>\n      <td>226558</td>\n      <td>-20</td>\n      <td>6.0</td>\n      <td>0.0</td>\n      <td>Active</td>\n      <td>843</td>\n      <td>0</td>\n    </tr>\n    <tr>\n      <th>10001354</th>\n      <td>1717234</td>\n      <td>141565</td>\n      <td>-19</td>\n      <td>12.0</td>\n      <td>0.0</td>\n      <td>Active</td>\n      <td>602</td>\n      <td>0</td>\n    </tr>\n    <tr>\n      <th>10001355</th>\n      <td>1283126</td>\n      <td>315695</td>\n      <td>-21</td>\n      <td>10.0</td>\n      <td>0.0</td>\n      <td>Active</td>\n      <td>609</td>\n      <td>0</td>\n    </tr>\n    <tr>\n      <th>10001356</th>\n      <td>1082516</td>\n      <td>450255</td>\n      <td>-22</td>\n      <td>12.0</td>\n      <td>0.0</td>\n      <td>Active</td>\n      <td>614</td>\n      <td>0</td>\n    </tr>\n    <tr>\n      <th>10001357</th>\n      <td>1259607</td>\n      <td>174278</td>\n      <td>-52</td>\n      <td>16.0</td>\n      <td>0.0</td>\n      <td>Completed</td>\n      <td>0</td>\n      <td>0</td>\n    </tr>\n  </tbody>\n</table>\n<p>10001358 rows × 8 columns</p>\n</div>"
     },
     "execution_count": 142,
     "metadata": {},
     "output_type": "execute_result"
    }
   ],
   "source": [
    "POS_CASH_balance"
   ],
   "metadata": {
    "collapsed": false,
    "ExecuteTime": {
     "end_time": "2023-12-15T18:49:36.425604700Z",
     "start_time": "2023-12-15T18:49:36.375621900Z"
    }
   },
   "id": "1cb57b150b9d7809"
  },
  {
   "cell_type": "code",
   "execution_count": 143,
   "outputs": [
    {
     "data": {
      "text/plain": "[]"
     },
     "execution_count": 143,
     "metadata": {},
     "output_type": "execute_result"
    }
   ],
   "source": [
    "[item for item in application['SK_ID_CURR'] if item not in POS_CASH_balance['SK_ID_CURR']]"
   ],
   "metadata": {
    "collapsed": false,
    "ExecuteTime": {
     "end_time": "2023-12-15T18:49:38.591643900Z",
     "start_time": "2023-12-15T18:49:36.428602800Z"
    }
   },
   "id": "3b0edf0197035910"
  },
  {
   "cell_type": "code",
   "execution_count": 155,
   "outputs": [
    {
     "data": {
      "text/plain": "array([182943, 367990, 397406, ..., 394310, 240059, 144536], dtype=int64)"
     },
     "execution_count": 155,
     "metadata": {},
     "output_type": "execute_result"
    }
   ],
   "source": [
    "POS_CASH_balance['SK_ID_CURR'].unique()"
   ],
   "metadata": {
    "collapsed": false,
    "ExecuteTime": {
     "end_time": "2023-12-15T19:15:05.860427900Z",
     "start_time": "2023-12-15T19:15:05.674430100Z"
    }
   },
   "id": "1a167c32b2b6d7f4"
  },
  {
   "cell_type": "code",
   "execution_count": 156,
   "outputs": [
    {
     "data": {
      "text/plain": "array([1803195, 1715348, 1784872, ..., 2452932, 1980876, 2308284],\n      dtype=int64)"
     },
     "execution_count": 156,
     "metadata": {},
     "output_type": "execute_result"
    }
   ],
   "source": [
    "POS_CASH_balance['SK_ID_PREV'].unique()"
   ],
   "metadata": {
    "collapsed": false,
    "ExecuteTime": {
     "end_time": "2023-12-15T19:15:09.824662800Z",
     "start_time": "2023-12-15T19:15:09.469656100Z"
    }
   },
   "id": "ed450357795a893"
  },
  {
   "cell_type": "code",
   "execution_count": 159,
   "outputs": [
    {
     "name": "stdout",
     "output_type": "stream",
     "text": [
      "0           1803195\n",
      "1           1715348\n",
      "2           1784872\n",
      "3           1903291\n",
      "4           2341044\n",
      "             ...   \n",
      "10001353    2448283\n",
      "10001354    1717234\n",
      "10001355    1283126\n",
      "10001356    1082516\n",
      "10001357    1259607\n",
      "Name: SK_ID_PREV, Length: 10001358, dtype: int64\n"
     ]
    }
   ],
   "source": [
    "print(POS_CASH_balance['SK_ID_PREV'])"
   ],
   "metadata": {
    "collapsed": false,
    "ExecuteTime": {
     "end_time": "2023-12-15T19:17:36.736738700Z",
     "start_time": "2023-12-15T19:17:36.713738Z"
    }
   },
   "id": "a1f89ffff37011c0"
  },
  {
   "cell_type": "code",
   "execution_count": 158,
   "outputs": [
    {
     "data": {
      "text/plain": "0"
     },
     "execution_count": 158,
     "metadata": {},
     "output_type": "execute_result"
    }
   ],
   "source": [
    "POS_CASH_balance['SK_ID_CURR'].isna().sum()"
   ],
   "metadata": {
    "collapsed": false,
    "ExecuteTime": {
     "end_time": "2023-12-15T19:15:52.391421200Z",
     "start_time": "2023-12-15T19:15:52.348419500Z"
    }
   },
   "id": "fd105a1cbfed4bca"
  },
  {
   "cell_type": "code",
   "execution_count": 153,
   "outputs": [
    {
     "data": {
      "text/plain": "array([182943, 367990, 397406, ..., 394310, 240059, 144536], dtype=int64)"
     },
     "execution_count": 153,
     "metadata": {},
     "output_type": "execute_result"
    }
   ],
   "source": [
    "POS_CASH_balance[POS_CASH_balance['SK_ID_CURR'].isin(application['SK_ID_CURR'])]['SK_ID_CURR'].unique()"
   ],
   "metadata": {
    "collapsed": false,
    "ExecuteTime": {
     "end_time": "2023-12-15T19:03:59.808800300Z",
     "start_time": "2023-12-15T19:03:58.936800500Z"
    }
   },
   "id": "808288a2d7181ff7"
  },
  {
   "cell_type": "code",
   "execution_count": 154,
   "outputs": [
    {
     "data": {
      "text/plain": "array([363914, 337855, 126868, ..., 174455, 315041, 382749], dtype=int64)"
     },
     "execution_count": 154,
     "metadata": {},
     "output_type": "execute_result"
    }
   ],
   "source": [
    "credit_card_balance[credit_card_balance['SK_ID_CURR'].isin(application['SK_ID_CURR'])]['SK_ID_CURR'].unique()"
   ],
   "metadata": {
    "collapsed": false,
    "ExecuteTime": {
     "end_time": "2023-12-15T19:04:00.558800Z",
     "start_time": "2023-12-15T19:04:00.040801700Z"
    }
   },
   "id": "83ff8e376fa30759"
  },
  {
   "cell_type": "code",
   "execution_count": null,
   "outputs": [],
   "source": [
    "previous_application"
   ],
   "metadata": {
    "collapsed": false
   },
   "id": "49996b243d426725"
  },
  {
   "cell_type": "code",
   "execution_count": 150,
   "outputs": [
    {
     "ename": "KeyboardInterrupt",
     "evalue": "",
     "output_type": "error",
     "traceback": [
      "\u001B[1;31m---------------------------------------------------------------------------\u001B[0m",
      "\u001B[1;31mKeyboardInterrupt\u001B[0m                         Traceback (most recent call last)",
      "Cell \u001B[1;32mIn[150], line 1\u001B[0m\n\u001B[1;32m----> 1\u001B[0m {prev_id:now_id \u001B[38;5;28;01mfor\u001B[39;00m (prev_id,now_id) \u001B[38;5;129;01min\u001B[39;00m \u001B[38;5;28mzip\u001B[39m(POS_CASH_balance[\u001B[38;5;124m'\u001B[39m\u001B[38;5;124mSK_ID_PREV\u001B[39m\u001B[38;5;124m'\u001B[39m],POS_CASH_balance[\u001B[38;5;124m'\u001B[39m\u001B[38;5;124mSK_ID_CURR\u001B[39m\u001B[38;5;124m'\u001B[39m]) \u001B[38;5;28;01mif\u001B[39;00m prev_id \u001B[38;5;129;01min\u001B[39;00m credit_card_balance[\u001B[38;5;124m'\u001B[39m\u001B[38;5;124mSK_ID_PREV\u001B[39m\u001B[38;5;124m'\u001B[39m] \u001B[38;5;129;01mand\u001B[39;00m now_id \u001B[38;5;129;01min\u001B[39;00m credit_card_balance[\u001B[38;5;124m'\u001B[39m\u001B[38;5;124mSK_ID_CURR\u001B[39m\u001B[38;5;124m'\u001B[39m]}\n",
      "Cell \u001B[1;32mIn[150], line 1\u001B[0m, in \u001B[0;36m<dictcomp>\u001B[1;34m(.0)\u001B[0m\n\u001B[1;32m----> 1\u001B[0m {prev_id:now_id \u001B[38;5;28;01mfor\u001B[39;00m (prev_id,now_id) \u001B[38;5;129;01min\u001B[39;00m \u001B[38;5;28mzip\u001B[39m(POS_CASH_balance[\u001B[38;5;124m'\u001B[39m\u001B[38;5;124mSK_ID_PREV\u001B[39m\u001B[38;5;124m'\u001B[39m],POS_CASH_balance[\u001B[38;5;124m'\u001B[39m\u001B[38;5;124mSK_ID_CURR\u001B[39m\u001B[38;5;124m'\u001B[39m]) \u001B[38;5;28;01mif\u001B[39;00m prev_id \u001B[38;5;129;01min\u001B[39;00m \u001B[43mcredit_card_balance\u001B[49m\u001B[43m[\u001B[49m\u001B[38;5;124;43m'\u001B[39;49m\u001B[38;5;124;43mSK_ID_PREV\u001B[39;49m\u001B[38;5;124;43m'\u001B[39;49m\u001B[43m]\u001B[49m \u001B[38;5;129;01mand\u001B[39;00m now_id \u001B[38;5;129;01min\u001B[39;00m credit_card_balance[\u001B[38;5;124m'\u001B[39m\u001B[38;5;124mSK_ID_CURR\u001B[39m\u001B[38;5;124m'\u001B[39m]}\n",
      "File \u001B[1;32m~\\AppData\\Roaming\\Python\\Python38\\site-packages\\pandas\\core\\frame.py:3774\u001B[0m, in \u001B[0;36mDataFrame.__getitem__\u001B[1;34m(self, key)\u001B[0m\n\u001B[0;32m   3767\u001B[0m \u001B[38;5;66;03m# GH#45316 Return view if key is not duplicated\u001B[39;00m\n\u001B[0;32m   3768\u001B[0m \u001B[38;5;66;03m# Only use drop_duplicates with duplicates for performance\u001B[39;00m\n\u001B[0;32m   3769\u001B[0m \u001B[38;5;28;01mif\u001B[39;00m \u001B[38;5;129;01mnot\u001B[39;00m is_mi \u001B[38;5;129;01mand\u001B[39;00m (\n\u001B[0;32m   3770\u001B[0m     \u001B[38;5;28mself\u001B[39m\u001B[38;5;241m.\u001B[39mcolumns\u001B[38;5;241m.\u001B[39mis_unique\n\u001B[0;32m   3771\u001B[0m     \u001B[38;5;129;01mand\u001B[39;00m key \u001B[38;5;129;01min\u001B[39;00m \u001B[38;5;28mself\u001B[39m\u001B[38;5;241m.\u001B[39mcolumns\n\u001B[0;32m   3772\u001B[0m     \u001B[38;5;129;01mor\u001B[39;00m key \u001B[38;5;129;01min\u001B[39;00m \u001B[38;5;28mself\u001B[39m\u001B[38;5;241m.\u001B[39mcolumns\u001B[38;5;241m.\u001B[39mdrop_duplicates(keep\u001B[38;5;241m=\u001B[39m\u001B[38;5;28;01mFalse\u001B[39;00m)\n\u001B[0;32m   3773\u001B[0m ):\n\u001B[1;32m-> 3774\u001B[0m     \u001B[38;5;28;01mreturn\u001B[39;00m \u001B[38;5;28;43mself\u001B[39;49m\u001B[38;5;241;43m.\u001B[39;49m\u001B[43m_get_item_cache\u001B[49m\u001B[43m(\u001B[49m\u001B[43mkey\u001B[49m\u001B[43m)\u001B[49m\n\u001B[0;32m   3776\u001B[0m \u001B[38;5;28;01melif\u001B[39;00m is_mi \u001B[38;5;129;01mand\u001B[39;00m \u001B[38;5;28mself\u001B[39m\u001B[38;5;241m.\u001B[39mcolumns\u001B[38;5;241m.\u001B[39mis_unique \u001B[38;5;129;01mand\u001B[39;00m key \u001B[38;5;129;01min\u001B[39;00m \u001B[38;5;28mself\u001B[39m\u001B[38;5;241m.\u001B[39mcolumns:\n\u001B[0;32m   3777\u001B[0m     \u001B[38;5;28;01mreturn\u001B[39;00m \u001B[38;5;28mself\u001B[39m\u001B[38;5;241m.\u001B[39m_getitem_multilevel(key)\n",
      "File \u001B[1;32m~\\AppData\\Roaming\\Python\\Python38\\site-packages\\pandas\\core\\frame.py:4274\u001B[0m, in \u001B[0;36mDataFrame._get_item_cache\u001B[1;34m(self, item)\u001B[0m\n\u001B[0;32m   4271\u001B[0m \u001B[38;5;28;01mdef\u001B[39;00m \u001B[38;5;21m_clear_item_cache\u001B[39m(\u001B[38;5;28mself\u001B[39m) \u001B[38;5;241m-\u001B[39m\u001B[38;5;241m>\u001B[39m \u001B[38;5;28;01mNone\u001B[39;00m:\n\u001B[0;32m   4272\u001B[0m     \u001B[38;5;28mself\u001B[39m\u001B[38;5;241m.\u001B[39m_item_cache\u001B[38;5;241m.\u001B[39mclear()\n\u001B[1;32m-> 4274\u001B[0m \u001B[38;5;28;01mdef\u001B[39;00m \u001B[38;5;21m_get_item_cache\u001B[39m(\u001B[38;5;28mself\u001B[39m, item: Hashable) \u001B[38;5;241m-\u001B[39m\u001B[38;5;241m>\u001B[39m Series:\n\u001B[0;32m   4275\u001B[0m \u001B[38;5;250m    \u001B[39m\u001B[38;5;124;03m\"\"\"Return the cached item, item represents a label indexer.\"\"\"\u001B[39;00m\n\u001B[0;32m   4276\u001B[0m     cache \u001B[38;5;241m=\u001B[39m \u001B[38;5;28mself\u001B[39m\u001B[38;5;241m.\u001B[39m_item_cache\n",
      "\u001B[1;31mKeyboardInterrupt\u001B[0m: "
     ]
    }
   ],
   "source": [
    "{prev_id:now_id for (prev_id,now_id) in zip(POS_CASH_balance['SK_ID_PREV'],POS_CASH_balance['SK_ID_CURR']) if prev_id in credit_card_balance['SK_ID_PREV'] and now_id in credit_card_balance['SK_ID_CURR']}"
   ],
   "metadata": {
    "collapsed": false,
    "ExecuteTime": {
     "end_time": "2023-12-15T19:02:41.830956500Z",
     "start_time": "2023-12-15T19:01:32.472910800Z"
    }
   },
   "id": "915fc8b8254535db"
  },
  {
   "cell_type": "markdown",
   "source": [
    "## Cleaning Credit card data"
   ],
   "metadata": {
    "collapsed": false
   },
   "id": "f518f665afa1fb98"
  },
  {
   "cell_type": "code",
   "execution_count": 145,
   "outputs": [
    {
     "data": {
      "text/plain": "         SK_ID_PREV  SK_ID_CURR  MONTHS_BALANCE  AMT_BALANCE  \\\n0           2562384      378907              -6       56.970   \n1           2582071      363914              -1    63975.555   \n2           1740877      371185              -7    31815.225   \n3           1389973      337855              -4   236572.110   \n4           1891521      126868              -1   453919.455   \n...             ...         ...             ...          ...   \n3840307     1036507      328243              -9        0.000   \n3840308     1714892      347207              -9        0.000   \n3840309     1302323      215757              -9   275784.975   \n3840310     1624872      430337             -10        0.000   \n3840311     2411345      236760             -10        0.000   \n\n         AMT_CREDIT_LIMIT_ACTUAL  AMT_DRAWINGS_ATM_CURRENT  \\\n0                         135000                       0.0   \n1                          45000                    2250.0   \n2                         450000                       0.0   \n3                         225000                    2250.0   \n4                         450000                       0.0   \n...                          ...                       ...   \n3840307                    45000                       NaN   \n3840308                    45000                       0.0   \n3840309                   585000                  270000.0   \n3840310                   450000                       NaN   \n3840311                   157500                       0.0   \n\n         AMT_DRAWINGS_CURRENT  AMT_DRAWINGS_OTHER_CURRENT  \\\n0                       877.5                         0.0   \n1                      2250.0                         0.0   \n2                         0.0                         0.0   \n3                      2250.0                         0.0   \n4                     11547.0                         0.0   \n...                       ...                         ...   \n3840307                   0.0                         NaN   \n3840308                   0.0                         0.0   \n3840309              270000.0                         0.0   \n3840310                   0.0                         NaN   \n3840311                   0.0                         0.0   \n\n         AMT_DRAWINGS_POS_CURRENT  AMT_INST_MIN_REGULARITY  ...  \\\n0                           877.5                 1700.325  ...   \n1                             0.0                 2250.000  ...   \n2                             0.0                 2250.000  ...   \n3                             0.0                11795.760  ...   \n4                         11547.0                22924.890  ...   \n...                           ...                      ...  ...   \n3840307                       NaN                    0.000  ...   \n3840308                       0.0                    0.000  ...   \n3840309                       0.0                 2250.000  ...   \n3840310                       NaN                    0.000  ...   \n3840311                       0.0                    0.000  ...   \n\n         AMT_RECIVABLE  AMT_TOTAL_RECEIVABLE  CNT_DRAWINGS_ATM_CURRENT  \\\n0                0.000                 0.000                       0.0   \n1            64875.555             64875.555                       1.0   \n2            31460.085             31460.085                       0.0   \n3           233048.970            233048.970                       1.0   \n4           453919.455            453919.455                       0.0   \n...                ...                   ...                       ...   \n3840307          0.000                 0.000                       NaN   \n3840308          0.000                 0.000                       0.0   \n3840309     273093.975            273093.975                       2.0   \n3840310          0.000                 0.000                       NaN   \n3840311          0.000                 0.000                       0.0   \n\n         CNT_DRAWINGS_CURRENT  CNT_DRAWINGS_OTHER_CURRENT  \\\n0                           1                         0.0   \n1                           1                         0.0   \n2                           0                         0.0   \n3                           1                         0.0   \n4                           1                         0.0   \n...                       ...                         ...   \n3840307                     0                         NaN   \n3840308                     0                         0.0   \n3840309                     2                         0.0   \n3840310                     0                         NaN   \n3840311                     0                         0.0   \n\n         CNT_DRAWINGS_POS_CURRENT  CNT_INSTALMENT_MATURE_CUM  \\\n0                             1.0                       35.0   \n1                             0.0                       69.0   \n2                             0.0                       30.0   \n3                             0.0                       10.0   \n4                             1.0                      101.0   \n...                           ...                        ...   \n3840307                       NaN                        0.0   \n3840308                       0.0                       23.0   \n3840309                       0.0                       18.0   \n3840310                       NaN                        0.0   \n3840311                       0.0                       21.0   \n\n         NAME_CONTRACT_STATUS  SK_DPD  SK_DPD_DEF  \n0                      Active       0           0  \n1                      Active       0           0  \n2                      Active       0           0  \n3                      Active       0           0  \n4                      Active       0           0  \n...                       ...     ...         ...  \n3840307                Active       0           0  \n3840308                Active       0           0  \n3840309                Active       0           0  \n3840310                Active       0           0  \n3840311             Completed       0           0  \n\n[3840312 rows x 23 columns]",
      "text/html": "<div>\n<style scoped>\n    .dataframe tbody tr th:only-of-type {\n        vertical-align: middle;\n    }\n\n    .dataframe tbody tr th {\n        vertical-align: top;\n    }\n\n    .dataframe thead th {\n        text-align: right;\n    }\n</style>\n<table border=\"1\" class=\"dataframe\">\n  <thead>\n    <tr style=\"text-align: right;\">\n      <th></th>\n      <th>SK_ID_PREV</th>\n      <th>SK_ID_CURR</th>\n      <th>MONTHS_BALANCE</th>\n      <th>AMT_BALANCE</th>\n      <th>AMT_CREDIT_LIMIT_ACTUAL</th>\n      <th>AMT_DRAWINGS_ATM_CURRENT</th>\n      <th>AMT_DRAWINGS_CURRENT</th>\n      <th>AMT_DRAWINGS_OTHER_CURRENT</th>\n      <th>AMT_DRAWINGS_POS_CURRENT</th>\n      <th>AMT_INST_MIN_REGULARITY</th>\n      <th>...</th>\n      <th>AMT_RECIVABLE</th>\n      <th>AMT_TOTAL_RECEIVABLE</th>\n      <th>CNT_DRAWINGS_ATM_CURRENT</th>\n      <th>CNT_DRAWINGS_CURRENT</th>\n      <th>CNT_DRAWINGS_OTHER_CURRENT</th>\n      <th>CNT_DRAWINGS_POS_CURRENT</th>\n      <th>CNT_INSTALMENT_MATURE_CUM</th>\n      <th>NAME_CONTRACT_STATUS</th>\n      <th>SK_DPD</th>\n      <th>SK_DPD_DEF</th>\n    </tr>\n  </thead>\n  <tbody>\n    <tr>\n      <th>0</th>\n      <td>2562384</td>\n      <td>378907</td>\n      <td>-6</td>\n      <td>56.970</td>\n      <td>135000</td>\n      <td>0.0</td>\n      <td>877.5</td>\n      <td>0.0</td>\n      <td>877.5</td>\n      <td>1700.325</td>\n      <td>...</td>\n      <td>0.000</td>\n      <td>0.000</td>\n      <td>0.0</td>\n      <td>1</td>\n      <td>0.0</td>\n      <td>1.0</td>\n      <td>35.0</td>\n      <td>Active</td>\n      <td>0</td>\n      <td>0</td>\n    </tr>\n    <tr>\n      <th>1</th>\n      <td>2582071</td>\n      <td>363914</td>\n      <td>-1</td>\n      <td>63975.555</td>\n      <td>45000</td>\n      <td>2250.0</td>\n      <td>2250.0</td>\n      <td>0.0</td>\n      <td>0.0</td>\n      <td>2250.000</td>\n      <td>...</td>\n      <td>64875.555</td>\n      <td>64875.555</td>\n      <td>1.0</td>\n      <td>1</td>\n      <td>0.0</td>\n      <td>0.0</td>\n      <td>69.0</td>\n      <td>Active</td>\n      <td>0</td>\n      <td>0</td>\n    </tr>\n    <tr>\n      <th>2</th>\n      <td>1740877</td>\n      <td>371185</td>\n      <td>-7</td>\n      <td>31815.225</td>\n      <td>450000</td>\n      <td>0.0</td>\n      <td>0.0</td>\n      <td>0.0</td>\n      <td>0.0</td>\n      <td>2250.000</td>\n      <td>...</td>\n      <td>31460.085</td>\n      <td>31460.085</td>\n      <td>0.0</td>\n      <td>0</td>\n      <td>0.0</td>\n      <td>0.0</td>\n      <td>30.0</td>\n      <td>Active</td>\n      <td>0</td>\n      <td>0</td>\n    </tr>\n    <tr>\n      <th>3</th>\n      <td>1389973</td>\n      <td>337855</td>\n      <td>-4</td>\n      <td>236572.110</td>\n      <td>225000</td>\n      <td>2250.0</td>\n      <td>2250.0</td>\n      <td>0.0</td>\n      <td>0.0</td>\n      <td>11795.760</td>\n      <td>...</td>\n      <td>233048.970</td>\n      <td>233048.970</td>\n      <td>1.0</td>\n      <td>1</td>\n      <td>0.0</td>\n      <td>0.0</td>\n      <td>10.0</td>\n      <td>Active</td>\n      <td>0</td>\n      <td>0</td>\n    </tr>\n    <tr>\n      <th>4</th>\n      <td>1891521</td>\n      <td>126868</td>\n      <td>-1</td>\n      <td>453919.455</td>\n      <td>450000</td>\n      <td>0.0</td>\n      <td>11547.0</td>\n      <td>0.0</td>\n      <td>11547.0</td>\n      <td>22924.890</td>\n      <td>...</td>\n      <td>453919.455</td>\n      <td>453919.455</td>\n      <td>0.0</td>\n      <td>1</td>\n      <td>0.0</td>\n      <td>1.0</td>\n      <td>101.0</td>\n      <td>Active</td>\n      <td>0</td>\n      <td>0</td>\n    </tr>\n    <tr>\n      <th>...</th>\n      <td>...</td>\n      <td>...</td>\n      <td>...</td>\n      <td>...</td>\n      <td>...</td>\n      <td>...</td>\n      <td>...</td>\n      <td>...</td>\n      <td>...</td>\n      <td>...</td>\n      <td>...</td>\n      <td>...</td>\n      <td>...</td>\n      <td>...</td>\n      <td>...</td>\n      <td>...</td>\n      <td>...</td>\n      <td>...</td>\n      <td>...</td>\n      <td>...</td>\n      <td>...</td>\n    </tr>\n    <tr>\n      <th>3840307</th>\n      <td>1036507</td>\n      <td>328243</td>\n      <td>-9</td>\n      <td>0.000</td>\n      <td>45000</td>\n      <td>NaN</td>\n      <td>0.0</td>\n      <td>NaN</td>\n      <td>NaN</td>\n      <td>0.000</td>\n      <td>...</td>\n      <td>0.000</td>\n      <td>0.000</td>\n      <td>NaN</td>\n      <td>0</td>\n      <td>NaN</td>\n      <td>NaN</td>\n      <td>0.0</td>\n      <td>Active</td>\n      <td>0</td>\n      <td>0</td>\n    </tr>\n    <tr>\n      <th>3840308</th>\n      <td>1714892</td>\n      <td>347207</td>\n      <td>-9</td>\n      <td>0.000</td>\n      <td>45000</td>\n      <td>0.0</td>\n      <td>0.0</td>\n      <td>0.0</td>\n      <td>0.0</td>\n      <td>0.000</td>\n      <td>...</td>\n      <td>0.000</td>\n      <td>0.000</td>\n      <td>0.0</td>\n      <td>0</td>\n      <td>0.0</td>\n      <td>0.0</td>\n      <td>23.0</td>\n      <td>Active</td>\n      <td>0</td>\n      <td>0</td>\n    </tr>\n    <tr>\n      <th>3840309</th>\n      <td>1302323</td>\n      <td>215757</td>\n      <td>-9</td>\n      <td>275784.975</td>\n      <td>585000</td>\n      <td>270000.0</td>\n      <td>270000.0</td>\n      <td>0.0</td>\n      <td>0.0</td>\n      <td>2250.000</td>\n      <td>...</td>\n      <td>273093.975</td>\n      <td>273093.975</td>\n      <td>2.0</td>\n      <td>2</td>\n      <td>0.0</td>\n      <td>0.0</td>\n      <td>18.0</td>\n      <td>Active</td>\n      <td>0</td>\n      <td>0</td>\n    </tr>\n    <tr>\n      <th>3840310</th>\n      <td>1624872</td>\n      <td>430337</td>\n      <td>-10</td>\n      <td>0.000</td>\n      <td>450000</td>\n      <td>NaN</td>\n      <td>0.0</td>\n      <td>NaN</td>\n      <td>NaN</td>\n      <td>0.000</td>\n      <td>...</td>\n      <td>0.000</td>\n      <td>0.000</td>\n      <td>NaN</td>\n      <td>0</td>\n      <td>NaN</td>\n      <td>NaN</td>\n      <td>0.0</td>\n      <td>Active</td>\n      <td>0</td>\n      <td>0</td>\n    </tr>\n    <tr>\n      <th>3840311</th>\n      <td>2411345</td>\n      <td>236760</td>\n      <td>-10</td>\n      <td>0.000</td>\n      <td>157500</td>\n      <td>0.0</td>\n      <td>0.0</td>\n      <td>0.0</td>\n      <td>0.0</td>\n      <td>0.000</td>\n      <td>...</td>\n      <td>0.000</td>\n      <td>0.000</td>\n      <td>0.0</td>\n      <td>0</td>\n      <td>0.0</td>\n      <td>0.0</td>\n      <td>21.0</td>\n      <td>Completed</td>\n      <td>0</td>\n      <td>0</td>\n    </tr>\n  </tbody>\n</table>\n<p>3840312 rows × 23 columns</p>\n</div>"
     },
     "execution_count": 145,
     "metadata": {},
     "output_type": "execute_result"
    }
   ],
   "source": [
    "credit_card_balance"
   ],
   "metadata": {
    "collapsed": false,
    "ExecuteTime": {
     "end_time": "2023-12-15T18:49:41.186240100Z",
     "start_time": "2023-12-15T18:49:38.819605500Z"
    }
   },
   "id": "7533ace631c79b39"
  },
  {
   "cell_type": "code",
   "execution_count": 146,
   "outputs": [
    {
     "data": {
      "text/plain": "[378907,\n 363914,\n 371185,\n 337855,\n 126868,\n 380010,\n 171320,\n 118650,\n 367360,\n 203885,\n 209660,\n 340339,\n 302517,\n 171537,\n 303581,\n 289902,\n 255981,\n 276642,\n 302450,\n 231608,\n 259807,\n 217113,\n 132481,\n 105755,\n 323730,\n 195164,\n 184131,\n 387286,\n 213409,\n 406607,\n 427122,\n 388056,\n 337802,\n 193247,\n 223794,\n 234016,\n 379250,\n 441030,\n 384410,\n 330465,\n 215299,\n 147323,\n 425246,\n 313797,\n 352647,\n 399970,\n 116448,\n 121258,\n 104946,\n 104761,\n 271657,\n 352319,\n 215709,\n 113120,\n 367562,\n 166121,\n 343837,\n 217747,\n 224252,\n 128242,\n 162464,\n 343308,\n 249286,\n 252742,\n 118055,\n 277880,\n 166894,\n 293607,\n 336961,\n 140209,\n 114707,\n 340224,\n 277061,\n 311117,\n 103029,\n 214797,\n 271670,\n 294744,\n 152835,\n 183994,\n 385344,\n 439525,\n 341787,\n 263564,\n 353300,\n 274118,\n 216234,\n 224220,\n 226681,\n 186806,\n 436212,\n 274239,\n 161019,\n 302820,\n 416815,\n 375482,\n 354226,\n 285273,\n 283851,\n 281671,\n 318823,\n 443277,\n 218365,\n 148430,\n 155018,\n 317323,\n 144297,\n 440902,\n 415488,\n 263672,\n 111058,\n 206238,\n 225797,\n 208643,\n 380281,\n 216500,\n 234103,\n 262878,\n 325115,\n 165574,\n 214119,\n 139874,\n 219020,\n 319420,\n 100796,\n 350096,\n 437044,\n 401940,\n 258531,\n 289116,\n 287348,\n 269777,\n 184329,\n 152002,\n 309694,\n 129148,\n 292878,\n 311473,\n 425342,\n 251071,\n 243368,\n 222627,\n 168967,\n 122315,\n 226508,\n 257200,\n 437104,\n 352910,\n 328427,\n 120317,\n 416736,\n 344086,\n 228504,\n 321929,\n 203891,\n 248677,\n 227521,\n 377975,\n 218654,\n 424828,\n 372599,\n 102143,\n 251438,\n 172722,\n 111353,\n 375115,\n 397363,\n 388124,\n 110936,\n 374917,\n 237951,\n 370398,\n 441487,\n 369494,\n 262446,\n 342198,\n 102267,\n 399186,\n 246513,\n 266709,\n 371612,\n 288650,\n 261013,\n 147847,\n 197559,\n 206827,\n 413276,\n 414828,\n 422506,\n 232385,\n 313585,\n 336696,\n 234738,\n 330879,\n 429020,\n 120959,\n 162786,\n 161365,\n 332438,\n 144820,\n 136444,\n 279783,\n 194514,\n 370268,\n 114772,\n 102029,\n 195945,\n 206948,\n 265577,\n 178732,\n 413284,\n 190803,\n 295191,\n 410544,\n 174368,\n 354676,\n 310648,\n 251192,\n 325165,\n 432369,\n 332335,\n 346936,\n 322566,\n 111905,\n 214481,\n 394557,\n 266045,\n 445566,\n 248148,\n 233719,\n 136943,\n 428838,\n 445601,\n 111524,\n 289475,\n 109639,\n 382122,\n 424756,\n 405036,\n 272557,\n 203098,\n 400093,\n 372436,\n 416302,\n 214142,\n 252727,\n 349015,\n 127177,\n 218545,\n 402569,\n 284688,\n 414943,\n 221352,\n 362044,\n 422690,\n 235291,\n 360320,\n 305324,\n 296060,\n 453836,\n 261814,\n 407873,\n 285360,\n 152039,\n 374550,\n 326438,\n 134144,\n 123809,\n 286143,\n 205601,\n 148769,\n 399078,\n 113151,\n 114794,\n 431352,\n 286192,\n 332125,\n 358405,\n 116529,\n 372850,\n 396039,\n 333536,\n 260384,\n 425178,\n 165069,\n 361839,\n 348995,\n 452974,\n 226563,\n 236483,\n 316382,\n 453287,\n 405444,\n 128830,\n 372019,\n 127993,\n 334594,\n 331182,\n 379974,\n 395900,\n 107224,\n 427045,\n 390285,\n 239013,\n 309195,\n 108929,\n 200039,\n 291956,\n 302739,\n 303266,\n 293597,\n 436367,\n 215601,\n 261002,\n 365858,\n 337106,\n 450633,\n 121018,\n 242575,\n 113907,\n 380757,\n 260010,\n 239769,\n 216074,\n 246267,\n 235032,\n 104607,\n 401158,\n 286797,\n 391533,\n 121066,\n 348429,\n 353962,\n 403349,\n 200416,\n 167055,\n 281019,\n 297636,\n 331519,\n 169489,\n 334706,\n 370426,\n 371303,\n 218296,\n 387219,\n 302794,\n 393333,\n 377159,\n 255002,\n 315302,\n 132089,\n 151682,\n 136792,\n 320279,\n 316015,\n 357227,\n 363382,\n 228001,\n 301437,\n 340371,\n 181444,\n 189339,\n 320709,\n 163738,\n 337709,\n 321838,\n 307605,\n 152369,\n 152374,\n 448518,\n 306267,\n 102465,\n 203561,\n 397815,\n 455226,\n 166000,\n 311786,\n 343859,\n 446862,\n 130276,\n 228495,\n 429139,\n 201351,\n 361477,\n 424733,\n 417386,\n 261835,\n 389398,\n 165075,\n 309130,\n 215727,\n 312252,\n 280060,\n 257532,\n 260219,\n 177421,\n 454534,\n 170565,\n 104355,\n 296774,\n 383193,\n 302616,\n 225015,\n 322290,\n 145601,\n 438574,\n 375495,\n 250314,\n 450308,\n 157191,\n 291656,\n 214176,\n 211981,\n 426766,\n 208720,\n 101399,\n 165175,\n 115478,\n 277284,\n 224055,\n 290240,\n 165698,\n 150035,\n 416865,\n 368477,\n 423117,\n 239008,\n 224437,\n 154340,\n 241654,\n 172542,\n 220271,\n 299010,\n 164280,\n 290527,\n 243700,\n 138167,\n 257275,\n 452001,\n 371295,\n 115288,\n 120486,\n 361402,\n 297726,\n 453290,\n 382814,\n 152619,\n 366071,\n 395350,\n 113644,\n 300163,\n 299345,\n 157501,\n 288853,\n 386753,\n 356429,\n 410812,\n 431034,\n 332544,\n 383414,\n 419506,\n 339080,\n 449090,\n 115331,\n 304715,\n 376352,\n 339863,\n 352307,\n 402158,\n 118801,\n 268249,\n 205358,\n 268502,\n 366952,\n 193507,\n 357521,\n 188969,\n 310038,\n 104523,\n 371521,\n 379648,\n 389573,\n 311676,\n 249347,\n 323923,\n 439552,\n 423887,\n 391519,\n 131128,\n 199838,\n 174136,\n 221950,\n 228383,\n 213868,\n 277221,\n 186874,\n 257131,\n 294693,\n 184362,\n 399174,\n 193240,\n 121820,\n 405591,\n 367215,\n 390389,\n 254608,\n 279629,\n 250169,\n 103731,\n 234025,\n 211190,\n 277081,\n 401198,\n 455296,\n 342886,\n 340827,\n 381036,\n 207482,\n 155992,\n 122986,\n 319472,\n 378449,\n 147939,\n 254711,\n 431383,\n 177172,\n 259943,\n 434122,\n 121110,\n 125374,\n 104356,\n 197316,\n 175756,\n 452834,\n 173008,\n 136875,\n 275729,\n 342210,\n 289814,\n 353213,\n 331772,\n 391675,\n 315629,\n 199687,\n 116573,\n 338262,\n 382782,\n 175832,\n 418019,\n 440919,\n 161104,\n 419066,\n 319560,\n 219673,\n 382456,\n 259833,\n 432889,\n 422202,\n 259919,\n 213529,\n 174314,\n 379461,\n 257216,\n 313203,\n 264397,\n 328213,\n 379843,\n 417687,\n 313023,\n 404942,\n 131528,\n 107619,\n 417537,\n 202811,\n 172686,\n 382654,\n 323436,\n 447538,\n 237731,\n 430559,\n 332670,\n 266731,\n 209091,\n 432618,\n 293130,\n 343921,\n 238108,\n 327746,\n 441156,\n 188986,\n 193626,\n 405767,\n 198640,\n 278066,\n 253513,\n 363726,\n 380820,\n 322689,\n 221250,\n 229821,\n 305923,\n 201096,\n 274068,\n 443352,\n 429851,\n 297155,\n 224291,\n 454299,\n 159865,\n 442187,\n 110429,\n 108665,\n 241398,\n 113213,\n 333424,\n 383378,\n 133053,\n 353442,\n 119558,\n 305460,\n 155718,\n 305736,\n 306256,\n 151865,\n 258259,\n 374474,\n 420270,\n 166805,\n 382147,\n 270487,\n 312809,\n 278693,\n 141274,\n 215236,\n 117480,\n 201985,\n 297585,\n 146386,\n 236677,\n 112731,\n 308385,\n 104980,\n 286539,\n 165868,\n 338530,\n 376320,\n 453036,\n 205032,\n 309125,\n 449543,\n 344228,\n 232927,\n 391417,\n 419633,\n 249780,\n 150587,\n 333378,\n 186863,\n 163507,\n 124725,\n 228737,\n 374991,\n 356493,\n 129611,\n 302428,\n 362491,\n 101827,\n 351326,\n 430771,\n 421933,\n 207435,\n 400856,\n 353228,\n 396381,\n 356593,\n 227716,\n 368517,\n 300612,\n 317079,\n 200362,\n 232896,\n 439188,\n 201393,\n 102219,\n 320898,\n 387865,\n 346101,\n 419149,\n 341494,\n 281439,\n 238540,\n 133244,\n 439047,\n 241025,\n 420019,\n 102415,\n 352234,\n 130045,\n 241284,\n 126553,\n 305545,\n 127259,\n 454321,\n 202648,\n 287795,\n 299066,\n 343074,\n 173127,\n 419217,\n 424174,\n 228304,\n 181509,\n 231745,\n 252603,\n 263339,\n 417747,\n 184133,\n 438040,\n 381275,\n 172289,\n 310216,\n 266281,\n 152306,\n 314366,\n 407558,\n 102217,\n 337064,\n 452802,\n 371084,\n 209234,\n 134549,\n 315067,\n 303142,\n 245920,\n 421668,\n 287061,\n 271933,\n 212958,\n 378279,\n 244956,\n 218756,\n 278692,\n 199057,\n 145672,\n 360464,\n 145648,\n 446676,\n 438914,\n 322828,\n 409326,\n 143013,\n 170126,\n 371349,\n 312568,\n 305539,\n 272938,\n 451004,\n 427737,\n 175959,\n 141958,\n 375907,\n 264350,\n 244177,\n 299011,\n 325335,\n 195187,\n 305798,\n 255772,\n 253177,\n 379102,\n 315669,\n 185730,\n 347252,\n 420219,\n 230430,\n 379299,\n 357210,\n 384627,\n 119905,\n 321942,\n 236066,\n 205995,\n 430818,\n 405844,\n 231075,\n 267679,\n 398348,\n 126672,\n 359262,\n 324594,\n 291738,\n 279922,\n 448893,\n 255998,\n 362601,\n 396632,\n 379452,\n 310842,\n 310598,\n 133404,\n 252622,\n 385829,\n 377051,\n 416484,\n 243986,\n 412432,\n 388494,\n 239031,\n 197448,\n 190611,\n 439795,\n 203440,\n 209045,\n 210664,\n 318261,\n 173335,\n 232232,\n 443894,\n 415515,\n 352445,\n 351865,\n 251971,\n 328259,\n 247288,\n 344579,\n 100662,\n 298900,\n 431110,\n 135054,\n 186526,\n 418549,\n 353419,\n 233879,\n 379324,\n 282375,\n 367292,\n 264015,\n 158172,\n 346448,\n 133601,\n 269175,\n 449581,\n 150552,\n 369264,\n 377223,\n 338629,\n 148877,\n 202613,\n 422457,\n 276184,\n 151702,\n 309237,\n 421505,\n 174747,\n 285432,\n 343226,\n 187138,\n 396302,\n 207198,\n 244530,\n 388108,\n 292560,\n 172169,\n 229125,\n 441604,\n 165783,\n 256116,\n 209195,\n 374102,\n 313299,\n 315849,\n 231483,\n 226388,\n 157065,\n 210762,\n 410746,\n 152150,\n 239892,\n 450835,\n 445560,\n 363108,\n 227917,\n 145787,\n 141618,\n 233318,\n 345478,\n 146311,\n 410959,\n 335411,\n 172657,\n 233845,\n 405803,\n 431484,\n 220658,\n 310794,\n 341447,\n 245661,\n 327904,\n 444315,\n 184474,\n 376901,\n 312966,\n 118858,\n 135759,\n 261007,\n 359242,\n 158802,\n 258713,\n 357165,\n 126398,\n 251096,\n 388658,\n 139108,\n 391671,\n 402295,\n 312870,\n 275059,\n 428187,\n 285272,\n 143047,\n 407280,\n 443806,\n 351653,\n 447600,\n 335936,\n 393796,\n 284743,\n 453491,\n 132969,\n 207892,\n 147318,\n 424362,\n 373839,\n 287928,\n 333710,\n 292816,\n 201566,\n 451536,\n 319295,\n 223877,\n 178117,\n 442290,\n 129367,\n 380628,\n 390231,\n 154402,\n 132347,\n 135782,\n 227251,\n 399710,\n 141480,\n 151581,\n 321410,\n 455348,\n 119362,\n 435953,\n 208633,\n 185635,\n 365166,\n 423714,\n 336861,\n 109950,\n 146689,\n 217694,\n 131867,\n 372891,\n 177939,\n 438382,\n 172833,\n 352754,\n 283900,\n 142848,\n 271455,\n 151138,\n 364065,\n 124032,\n 100218,\n 396795,\n 409431,\n 347985,\n 113695,\n 201109,\n 182448,\n 224919,\n 318284,\n 259867,\n 346347,\n 231724,\n 405509,\n 385145,\n 232566,\n 168054,\n 167954,\n 253950,\n 330243,\n 365580,\n 248515,\n 203374,\n 293188,\n 243237,\n ...]"
     },
     "execution_count": 146,
     "metadata": {},
     "output_type": "execute_result"
    }
   ],
   "source": [
    "[item for item in credit_card_balance['SK_ID_CURR'] if item not in application.columns]"
   ],
   "metadata": {
    "collapsed": false,
    "ExecuteTime": {
     "end_time": "2023-12-15T18:49:47.042283900Z",
     "start_time": "2023-12-15T18:49:41.204242400Z"
    }
   },
   "id": "639d6a3036127eaa"
  }
 ],
 "metadata": {
  "kernelspec": {
   "display_name": "Python 3",
   "language": "python",
   "name": "python3"
  },
  "language_info": {
   "codemirror_mode": {
    "name": "ipython",
    "version": 2
   },
   "file_extension": ".py",
   "mimetype": "text/x-python",
   "name": "python",
   "nbconvert_exporter": "python",
   "pygments_lexer": "ipython2",
   "version": "2.7.6"
  }
 },
 "nbformat": 4,
 "nbformat_minor": 5
}
