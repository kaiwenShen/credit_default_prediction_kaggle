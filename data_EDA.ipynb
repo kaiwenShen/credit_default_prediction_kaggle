{
 "cells": [
  {
   "cell_type": "code",
   "execution_count": 34,
   "id": "initial_id",
   "metadata": {
    "collapsed": true,
    "ExecuteTime": {
     "end_time": "2023-12-22T04:36:54.991323300Z",
     "start_time": "2023-12-22T04:36:51.418702300Z"
    }
   },
   "outputs": [],
   "source": [
    "import numpy as np\n",
    "import pandas as pd\n",
    "import glob\n",
    "from joblib import Parallel, delayed\n",
    "from tqdm import tqdm\n",
    "import lightgbm as lgb"
   ]
  },
  {
   "cell_type": "code",
   "execution_count": 35,
   "outputs": [],
   "source": [
    "application = pd.read_csv('./src/application_train.csv')\n",
    "# application_test = pd.read_csv('./src/application_test.csv')\n",
    "# application_test doesnt contain target column, it is useless to us because even if we develop a model, we still dont know its accuracy on the training set. "
   ],
   "metadata": {
    "collapsed": false,
    "ExecuteTime": {
     "end_time": "2023-12-22T04:37:01.854057500Z",
     "start_time": "2023-12-22T04:36:54.991323300Z"
    }
   },
   "id": "f458d84e2c18bd7"
  },
  {
   "cell_type": "code",
   "execution_count": 36,
   "outputs": [],
   "source": [
    "bureau = pd.read_csv('./src/bureau.csv')"
   ],
   "metadata": {
    "collapsed": false,
    "ExecuteTime": {
     "end_time": "2023-12-22T04:37:05.068059100Z",
     "start_time": "2023-12-22T04:37:01.856058300Z"
    }
   },
   "id": "a8afb58a3095b93c"
  },
  {
   "cell_type": "code",
   "execution_count": 37,
   "outputs": [],
   "source": [
    "bureau_balance = pd.read_csv('./src/bureau_balance.csv')"
   ],
   "metadata": {
    "collapsed": false,
    "ExecuteTime": {
     "end_time": "2023-12-22T04:37:12.320461200Z",
     "start_time": "2023-12-22T04:37:05.070058300Z"
    }
   },
   "id": "63c85cbb13394d30"
  },
  {
   "cell_type": "code",
   "execution_count": 38,
   "outputs": [],
   "source": [
    "credit_card_balance = pd.read_csv('./src/credit_card_balance.csv')"
   ],
   "metadata": {
    "collapsed": false,
    "ExecuteTime": {
     "end_time": "2023-12-22T04:37:21.521463Z",
     "start_time": "2023-12-22T04:37:12.282460500Z"
    }
   },
   "id": "de81f5c560c80e8e"
  },
  {
   "cell_type": "code",
   "execution_count": 39,
   "outputs": [],
   "source": [
    "installments_payments = pd.read_csv('./src/installments_payments.csv')"
   ],
   "metadata": {
    "collapsed": false,
    "ExecuteTime": {
     "end_time": "2023-12-22T04:37:33.172877500Z",
     "start_time": "2023-12-22T04:37:21.507462800Z"
    }
   },
   "id": "e0ac28272c3117a5"
  },
  {
   "cell_type": "code",
   "execution_count": 40,
   "outputs": [],
   "source": [
    "POS_CASH_balance = pd.read_csv('./src/POS_CASH_balance.csv')\n",
    "previous_application = pd.read_csv('./src/previous_application.csv')"
   ],
   "metadata": {
    "collapsed": false,
    "ExecuteTime": {
     "end_time": "2023-12-22T04:37:47.640878200Z",
     "start_time": "2023-12-22T04:37:33.176879100Z"
    }
   },
   "id": "501e96b8fab98fa"
  },
  {
   "cell_type": "code",
   "execution_count": 41,
   "outputs": [],
   "source": [
    "home_credit_columns_description = pd.read_csv('./src/HomeCredit_columns_description.csv', encoding='iso-8859-1',\n",
    "                                              index_col=0)"
   ],
   "metadata": {
    "collapsed": false,
    "ExecuteTime": {
     "end_time": "2023-12-22T04:37:47.656878300Z",
     "start_time": "2023-12-22T04:37:47.625877500Z"
    }
   },
   "id": "b3b034cf2b4e26a9"
  },
  {
   "cell_type": "code",
   "execution_count": 42,
   "outputs": [],
   "source": [
    "# sample_submission = pd.read_csv('./src/sample_submission.csv')"
   ],
   "metadata": {
    "collapsed": false,
    "ExecuteTime": {
     "end_time": "2023-12-22T04:37:47.668879Z",
     "start_time": "2023-12-22T04:37:47.655879500Z"
    }
   },
   "id": "7d3a79a42ee94a10"
  },
  {
   "cell_type": "markdown",
   "source": [
    "# Data preprocessing"
   ],
   "metadata": {
    "collapsed": false
   },
   "id": "c1d04ebcb1f9ff32"
  },
  {
   "cell_type": "code",
   "execution_count": 43,
   "outputs": [
    {
     "data": {
      "text/plain": "          SK_ID_CURR         TARGET   CNT_CHILDREN  AMT_INCOME_TOTAL  \\\ncount  307511.000000  307511.000000  307511.000000      3.075110e+05   \nmean   278180.518577       0.080729       0.417052      1.687979e+05   \nstd    102790.175348       0.272419       0.722121      2.371231e+05   \nmin    100002.000000       0.000000       0.000000      2.565000e+04   \n25%    189145.500000       0.000000       0.000000      1.125000e+05   \n50%    278202.000000       0.000000       0.000000      1.471500e+05   \n75%    367142.500000       0.000000       1.000000      2.025000e+05   \nmax    456255.000000       1.000000      19.000000      1.170000e+08   \n\n         AMT_CREDIT    AMT_ANNUITY  AMT_GOODS_PRICE  \\\ncount  3.075110e+05  307499.000000     3.072330e+05   \nmean   5.990260e+05   27108.573909     5.383962e+05   \nstd    4.024908e+05   14493.737315     3.694465e+05   \nmin    4.500000e+04    1615.500000     4.050000e+04   \n25%    2.700000e+05   16524.000000     2.385000e+05   \n50%    5.135310e+05   24903.000000     4.500000e+05   \n75%    8.086500e+05   34596.000000     6.795000e+05   \nmax    4.050000e+06  258025.500000     4.050000e+06   \n\n       REGION_POPULATION_RELATIVE     DAYS_BIRTH  DAYS_EMPLOYED  ...  \\\ncount               307511.000000  307511.000000  307511.000000  ...   \nmean                     0.020868  -16036.995067   63815.045904  ...   \nstd                      0.013831    4363.988632  141275.766519  ...   \nmin                      0.000290  -25229.000000  -17912.000000  ...   \n25%                      0.010006  -19682.000000   -2760.000000  ...   \n50%                      0.018850  -15750.000000   -1213.000000  ...   \n75%                      0.028663  -12413.000000    -289.000000  ...   \nmax                      0.072508   -7489.000000  365243.000000  ...   \n\n       FLAG_DOCUMENT_18  FLAG_DOCUMENT_19  FLAG_DOCUMENT_20  FLAG_DOCUMENT_21  \\\ncount     307511.000000     307511.000000     307511.000000     307511.000000   \nmean           0.008130          0.000595          0.000507          0.000335   \nstd            0.089798          0.024387          0.022518          0.018299   \nmin            0.000000          0.000000          0.000000          0.000000   \n25%            0.000000          0.000000          0.000000          0.000000   \n50%            0.000000          0.000000          0.000000          0.000000   \n75%            0.000000          0.000000          0.000000          0.000000   \nmax            1.000000          1.000000          1.000000          1.000000   \n\n       AMT_REQ_CREDIT_BUREAU_HOUR  AMT_REQ_CREDIT_BUREAU_DAY  \\\ncount               265992.000000              265992.000000   \nmean                     0.006402                   0.007000   \nstd                      0.083849                   0.110757   \nmin                      0.000000                   0.000000   \n25%                      0.000000                   0.000000   \n50%                      0.000000                   0.000000   \n75%                      0.000000                   0.000000   \nmax                      4.000000                   9.000000   \n\n       AMT_REQ_CREDIT_BUREAU_WEEK  AMT_REQ_CREDIT_BUREAU_MON  \\\ncount               265992.000000              265992.000000   \nmean                     0.034362                   0.267395   \nstd                      0.204685                   0.916002   \nmin                      0.000000                   0.000000   \n25%                      0.000000                   0.000000   \n50%                      0.000000                   0.000000   \n75%                      0.000000                   0.000000   \nmax                      8.000000                  27.000000   \n\n       AMT_REQ_CREDIT_BUREAU_QRT  AMT_REQ_CREDIT_BUREAU_YEAR  \ncount              265992.000000               265992.000000  \nmean                    0.265474                    1.899974  \nstd                     0.794056                    1.869295  \nmin                     0.000000                    0.000000  \n25%                     0.000000                    0.000000  \n50%                     0.000000                    1.000000  \n75%                     0.000000                    3.000000  \nmax                   261.000000                   25.000000  \n\n[8 rows x 106 columns]",
      "text/html": "<div>\n<style scoped>\n    .dataframe tbody tr th:only-of-type {\n        vertical-align: middle;\n    }\n\n    .dataframe tbody tr th {\n        vertical-align: top;\n    }\n\n    .dataframe thead th {\n        text-align: right;\n    }\n</style>\n<table border=\"1\" class=\"dataframe\">\n  <thead>\n    <tr style=\"text-align: right;\">\n      <th></th>\n      <th>SK_ID_CURR</th>\n      <th>TARGET</th>\n      <th>CNT_CHILDREN</th>\n      <th>AMT_INCOME_TOTAL</th>\n      <th>AMT_CREDIT</th>\n      <th>AMT_ANNUITY</th>\n      <th>AMT_GOODS_PRICE</th>\n      <th>REGION_POPULATION_RELATIVE</th>\n      <th>DAYS_BIRTH</th>\n      <th>DAYS_EMPLOYED</th>\n      <th>...</th>\n      <th>FLAG_DOCUMENT_18</th>\n      <th>FLAG_DOCUMENT_19</th>\n      <th>FLAG_DOCUMENT_20</th>\n      <th>FLAG_DOCUMENT_21</th>\n      <th>AMT_REQ_CREDIT_BUREAU_HOUR</th>\n      <th>AMT_REQ_CREDIT_BUREAU_DAY</th>\n      <th>AMT_REQ_CREDIT_BUREAU_WEEK</th>\n      <th>AMT_REQ_CREDIT_BUREAU_MON</th>\n      <th>AMT_REQ_CREDIT_BUREAU_QRT</th>\n      <th>AMT_REQ_CREDIT_BUREAU_YEAR</th>\n    </tr>\n  </thead>\n  <tbody>\n    <tr>\n      <th>count</th>\n      <td>307511.000000</td>\n      <td>307511.000000</td>\n      <td>307511.000000</td>\n      <td>3.075110e+05</td>\n      <td>3.075110e+05</td>\n      <td>307499.000000</td>\n      <td>3.072330e+05</td>\n      <td>307511.000000</td>\n      <td>307511.000000</td>\n      <td>307511.000000</td>\n      <td>...</td>\n      <td>307511.000000</td>\n      <td>307511.000000</td>\n      <td>307511.000000</td>\n      <td>307511.000000</td>\n      <td>265992.000000</td>\n      <td>265992.000000</td>\n      <td>265992.000000</td>\n      <td>265992.000000</td>\n      <td>265992.000000</td>\n      <td>265992.000000</td>\n    </tr>\n    <tr>\n      <th>mean</th>\n      <td>278180.518577</td>\n      <td>0.080729</td>\n      <td>0.417052</td>\n      <td>1.687979e+05</td>\n      <td>5.990260e+05</td>\n      <td>27108.573909</td>\n      <td>5.383962e+05</td>\n      <td>0.020868</td>\n      <td>-16036.995067</td>\n      <td>63815.045904</td>\n      <td>...</td>\n      <td>0.008130</td>\n      <td>0.000595</td>\n      <td>0.000507</td>\n      <td>0.000335</td>\n      <td>0.006402</td>\n      <td>0.007000</td>\n      <td>0.034362</td>\n      <td>0.267395</td>\n      <td>0.265474</td>\n      <td>1.899974</td>\n    </tr>\n    <tr>\n      <th>std</th>\n      <td>102790.175348</td>\n      <td>0.272419</td>\n      <td>0.722121</td>\n      <td>2.371231e+05</td>\n      <td>4.024908e+05</td>\n      <td>14493.737315</td>\n      <td>3.694465e+05</td>\n      <td>0.013831</td>\n      <td>4363.988632</td>\n      <td>141275.766519</td>\n      <td>...</td>\n      <td>0.089798</td>\n      <td>0.024387</td>\n      <td>0.022518</td>\n      <td>0.018299</td>\n      <td>0.083849</td>\n      <td>0.110757</td>\n      <td>0.204685</td>\n      <td>0.916002</td>\n      <td>0.794056</td>\n      <td>1.869295</td>\n    </tr>\n    <tr>\n      <th>min</th>\n      <td>100002.000000</td>\n      <td>0.000000</td>\n      <td>0.000000</td>\n      <td>2.565000e+04</td>\n      <td>4.500000e+04</td>\n      <td>1615.500000</td>\n      <td>4.050000e+04</td>\n      <td>0.000290</td>\n      <td>-25229.000000</td>\n      <td>-17912.000000</td>\n      <td>...</td>\n      <td>0.000000</td>\n      <td>0.000000</td>\n      <td>0.000000</td>\n      <td>0.000000</td>\n      <td>0.000000</td>\n      <td>0.000000</td>\n      <td>0.000000</td>\n      <td>0.000000</td>\n      <td>0.000000</td>\n      <td>0.000000</td>\n    </tr>\n    <tr>\n      <th>25%</th>\n      <td>189145.500000</td>\n      <td>0.000000</td>\n      <td>0.000000</td>\n      <td>1.125000e+05</td>\n      <td>2.700000e+05</td>\n      <td>16524.000000</td>\n      <td>2.385000e+05</td>\n      <td>0.010006</td>\n      <td>-19682.000000</td>\n      <td>-2760.000000</td>\n      <td>...</td>\n      <td>0.000000</td>\n      <td>0.000000</td>\n      <td>0.000000</td>\n      <td>0.000000</td>\n      <td>0.000000</td>\n      <td>0.000000</td>\n      <td>0.000000</td>\n      <td>0.000000</td>\n      <td>0.000000</td>\n      <td>0.000000</td>\n    </tr>\n    <tr>\n      <th>50%</th>\n      <td>278202.000000</td>\n      <td>0.000000</td>\n      <td>0.000000</td>\n      <td>1.471500e+05</td>\n      <td>5.135310e+05</td>\n      <td>24903.000000</td>\n      <td>4.500000e+05</td>\n      <td>0.018850</td>\n      <td>-15750.000000</td>\n      <td>-1213.000000</td>\n      <td>...</td>\n      <td>0.000000</td>\n      <td>0.000000</td>\n      <td>0.000000</td>\n      <td>0.000000</td>\n      <td>0.000000</td>\n      <td>0.000000</td>\n      <td>0.000000</td>\n      <td>0.000000</td>\n      <td>0.000000</td>\n      <td>1.000000</td>\n    </tr>\n    <tr>\n      <th>75%</th>\n      <td>367142.500000</td>\n      <td>0.000000</td>\n      <td>1.000000</td>\n      <td>2.025000e+05</td>\n      <td>8.086500e+05</td>\n      <td>34596.000000</td>\n      <td>6.795000e+05</td>\n      <td>0.028663</td>\n      <td>-12413.000000</td>\n      <td>-289.000000</td>\n      <td>...</td>\n      <td>0.000000</td>\n      <td>0.000000</td>\n      <td>0.000000</td>\n      <td>0.000000</td>\n      <td>0.000000</td>\n      <td>0.000000</td>\n      <td>0.000000</td>\n      <td>0.000000</td>\n      <td>0.000000</td>\n      <td>3.000000</td>\n    </tr>\n    <tr>\n      <th>max</th>\n      <td>456255.000000</td>\n      <td>1.000000</td>\n      <td>19.000000</td>\n      <td>1.170000e+08</td>\n      <td>4.050000e+06</td>\n      <td>258025.500000</td>\n      <td>4.050000e+06</td>\n      <td>0.072508</td>\n      <td>-7489.000000</td>\n      <td>365243.000000</td>\n      <td>...</td>\n      <td>1.000000</td>\n      <td>1.000000</td>\n      <td>1.000000</td>\n      <td>1.000000</td>\n      <td>4.000000</td>\n      <td>9.000000</td>\n      <td>8.000000</td>\n      <td>27.000000</td>\n      <td>261.000000</td>\n      <td>25.000000</td>\n    </tr>\n  </tbody>\n</table>\n<p>8 rows × 106 columns</p>\n</div>"
     },
     "execution_count": 43,
     "metadata": {},
     "output_type": "execute_result"
    }
   ],
   "source": [
    "application.describe()"
   ],
   "metadata": {
    "collapsed": false,
    "ExecuteTime": {
     "end_time": "2023-12-22T04:37:50.976882700Z",
     "start_time": "2023-12-22T04:37:47.669880Z"
    }
   },
   "id": "3a3b46acac9ec371"
  },
  {
   "cell_type": "code",
   "execution_count": 44,
   "outputs": [],
   "source": [
    "# application.loc[:,['SK_ID_CURR','SK_ID_BUREAU','SK_ID_PREV']]"
   ],
   "metadata": {
    "collapsed": false,
    "ExecuteTime": {
     "end_time": "2023-12-22T04:37:51.008881800Z",
     "start_time": "2023-12-22T04:37:50.972881700Z"
    }
   },
   "id": "bc8a9a2157c0054e"
  },
  {
   "cell_type": "code",
   "execution_count": 45,
   "outputs": [
    {
     "data": {
      "text/plain": "                            Table                    Row  \\\n1    application_{train|test}.csv             SK_ID_CURR   \n2    application_{train|test}.csv                 TARGET   \n5    application_{train|test}.csv     NAME_CONTRACT_TYPE   \n6    application_{train|test}.csv            CODE_GENDER   \n7    application_{train|test}.csv           FLAG_OWN_CAR   \n..                            ...                    ...   \n217     installments_payments.csv  NUM_INSTALMENT_NUMBER   \n218     installments_payments.csv        DAYS_INSTALMENT   \n219     installments_payments.csv     DAYS_ENTRY_PAYMENT   \n220     installments_payments.csv         AMT_INSTALMENT   \n221     installments_payments.csv            AMT_PAYMENT   \n\n                                           Description  \\\n1                             ID of loan in our sample   \n2    Target variable (1 - client with payment diffi...   \n5          Identification if loan is cash or revolving   \n6                                 Gender of the client   \n7                        Flag if the client owns a car   \n..                                                 ...   \n217            On which installment we observe payment   \n218  When the installment of previous credit was su...   \n219  When was the installments of previous credit p...   \n220  What was the prescribed installment amount of ...   \n221  What the client actually paid on previous cred...   \n\n                                   Special  \n1                                      NaN  \n2                                      NaN  \n5                                      NaN  \n6                                      NaN  \n7                                      NaN  \n..                                     ...  \n217                                    NaN  \n218  time only relative to the application  \n219  time only relative to the application  \n220                                    NaN  \n221                                    NaN  \n\n[219 rows x 4 columns]",
      "text/html": "<div>\n<style scoped>\n    .dataframe tbody tr th:only-of-type {\n        vertical-align: middle;\n    }\n\n    .dataframe tbody tr th {\n        vertical-align: top;\n    }\n\n    .dataframe thead th {\n        text-align: right;\n    }\n</style>\n<table border=\"1\" class=\"dataframe\">\n  <thead>\n    <tr style=\"text-align: right;\">\n      <th></th>\n      <th>Table</th>\n      <th>Row</th>\n      <th>Description</th>\n      <th>Special</th>\n    </tr>\n  </thead>\n  <tbody>\n    <tr>\n      <th>1</th>\n      <td>application_{train|test}.csv</td>\n      <td>SK_ID_CURR</td>\n      <td>ID of loan in our sample</td>\n      <td>NaN</td>\n    </tr>\n    <tr>\n      <th>2</th>\n      <td>application_{train|test}.csv</td>\n      <td>TARGET</td>\n      <td>Target variable (1 - client with payment diffi...</td>\n      <td>NaN</td>\n    </tr>\n    <tr>\n      <th>5</th>\n      <td>application_{train|test}.csv</td>\n      <td>NAME_CONTRACT_TYPE</td>\n      <td>Identification if loan is cash or revolving</td>\n      <td>NaN</td>\n    </tr>\n    <tr>\n      <th>6</th>\n      <td>application_{train|test}.csv</td>\n      <td>CODE_GENDER</td>\n      <td>Gender of the client</td>\n      <td>NaN</td>\n    </tr>\n    <tr>\n      <th>7</th>\n      <td>application_{train|test}.csv</td>\n      <td>FLAG_OWN_CAR</td>\n      <td>Flag if the client owns a car</td>\n      <td>NaN</td>\n    </tr>\n    <tr>\n      <th>...</th>\n      <td>...</td>\n      <td>...</td>\n      <td>...</td>\n      <td>...</td>\n    </tr>\n    <tr>\n      <th>217</th>\n      <td>installments_payments.csv</td>\n      <td>NUM_INSTALMENT_NUMBER</td>\n      <td>On which installment we observe payment</td>\n      <td>NaN</td>\n    </tr>\n    <tr>\n      <th>218</th>\n      <td>installments_payments.csv</td>\n      <td>DAYS_INSTALMENT</td>\n      <td>When the installment of previous credit was su...</td>\n      <td>time only relative to the application</td>\n    </tr>\n    <tr>\n      <th>219</th>\n      <td>installments_payments.csv</td>\n      <td>DAYS_ENTRY_PAYMENT</td>\n      <td>When was the installments of previous credit p...</td>\n      <td>time only relative to the application</td>\n    </tr>\n    <tr>\n      <th>220</th>\n      <td>installments_payments.csv</td>\n      <td>AMT_INSTALMENT</td>\n      <td>What was the prescribed installment amount of ...</td>\n      <td>NaN</td>\n    </tr>\n    <tr>\n      <th>221</th>\n      <td>installments_payments.csv</td>\n      <td>AMT_PAYMENT</td>\n      <td>What the client actually paid on previous cred...</td>\n      <td>NaN</td>\n    </tr>\n  </tbody>\n</table>\n<p>219 rows × 4 columns</p>\n</div>"
     },
     "execution_count": 45,
     "metadata": {},
     "output_type": "execute_result"
    }
   ],
   "source": [
    "home_credit_columns_description"
   ],
   "metadata": {
    "collapsed": false,
    "ExecuteTime": {
     "end_time": "2023-12-22T04:37:51.049881400Z",
     "start_time": "2023-12-22T04:37:50.987885100Z"
    }
   },
   "id": "8b9482304820288d"
  },
  {
   "cell_type": "code",
   "execution_count": 46,
   "outputs": [
    {
     "data": {
      "text/plain": "         SK_ID_CURR  SK_ID_BUREAU CREDIT_ACTIVE CREDIT_CURRENCY  DAYS_CREDIT  \\\n0            215354       5714462        Closed      currency 1         -497   \n1            215354       5714463        Active      currency 1         -208   \n2            215354       5714464        Active      currency 1         -203   \n3            215354       5714465        Active      currency 1         -203   \n4            215354       5714466        Active      currency 1         -629   \n...             ...           ...           ...             ...          ...   \n1716423      259355       5057750        Active      currency 1          -44   \n1716424      100044       5057754        Closed      currency 1        -2648   \n1716425      100044       5057762        Closed      currency 1        -1809   \n1716426      246829       5057770        Closed      currency 1        -1878   \n1716427      246829       5057778        Closed      currency 1         -463   \n\n         CREDIT_DAY_OVERDUE  DAYS_CREDIT_ENDDATE  DAYS_ENDDATE_FACT  \\\n0                         0               -153.0             -153.0   \n1                         0               1075.0                NaN   \n2                         0                528.0                NaN   \n3                         0                  NaN                NaN   \n4                         0               1197.0                NaN   \n...                     ...                  ...                ...   \n1716423                   0                -30.0                NaN   \n1716424                   0              -2433.0            -2493.0   \n1716425                   0              -1628.0             -970.0   \n1716426                   0              -1513.0            -1513.0   \n1716427                   0                  NaN             -387.0   \n\n         AMT_CREDIT_MAX_OVERDUE  CNT_CREDIT_PROLONG  AMT_CREDIT_SUM  \\\n0                           NaN                   0        91323.00   \n1                           NaN                   0       225000.00   \n2                           NaN                   0       464323.50   \n3                           NaN                   0        90000.00   \n4                       77674.5                   0      2700000.00   \n...                         ...                 ...             ...   \n1716423                     0.0                   0        11250.00   \n1716424                  5476.5                   0        38130.84   \n1716425                     NaN                   0        15570.00   \n1716426                     NaN                   0        36000.00   \n1716427                     NaN                   0        22500.00   \n\n         AMT_CREDIT_SUM_DEBT  AMT_CREDIT_SUM_LIMIT  AMT_CREDIT_SUM_OVERDUE  \\\n0                        0.0                   NaN                     0.0   \n1                   171342.0                   NaN                     0.0   \n2                        NaN                   NaN                     0.0   \n3                        NaN                   NaN                     0.0   \n4                        NaN                   NaN                     0.0   \n...                      ...                   ...                     ...   \n1716423              11250.0                   0.0                     0.0   \n1716424                  0.0                   0.0                     0.0   \n1716425                  NaN                   NaN                     0.0   \n1716426                  0.0                   0.0                     0.0   \n1716427                  0.0                   NaN                     0.0   \n\n             CREDIT_TYPE  DAYS_CREDIT_UPDATE  AMT_ANNUITY  \n0        Consumer credit                -131          NaN  \n1            Credit card                 -20          NaN  \n2        Consumer credit                 -16          NaN  \n3            Credit card                 -16          NaN  \n4        Consumer credit                 -21          NaN  \n...                  ...                 ...          ...  \n1716423        Microloan                 -19          NaN  \n1716424  Consumer credit               -2493          NaN  \n1716425  Consumer credit                -967          NaN  \n1716426  Consumer credit               -1508          NaN  \n1716427        Microloan                -387          NaN  \n\n[1716428 rows x 17 columns]",
      "text/html": "<div>\n<style scoped>\n    .dataframe tbody tr th:only-of-type {\n        vertical-align: middle;\n    }\n\n    .dataframe tbody tr th {\n        vertical-align: top;\n    }\n\n    .dataframe thead th {\n        text-align: right;\n    }\n</style>\n<table border=\"1\" class=\"dataframe\">\n  <thead>\n    <tr style=\"text-align: right;\">\n      <th></th>\n      <th>SK_ID_CURR</th>\n      <th>SK_ID_BUREAU</th>\n      <th>CREDIT_ACTIVE</th>\n      <th>CREDIT_CURRENCY</th>\n      <th>DAYS_CREDIT</th>\n      <th>CREDIT_DAY_OVERDUE</th>\n      <th>DAYS_CREDIT_ENDDATE</th>\n      <th>DAYS_ENDDATE_FACT</th>\n      <th>AMT_CREDIT_MAX_OVERDUE</th>\n      <th>CNT_CREDIT_PROLONG</th>\n      <th>AMT_CREDIT_SUM</th>\n      <th>AMT_CREDIT_SUM_DEBT</th>\n      <th>AMT_CREDIT_SUM_LIMIT</th>\n      <th>AMT_CREDIT_SUM_OVERDUE</th>\n      <th>CREDIT_TYPE</th>\n      <th>DAYS_CREDIT_UPDATE</th>\n      <th>AMT_ANNUITY</th>\n    </tr>\n  </thead>\n  <tbody>\n    <tr>\n      <th>0</th>\n      <td>215354</td>\n      <td>5714462</td>\n      <td>Closed</td>\n      <td>currency 1</td>\n      <td>-497</td>\n      <td>0</td>\n      <td>-153.0</td>\n      <td>-153.0</td>\n      <td>NaN</td>\n      <td>0</td>\n      <td>91323.00</td>\n      <td>0.0</td>\n      <td>NaN</td>\n      <td>0.0</td>\n      <td>Consumer credit</td>\n      <td>-131</td>\n      <td>NaN</td>\n    </tr>\n    <tr>\n      <th>1</th>\n      <td>215354</td>\n      <td>5714463</td>\n      <td>Active</td>\n      <td>currency 1</td>\n      <td>-208</td>\n      <td>0</td>\n      <td>1075.0</td>\n      <td>NaN</td>\n      <td>NaN</td>\n      <td>0</td>\n      <td>225000.00</td>\n      <td>171342.0</td>\n      <td>NaN</td>\n      <td>0.0</td>\n      <td>Credit card</td>\n      <td>-20</td>\n      <td>NaN</td>\n    </tr>\n    <tr>\n      <th>2</th>\n      <td>215354</td>\n      <td>5714464</td>\n      <td>Active</td>\n      <td>currency 1</td>\n      <td>-203</td>\n      <td>0</td>\n      <td>528.0</td>\n      <td>NaN</td>\n      <td>NaN</td>\n      <td>0</td>\n      <td>464323.50</td>\n      <td>NaN</td>\n      <td>NaN</td>\n      <td>0.0</td>\n      <td>Consumer credit</td>\n      <td>-16</td>\n      <td>NaN</td>\n    </tr>\n    <tr>\n      <th>3</th>\n      <td>215354</td>\n      <td>5714465</td>\n      <td>Active</td>\n      <td>currency 1</td>\n      <td>-203</td>\n      <td>0</td>\n      <td>NaN</td>\n      <td>NaN</td>\n      <td>NaN</td>\n      <td>0</td>\n      <td>90000.00</td>\n      <td>NaN</td>\n      <td>NaN</td>\n      <td>0.0</td>\n      <td>Credit card</td>\n      <td>-16</td>\n      <td>NaN</td>\n    </tr>\n    <tr>\n      <th>4</th>\n      <td>215354</td>\n      <td>5714466</td>\n      <td>Active</td>\n      <td>currency 1</td>\n      <td>-629</td>\n      <td>0</td>\n      <td>1197.0</td>\n      <td>NaN</td>\n      <td>77674.5</td>\n      <td>0</td>\n      <td>2700000.00</td>\n      <td>NaN</td>\n      <td>NaN</td>\n      <td>0.0</td>\n      <td>Consumer credit</td>\n      <td>-21</td>\n      <td>NaN</td>\n    </tr>\n    <tr>\n      <th>...</th>\n      <td>...</td>\n      <td>...</td>\n      <td>...</td>\n      <td>...</td>\n      <td>...</td>\n      <td>...</td>\n      <td>...</td>\n      <td>...</td>\n      <td>...</td>\n      <td>...</td>\n      <td>...</td>\n      <td>...</td>\n      <td>...</td>\n      <td>...</td>\n      <td>...</td>\n      <td>...</td>\n      <td>...</td>\n    </tr>\n    <tr>\n      <th>1716423</th>\n      <td>259355</td>\n      <td>5057750</td>\n      <td>Active</td>\n      <td>currency 1</td>\n      <td>-44</td>\n      <td>0</td>\n      <td>-30.0</td>\n      <td>NaN</td>\n      <td>0.0</td>\n      <td>0</td>\n      <td>11250.00</td>\n      <td>11250.0</td>\n      <td>0.0</td>\n      <td>0.0</td>\n      <td>Microloan</td>\n      <td>-19</td>\n      <td>NaN</td>\n    </tr>\n    <tr>\n      <th>1716424</th>\n      <td>100044</td>\n      <td>5057754</td>\n      <td>Closed</td>\n      <td>currency 1</td>\n      <td>-2648</td>\n      <td>0</td>\n      <td>-2433.0</td>\n      <td>-2493.0</td>\n      <td>5476.5</td>\n      <td>0</td>\n      <td>38130.84</td>\n      <td>0.0</td>\n      <td>0.0</td>\n      <td>0.0</td>\n      <td>Consumer credit</td>\n      <td>-2493</td>\n      <td>NaN</td>\n    </tr>\n    <tr>\n      <th>1716425</th>\n      <td>100044</td>\n      <td>5057762</td>\n      <td>Closed</td>\n      <td>currency 1</td>\n      <td>-1809</td>\n      <td>0</td>\n      <td>-1628.0</td>\n      <td>-970.0</td>\n      <td>NaN</td>\n      <td>0</td>\n      <td>15570.00</td>\n      <td>NaN</td>\n      <td>NaN</td>\n      <td>0.0</td>\n      <td>Consumer credit</td>\n      <td>-967</td>\n      <td>NaN</td>\n    </tr>\n    <tr>\n      <th>1716426</th>\n      <td>246829</td>\n      <td>5057770</td>\n      <td>Closed</td>\n      <td>currency 1</td>\n      <td>-1878</td>\n      <td>0</td>\n      <td>-1513.0</td>\n      <td>-1513.0</td>\n      <td>NaN</td>\n      <td>0</td>\n      <td>36000.00</td>\n      <td>0.0</td>\n      <td>0.0</td>\n      <td>0.0</td>\n      <td>Consumer credit</td>\n      <td>-1508</td>\n      <td>NaN</td>\n    </tr>\n    <tr>\n      <th>1716427</th>\n      <td>246829</td>\n      <td>5057778</td>\n      <td>Closed</td>\n      <td>currency 1</td>\n      <td>-463</td>\n      <td>0</td>\n      <td>NaN</td>\n      <td>-387.0</td>\n      <td>NaN</td>\n      <td>0</td>\n      <td>22500.00</td>\n      <td>0.0</td>\n      <td>NaN</td>\n      <td>0.0</td>\n      <td>Microloan</td>\n      <td>-387</td>\n      <td>NaN</td>\n    </tr>\n  </tbody>\n</table>\n<p>1716428 rows × 17 columns</p>\n</div>"
     },
     "execution_count": 46,
     "metadata": {},
     "output_type": "execute_result"
    }
   ],
   "source": [
    "bureau"
   ],
   "metadata": {
    "collapsed": false,
    "ExecuteTime": {
     "end_time": "2023-12-22T04:37:51.223879500Z",
     "start_time": "2023-12-22T04:37:51.016881400Z"
    }
   },
   "id": "9dc5e0a699319182"
  },
  {
   "cell_type": "markdown",
   "source": [
    "the SK_ID_CURR is the unique id for each client"
   ],
   "metadata": {
    "collapsed": false
   },
   "id": "23c713be525dadd7"
  },
  {
   "cell_type": "code",
   "execution_count": 47,
   "outputs": [
    {
     "data": {
      "text/plain": "307511"
     },
     "execution_count": 47,
     "metadata": {},
     "output_type": "execute_result"
    }
   ],
   "source": [
    "len(application)"
   ],
   "metadata": {
    "collapsed": false,
    "ExecuteTime": {
     "end_time": "2023-12-22T04:37:51.228880200Z",
     "start_time": "2023-12-22T04:37:51.081879600Z"
    }
   },
   "id": "ae9a611a50f57755"
  },
  {
   "cell_type": "code",
   "execution_count": 48,
   "outputs": [
    {
     "data": {
      "text/plain": "1716428"
     },
     "execution_count": 48,
     "metadata": {},
     "output_type": "execute_result"
    }
   ],
   "source": [
    "len(bureau)"
   ],
   "metadata": {
    "collapsed": false,
    "ExecuteTime": {
     "end_time": "2023-12-22T04:37:51.233879400Z",
     "start_time": "2023-12-22T04:37:51.096882Z"
    }
   },
   "id": "313a145e2036bf78"
  },
  {
   "cell_type": "code",
   "execution_count": 49,
   "outputs": [
    {
     "data": {
      "text/plain": "27299925"
     },
     "execution_count": 49,
     "metadata": {},
     "output_type": "execute_result"
    }
   ],
   "source": [
    "len(bureau_balance)"
   ],
   "metadata": {
    "collapsed": false,
    "ExecuteTime": {
     "end_time": "2023-12-22T04:37:51.303880600Z",
     "start_time": "2023-12-22T04:37:51.111880400Z"
    }
   },
   "id": "24ccd66df705096c"
  },
  {
   "cell_type": "code",
   "execution_count": 50,
   "outputs": [
    {
     "data": {
      "text/plain": "3840312"
     },
     "execution_count": 50,
     "metadata": {},
     "output_type": "execute_result"
    }
   ],
   "source": [
    "len(credit_card_balance)"
   ],
   "metadata": {
    "collapsed": false,
    "ExecuteTime": {
     "end_time": "2023-12-22T04:37:51.310880600Z",
     "start_time": "2023-12-22T04:37:51.128879500Z"
    }
   },
   "id": "e26e2e0b3a3ebc27"
  },
  {
   "cell_type": "code",
   "execution_count": 51,
   "outputs": [
    {
     "data": {
      "text/plain": "13605401"
     },
     "execution_count": 51,
     "metadata": {},
     "output_type": "execute_result"
    }
   ],
   "source": [
    "len(installments_payments)"
   ],
   "metadata": {
    "collapsed": false,
    "ExecuteTime": {
     "end_time": "2023-12-22T04:37:51.332881800Z",
     "start_time": "2023-12-22T04:37:51.142880300Z"
    }
   },
   "id": "e135b4ff817d4be"
  },
  {
   "cell_type": "code",
   "execution_count": 52,
   "outputs": [
    {
     "data": {
      "text/plain": "10001358"
     },
     "execution_count": 52,
     "metadata": {},
     "output_type": "execute_result"
    }
   ],
   "source": [
    "len(POS_CASH_balance)"
   ],
   "metadata": {
    "collapsed": false,
    "ExecuteTime": {
     "end_time": "2023-12-22T04:37:51.336881800Z",
     "start_time": "2023-12-22T04:37:51.161880600Z"
    }
   },
   "id": "42e701ffbfdd1043"
  },
  {
   "cell_type": "code",
   "execution_count": 53,
   "outputs": [
    {
     "data": {
      "text/plain": "1670214"
     },
     "execution_count": 53,
     "metadata": {},
     "output_type": "execute_result"
    }
   ],
   "source": [
    "len(previous_application)"
   ],
   "metadata": {
    "collapsed": false,
    "ExecuteTime": {
     "end_time": "2023-12-22T04:37:51.523878500Z",
     "start_time": "2023-12-22T04:37:51.176881200Z"
    }
   },
   "id": "765943a97789ccae"
  },
  {
   "cell_type": "markdown",
   "source": [
    "## merge the bureau data with bureau_balance data (Kevin)"
   ],
   "metadata": {
    "collapsed": false
   },
   "id": "f2d0c358fc7aaff1"
  },
  {
   "cell_type": "code",
   "execution_count": 54,
   "outputs": [],
   "source": [
    "status_count = bureau_balance.groupby('SK_ID_BUREAU')['STATUS'].value_counts().unstack().fillna(0)\n",
    "status_count.columns = ['BUREAU_BALANCE_' + str(col_name) for col_name in status_count.columns]\n",
    "status_count.reset_index(inplace=True)\n",
    "month_count = bureau_balance.groupby('SK_ID_BUREAU')['MONTHS_BALANCE'].min().abs().rename('BUREAU_BALANCE_MONTH_COUNT')\n",
    "status_count = status_count.merge(month_count, how='left', on='SK_ID_BUREAU')  # add 0.001 to avoid divide by 0"
   ],
   "metadata": {
    "collapsed": false,
    "ExecuteTime": {
     "end_time": "2023-12-22T04:38:00.337572100Z",
     "start_time": "2023-12-22T04:37:51.197881500Z"
    }
   },
   "id": "9d79d030a5d72314"
  },
  {
   "cell_type": "code",
   "execution_count": 55,
   "outputs": [],
   "source": [
    "# scale the status_count by month_count\n",
    "for col in status_count.columns[1:-1]:\n",
    "    status_count[col] = status_count[col] / (status_count['BUREAU_BALANCE_MONTH_COUNT'] + 1.001)"
   ],
   "metadata": {
    "collapsed": false,
    "ExecuteTime": {
     "end_time": "2023-12-22T04:38:00.465574600Z",
     "start_time": "2023-12-22T04:38:00.340569900Z"
    }
   },
   "id": "2d0915b49f00885c"
  },
  {
   "cell_type": "code",
   "execution_count": 56,
   "outputs": [
    {
     "data": {
      "text/plain": "Index(['SK_ID_BUREAU', 'BUREAU_BALANCE_0', 'BUREAU_BALANCE_1',\n       'BUREAU_BALANCE_2', 'BUREAU_BALANCE_3', 'BUREAU_BALANCE_4',\n       'BUREAU_BALANCE_5', 'BUREAU_BALANCE_C', 'BUREAU_BALANCE_X',\n       'BUREAU_BALANCE_MONTH_COUNT'],\n      dtype='object')"
     },
     "execution_count": 56,
     "metadata": {},
     "output_type": "execute_result"
    }
   ],
   "source": [
    "status_count.columns"
   ],
   "metadata": {
    "collapsed": false,
    "ExecuteTime": {
     "end_time": "2023-12-22T04:38:00.483571800Z",
     "start_time": "2023-12-22T04:38:00.468572Z"
    }
   },
   "id": "a79917fce42c41d3"
  },
  {
   "cell_type": "code",
   "execution_count": 57,
   "outputs": [],
   "source": [
    "bureau = bureau.merge(status_count, how='left', on='SK_ID_BUREAU')"
   ],
   "metadata": {
    "collapsed": false,
    "ExecuteTime": {
     "end_time": "2023-12-22T04:38:01.352571600Z",
     "start_time": "2023-12-22T04:38:00.484571700Z"
    }
   },
   "id": "4f11ff72d5370b3f"
  },
  {
   "cell_type": "code",
   "execution_count": 58,
   "outputs": [
    {
     "data": {
      "text/plain": "         SK_ID_CURR  SK_ID_BUREAU   DAYS_CREDIT  CREDIT_DAY_OVERDUE  \\\ncount  1.716428e+06  1.716428e+06  1.716428e+06        1.716428e+06   \nmean   2.782149e+05  5.924434e+06 -1.142108e+03        8.181666e-01   \nstd    1.029386e+05  5.322657e+05  7.951649e+02        3.654443e+01   \nmin    1.000010e+05  5.000000e+06 -2.922000e+03        0.000000e+00   \n25%    1.888668e+05  5.463954e+06 -1.666000e+03        0.000000e+00   \n50%    2.780550e+05  5.926304e+06 -9.870000e+02        0.000000e+00   \n75%    3.674260e+05  6.385681e+06 -4.740000e+02        0.000000e+00   \nmax    4.562550e+05  6.843457e+06  0.000000e+00        2.792000e+03   \n\n       DAYS_CREDIT_ENDDATE  DAYS_ENDDATE_FACT  AMT_CREDIT_MAX_OVERDUE  \\\ncount         1.610875e+06       1.082775e+06            5.919400e+05   \nmean          5.105174e+02      -1.017437e+03            3.825418e+03   \nstd           4.994220e+03       7.140106e+02            2.060316e+05   \nmin          -4.206000e+04      -4.202300e+04            0.000000e+00   \n25%          -1.138000e+03      -1.489000e+03            0.000000e+00   \n50%          -3.300000e+02      -8.970000e+02            0.000000e+00   \n75%           4.740000e+02      -4.250000e+02            0.000000e+00   \nmax           3.119900e+04       0.000000e+00            1.159872e+08   \n\n       CNT_CREDIT_PROLONG  AMT_CREDIT_SUM  AMT_CREDIT_SUM_DEBT  ...  \\\ncount        1.716428e+06    1.716415e+06         1.458759e+06  ...   \nmean         6.410406e-03    3.549946e+05         1.370851e+05  ...   \nstd          9.622391e-02    1.149811e+06         6.774011e+05  ...   \nmin          0.000000e+00    0.000000e+00        -4.705600e+06  ...   \n25%          0.000000e+00    5.130000e+04         0.000000e+00  ...   \n50%          0.000000e+00    1.255185e+05         0.000000e+00  ...   \n75%          0.000000e+00    3.150000e+05         4.015350e+04  ...   \nmax          9.000000e+00    5.850000e+08         1.701000e+08  ...   \n\n        AMT_ANNUITY  BUREAU_BALANCE_0  BUREAU_BALANCE_1  BUREAU_BALANCE_2  \\\ncount  4.896370e+05     774354.000000     774354.000000     774354.000000   \nmean   1.571276e+04          0.351976          0.009966          0.000683   \nstd    3.258269e+05          0.328245          0.042879          0.007975   \nmin    0.000000e+00          0.000000          0.000000          0.000000   \n25%    0.000000e+00          0.079545          0.000000          0.000000   \n50%    0.000000e+00          0.239990          0.000000          0.000000   \n75%    1.350000e+04          0.580240          0.000000          0.000000   \nmax    1.184534e+08          0.999989          0.999923          0.714184   \n\n       BUREAU_BALANCE_3  BUREAU_BALANCE_4  BUREAU_BALANCE_5  BUREAU_BALANCE_C  \\\ncount     774354.000000     774354.000000     774354.000000     774354.000000   \nmean           0.000236          0.000154          0.001295          0.327617   \nstd            0.003747          0.002875          0.024694          0.358784   \nmin            0.000000          0.000000          0.000000          0.000000   \n25%            0.000000          0.000000          0.000000          0.000000   \n50%            0.000000          0.000000          0.000000          0.160492   \n75%            0.000000          0.000000          0.000000          0.692281   \nmax            0.399920          0.499875          0.999974          0.999990   \n\n       BUREAU_BALANCE_X  BUREAU_BALANCE_MONTH_COUNT  \ncount     774354.000000               774354.000000  \nmean           0.192275                   36.288669  \nstd            0.320677                   25.449736  \nmin            0.000000                    0.000000  \n25%            0.000000                   15.000000  \n50%            0.019607                   31.000000  \n75%            0.230751                   53.000000  \nmax            0.999990                   96.000000  \n\n[8 rows x 23 columns]",
      "text/html": "<div>\n<style scoped>\n    .dataframe tbody tr th:only-of-type {\n        vertical-align: middle;\n    }\n\n    .dataframe tbody tr th {\n        vertical-align: top;\n    }\n\n    .dataframe thead th {\n        text-align: right;\n    }\n</style>\n<table border=\"1\" class=\"dataframe\">\n  <thead>\n    <tr style=\"text-align: right;\">\n      <th></th>\n      <th>SK_ID_CURR</th>\n      <th>SK_ID_BUREAU</th>\n      <th>DAYS_CREDIT</th>\n      <th>CREDIT_DAY_OVERDUE</th>\n      <th>DAYS_CREDIT_ENDDATE</th>\n      <th>DAYS_ENDDATE_FACT</th>\n      <th>AMT_CREDIT_MAX_OVERDUE</th>\n      <th>CNT_CREDIT_PROLONG</th>\n      <th>AMT_CREDIT_SUM</th>\n      <th>AMT_CREDIT_SUM_DEBT</th>\n      <th>...</th>\n      <th>AMT_ANNUITY</th>\n      <th>BUREAU_BALANCE_0</th>\n      <th>BUREAU_BALANCE_1</th>\n      <th>BUREAU_BALANCE_2</th>\n      <th>BUREAU_BALANCE_3</th>\n      <th>BUREAU_BALANCE_4</th>\n      <th>BUREAU_BALANCE_5</th>\n      <th>BUREAU_BALANCE_C</th>\n      <th>BUREAU_BALANCE_X</th>\n      <th>BUREAU_BALANCE_MONTH_COUNT</th>\n    </tr>\n  </thead>\n  <tbody>\n    <tr>\n      <th>count</th>\n      <td>1.716428e+06</td>\n      <td>1.716428e+06</td>\n      <td>1.716428e+06</td>\n      <td>1.716428e+06</td>\n      <td>1.610875e+06</td>\n      <td>1.082775e+06</td>\n      <td>5.919400e+05</td>\n      <td>1.716428e+06</td>\n      <td>1.716415e+06</td>\n      <td>1.458759e+06</td>\n      <td>...</td>\n      <td>4.896370e+05</td>\n      <td>774354.000000</td>\n      <td>774354.000000</td>\n      <td>774354.000000</td>\n      <td>774354.000000</td>\n      <td>774354.000000</td>\n      <td>774354.000000</td>\n      <td>774354.000000</td>\n      <td>774354.000000</td>\n      <td>774354.000000</td>\n    </tr>\n    <tr>\n      <th>mean</th>\n      <td>2.782149e+05</td>\n      <td>5.924434e+06</td>\n      <td>-1.142108e+03</td>\n      <td>8.181666e-01</td>\n      <td>5.105174e+02</td>\n      <td>-1.017437e+03</td>\n      <td>3.825418e+03</td>\n      <td>6.410406e-03</td>\n      <td>3.549946e+05</td>\n      <td>1.370851e+05</td>\n      <td>...</td>\n      <td>1.571276e+04</td>\n      <td>0.351976</td>\n      <td>0.009966</td>\n      <td>0.000683</td>\n      <td>0.000236</td>\n      <td>0.000154</td>\n      <td>0.001295</td>\n      <td>0.327617</td>\n      <td>0.192275</td>\n      <td>36.288669</td>\n    </tr>\n    <tr>\n      <th>std</th>\n      <td>1.029386e+05</td>\n      <td>5.322657e+05</td>\n      <td>7.951649e+02</td>\n      <td>3.654443e+01</td>\n      <td>4.994220e+03</td>\n      <td>7.140106e+02</td>\n      <td>2.060316e+05</td>\n      <td>9.622391e-02</td>\n      <td>1.149811e+06</td>\n      <td>6.774011e+05</td>\n      <td>...</td>\n      <td>3.258269e+05</td>\n      <td>0.328245</td>\n      <td>0.042879</td>\n      <td>0.007975</td>\n      <td>0.003747</td>\n      <td>0.002875</td>\n      <td>0.024694</td>\n      <td>0.358784</td>\n      <td>0.320677</td>\n      <td>25.449736</td>\n    </tr>\n    <tr>\n      <th>min</th>\n      <td>1.000010e+05</td>\n      <td>5.000000e+06</td>\n      <td>-2.922000e+03</td>\n      <td>0.000000e+00</td>\n      <td>-4.206000e+04</td>\n      <td>-4.202300e+04</td>\n      <td>0.000000e+00</td>\n      <td>0.000000e+00</td>\n      <td>0.000000e+00</td>\n      <td>-4.705600e+06</td>\n      <td>...</td>\n      <td>0.000000e+00</td>\n      <td>0.000000</td>\n      <td>0.000000</td>\n      <td>0.000000</td>\n      <td>0.000000</td>\n      <td>0.000000</td>\n      <td>0.000000</td>\n      <td>0.000000</td>\n      <td>0.000000</td>\n      <td>0.000000</td>\n    </tr>\n    <tr>\n      <th>25%</th>\n      <td>1.888668e+05</td>\n      <td>5.463954e+06</td>\n      <td>-1.666000e+03</td>\n      <td>0.000000e+00</td>\n      <td>-1.138000e+03</td>\n      <td>-1.489000e+03</td>\n      <td>0.000000e+00</td>\n      <td>0.000000e+00</td>\n      <td>5.130000e+04</td>\n      <td>0.000000e+00</td>\n      <td>...</td>\n      <td>0.000000e+00</td>\n      <td>0.079545</td>\n      <td>0.000000</td>\n      <td>0.000000</td>\n      <td>0.000000</td>\n      <td>0.000000</td>\n      <td>0.000000</td>\n      <td>0.000000</td>\n      <td>0.000000</td>\n      <td>15.000000</td>\n    </tr>\n    <tr>\n      <th>50%</th>\n      <td>2.780550e+05</td>\n      <td>5.926304e+06</td>\n      <td>-9.870000e+02</td>\n      <td>0.000000e+00</td>\n      <td>-3.300000e+02</td>\n      <td>-8.970000e+02</td>\n      <td>0.000000e+00</td>\n      <td>0.000000e+00</td>\n      <td>1.255185e+05</td>\n      <td>0.000000e+00</td>\n      <td>...</td>\n      <td>0.000000e+00</td>\n      <td>0.239990</td>\n      <td>0.000000</td>\n      <td>0.000000</td>\n      <td>0.000000</td>\n      <td>0.000000</td>\n      <td>0.000000</td>\n      <td>0.160492</td>\n      <td>0.019607</td>\n      <td>31.000000</td>\n    </tr>\n    <tr>\n      <th>75%</th>\n      <td>3.674260e+05</td>\n      <td>6.385681e+06</td>\n      <td>-4.740000e+02</td>\n      <td>0.000000e+00</td>\n      <td>4.740000e+02</td>\n      <td>-4.250000e+02</td>\n      <td>0.000000e+00</td>\n      <td>0.000000e+00</td>\n      <td>3.150000e+05</td>\n      <td>4.015350e+04</td>\n      <td>...</td>\n      <td>1.350000e+04</td>\n      <td>0.580240</td>\n      <td>0.000000</td>\n      <td>0.000000</td>\n      <td>0.000000</td>\n      <td>0.000000</td>\n      <td>0.000000</td>\n      <td>0.692281</td>\n      <td>0.230751</td>\n      <td>53.000000</td>\n    </tr>\n    <tr>\n      <th>max</th>\n      <td>4.562550e+05</td>\n      <td>6.843457e+06</td>\n      <td>0.000000e+00</td>\n      <td>2.792000e+03</td>\n      <td>3.119900e+04</td>\n      <td>0.000000e+00</td>\n      <td>1.159872e+08</td>\n      <td>9.000000e+00</td>\n      <td>5.850000e+08</td>\n      <td>1.701000e+08</td>\n      <td>...</td>\n      <td>1.184534e+08</td>\n      <td>0.999989</td>\n      <td>0.999923</td>\n      <td>0.714184</td>\n      <td>0.399920</td>\n      <td>0.499875</td>\n      <td>0.999974</td>\n      <td>0.999990</td>\n      <td>0.999990</td>\n      <td>96.000000</td>\n    </tr>\n  </tbody>\n</table>\n<p>8 rows × 23 columns</p>\n</div>"
     },
     "execution_count": 58,
     "metadata": {},
     "output_type": "execute_result"
    }
   ],
   "source": [
    "bureau.describe()"
   ],
   "metadata": {
    "collapsed": false,
    "ExecuteTime": {
     "end_time": "2023-12-22T04:38:03.647571Z",
     "start_time": "2023-12-22T04:38:01.353573200Z"
    }
   },
   "id": "eca1c1686e33f8f0"
  },
  {
   "cell_type": "markdown",
   "source": [
    "## Cleaning bureau data (Kevin)"
   ],
   "metadata": {
    "collapsed": false
   },
   "id": "329d338e194c3ed1"
  },
  {
   "cell_type": "code",
   "execution_count": 59,
   "outputs": [
    {
     "name": "stdout",
     "output_type": "stream",
     "text": [
      "SK_ID_CURR Unique item: 305811 NA: 0 value=0: 0\n",
      "SK_ID_BUREAU Unique item: 1716428 NA: 0 value=0: 0\n",
      "CREDIT_ACTIVE Unique item: 4 NA: 0 value=0: 0\n",
      "CREDIT_CURRENCY Unique item: 4 NA: 0 value=0: 0\n",
      "DAYS_CREDIT Unique item: 2923 NA: 0 value=0: 25\n",
      "CREDIT_DAY_OVERDUE Unique item: 942 NA: 0 value=0: 1712211\n",
      "DAYS_CREDIT_ENDDATE Unique item: 14097 NA: 105553 value=0: 883\n",
      "DAYS_ENDDATE_FACT Unique item: 2918 NA: 633653 value=0: 64\n",
      "AMT_CREDIT_MAX_OVERDUE Unique item: 68252 NA: 1124488 value=0: 470650\n",
      "CNT_CREDIT_PROLONG Unique item: 10 NA: 0 value=0: 1707314\n",
      "AMT_CREDIT_SUM Unique item: 236709 NA: 13 value=0: 66582\n",
      "AMT_CREDIT_SUM_DEBT Unique item: 226538 NA: 257669 value=0: 1016434\n",
      "AMT_CREDIT_SUM_LIMIT Unique item: 51727 NA: 591780 value=0: 1050142\n",
      "AMT_CREDIT_SUM_OVERDUE Unique item: 1616 NA: 0 value=0: 1712270\n",
      "CREDIT_TYPE Unique item: 15 NA: 0 value=0: 0\n",
      "DAYS_CREDIT_UPDATE Unique item: 2982 NA: 0 value=0: 605\n",
      "AMT_ANNUITY Unique item: 40322 NA: 1226791 value=0: 256915\n",
      "BUREAU_BALANCE_0 Unique item: 4638 NA: 942074 value=0: 111951\n",
      "BUREAU_BALANCE_1 Unique item: 1834 NA: 942074 value=0: 679211\n",
      "BUREAU_BALANCE_2 Unique item: 596 NA: 942074 value=0: 761260\n",
      "BUREAU_BALANCE_3 Unique item: 347 NA: 942074 value=0: 768467\n",
      "BUREAU_BALANCE_4 Unique item: 265 NA: 942074 value=0: 770147\n",
      "BUREAU_BALANCE_5 Unique item: 1801 NA: 942074 value=0: 769913\n",
      "BUREAU_BALANCE_C Unique item: 4698 NA: 942074 value=0: 356962\n",
      "BUREAU_BALANCE_X Unique item: 4670 NA: 942074 value=0: 345823\n",
      "BUREAU_BALANCE_MONTH_COUNT Unique item: 98 NA: 942074 value=0: 5184\n"
     ]
    }
   ],
   "source": [
    "# print number of unique item in each column\n",
    "for col in bureau.columns:\n",
    "    print(col, 'Unique item:', len(bureau[col].unique()), 'NA:', len(bureau.loc[bureau[col].isnull()]), 'value=0:',\n",
    "          len(bureau.loc[bureau[col] == 0]))"
   ],
   "metadata": {
    "collapsed": false,
    "ExecuteTime": {
     "end_time": "2023-12-22T04:38:09.615569700Z",
     "start_time": "2023-12-22T04:38:03.651605800Z"
    }
   },
   "id": "c169f6b4e11cd704"
  },
  {
   "cell_type": "code",
   "execution_count": 60,
   "outputs": [],
   "source": [
    "# def aggregate_do_nothing(bureau, col):\n",
    "#     res = bureau[col]\n",
    "#     return res.reindex(application['SK_ID_CURR']).fillna(0).rename('BUREAU_' + col)"
   ],
   "metadata": {
    "collapsed": false,
    "ExecuteTime": {
     "end_time": "2023-12-22T04:38:09.630607200Z",
     "start_time": "2023-12-22T04:38:09.612570800Z"
    }
   },
   "id": "8b631e8b2f485894"
  },
  {
   "cell_type": "code",
   "execution_count": 61,
   "outputs": [],
   "source": [
    "def aggregate_count(bureau, col,name):\n",
    "    # res = bureau[bureau['SK_ID_CURR'].isin(application['SK_ID_CURR'])]\n",
    "    # res = res.groupby('SK_ID_CURR')[col].count()\n",
    "    res = bureau.groupby('SK_ID_CURR')[col].count()\n",
    "    return res.reindex(application['SK_ID_CURR']).fillna(0).rename(name+'_' + col + '_COUNT')"
   ],
   "metadata": {
    "collapsed": false,
    "ExecuteTime": {
     "end_time": "2023-12-22T04:38:09.644600700Z",
     "start_time": "2023-12-22T04:38:09.632570200Z"
    }
   },
   "id": "f31d18b8b1b97300"
  },
  {
   "cell_type": "code",
   "execution_count": 62,
   "outputs": [],
   "source": [
    "def aggregate_categorical(df, col,name):\n",
    "    # res = bureau[bureau['SK_ID_CURR'].isin(application['SK_ID_CURR'])]\n",
    "    # res = res.groupby('SK_ID_CURR')[col].value_counts().unstack()\n",
    "    res = df.groupby('SK_ID_CURR')[col].value_counts().unstack()\n",
    "    res = res.reindex(application['SK_ID_CURR']).fillna(0)\n",
    "    res.columns = [name+'_' + col + '_' + str(col_name) for col_name in res.columns]\n",
    "    return res"
   ],
   "metadata": {
    "collapsed": false,
    "ExecuteTime": {
     "end_time": "2023-12-22T04:38:09.663569600Z",
     "start_time": "2023-12-22T04:38:09.653609400Z"
    }
   },
   "id": "df8dcf1572ecc5b7"
  },
  {
   "cell_type": "code",
   "execution_count": 63,
   "outputs": [],
   "source": [
    "def aggregate_avg_max_min_std_skw(df, col,name):\n",
    "    # res = bureau[bureau['SK_ID_CURR'].isin(application['SK_ID_CURR'])]\n",
    "    # res = res.groupby('SK_ID_CURR')[col].agg(['mean', 'max', 'min', 'std', 'skew'])\n",
    "    res = df.groupby('SK_ID_CURR')[col].agg(['mean', 'max', 'min', 'std', 'skew'])\n",
    "    res = res.reindex(application['SK_ID_CURR']).fillna(0)\n",
    "    res.columns = [name+'_' + col + '_' + col_name for col_name in res.columns]\n",
    "    return res"
   ],
   "metadata": {
    "collapsed": false,
    "ExecuteTime": {
     "end_time": "2023-12-22T04:38:09.677570100Z",
     "start_time": "2023-12-22T04:38:09.663569600Z"
    }
   },
   "id": "adb2d10c8c63827a"
  },
  {
   "cell_type": "code",
   "execution_count": 64,
   "outputs": [],
   "source": [
    "def aggregate_avg_max_min_std_skw_nan_count(df, col,name):\n",
    "    res = df.groupby('SK_ID_CURR')[col].agg(['mean', 'max', 'min', 'std', 'skew'])\n",
    "    # count the number of nan\n",
    "    res['nan_count'] = df.groupby('SK_ID_CURR')[col].apply(lambda x: x.isnull().sum())\n",
    "    res = res.reindex(application['SK_ID_CURR']).fillna(0)\n",
    "    res.columns = [name+'_' + col + '_' + col_name for col_name in res.columns]\n",
    "    \n",
    "    return res"
   ],
   "metadata": {
    "collapsed": false,
    "ExecuteTime": {
     "end_time": "2023-12-22T04:38:09.693574500Z",
     "start_time": "2023-12-22T04:38:09.680570100Z"
    }
   },
   "id": "8901b0ae346bcb10"
  },
  {
   "cell_type": "code",
   "execution_count": 65,
   "outputs": [],
   "source": [
    "bureau_agg_dic = {'SK_ID_BUREAU': 'aggregate_count',\n",
    "                  'CREDIT_ACTIVE': 'aggregate_categorical',\n",
    "                  'CREDIT_CURRENCY': 'aggregate_categorical',\n",
    "                  'DAYS_CREDIT': 'aggregate_avg_max_min_std_skw',\n",
    "                  'CREDIT_DAY_OVERDUE': 'aggregate_avg_max_min_std_skw',\n",
    "                  'DAYS_CREDIT_ENDDATE': 'aggregate_avg_max_min_std_skw_nan_count',\n",
    "                  'DAYS_ENDDATE_FACT': 'aggregate_avg_max_min_std_skw_nan_count',\n",
    "                  'AMT_CREDIT_MAX_OVERDUE': 'aggregate_avg_max_min_std_skw_nan_count',\n",
    "                  'CNT_CREDIT_PROLONG': 'aggregate_avg_max_min_std_skw',\n",
    "                  'AMT_CREDIT_SUM': 'aggregate_avg_max_min_std_skw',\n",
    "                  'AMT_CREDIT_SUM_DEBT': 'aggregate_avg_max_min_std_skw_nan_count',\n",
    "                  'AMT_CREDIT_SUM_LIMIT': 'aggregate_avg_max_min_std_skw_nan_count',\n",
    "                  'AMT_CREDIT_SUM_OVERDUE': 'aggregate_avg_max_min_std_skw',\n",
    "                  'DAYS_CREDIT_UPDATE': 'aggregate_avg_max_min_std_skw',\n",
    "                  'AMT_ANNUITY': 'aggregate_avg_max_min_std_skw_nan_count',\n",
    "                  'BUREAU_BALANCE_0': 'aggregate_avg_max_min_std_skw',\n",
    "                  'BUREAU_BALANCE_1': 'aggregate_avg_max_min_std_skw',\n",
    "                  'BUREAU_BALANCE_2': 'aggregate_avg_max_min_std_skw',\n",
    "                  'BUREAU_BALANCE_3': 'aggregate_avg_max_min_std_skw',\n",
    "                  'BUREAU_BALANCE_4': 'aggregate_avg_max_min_std_skw',\n",
    "                  'BUREAU_BALANCE_5': 'aggregate_avg_max_min_std_skw',\n",
    "                  'BUREAU_BALANCE_C': 'aggregate_avg_max_min_std_skw',\n",
    "                  'BUREAU_BALANCE_X': 'aggregate_avg_max_min_std_skw',\n",
    "                  'BUREAU_BALANCE_MONTH_COUNT': 'aggregate_avg_max_min_std_skw'}"
   ],
   "metadata": {
    "collapsed": false,
    "ExecuteTime": {
     "end_time": "2023-12-22T04:38:09.708570100Z",
     "start_time": "2023-12-22T04:38:09.694574400Z"
    }
   },
   "id": "ae4f9c4688aed498"
  },
  {
   "cell_type": "code",
   "execution_count": 67,
   "outputs": [],
   "source": [
    "# parallel processing\n",
    "bureau_merging_result = Parallel(n_jobs=4)(\n",
    "    delayed(eval(bureau_agg_dic[col]))(bureau[bureau['SK_ID_CURR'].isin(application['SK_ID_CURR'])], col,'BUREAU') for col in\n",
    "    bureau_agg_dic.keys())  # 6min"
   ],
   "metadata": {
    "collapsed": false,
    "ExecuteTime": {
     "end_time": "2023-12-22T04:49:52.766759600Z",
     "start_time": "2023-12-22T04:42:45.596068900Z"
    }
   },
   "id": "6a8064393ddd25e9"
  },
  {
   "cell_type": "code",
   "execution_count": 68,
   "outputs": [],
   "source": [
    "# merge all the result on SK_ID_CURR\n",
    "bureau_merging_result = pd.concat(bureau_merging_result, axis=1)"
   ],
   "metadata": {
    "collapsed": false,
    "ExecuteTime": {
     "end_time": "2023-12-22T04:49:52.909759800Z",
     "start_time": "2023-12-22T04:49:52.775758800Z"
    }
   },
   "id": "4b21c8c1323c179b"
  },
  {
   "cell_type": "markdown",
   "source": [
    "## Cleaning POS Cash data (Grace)"
   ],
   "metadata": {
    "collapsed": false
   },
   "id": "1d373e3d84007118"
  },
  {
   "cell_type": "code",
   "execution_count": 69,
   "outputs": [],
   "source": [
    "# count for how many credit cart one have\n",
    "def POS_CASH_count(POS_CASH_balance):\n",
    "    return POS_CASH_balance.groupby('SK_ID_CURR')['SK_ID_PREV'].count().rename('POS_CASH_SK_ID_PREV_COUNT').reindex(\n",
    "        application['SK_ID_CURR']).fillna(0)"
   ],
   "metadata": {
    "collapsed": false,
    "ExecuteTime": {
     "end_time": "2023-12-22T04:49:52.924760500Z",
     "start_time": "2023-12-22T04:49:52.912760700Z"
    }
   },
   "id": "a8ecadde4a0cf85c"
  },
  {
   "cell_type": "code",
   "execution_count": 70,
   "outputs": [],
   "source": [
    "def contract_status(POS_CASH_balance):\n",
    "    # one hot encode the NAME_CONTRACT_STATUS\n",
    "    dum = pd.get_dummies(POS_CASH_balance['NAME_CONTRACT_STATUS'])\n",
    "    for col in dum:\n",
    "        dum[col] = dum[col] * (1 - POS_CASH_balance['CNT_INSTALMENT_FUTURE'] / POS_CASH_balance['CNT_INSTALMENT'])\n",
    "    dum.columns = ['POS_CASH_' + str(col_name) for col_name in dum.columns]\n",
    "    return POS_CASH_balance.loc[:, ['SK_ID_PREV', 'SK_ID_CURR', ]].join(dum).groupby(\n",
    "        ['SK_ID_CURR', 'SK_ID_PREV']).max().groupby(\n",
    "        'SK_ID_CURR').mean().reindex(application['SK_ID_CURR']).fillna(0)"
   ],
   "metadata": {
    "collapsed": false,
    "ExecuteTime": {
     "end_time": "2023-12-22T04:49:52.946759400Z",
     "start_time": "2023-12-22T04:49:52.925763800Z"
    }
   },
   "id": "1bff125cb366cbfd"
  },
  {
   "cell_type": "code",
   "execution_count": 71,
   "outputs": [],
   "source": [
    "def earliest_starting(POS_CASH_balance):\n",
    "    return POS_CASH_balance.groupby(['SK_ID_CURR', 'SK_ID_PREV'])['MONTHS_BALANCE'].min().abs().groupby(\n",
    "        'SK_ID_CURR').mean().reindex(application['SK_ID_CURR']).fillna(0).rename('POS_CASH_EARLIEST_STARTING')\n",
    "\n",
    "\n",
    "def latest_starting(POS_CASH_balance):\n",
    "    return POS_CASH_balance.groupby(['SK_ID_CURR', 'SK_ID_PREV'])['MONTHS_BALANCE'].max().abs().groupby(\n",
    "        'SK_ID_CURR').mean().reindex(application['SK_ID_CURR']).fillna(0).rename('POS_CASH_LATEST_STARTING')"
   ],
   "metadata": {
    "collapsed": false,
    "ExecuteTime": {
     "end_time": "2023-12-22T04:49:52.956792200Z",
     "start_time": "2023-12-22T04:49:52.943760Z"
    }
   },
   "id": "f2ef44d022082b7a"
  },
  {
   "cell_type": "code",
   "execution_count": 72,
   "outputs": [],
   "source": [
    "def cnt_installment_min_max_skew_count(POS_CASH_balance):\n",
    "    res = POS_CASH_balance.groupby(['SK_ID_CURR', 'SK_ID_PREV'])['CNT_INSTALMENT'].first()\n",
    "    res = res.groupby('SK_ID_CURR').agg(['min', 'max', 'skew', 'count'])\n",
    "    return res.reindex(application['SK_ID_CURR']).fillna(0).rename(columns={'min': 'POS_CASH_CNT_INSTALMENT_MIN',\n",
    "                                                                            'max': 'POS_CASH_CNT_INSTALMENT_MAX',\n",
    "                                                                            'skew': 'POS_CASH_CNT_INSTALMENT_SKEW',\n",
    "                                                                            'count': 'POS_CASH_CNT_INSTALMENT_COUNT'})"
   ],
   "metadata": {
    "collapsed": false,
    "ExecuteTime": {
     "end_time": "2023-12-22T04:49:52.974760200Z",
     "start_time": "2023-12-22T04:49:52.960761Z"
    }
   },
   "id": "c2e17415c67c0cd5"
  },
  {
   "cell_type": "code",
   "execution_count": 73,
   "outputs": [],
   "source": [
    "def max_col_min_max_avg_skew_count(POS_CASH_balance, col):\n",
    "    tmp = POS_CASH_balance.groupby(['SK_ID_PREV', 'SK_ID_CURR'])[col].max()\n",
    "    res = tmp.groupby('SK_ID_CURR').agg(['min', 'max', 'mean', 'skew'])\n",
    "    res['nonzero_count'] = tmp.groupby('SK_ID_CURR').apply(lambda x: (x != 0).sum())\n",
    "    return res.reindex(application['SK_ID_CURR']).fillna(0).rename(columns={'min': 'POS_CASH_MAX_' + col + '_MIN',\n",
    "                                                                            'max': 'POS_CASH_MAX_' + col + '_MAX',\n",
    "                                                                            'mean': 'POS_CASH_MAX_' + col + '_MEAN',\n",
    "                                                                            'skew': 'POS_CASH_MAX_' + col + '_SKEW',\n",
    "                                                                            'nonzero_count': 'POS_CASH_MAX_' + col + '_NON_0_COUNT'})"
   ],
   "metadata": {
    "collapsed": false,
    "ExecuteTime": {
     "end_time": "2023-12-22T04:49:53.024759800Z",
     "start_time": "2023-12-22T04:49:52.976763200Z"
    }
   },
   "id": "88ed9044b6f776da"
  },
  {
   "cell_type": "code",
   "execution_count": 76,
   "outputs": [
    {
     "name": "stderr",
     "output_type": "stream",
     "text": [
      "\n",
      "\n",
      "  0%|          | 0/5 [00:00<?, ?it/s]\u001B[A\u001B[A\n",
      "\n",
      " 20%|██        | 1/5 [00:00<00:02,  1.64it/s]\u001B[A\u001B[A\n",
      "\n",
      " 40%|████      | 2/5 [00:09<00:16,  5.50s/it]\u001B[A\u001B[A\n",
      "\n",
      " 60%|██████    | 3/5 [00:11<00:08,  4.01s/it]\u001B[A\u001B[A\n",
      "\n",
      " 80%|████████  | 4/5 [00:13<00:03,  3.28s/it]\u001B[A\u001B[A\n",
      "\n",
      "100%|██████████| 5/5 [01:20<00:00, 16.14s/it]\u001B[A\u001B[A\n",
      "\n",
      "\n",
      "  0%|          | 0/2 [00:00<?, ?it/s]\u001B[A\u001B[A\n",
      "\n",
      " 50%|█████     | 1/2 [02:20<02:20, 140.59s/it]\u001B[A\u001B[A\n",
      "\n",
      "100%|██████████| 2/2 [04:49<00:00, 144.90s/it]\u001B[A\u001B[A\n"
     ]
    }
   ],
   "source": [
    "pos_cash_balance_function_list = [POS_CASH_count,\n",
    "                                  contract_status,\n",
    "                                  earliest_starting,\n",
    "                                  latest_starting,\n",
    "                                  cnt_installment_min_max_skew_count]\n",
    "max_col_process_list = ['SK_DPD', 'SK_DPD_DEF']\n",
    "POS_CASH_balance_merging_res = pd.concat([func(POS_CASH_balance) for func in tqdm(pos_cash_balance_function_list)]\n",
    "                                         +[max_col_min_max_avg_skew_count(POS_CASH_balance,col_name) for col_name in tqdm(max_col_process_list)], axis=1)"
   ],
   "metadata": {
    "collapsed": false,
    "ExecuteTime": {
     "end_time": "2023-12-22T05:05:27.323043Z",
     "start_time": "2023-12-22T04:59:16.791425Z"
    }
   },
   "id": "841dee472f405ff5"
  },
  {
   "cell_type": "code",
   "execution_count": 77,
   "outputs": [
    {
     "data": {
      "text/plain": "(307511, 26)"
     },
     "execution_count": 77,
     "metadata": {},
     "output_type": "execute_result"
    }
   ],
   "source": [
    "POS_CASH_balance_merging_res.shape"
   ],
   "metadata": {
    "collapsed": false,
    "ExecuteTime": {
     "end_time": "2023-12-22T05:05:27.350085600Z",
     "start_time": "2023-12-22T05:05:27.326042300Z"
    }
   },
   "id": "2f622d9a99620862"
  },
  {
   "cell_type": "markdown",
   "source": [
    "## Cleaning Credit card data (Evelyne)"
   ],
   "metadata": {
    "collapsed": false
   },
   "id": "f518f665afa1fb98"
  },
  {
   "cell_type": "code",
   "execution_count": 78,
   "outputs": [],
   "source": [
    "# count for how many credit cart one have\n",
    "def prev_count(df:pd.DataFrame,col:str,name:str):\n",
    "    return df.groupby('SK_ID_CURR')[col].count().rename(f\"{name}_{col}_COUNT\").reindex(\n",
    "        application['SK_ID_CURR']).fillna(0)"
   ],
   "metadata": {
    "collapsed": false,
    "ExecuteTime": {
     "end_time": "2023-12-22T05:05:27.355084400Z",
     "start_time": "2023-12-22T05:05:27.342087600Z"
    }
   },
   "id": "44e3988341ca6453"
  },
  {
   "cell_type": "code",
   "execution_count": 79,
   "outputs": [],
   "source": [
    "def prev_aggregate_categorical(df, col,name):\n",
    "    \"\"\"first do value counts at previous id level, then do the same transformation at current id level\"\"\"\n",
    "    res = pd.get_dummies(df.groupby(['SK_ID_CURR', 'SK_ID_PREV'])[col].value_counts().unstack().fillna(0))\n",
    "    # aggregate by sum\n",
    "    res = res.groupby('SK_ID_CURR').sum()\n",
    "    res.columns = [name+'_'+col+'_'+str(col_name) for col_name in res.columns]\n",
    "    return res.reindex(application['SK_ID_CURR']).fillna(0)"
   ],
   "metadata": {
    "collapsed": false,
    "ExecuteTime": {
     "end_time": "2023-12-22T05:05:27.371084500Z",
     "start_time": "2023-12-22T05:05:27.359084600Z"
    }
   },
   "id": "d061646fbfbeb3e0"
  },
  {
   "cell_type": "code",
   "execution_count": 80,
   "outputs": [],
   "source": [
    "def prev_aggregate_max_sum(df, col,name):\n",
    "    \"\"\"first do max at previous id level, then do the sum at current id level\"\"\"\n",
    "    res = df.groupby(['SK_ID_CURR', 'SK_ID_PREV'])[col].max()\n",
    "    res = res.groupby('SK_ID_CURR').sum()\n",
    "    res.columns = [name+'_'+col+'_MAX_SUM']\n",
    "    return res.reindex(application['SK_ID_CURR']).fillna(0)"
   ],
   "metadata": {
    "collapsed": false,
    "ExecuteTime": {
     "end_time": "2023-12-22T05:05:27.387083200Z",
     "start_time": "2023-12-22T05:05:27.373083600Z"
    }
   },
   "id": "a34a3b2ac999a51d"
  },
  {
   "cell_type": "code",
   "execution_count": 81,
   "outputs": [],
   "source": [
    "def prev_aggregate_sum_mean_min_max(df, col,name):\n",
    "    \"\"\"first do sum mean min max at previous id level, then do the same transformation at current id level\"\"\"\n",
    "    res = df.groupby(['SK_ID_CURR', 'SK_ID_PREV'])[col].agg(['sum', 'mean', 'min', 'max']).reset_index()\n",
    "    res = res.groupby('SK_ID_CURR').agg({'sum': 'sum', 'mean': 'mean', 'min': 'min', 'max': 'max'})\n",
    "    res.columns = [name+'_'+col+'_'+col_name for col_name in res.columns]\n",
    "    return res.reindex(application['SK_ID_CURR']).fillna(0)"
   ],
   "metadata": {
    "collapsed": false,
    "ExecuteTime": {
     "end_time": "2023-12-22T05:05:27.406084Z",
     "start_time": "2023-12-22T05:05:27.390083800Z"
    }
   },
   "id": "29a2073f2ae501e9"
  },
  {
   "cell_type": "code",
   "execution_count": 82,
   "outputs": [],
   "source": [
    "def prev_aggregate_sum_mean_min_max_zero_count(creditcard, col,name):\n",
    "    \"\"\"first do min max sum zero count at previous id level, then do the same transformation at current id level\"\"\"\n",
    "    res = creditcard.groupby(['SK_ID_CURR', 'SK_ID_PREV'])[col].agg(['min', 'max', 'sum','mean'])\n",
    "    res['zero_count'] = creditcard.groupby(['SK_ID_CURR', 'SK_ID_PREV'])[col].apply(lambda x: (x == 0).sum())\n",
    "    res = res.groupby('SK_ID_CURR').agg({'min': 'min', 'max': 'max', 'sum': 'sum', 'mean':'mean','zero_count': 'mean'})\n",
    "    res.columns = [name+'_'+col+'_'+col_name for col_name in res.columns]\n",
    "    return res.reindex(application['SK_ID_CURR']).fillna(0)\n"
   ],
   "metadata": {
    "collapsed": false,
    "ExecuteTime": {
     "end_time": "2023-12-22T05:05:27.419082800Z",
     "start_time": "2023-12-22T05:05:27.404084Z"
    }
   },
   "id": "66c30ed2e15918f8"
  },
  {
   "cell_type": "code",
   "execution_count": 83,
   "outputs": [],
   "source": [
    "def prev_aggregate_max_col_min_max_avg_skew_count(df, col,name):\n",
    "    tmp = df.groupby(['SK_ID_PREV', 'SK_ID_CURR'])[col].max()\n",
    "    res = tmp.groupby('SK_ID_CURR').agg(['min', 'max', 'mean', 'skew'])\n",
    "    res['nonzero_count'] = tmp.groupby('SK_ID_CURR').apply(lambda x: (x != 0).sum())\n",
    "    return res.reindex(application['SK_ID_CURR']).fillna(0).rename(columns={'min': name+'_MAX_' + col + '_MIN',\n",
    "                                                                            'max': name+'_MAX_' + col + '_MAX',\n",
    "                                                                            'mean': name+'_MAX_' + col + '_MEAN',\n",
    "                                                                            'skew': name+'_MAX_' + col + '_SKEW',\n",
    "                                                                            'nonzero_count': name+'_MAX_' + col + '_NON_0_COUNT'})"
   ],
   "metadata": {
    "collapsed": false,
    "ExecuteTime": {
     "end_time": "2023-12-22T05:05:27.436084200Z",
     "start_time": "2023-12-22T05:05:27.421083Z"
    }
   },
   "id": "3323627091d64242"
  },
  {
   "cell_type": "code",
   "execution_count": 84,
   "outputs": [],
   "source": [
    "cc_aggregate_dic={\n",
    "    'SK_ID_PREV':'prev_count',\n",
    "    'AMT_BALANCE':'prev_aggregate_sum_mean_min_max',# take transformation at card level then same transformation for current id\n",
    "    'AMT_CREDIT_LIMIT_ACTUAL':'prev_aggregate_max_sum',# take max at card level then sum for current id\n",
    "    'AMT_DRAWINGS_ATM_CURRENT':'prev_aggregate_sum_mean_min_max_zero_count',# count the number of 0 atm drawings\n",
    "    'AMT_DRAWINGS_CURRENT':'prev_aggregate_sum_mean_min_max_zero_count',# count the number of 0 drawings\n",
    "    'AMT_DRAWINGS_POS_CURRENT':'prev_aggregate_sum_mean_min_max_zero_count',# count the number of 0 pos drawings\n",
    "    'AMT_DRAWINGS_OTHER_CURRENT':'prev_aggregate_sum_mean_min_max_zero_count',# count the number of 0 other drawings\n",
    "    'AMT_INST_MIN_REGULARITY':'prev_aggregate_sum_mean_min_max_zero_count',# count the number of 0 for not needing to pay installment\n",
    "    'AMT_PAYMENT_CURRENT':'prev_aggregate_max_sum',# take the max then sum among cards. instant payment ability\n",
    "    'AMT_PAYMENT_TOTAL_CURRENT':'prev_aggregate_max_sum',# take the max then sum among cards. total payment ability\n",
    "    'AMT_RECEIVABLE_PRINCIPAL':'prev_aggregate_sum_mean_min_max',# take transformation at card level then same transformation for current id\n",
    "    'AMT_RECIVABLE':'prev_aggregate_sum_mean_min_max',# take transformation at card level then same transformation for current id\n",
    "    'AMT_TOTAL_RECEIVABLE':'prev_aggregate_sum_mean_min_max',# take transformation at card level then same transformation for current id\n",
    "    'CNT_DRAWINGS_ATM_CURRENT':'prev_aggregate_max_sum',# take the max then sum among cards. max atm drawings\n",
    "    'CNT_DRAWINGS_CURRENT':'prev_aggregate_max_sum',# take the max then sum among cards. max drawings\n",
    "    'CNT_DRAWINGS_POS_CURRENT':'prev_aggregate_max_sum',# take the max then sum among cards. max pos drawings\n",
    "    'CNT_INSTALMENT_MATURE_CUM':'prev_aggregate_max_sum',# take the max then sum among cards. max installment mature cum\n",
    "    'NAME_CONTRACT_STATUS':'prev_aggregate_categorical',# take value counts at card level then same transformation for current id\n",
    "    'SK_DPD':'prev_aggregate_max_col_min_max_avg_skew_count',# count the number of 0 dpd\n",
    "    'SK_DPD_DEF':'prev_aggregate_max_col_min_max_avg_skew_count'# count the number of 0 dpd def\n",
    "}"
   ],
   "metadata": {
    "collapsed": false,
    "ExecuteTime": {
     "end_time": "2023-12-22T05:05:27.452082800Z",
     "start_time": "2023-12-22T05:05:27.437083500Z"
    }
   },
   "id": "f693df2c5005e33c"
  },
  {
   "cell_type": "code",
   "execution_count": 85,
   "outputs": [
    {
     "name": "stderr",
     "output_type": "stream",
     "text": [
      "\n",
      "\n",
      "  0%|          | 0/20 [00:00<?, ?it/s]\u001B[A\u001B[A\n",
      "\n",
      " 40%|████      | 8/20 [00:03<00:05,  2.34it/s]\u001B[A\u001B[A\n",
      "\n",
      " 60%|██████    | 12/20 [00:35<00:28,  3.55s/it]\u001B[A\u001B[A\n",
      "\n",
      " 80%|████████  | 16/20 [00:38<00:10,  2.53s/it]\u001B[A\u001B[A\n",
      "\n",
      "100%|██████████| 20/20 [00:41<00:00,  2.10s/it]\u001B[A\u001B[A\n"
     ]
    }
   ],
   "source": [
    "credit_card_balance_merging_res = Parallel(n_jobs=4)(\n",
    "    delayed(eval(cc_aggregate_dic[col]))(credit_card_balance, col,'CC') for col in tqdm(cc_aggregate_dic.keys()))"
   ],
   "metadata": {
    "collapsed": false,
    "ExecuteTime": {
     "end_time": "2023-12-22T05:07:04.659331400Z",
     "start_time": "2023-12-22T05:05:27.455083200Z"
    }
   },
   "id": "c5840c738710562d"
  },
  {
   "cell_type": "code",
   "execution_count": 86,
   "outputs": [],
   "source": [
    "credit_card_balance_merging_res = pd.concat(credit_card_balance_merging_res, axis=1)\n"
   ],
   "metadata": {
    "collapsed": false,
    "ExecuteTime": {
     "end_time": "2023-12-22T05:07:04.723331800Z",
     "start_time": "2023-12-22T05:07:04.661331200Z"
    }
   },
   "id": "ca67028e660fa6aa"
  },
  {
   "cell_type": "code",
   "execution_count": 87,
   "outputs": [
    {
     "data": {
      "text/plain": "(307511, 66)"
     },
     "execution_count": 87,
     "metadata": {},
     "output_type": "execute_result"
    }
   ],
   "source": [
    "credit_card_balance_merging_res.shape"
   ],
   "metadata": {
    "collapsed": false,
    "ExecuteTime": {
     "end_time": "2023-12-22T05:07:04.738331400Z",
     "start_time": "2023-12-22T05:07:04.725335400Z"
    }
   },
   "id": "8c63d43d7fc1f468"
  },
  {
   "cell_type": "markdown",
   "source": [
    "## Cleaning Installment data (Kai)"
   ],
   "metadata": {
    "collapsed": false
   },
   "id": "17c4a1d0064a4242"
  },
  {
   "cell_type": "code",
   "execution_count": 88,
   "outputs": [],
   "source": [
    "def prev_aggregate_nunique(df, col,name):\n",
    "    res = df.groupby('SK_ID_CURR')[col].nunique()\n",
    "    return res.reindex(application['SK_ID_CURR']).fillna(0).rename(name+'_'+col+'_nunique')"
   ],
   "metadata": {
    "collapsed": false,
    "ExecuteTime": {
     "end_time": "2023-12-22T05:07:04.754334100Z",
     "start_time": "2023-12-22T05:07:04.740331100Z"
    }
   },
   "id": "3a993dc689abe5eb"
  },
  {
   "cell_type": "code",
   "execution_count": 89,
   "outputs": [],
   "source": [
    "def prev_aggregate_diff_sum_mean_min_max_zero_larger_count(df, col1,col2,name):\n",
    "    res = df.loc[:,['SK_ID_CURR','SK_ID_PREV']].copy()\n",
    "    res['diff']=df[col1]-df[col2]\n",
    "    res['zero_larger']=res['diff'].apply(lambda x: 1 if x>=0 else 0)\n",
    "    res = res.groupby(['SK_ID_CURR','SK_ID_PREV']).agg({'diff':['sum','mean','min','max','skew'],'zero_larger':'sum'})\n",
    "    res.columns = res.columns.get_level_values(0)+'_'+res.columns.get_level_values(1)\n",
    "    res = res.groupby('SK_ID_CURR').agg({'diff_sum':'sum','diff_mean':'mean','diff_min':'min','diff_max':'max','diff_skew':'skew','zero_larger_sum':'sum'})\n",
    "    res.columns = [name+'_'+col1+'_'+col2+'_'+col_name for col_name in res.columns]\n",
    "    return res.reindex(application['SK_ID_CURR']).fillna(0)"
   ],
   "metadata": {
    "collapsed": false,
    "ExecuteTime": {
     "end_time": "2023-12-22T05:07:04.770331900Z",
     "start_time": "2023-12-22T05:07:04.759333900Z"
    }
   },
   "id": "337542005eb6e295"
  },
  {
   "cell_type": "code",
   "execution_count": 90,
   "outputs": [],
   "source": [
    "# prev_aggregate_diff_sum_mean_min_max_zero_larger_count(installments_payments,'DAYS_INSTALMENT','DAYS_ENTRY_PAYMENT','INS')"
   ],
   "metadata": {
    "collapsed": false,
    "ExecuteTime": {
     "end_time": "2023-12-22T05:07:04.787478100Z",
     "start_time": "2023-12-22T05:07:04.771334600Z"
    }
   },
   "id": "44a20543e45fdd7f"
  },
  {
   "cell_type": "code",
   "execution_count": 91,
   "outputs": [],
   "source": [
    "ins_aggregate_dic={\n",
    "    'SK_ID_PREV':'prev_count',\n",
    "    'NUM_INSTALMENT_VERSION':'prev_aggregate_nunique',\n",
    "    'DAYS_INSTALMENT':'prev_aggregate_sum_mean_min_max_zero_count',\n",
    "    'DAYS_ENTRY_PAYMENT':'prev_aggregate_sum_mean_min_max_zero_count',\n",
    "    'AMT_INSTALMENT':'prev_aggregate_sum_mean_min_max',# there is no 0 installment\n",
    "    'AMT_PAYMENT':'prev_aggregate_sum_mean_min_max',# there is no 0 installment\n",
    "}\n",
    "ins_aggregate_diff_dic={\n",
    "    'DAYS_INSTALMENT':'DAYS_ENTRY_PAYMENT',\n",
    "    'AMT_INSTALMENT':'AMT_PAYMENT',\n",
    "}"
   ],
   "metadata": {
    "collapsed": false,
    "ExecuteTime": {
     "end_time": "2023-12-22T05:07:04.799637400Z",
     "start_time": "2023-12-22T05:07:04.787478100Z"
    }
   },
   "id": "9466a3c3a9ec0080"
  },
  {
   "cell_type": "code",
   "execution_count": 92,
   "outputs": [
    {
     "name": "stderr",
     "output_type": "stream",
     "text": [
      "\n",
      "\n",
      "100%|██████████| 6/6 [00:00<00:00, 2999.86it/s]\n",
      "\n",
      "\n",
      "100%|██████████| 2/2 [00:00<00:00, 2004.45it/s]\n"
     ]
    }
   ],
   "source": [
    "installments_payments_merging_res = Parallel(n_jobs=4)(\n",
    "    delayed(eval(ins_aggregate_dic[col]))(installments_payments, col,'INS') for col in tqdm(ins_aggregate_dic.keys()))\n",
    "installments_payments_merging_res+=Parallel(n_jobs=4)(\n",
    "    delayed(prev_aggregate_diff_sum_mean_min_max_zero_larger_count)(installments_payments, col1,col2,'INS') for col1,col2 in tqdm(ins_aggregate_diff_dic.items()))"
   ],
   "metadata": {
    "collapsed": false,
    "ExecuteTime": {
     "end_time": "2023-12-22T05:15:41.333691600Z",
     "start_time": "2023-12-22T05:07:04.803635400Z"
    }
   },
   "id": "dc4978716fd69e03"
  },
  {
   "cell_type": "code",
   "execution_count": 93,
   "outputs": [],
   "source": [
    "installments_payments_merging_res = pd.concat(installments_payments_merging_res, axis=1)"
   ],
   "metadata": {
    "collapsed": false,
    "ExecuteTime": {
     "end_time": "2023-12-22T05:15:41.404674600Z",
     "start_time": "2023-12-22T05:15:41.334674100Z"
    }
   },
   "id": "bc0e78d6838c2472"
  },
  {
   "cell_type": "code",
   "execution_count": 94,
   "outputs": [
    {
     "data": {
      "text/plain": "(307511, 32)"
     },
     "execution_count": 94,
     "metadata": {},
     "output_type": "execute_result"
    }
   ],
   "source": [
    "installments_payments_merging_res.shape"
   ],
   "metadata": {
    "collapsed": false,
    "ExecuteTime": {
     "end_time": "2023-12-22T05:15:41.443672600Z",
     "start_time": "2023-12-22T05:15:41.382671400Z"
    }
   },
   "id": "bb3521631b6e75e7"
  },
  {
   "cell_type": "markdown",
   "source": [
    "## Cleaning Previous application data (Nicola)"
   ],
   "metadata": {
    "collapsed": false
   },
   "id": "384167cb78bd991c"
  },
  {
   "cell_type": "code",
   "execution_count": 95,
   "outputs": [],
   "source": [
    "def prev_aggregate_min_max_sum_mean_NA_count(df, col,name):\n",
    "    if 'DAYS' in col:\n",
    "        # fixing the na as 365243 problem\n",
    "        res = df.loc[:,['SK_ID_CURR','SK_ID_PREV',col]].copy()\n",
    "        res = res.replace(365243,np.nan)\n",
    "    else:\n",
    "        res = df.loc[:,['SK_ID_CURR','SK_ID_PREV',col]].copy()\n",
    "    res = res.groupby(['SK_ID_CURR', 'SK_ID_PREV'])[col].agg(['min', 'max', 'sum', 'mean'])\n",
    "    res['NA_count'] = df.groupby(['SK_ID_CURR', 'SK_ID_PREV'])[col].apply(lambda x: x.isnull().sum())\n",
    "    res = res.groupby('SK_ID_CURR').agg({'min': 'min', 'max': 'max', 'sum': 'sum', 'mean': 'mean', 'NA_count': 'mean'})\n",
    "    res.columns = [name+'_'+col+'_'+col_name for col_name in res.columns]\n",
    "    return res.reindex(application['SK_ID_CURR']).fillna(0)"
   ],
   "metadata": {
    "collapsed": false,
    "ExecuteTime": {
     "end_time": "2023-12-22T05:15:41.519671500Z",
     "start_time": "2023-12-22T05:15:41.400671200Z"
    }
   },
   "id": "23d853d00e281c45"
  },
  {
   "cell_type": "code",
   "execution_count": 96,
   "outputs": [],
   "source": [
    "def prev_aggregate_workday_weekend(df, col,name):\n",
    "    res = pd.DataFrame(df.loc[:,'SK_ID_CURR']).join(pd.get_dummies(df[col].apply(lambda x: 'Workday' if x in ['MONDAY','TUESDAY','WEDNESDAY','THURSDAY','FRIDAY'] else 'Weekend')))\n",
    "    res = res.groupby('SK_ID_CURR').sum()\n",
    "    return res.reindex(application['SK_ID_CURR']).fillna(0).rename(columns={0:name+'_'+col+'_Weekend',1:name+'_'+col+'_Workday'})"
   ],
   "metadata": {
    "collapsed": false,
    "ExecuteTime": {
     "end_time": "2023-12-22T05:15:41.524672500Z",
     "start_time": "2023-12-22T05:15:41.416672700Z"
    }
   },
   "id": "2669a19bb3896806"
  },
  {
   "cell_type": "code",
   "execution_count": 97,
   "outputs": [],
   "source": [
    "def prev_aggregate_hours_of_day(df, col,name):\n",
    "    res = pd.DataFrame(df.loc[:,'SK_ID_CURR']).join(pd.get_dummies(df[col].apply(lambda x: 'morning' if x>12 else 'afternoon')))\n",
    "    res = res.groupby('SK_ID_CURR').sum()\n",
    "    return res.reindex(application['SK_ID_CURR']).fillna(0).rename(columns={0:name+'_'+col+'_afternoon',1:name+'_'+col+'_morning'})    "
   ],
   "metadata": {
    "collapsed": false,
    "ExecuteTime": {
     "end_time": "2023-12-22T05:15:41.564705900Z",
     "start_time": "2023-12-22T05:15:41.429671500Z"
    }
   },
   "id": "28214d594ba66093"
  },
  {
   "cell_type": "code",
   "execution_count": 98,
   "outputs": [],
   "source": [
    "prev_app_aggregate_dic={\n",
    "    'SK_ID_PREV':'prev_count',\n",
    "    'NAME_CONTRACT_TYPE':'prev_aggregate_categorical',\n",
    "    'AMT_ANNUITY':'prev_aggregate_sum_mean_min_max',\n",
    "    'AMT_APPLICATION':'prev_aggregate_sum_mean_min_max',\n",
    "    'AMT_CREDIT':'prev_aggregate_sum_mean_min_max',\n",
    "    'AMT_DOWN_PAYMENT':'prev_aggregate_min_max_sum_mean_NA_count',\n",
    "    'AMT_GOODS_PRICE':'prev_aggregate_sum_mean_min_max',\n",
    "    'WEEKDAY_APPR_PROCESS_START':'prev_aggregate_workday_weekend',\n",
    "    'HOUR_APPR_PROCESS_START':'prev_aggregate_hours_of_day',\n",
    "    'FLAG_LAST_APPL_PER_CONTRACT':'prev_aggregate_categorical',\n",
    "    # 'NFLAG_LAST_APPL_IN_DAY':'prev_aggregate_categorical',# we dont want this: error in system, 3% difference\n",
    "    'RATE_DOWN_PAYMENT':'prev_aggregate_min_max_sum_mean_NA_count',\n",
    "    'RATE_INTEREST_PRIMARY':'prev_aggregate_min_max_sum_mean_NA_count',\n",
    "    'RATE_INTEREST_PRIVILEGED':'prev_aggregate_min_max_sum_mean_NA_count',\n",
    "    'NAME_CASH_LOAN_PURPOSE':'prev_aggregate_categorical',\n",
    "    'NAME_CONTRACT_STATUS':'prev_aggregate_categorical',\n",
    "    'DAYS_DECISION':'prev_aggregate_min_max_sum_mean_NA_count',\n",
    "    'NAME_PAYMENT_TYPE':'prev_aggregate_categorical',\n",
    "    'CODE_REJECT_REASON':'prev_aggregate_categorical',\n",
    "    'NAME_TYPE_SUITE':'prev_aggregate_categorical',\n",
    "    'NAME_CLIENT_TYPE':'prev_aggregate_categorical',\n",
    "    'NAME_GOODS_CATEGORY':'prev_aggregate_categorical',\n",
    "    'NAME_PORTFOLIO':'prev_aggregate_categorical',\n",
    "    'NAME_PRODUCT_TYPE':'prev_aggregate_categorical',\n",
    "    'CHANNEL_TYPE':'prev_aggregate_categorical',\n",
    "    'SELLERPLACE_AREA':'prev_aggregate_sum_mean_min_max',\n",
    "    'NAME_SELLER_INDUSTRY':'prev_aggregate_categorical',\n",
    "    'CNT_PAYMENT':'prev_aggregate_sum_mean_min_max',\n",
    "    'NAME_YIELD_GROUP':'prev_aggregate_categorical',\n",
    "    'PRODUCT_COMBINATION':'prev_aggregate_categorical',\n",
    "    'DAYS_FIRST_DRAWING':'prev_aggregate_min_max_sum_mean_NA_count',\n",
    "    'DAYS_FIRST_DUE':'prev_aggregate_min_max_sum_mean_NA_count',\n",
    "    'DAYS_LAST_DUE_1ST_VERSION':'prev_aggregate_min_max_sum_mean_NA_count',\n",
    "    'DAYS_LAST_DUE':'prev_aggregate_min_max_sum_mean_NA_count',\n",
    "    'DAYS_TERMINATION':'prev_aggregate_min_max_sum_mean_NA_count',\n",
    "    'NFLAG_INSURED_ON_APPROVAL':'prev_aggregate_categorical',\n",
    "}\n",
    "prev_app_aggregate_diff_dic={\n",
    "    'AMT_APPLICATION':'AMT_CREDIT',\n",
    "    'AMT_APPLICATION':'AMT_GOODS_PRICE',\n",
    "    \n",
    "}"
   ],
   "metadata": {
    "collapsed": false,
    "ExecuteTime": {
     "end_time": "2023-12-22T05:15:41.643709600Z",
     "start_time": "2023-12-22T05:15:41.454671900Z"
    }
   },
   "id": "13512fb28ea64c81"
  },
  {
   "cell_type": "code",
   "execution_count": 99,
   "outputs": [
    {
     "name": "stderr",
     "output_type": "stream",
     "text": [
      "\n",
      "\n",
      "  0%|          | 0/35 [00:00<?, ?it/s]\u001B[A\u001B[A\n",
      "\n",
      " 23%|██▎       | 8/35 [00:05<00:19,  1.40it/s]\u001B[A\u001B[A\n",
      "\n",
      " 34%|███▍      | 12/35 [00:15<00:34,  1.48s/it]\u001B[A\u001B[A\n",
      "\n",
      " 46%|████▌     | 16/35 [00:27<00:37,  1.98s/it]\u001B[A\u001B[A\n",
      "\n",
      " 57%|█████▋    | 20/35 [07:08<09:02, 36.16s/it]\u001B[A\u001B[A\n",
      "\n",
      " 69%|██████▊   | 24/35 [07:20<04:36, 25.18s/it]\u001B[A\u001B[A\n",
      "\n",
      " 80%|████████  | 28/35 [07:30<02:05, 17.89s/it]\u001B[A\u001B[A\n",
      "\n",
      " 83%|████████▎ | 29/35 [07:32<01:37, 16.24s/it]\u001B[A\u001B[A\n",
      "\n",
      "100%|██████████| 35/35 [07:42<00:00, 13.22s/it]\u001B[A\u001B[A\n",
      "\n",
      "\n",
      "100%|██████████| 1/1 [00:00<00:00, 1001.51it/s]\n"
     ]
    }
   ],
   "source": [
    "previous_application_merging_res = Parallel(n_jobs=4)(\n",
    "    delayed(eval(prev_app_aggregate_dic[col]))(previous_application, col,'PREV_APP') for col in tqdm(prev_app_aggregate_dic.keys()))\n",
    "previous_application_merging_res+=Parallel(n_jobs=4)(\n",
    "    delayed(prev_aggregate_diff_sum_mean_min_max_zero_larger_count)(previous_application, col1,col2,'PREV_APP') for col1,col2 in tqdm(prev_app_aggregate_diff_dic.items()))"
   ],
   "metadata": {
    "collapsed": false,
    "ExecuteTime": {
     "end_time": "2023-12-22T05:39:55.560344400Z",
     "start_time": "2023-12-22T05:15:41.479671700Z"
    }
   },
   "id": "2fe9d40949e0912"
  },
  {
   "cell_type": "code",
   "execution_count": 100,
   "outputs": [],
   "source": [
    "previous_application_merging_res = pd.concat(previous_application_merging_res, axis=1)"
   ],
   "metadata": {
    "collapsed": false,
    "ExecuteTime": {
     "end_time": "2023-12-22T05:39:55.766068800Z",
     "start_time": "2023-12-22T05:39:55.570067900Z"
    }
   },
   "id": "274abc09bfadc0da"
  },
  {
   "cell_type": "code",
   "execution_count": 101,
   "outputs": [
    {
     "data": {
      "text/plain": "(307511, 223)"
     },
     "execution_count": 101,
     "metadata": {},
     "output_type": "execute_result"
    }
   ],
   "source": [
    "previous_application_merging_res.shape"
   ],
   "metadata": {
    "collapsed": false,
    "ExecuteTime": {
     "end_time": "2023-12-22T05:39:55.801070500Z",
     "start_time": "2023-12-22T05:39:55.768079500Z"
    }
   },
   "id": "b1915f0d47ee2b4d"
  },
  {
   "cell_type": "markdown",
   "source": [
    "## Cleaning Application data (Kevin)"
   ],
   "metadata": {
    "collapsed": false
   },
   "id": "907093003eff8180"
  },
  {
   "cell_type": "code",
   "execution_count": 179,
   "outputs": [
    {
     "data": {
      "text/plain": "        SK_ID_CURR  TARGET NAME_CONTRACT_TYPE CODE_GENDER FLAG_OWN_CAR  \\\n0           100002       1         Cash loans           M            N   \n1           100003       0         Cash loans           F            N   \n2           100004       0    Revolving loans           M            Y   \n3           100006       0         Cash loans           F            N   \n4           100007       0         Cash loans           M            N   \n...            ...     ...                ...         ...          ...   \n307506      456251       0         Cash loans           M            N   \n307507      456252       0         Cash loans           F            N   \n307508      456253       0         Cash loans           F            N   \n307509      456254       1         Cash loans           F            N   \n307510      456255       0         Cash loans           F            N   \n\n       FLAG_OWN_REALTY  CNT_CHILDREN  AMT_INCOME_TOTAL  AMT_CREDIT  \\\n0                    Y             0          202500.0    406597.5   \n1                    N             0          270000.0   1293502.5   \n2                    Y             0           67500.0    135000.0   \n3                    Y             0          135000.0    312682.5   \n4                    Y             0          121500.0    513000.0   \n...                ...           ...               ...         ...   \n307506               N             0          157500.0    254700.0   \n307507               Y             0           72000.0    269550.0   \n307508               Y             0          153000.0    677664.0   \n307509               Y             0          171000.0    370107.0   \n307510               N             0          157500.0    675000.0   \n\n        AMT_ANNUITY  ...  FLAG_DOCUMENT_18 FLAG_DOCUMENT_19 FLAG_DOCUMENT_20  \\\n0           24700.5  ...                 0                0                0   \n1           35698.5  ...                 0                0                0   \n2            6750.0  ...                 0                0                0   \n3           29686.5  ...                 0                0                0   \n4           21865.5  ...                 0                0                0   \n...             ...  ...               ...              ...              ...   \n307506      27558.0  ...                 0                0                0   \n307507      12001.5  ...                 0                0                0   \n307508      29979.0  ...                 0                0                0   \n307509      20205.0  ...                 0                0                0   \n307510      49117.5  ...                 0                0                0   \n\n       FLAG_DOCUMENT_21 AMT_REQ_CREDIT_BUREAU_HOUR AMT_REQ_CREDIT_BUREAU_DAY  \\\n0                     0                        0.0                       0.0   \n1                     0                        0.0                       0.0   \n2                     0                        0.0                       0.0   \n3                     0                        NaN                       NaN   \n4                     0                        0.0                       0.0   \n...                 ...                        ...                       ...   \n307506                0                        NaN                       NaN   \n307507                0                        NaN                       NaN   \n307508                0                        1.0                       0.0   \n307509                0                        0.0                       0.0   \n307510                0                        0.0                       0.0   \n\n        AMT_REQ_CREDIT_BUREAU_WEEK  AMT_REQ_CREDIT_BUREAU_MON  \\\n0                              0.0                        0.0   \n1                              0.0                        0.0   \n2                              0.0                        0.0   \n3                              NaN                        NaN   \n4                              0.0                        0.0   \n...                            ...                        ...   \n307506                         NaN                        NaN   \n307507                         NaN                        NaN   \n307508                         0.0                        1.0   \n307509                         0.0                        0.0   \n307510                         0.0                        2.0   \n\n        AMT_REQ_CREDIT_BUREAU_QRT  AMT_REQ_CREDIT_BUREAU_YEAR  \n0                             0.0                         1.0  \n1                             0.0                         0.0  \n2                             0.0                         0.0  \n3                             NaN                         NaN  \n4                             0.0                         0.0  \n...                           ...                         ...  \n307506                        NaN                         NaN  \n307507                        NaN                         NaN  \n307508                        0.0                         1.0  \n307509                        0.0                         0.0  \n307510                        0.0                         1.0  \n\n[307511 rows x 122 columns]",
      "text/html": "<div>\n<style scoped>\n    .dataframe tbody tr th:only-of-type {\n        vertical-align: middle;\n    }\n\n    .dataframe tbody tr th {\n        vertical-align: top;\n    }\n\n    .dataframe thead th {\n        text-align: right;\n    }\n</style>\n<table border=\"1\" class=\"dataframe\">\n  <thead>\n    <tr style=\"text-align: right;\">\n      <th></th>\n      <th>SK_ID_CURR</th>\n      <th>TARGET</th>\n      <th>NAME_CONTRACT_TYPE</th>\n      <th>CODE_GENDER</th>\n      <th>FLAG_OWN_CAR</th>\n      <th>FLAG_OWN_REALTY</th>\n      <th>CNT_CHILDREN</th>\n      <th>AMT_INCOME_TOTAL</th>\n      <th>AMT_CREDIT</th>\n      <th>AMT_ANNUITY</th>\n      <th>...</th>\n      <th>FLAG_DOCUMENT_18</th>\n      <th>FLAG_DOCUMENT_19</th>\n      <th>FLAG_DOCUMENT_20</th>\n      <th>FLAG_DOCUMENT_21</th>\n      <th>AMT_REQ_CREDIT_BUREAU_HOUR</th>\n      <th>AMT_REQ_CREDIT_BUREAU_DAY</th>\n      <th>AMT_REQ_CREDIT_BUREAU_WEEK</th>\n      <th>AMT_REQ_CREDIT_BUREAU_MON</th>\n      <th>AMT_REQ_CREDIT_BUREAU_QRT</th>\n      <th>AMT_REQ_CREDIT_BUREAU_YEAR</th>\n    </tr>\n  </thead>\n  <tbody>\n    <tr>\n      <th>0</th>\n      <td>100002</td>\n      <td>1</td>\n      <td>Cash loans</td>\n      <td>M</td>\n      <td>N</td>\n      <td>Y</td>\n      <td>0</td>\n      <td>202500.0</td>\n      <td>406597.5</td>\n      <td>24700.5</td>\n      <td>...</td>\n      <td>0</td>\n      <td>0</td>\n      <td>0</td>\n      <td>0</td>\n      <td>0.0</td>\n      <td>0.0</td>\n      <td>0.0</td>\n      <td>0.0</td>\n      <td>0.0</td>\n      <td>1.0</td>\n    </tr>\n    <tr>\n      <th>1</th>\n      <td>100003</td>\n      <td>0</td>\n      <td>Cash loans</td>\n      <td>F</td>\n      <td>N</td>\n      <td>N</td>\n      <td>0</td>\n      <td>270000.0</td>\n      <td>1293502.5</td>\n      <td>35698.5</td>\n      <td>...</td>\n      <td>0</td>\n      <td>0</td>\n      <td>0</td>\n      <td>0</td>\n      <td>0.0</td>\n      <td>0.0</td>\n      <td>0.0</td>\n      <td>0.0</td>\n      <td>0.0</td>\n      <td>0.0</td>\n    </tr>\n    <tr>\n      <th>2</th>\n      <td>100004</td>\n      <td>0</td>\n      <td>Revolving loans</td>\n      <td>M</td>\n      <td>Y</td>\n      <td>Y</td>\n      <td>0</td>\n      <td>67500.0</td>\n      <td>135000.0</td>\n      <td>6750.0</td>\n      <td>...</td>\n      <td>0</td>\n      <td>0</td>\n      <td>0</td>\n      <td>0</td>\n      <td>0.0</td>\n      <td>0.0</td>\n      <td>0.0</td>\n      <td>0.0</td>\n      <td>0.0</td>\n      <td>0.0</td>\n    </tr>\n    <tr>\n      <th>3</th>\n      <td>100006</td>\n      <td>0</td>\n      <td>Cash loans</td>\n      <td>F</td>\n      <td>N</td>\n      <td>Y</td>\n      <td>0</td>\n      <td>135000.0</td>\n      <td>312682.5</td>\n      <td>29686.5</td>\n      <td>...</td>\n      <td>0</td>\n      <td>0</td>\n      <td>0</td>\n      <td>0</td>\n      <td>NaN</td>\n      <td>NaN</td>\n      <td>NaN</td>\n      <td>NaN</td>\n      <td>NaN</td>\n      <td>NaN</td>\n    </tr>\n    <tr>\n      <th>4</th>\n      <td>100007</td>\n      <td>0</td>\n      <td>Cash loans</td>\n      <td>M</td>\n      <td>N</td>\n      <td>Y</td>\n      <td>0</td>\n      <td>121500.0</td>\n      <td>513000.0</td>\n      <td>21865.5</td>\n      <td>...</td>\n      <td>0</td>\n      <td>0</td>\n      <td>0</td>\n      <td>0</td>\n      <td>0.0</td>\n      <td>0.0</td>\n      <td>0.0</td>\n      <td>0.0</td>\n      <td>0.0</td>\n      <td>0.0</td>\n    </tr>\n    <tr>\n      <th>...</th>\n      <td>...</td>\n      <td>...</td>\n      <td>...</td>\n      <td>...</td>\n      <td>...</td>\n      <td>...</td>\n      <td>...</td>\n      <td>...</td>\n      <td>...</td>\n      <td>...</td>\n      <td>...</td>\n      <td>...</td>\n      <td>...</td>\n      <td>...</td>\n      <td>...</td>\n      <td>...</td>\n      <td>...</td>\n      <td>...</td>\n      <td>...</td>\n      <td>...</td>\n      <td>...</td>\n    </tr>\n    <tr>\n      <th>307506</th>\n      <td>456251</td>\n      <td>0</td>\n      <td>Cash loans</td>\n      <td>M</td>\n      <td>N</td>\n      <td>N</td>\n      <td>0</td>\n      <td>157500.0</td>\n      <td>254700.0</td>\n      <td>27558.0</td>\n      <td>...</td>\n      <td>0</td>\n      <td>0</td>\n      <td>0</td>\n      <td>0</td>\n      <td>NaN</td>\n      <td>NaN</td>\n      <td>NaN</td>\n      <td>NaN</td>\n      <td>NaN</td>\n      <td>NaN</td>\n    </tr>\n    <tr>\n      <th>307507</th>\n      <td>456252</td>\n      <td>0</td>\n      <td>Cash loans</td>\n      <td>F</td>\n      <td>N</td>\n      <td>Y</td>\n      <td>0</td>\n      <td>72000.0</td>\n      <td>269550.0</td>\n      <td>12001.5</td>\n      <td>...</td>\n      <td>0</td>\n      <td>0</td>\n      <td>0</td>\n      <td>0</td>\n      <td>NaN</td>\n      <td>NaN</td>\n      <td>NaN</td>\n      <td>NaN</td>\n      <td>NaN</td>\n      <td>NaN</td>\n    </tr>\n    <tr>\n      <th>307508</th>\n      <td>456253</td>\n      <td>0</td>\n      <td>Cash loans</td>\n      <td>F</td>\n      <td>N</td>\n      <td>Y</td>\n      <td>0</td>\n      <td>153000.0</td>\n      <td>677664.0</td>\n      <td>29979.0</td>\n      <td>...</td>\n      <td>0</td>\n      <td>0</td>\n      <td>0</td>\n      <td>0</td>\n      <td>1.0</td>\n      <td>0.0</td>\n      <td>0.0</td>\n      <td>1.0</td>\n      <td>0.0</td>\n      <td>1.0</td>\n    </tr>\n    <tr>\n      <th>307509</th>\n      <td>456254</td>\n      <td>1</td>\n      <td>Cash loans</td>\n      <td>F</td>\n      <td>N</td>\n      <td>Y</td>\n      <td>0</td>\n      <td>171000.0</td>\n      <td>370107.0</td>\n      <td>20205.0</td>\n      <td>...</td>\n      <td>0</td>\n      <td>0</td>\n      <td>0</td>\n      <td>0</td>\n      <td>0.0</td>\n      <td>0.0</td>\n      <td>0.0</td>\n      <td>0.0</td>\n      <td>0.0</td>\n      <td>0.0</td>\n    </tr>\n    <tr>\n      <th>307510</th>\n      <td>456255</td>\n      <td>0</td>\n      <td>Cash loans</td>\n      <td>F</td>\n      <td>N</td>\n      <td>N</td>\n      <td>0</td>\n      <td>157500.0</td>\n      <td>675000.0</td>\n      <td>49117.5</td>\n      <td>...</td>\n      <td>0</td>\n      <td>0</td>\n      <td>0</td>\n      <td>0</td>\n      <td>0.0</td>\n      <td>0.0</td>\n      <td>0.0</td>\n      <td>2.0</td>\n      <td>0.0</td>\n      <td>1.0</td>\n    </tr>\n  </tbody>\n</table>\n<p>307511 rows × 122 columns</p>\n</div>"
     },
     "execution_count": 179,
     "metadata": {},
     "output_type": "execute_result"
    }
   ],
   "source": [
    "application"
   ],
   "metadata": {
    "collapsed": false,
    "ExecuteTime": {
     "end_time": "2023-12-22T06:55:35.380466400Z",
     "start_time": "2023-12-22T06:55:34.869440800Z"
    }
   },
   "id": "180bca17d1fe03c5"
  },
  {
   "cell_type": "code",
   "execution_count": 180,
   "outputs": [],
   "source": [
    "def aggregate_flag(df, col,name):\n",
    "    \"\"\"ONLY use for binary flag, transfer to 1 and 0\"\"\"\n",
    "    assert len(df[col].unique()) == 2\n",
    "    one_name = df[col].unique()[0]\n",
    "    res = df.loc[:, ['SK_ID_CURR', col]].copy()\n",
    "    res[col] = res[col].apply(lambda x: 1 if x == one_name else 0)\n",
    "    return res.set_index('SK_ID_CURR').rename(columns={col: name+'_'+col})"
   ],
   "metadata": {
    "collapsed": false,
    "ExecuteTime": {
     "end_time": "2023-12-22T06:55:35.418432800Z",
     "start_time": "2023-12-22T06:55:35.353434400Z"
    }
   },
   "id": "84676c2b99f8ebc6"
  },
  {
   "cell_type": "code",
   "execution_count": 181,
   "outputs": [],
   "source": [
    "def do_nothing(df, col,name):\n",
    "    res = df.loc[:, ['SK_ID_CURR', col]].copy()\n",
    "    if 'DAYS' in col:\n",
    "        res[col].replace(365243,np.nan,inplace=True)\n",
    "        res[col].replace(0,np.nan,inplace=True)\n",
    "        res[name+'_'+col+'_NAN_FLAG'] = res[col].apply(lambda x: 1 if np.isnan(x) else 0)\n",
    "    res[col]=res[col].fillna(0)\n",
    "    res.rename(columns={col: name+'_'+col},inplace=True)\n",
    "    \n",
    "    return res.set_index('SK_ID_CURR')"
   ],
   "metadata": {
    "collapsed": false,
    "ExecuteTime": {
     "end_time": "2023-12-22T06:55:35.508435200Z",
     "start_time": "2023-12-22T06:55:35.398433300Z"
    }
   },
   "id": "b9e601e6b42ab07a"
  },
  {
   "cell_type": "code",
   "execution_count": 182,
   "outputs": [],
   "source": [
    "def aggregate_workday_weekend(df, col,name):\n",
    "    res = df.loc[:, ['SK_ID_CURR', col]].copy()\n",
    "    res[col] = res[col].apply(lambda x: 1 if x in ['MONDAY','TUESDAY','WEDNESDAY','THURSDAY','FRIDAY'] else 0)\n",
    "    return res.set_index('SK_ID_CURR').rename(columns={col: name+'_'+col+'_Workday_FLAG'})\n",
    "    "
   ],
   "metadata": {
    "collapsed": false,
    "ExecuteTime": {
     "end_time": "2023-12-22T06:55:35.640432300Z",
     "start_time": "2023-12-22T06:55:35.509434400Z"
    }
   },
   "id": "529e40cee8f6f47a"
  },
  {
   "cell_type": "code",
   "execution_count": 183,
   "outputs": [],
   "source": [
    "def aggregate_hour_of_day(df, col,name):\n",
    "    res = df.loc[:, ['SK_ID_CURR', col]].copy()\n",
    "    res[col] = res[col].apply(lambda x: 1 if x>12 else 0)\n",
    "    return res.set_index('SK_ID_CURR').rename(columns={col: name+'_'+col+'_Morning_FLAG'})"
   ],
   "metadata": {
    "collapsed": false,
    "ExecuteTime": {
     "end_time": "2023-12-22T06:55:35.801434200Z",
     "start_time": "2023-12-22T06:55:35.605433700Z"
    }
   },
   "id": "1b0a42c637769e87"
  },
  {
   "cell_type": "code",
   "execution_count": 184,
   "outputs": [
    {
     "data": {
      "text/plain": "            APP_NAME_CONTRACT_TYPE\nSK_ID_CURR                        \n100002                           1\n100003                           1\n100004                           0\n100006                           1\n100007                           1\n...                            ...\n456251                           1\n456252                           1\n456253                           1\n456254                           1\n456255                           1\n\n[307511 rows x 1 columns]",
      "text/html": "<div>\n<style scoped>\n    .dataframe tbody tr th:only-of-type {\n        vertical-align: middle;\n    }\n\n    .dataframe tbody tr th {\n        vertical-align: top;\n    }\n\n    .dataframe thead th {\n        text-align: right;\n    }\n</style>\n<table border=\"1\" class=\"dataframe\">\n  <thead>\n    <tr style=\"text-align: right;\">\n      <th></th>\n      <th>APP_NAME_CONTRACT_TYPE</th>\n    </tr>\n    <tr>\n      <th>SK_ID_CURR</th>\n      <th></th>\n    </tr>\n  </thead>\n  <tbody>\n    <tr>\n      <th>100002</th>\n      <td>1</td>\n    </tr>\n    <tr>\n      <th>100003</th>\n      <td>1</td>\n    </tr>\n    <tr>\n      <th>100004</th>\n      <td>0</td>\n    </tr>\n    <tr>\n      <th>100006</th>\n      <td>1</td>\n    </tr>\n    <tr>\n      <th>100007</th>\n      <td>1</td>\n    </tr>\n    <tr>\n      <th>...</th>\n      <td>...</td>\n    </tr>\n    <tr>\n      <th>456251</th>\n      <td>1</td>\n    </tr>\n    <tr>\n      <th>456252</th>\n      <td>1</td>\n    </tr>\n    <tr>\n      <th>456253</th>\n      <td>1</td>\n    </tr>\n    <tr>\n      <th>456254</th>\n      <td>1</td>\n    </tr>\n    <tr>\n      <th>456255</th>\n      <td>1</td>\n    </tr>\n  </tbody>\n</table>\n<p>307511 rows × 1 columns</p>\n</div>"
     },
     "execution_count": 184,
     "metadata": {},
     "output_type": "execute_result"
    }
   ],
   "source": [
    "aggregate_flag(application,'NAME_CONTRACT_TYPE','APP')"
   ],
   "metadata": {
    "collapsed": false,
    "ExecuteTime": {
     "end_time": "2023-12-22T06:55:35.970434500Z",
     "start_time": "2023-12-22T06:55:35.751435400Z"
    }
   },
   "id": "26ce78eca1cf7883"
  },
  {
   "cell_type": "code",
   "execution_count": 185,
   "outputs": [
    {
     "data": {
      "text/plain": "            APP_WEEKDAY_APPR_PROCESS_START_Workday_FLAG\nSK_ID_CURR                                             \n100002                                                1\n100003                                                1\n100004                                                1\n100006                                                1\n100007                                                1\n...                                                 ...\n456251                                                1\n456252                                                1\n456253                                                1\n456254                                                1\n456255                                                1\n\n[307511 rows x 1 columns]",
      "text/html": "<div>\n<style scoped>\n    .dataframe tbody tr th:only-of-type {\n        vertical-align: middle;\n    }\n\n    .dataframe tbody tr th {\n        vertical-align: top;\n    }\n\n    .dataframe thead th {\n        text-align: right;\n    }\n</style>\n<table border=\"1\" class=\"dataframe\">\n  <thead>\n    <tr style=\"text-align: right;\">\n      <th></th>\n      <th>APP_WEEKDAY_APPR_PROCESS_START_Workday_FLAG</th>\n    </tr>\n    <tr>\n      <th>SK_ID_CURR</th>\n      <th></th>\n    </tr>\n  </thead>\n  <tbody>\n    <tr>\n      <th>100002</th>\n      <td>1</td>\n    </tr>\n    <tr>\n      <th>100003</th>\n      <td>1</td>\n    </tr>\n    <tr>\n      <th>100004</th>\n      <td>1</td>\n    </tr>\n    <tr>\n      <th>100006</th>\n      <td>1</td>\n    </tr>\n    <tr>\n      <th>100007</th>\n      <td>1</td>\n    </tr>\n    <tr>\n      <th>...</th>\n      <td>...</td>\n    </tr>\n    <tr>\n      <th>456251</th>\n      <td>1</td>\n    </tr>\n    <tr>\n      <th>456252</th>\n      <td>1</td>\n    </tr>\n    <tr>\n      <th>456253</th>\n      <td>1</td>\n    </tr>\n    <tr>\n      <th>456254</th>\n      <td>1</td>\n    </tr>\n    <tr>\n      <th>456255</th>\n      <td>1</td>\n    </tr>\n  </tbody>\n</table>\n<p>307511 rows × 1 columns</p>\n</div>"
     },
     "execution_count": 185,
     "metadata": {},
     "output_type": "execute_result"
    }
   ],
   "source": [
    "aggregate_workday_weekend(application,'WEEKDAY_APPR_PROCESS_START','APP')"
   ],
   "metadata": {
    "collapsed": false,
    "ExecuteTime": {
     "end_time": "2023-12-22T06:55:36.103434600Z",
     "start_time": "2023-12-22T06:55:35.903435400Z"
    }
   },
   "id": "8139f791f9e2839f"
  },
  {
   "cell_type": "code",
   "execution_count": 186,
   "outputs": [
    {
     "data": {
      "text/plain": "array(['M', 'F', 'XNA'], dtype=object)"
     },
     "execution_count": 186,
     "metadata": {},
     "output_type": "execute_result"
    }
   ],
   "source": [
    "application['CODE_GENDER'].unique()"
   ],
   "metadata": {
    "collapsed": false,
    "ExecuteTime": {
     "end_time": "2023-12-22T06:55:36.185432900Z",
     "start_time": "2023-12-22T06:55:36.035442100Z"
    }
   },
   "id": "41b73ac96b56fe28"
  },
  {
   "cell_type": "code",
   "execution_count": 187,
   "outputs": [],
   "source": [
    "application_cleaning_dic={\n",
    "    'NAME_CONTRACT_TYPE':'aggregate_flag',\n",
    "    'CODE_GENDER':'aggregate_categorical',\n",
    "    'FLAG_OWN_CAR':'aggregate_flag',\n",
    "    'FLAG_OWN_REALTY':'aggregate_flag',    \n",
    "    'NAME_TYPE_SUITE':'aggregate_categorical',\n",
    "    'NAME_INCOME_TYPE':'aggregate_categorical',\n",
    "    'NAME_EDUCATION_TYPE':'aggregate_categorical',\n",
    "    'NAME_FAMILY_STATUS':'aggregate_categorical',\n",
    "    'NAME_HOUSING_TYPE':'aggregate_categorical',\n",
    "    'FLAG_MOBIL':'aggregate_flag',\n",
    "    'FLAG_EMP_PHONE':'aggregate_flag',\n",
    "    'FLAG_WORK_PHONE':'aggregate_flag',\n",
    "    'FLAG_CONT_MOBILE':'aggregate_flag',\n",
    "    'FLAG_PHONE':'aggregate_flag',\n",
    "    'FLAG_EMAIL':'aggregate_flag',\n",
    "    'OCCUPATION_TYPE':'aggregate_categorical',    \n",
    "    'WEEKDAY_APPR_PROCESS_START':'aggregate_workday_weekend',\n",
    "    'HOUR_APPR_PROCESS_START':'aggregate_hour_of_day',\n",
    "    'REG_REGION_NOT_LIVE_REGION':'aggregate_flag',\n",
    "    'REG_REGION_NOT_WORK_REGION':'aggregate_flag',\n",
    "    'LIVE_REGION_NOT_WORK_REGION':'aggregate_flag',\n",
    "    'REG_CITY_NOT_LIVE_CITY':'aggregate_flag',\n",
    "    'REG_CITY_NOT_WORK_CITY':'aggregate_flag',\n",
    "    'LIVE_CITY_NOT_WORK_CITY':'aggregate_flag',\n",
    "    'ORGANIZATION_TYPE':'aggregate_categorical',    \n",
    "    'FONDKAPREMONT_MODE':'aggregate_categorical',\n",
    "    'HOUSETYPE_MODE':'aggregate_categorical',\n",
    "    'WALLSMATERIAL_MODE':'aggregate_categorical',\n",
    "    'EMERGENCYSTATE_MODE':'aggregate_categorical',\n",
    "    \n",
    "}\n",
    "application_do_nothing_list=[\n",
    "    'CNT_CHILDREN',\n",
    "    'AMT_INCOME_TOTAL',\n",
    "    'AMT_CREDIT',\n",
    "    'AMT_ANNUITY',\n",
    "    'AMT_GOODS_PRICE',\n",
    "    'REGION_POPULATION_RELATIVE',\n",
    "    'DAYS_BIRTH',\n",
    "    'DAYS_EMPLOYED',\n",
    "    'DAYS_REGISTRATION',\n",
    "    'DAYS_ID_PUBLISH',\n",
    "    'OWN_CAR_AGE',\n",
    "    'CNT_FAM_MEMBERS',\n",
    "    'REGION_RATING_CLIENT',\n",
    "    'REGION_RATING_CLIENT_W_CITY',\n",
    "    'EXT_SOURCE_1',\n",
    "    'EXT_SOURCE_2',\n",
    "    'EXT_SOURCE_3',\n",
    "    'APARTMENTS_AVG',\n",
    "    'BASEMENTAREA_AVG',\n",
    "    'YEARS_BEGINEXPLUATATION_AVG',\n",
    "    'YEARS_BUILD_AVG',\n",
    "    'COMMONAREA_AVG',\n",
    "    'ELEVATORS_AVG',\n",
    "    'ENTRANCES_AVG',\n",
    "    'FLOORSMAX_AVG',\n",
    "    'FLOORSMIN_AVG',\n",
    "    'LANDAREA_AVG',\n",
    "    'LIVINGAPARTMENTS_AVG',\n",
    "    'LIVINGAREA_AVG',\n",
    "    'NONLIVINGAPARTMENTS_AVG',\n",
    "    'NONLIVINGAREA_AVG',\n",
    "    \"APARTMENTS_MODE\",\n",
    "    \"BASEMENTAREA_MODE\",\n",
    "    \"YEARS_BEGINEXPLUATATION_MODE\",\n",
    "    \"YEARS_BUILD_MODE\",\n",
    "    \"COMMONAREA_MODE\",\n",
    "    \"ELEVATORS_MODE\",\n",
    "    \"ENTRANCES_MODE\",\n",
    "    \"FLOORSMAX_MODE\",\n",
    "    \"FLOORSMIN_MODE\",\n",
    "    \"LANDAREA_MODE\",\n",
    "    \"LIVINGAPARTMENTS_MODE\",\n",
    "    \"LIVINGAREA_MODE\",\n",
    "    \"NONLIVINGAPARTMENTS_MODE\",\n",
    "    \"NONLIVINGAREA_MODE\",\n",
    "    \"APARTMENTS_MEDI\",\n",
    "    \"BASEMENTAREA_MEDI\",\n",
    "    \"YEARS_BEGINEXPLUATATION_MEDI\",\n",
    "    \"YEARS_BUILD_MEDI\",\n",
    "    \"COMMONAREA_MEDI\",\n",
    "    \"ELEVATORS_MEDI\",\n",
    "    \"ENTRANCES_MEDI\",\n",
    "    \"FLOORSMAX_MEDI\",\n",
    "    \"FLOORSMIN_MEDI\",\n",
    "    \"LANDAREA_MEDI\",\n",
    "    \"LIVINGAPARTMENTS_MEDI\",\n",
    "    \"LIVINGAREA_MEDI\",\n",
    "    \"NONLIVINGAPARTMENTS_MEDI\",\n",
    "    \"NONLIVINGAREA_MEDI\",\n",
    "    # \"FONDKAPREMONT_MODE\",\n",
    "    # \"HOUSETYPE_MODE\",\n",
    "    \"TOTALAREA_MODE\",\n",
    "    # \"WALLSMATERIAL_MODE\",\n",
    "    # \"EMERGENCYSTATE_MODE\",\n",
    "    \"OBS_30_CNT_SOCIAL_CIRCLE\",\n",
    "    \"DEF_30_CNT_SOCIAL_CIRCLE\",\n",
    "    \"OBS_60_CNT_SOCIAL_CIRCLE\",\n",
    "    \"DEF_60_CNT_SOCIAL_CIRCLE\",\n",
    "    \"DAYS_LAST_PHONE_CHANGE\",\n",
    "    \"FLAG_DOCUMENT_2\",\n",
    "    \"FLAG_DOCUMENT_3\",\n",
    "    \"FLAG_DOCUMENT_4\",\n",
    "    \"FLAG_DOCUMENT_5\",\n",
    "    \"FLAG_DOCUMENT_6\",\n",
    "    \"FLAG_DOCUMENT_7\",\n",
    "    \"FLAG_DOCUMENT_8\",\n",
    "    \"FLAG_DOCUMENT_9\",\n",
    "    \"FLAG_DOCUMENT_10\",\n",
    "    \"FLAG_DOCUMENT_11\",\n",
    "    \"FLAG_DOCUMENT_12\",\n",
    "    \"FLAG_DOCUMENT_13\",\n",
    "    \"FLAG_DOCUMENT_14\",\n",
    "    \"FLAG_DOCUMENT_15\",\n",
    "    \"FLAG_DOCUMENT_16\",\n",
    "    \"FLAG_DOCUMENT_17\",\n",
    "    \"FLAG_DOCUMENT_18\",\n",
    "    \"FLAG_DOCUMENT_19\",\n",
    "    \"FLAG_DOCUMENT_20\",\n",
    "    \"FLAG_DOCUMENT_21\",\n",
    "    \"AMT_REQ_CREDIT_BUREAU_HOUR\",\n",
    "    \"AMT_REQ_CREDIT_BUREAU_DAY\",\n",
    "    \"AMT_REQ_CREDIT_BUREAU_WEEK\",\n",
    "    \"AMT_REQ_CREDIT_BUREAU_MON\",\n",
    "    \"AMT_REQ_CREDIT_BUREAU_QRT\",\n",
    "    \"AMT_REQ_CREDIT_BUREAU_YEAR\",\n",
    "]"
   ],
   "metadata": {
    "collapsed": false,
    "ExecuteTime": {
     "end_time": "2023-12-22T06:55:36.294435Z",
     "start_time": "2023-12-22T06:55:36.060434500Z"
    }
   },
   "id": "223c4de8bfac694e"
  },
  {
   "cell_type": "code",
   "execution_count": 188,
   "outputs": [
    {
     "name": "stderr",
     "output_type": "stream",
     "text": [
      "100%|██████████| 29/29 [00:06<00:00,  4.35it/s]\n",
      "100%|██████████| 91/91 [00:20<00:00,  4.52it/s]\n"
     ]
    }
   ],
   "source": [
    "application_merging_res = Parallel(n_jobs=4)(\n",
    "    delayed(eval(application_cleaning_dic[col]))(application, col,'APP') for col in tqdm(application_cleaning_dic.keys()))\n",
    "application_merging_res+=Parallel(n_jobs=4)(\n",
    "    delayed(do_nothing)(application, col,'APP') for col in tqdm(application_do_nothing_list))"
   ],
   "metadata": {
    "collapsed": false,
    "ExecuteTime": {
     "end_time": "2023-12-22T06:56:07.832973400Z",
     "start_time": "2023-12-22T06:55:36.189443200Z"
    }
   },
   "id": "a0582ed7122b09d0"
  },
  {
   "cell_type": "code",
   "execution_count": 189,
   "outputs": [],
   "source": [
    "application_merging_res = pd.concat(application_merging_res, axis=1)"
   ],
   "metadata": {
    "collapsed": false,
    "ExecuteTime": {
     "end_time": "2023-12-22T06:56:08.161109700Z",
     "start_time": "2023-12-22T06:56:07.840973500Z"
    }
   },
   "id": "d44207b7297ac855"
  },
  {
   "cell_type": "code",
   "execution_count": 190,
   "outputs": [
    {
     "data": {
      "text/plain": "(307511, 240)"
     },
     "execution_count": 190,
     "metadata": {},
     "output_type": "execute_result"
    }
   ],
   "source": [
    "application_merging_res.shape"
   ],
   "metadata": {
    "collapsed": false,
    "ExecuteTime": {
     "end_time": "2023-12-22T06:56:08.191107200Z",
     "start_time": "2023-12-22T06:56:08.163110100Z"
    }
   },
   "id": "e5e52fe29029323b"
  },
  {
   "cell_type": "markdown",
   "source": [
    "# Merge cleaned data"
   ],
   "metadata": {
    "collapsed": false
   },
   "id": "1cbba2aef4f7853a"
  },
  {
   "cell_type": "code",
   "execution_count": 191,
   "outputs": [],
   "source": [
    "cleaned_data = pd.concat([application_merging_res,previous_application_merging_res,installments_payments_merging_res,credit_card_balance_merging_res,POS_CASH_balance_merging_res,bureau_merging_result,application.loc[:,['SK_ID_CURR','TARGET']].set_index('SK_ID_CURR')],axis=1)"
   ],
   "metadata": {
    "collapsed": false,
    "ExecuteTime": {
     "end_time": "2023-12-22T06:56:12.500143100Z",
     "start_time": "2023-12-22T06:56:08.181112Z"
    }
   },
   "id": "e4b25f8b6b11f09d"
  },
  {
   "cell_type": "code",
   "execution_count": null,
   "outputs": [],
   "source": [
    "import re\n",
    "cleaned_data = cleaned_data.rename(columns = lambda x:re.sub('[^A-Za-z0-9_]+', '', x))# remove special characters in feature name"
   ],
   "metadata": {
    "collapsed": false,
    "is_executing": true,
    "ExecuteTime": {
     "start_time": "2023-12-22T06:56:12.502110100Z"
    }
   },
   "id": "ac2e74f0c06f2f39"
  },
  {
   "cell_type": "code",
   "execution_count": null,
   "outputs": [],
   "source": [
    "cleaned_data.shape"
   ],
   "metadata": {
    "collapsed": false,
    "is_executing": true
   },
   "id": "a2738dc2c223cd79"
  },
  {
   "cell_type": "code",
   "execution_count": null,
   "outputs": [],
   "source": [
    "cleaned_data.to_csv('./src/cleaned_data.csv')"
   ],
   "metadata": {
    "collapsed": false,
    "is_executing": true
   },
   "id": "af41d2526a538665"
  },
  {
   "cell_type": "code",
   "execution_count": null,
   "outputs": [],
   "source": [
    "read_in_cleaned_data = pd.read_csv('./src/cleaned_data.csv')"
   ],
   "metadata": {
    "collapsed": false,
    "is_executing": true
   },
   "id": "6b7d2420e37788ba"
  },
  {
   "cell_type": "code",
   "execution_count": null,
   "outputs": [],
   "source": [
    "read_in_cleaned_data.shape"
   ],
   "metadata": {
    "collapsed": false,
    "is_executing": true
   },
   "id": "4e9dc5ad1c3523fb"
  },
  {
   "cell_type": "code",
   "execution_count": null,
   "outputs": [],
   "source": [
    "read_in_cleaned_data.head()"
   ],
   "metadata": {
    "collapsed": false,
    "is_executing": true
   },
   "id": "80079541c110ac5"
  },
  {
   "cell_type": "markdown",
   "source": [
    "# Feature engineering"
   ],
   "metadata": {
    "collapsed": false
   },
   "id": "bf0c2a8258edc085"
  },
  {
   "cell_type": "code",
   "execution_count": null,
   "outputs": [],
   "source": [
    "cleaned_data = pd.read_csv('./src/cleaned_data.csv',index_col=0)"
   ],
   "metadata": {
    "collapsed": false,
    "is_executing": true
   },
   "id": "dbaaf95d94a544ea"
  },
  {
   "cell_type": "markdown",
   "source": [
    "# ML"
   ],
   "metadata": {
    "collapsed": false
   },
   "id": "85da5b0ca511b70b"
  },
  {
   "cell_type": "markdown",
   "source": [
    "## Verify lightgbm can run"
   ],
   "metadata": {
    "collapsed": false
   },
   "id": "a5013307a14a6481"
  },
  {
   "cell_type": "code",
   "execution_count": null,
   "outputs": [],
   "source": [
    "from sklearn.model_selection import train_test_split"
   ],
   "metadata": {
    "collapsed": false,
    "is_executing": true
   },
   "id": "ff106e13a5a6127d"
  },
  {
   "cell_type": "code",
   "execution_count": null,
   "outputs": [],
   "source": [
    "train, test = train_test_split(cleaned_data, test_size=0.2, random_state=42,stratify=cleaned_data['TARGET'])"
   ],
   "metadata": {
    "collapsed": false,
    "is_executing": true
   },
   "id": "b408e9b0b57e4a6"
  },
  {
   "cell_type": "code",
   "execution_count": null,
   "outputs": [],
   "source": [
    "# load data using lightgbm\n",
    "train_data = lgb.Dataset(train.drop('TARGET',axis=1), label=train['TARGET'])"
   ],
   "metadata": {
    "collapsed": false,
    "is_executing": true
   },
   "id": "ff667deca17bd4bd"
  },
  {
   "cell_type": "code",
   "execution_count": null,
   "outputs": [],
   "source": [
    "# lightgbm parameters\n",
    "params = {\"force_col_wise\":True}"
   ],
   "metadata": {
    "collapsed": false,
    "is_executing": true
   },
   "id": "c57dbae9bcefeb7d"
  },
  {
   "cell_type": "code",
   "execution_count": null,
   "outputs": [],
   "source": [
    "# lightgbm training\n",
    "gbm = lgb.train(params, train_data, num_boost_round=1000)"
   ],
   "metadata": {
    "collapsed": false,
    "is_executing": true
   },
   "id": "1fde27ad2073a850"
  },
  {
   "cell_type": "code",
   "execution_count": null,
   "outputs": [],
   "source": [
    "# plot feature importance\n",
    "lgb.plot_importance(gbm, figsize=(12, 150))"
   ],
   "metadata": {
    "collapsed": false,
    "is_executing": true
   },
   "id": "277de804373e53"
  },
  {
   "cell_type": "code",
   "execution_count": null,
   "outputs": [],
   "source": [
    "# get insample performance\n",
    "from sklearn.metrics import roc_auc_score\n",
    "print('IN-sample',roc_auc_score(train['TARGET'],gbm.predict(train.drop('TARGET',axis=1))))"
   ],
   "metadata": {
    "collapsed": false,
    "is_executing": true
   },
   "id": "d1fb7d9df04ff411"
  },
  {
   "cell_type": "code",
   "execution_count": null,
   "outputs": [],
   "source": [
    "# get outsample performance\n",
    "print('OOS',roc_auc_score(test['TARGET'],gbm.predict(test.drop('TARGET',axis=1))))"
   ],
   "metadata": {
    "collapsed": false,
    "is_executing": true
   },
   "id": "b8b5703677696cd7"
  },
  {
   "cell_type": "code",
   "execution_count": null,
   "outputs": [],
   "source": [
    "# plot ROC curve\n",
    "from sklearn.metrics import roc_curve\n",
    "import matplotlib.pyplot as plt\n",
    "fpr, tpr, thresholds = roc_curve(test['TARGET'],gbm.predict(test.drop('TARGET',axis=1)))\n",
    "plt.plot(fpr, tpr, label='ROC curve (area = %0.3f)' % roc_auc_score(test['TARGET'],gbm.predict(test.drop('TARGET',axis=1))))\n",
    "plt.plot([0, 1], [0, 1], 'k--')\n",
    "plt.xlabel('False Positive Rate')\n",
    "plt.ylabel('True Positive Rate')\n",
    "plt.title('ROC Curve')\n",
    "plt.legend(loc=\"lower right\")\n",
    "plt.show()"
   ],
   "metadata": {
    "collapsed": false,
    "is_executing": true
   },
   "id": "ff3fd7b2b50a228b"
  },
  {
   "cell_type": "markdown",
   "source": [
    "## Using Pycaret to do a run through all different models"
   ],
   "metadata": {
    "collapsed": false
   },
   "id": "28a8f859aeb3ad0d"
  },
  {
   "cell_type": "code",
   "execution_count": null,
   "outputs": [],
   "source": [
    "import pycaret"
   ],
   "metadata": {
    "collapsed": false,
    "is_executing": true
   },
   "id": "c0c19c578d4a0f61"
  }
 ],
 "metadata": {
  "kernelspec": {
   "display_name": "Python 3",
   "language": "python",
   "name": "python3"
  },
  "language_info": {
   "codemirror_mode": {
    "name": "ipython",
    "version": 2
   },
   "file_extension": ".py",
   "mimetype": "text/x-python",
   "name": "python",
   "nbconvert_exporter": "python",
   "pygments_lexer": "ipython2",
   "version": "2.7.6"
  }
 },
 "nbformat": 4,
 "nbformat_minor": 5
}
